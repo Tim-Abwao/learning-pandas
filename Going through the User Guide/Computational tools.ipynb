{
 "cells": [
  {
   "cell_type": "markdown",
   "metadata": {},
   "source": [
    "# [Go to \"Computational Tools\" in Pandas Docs](https://pandas.pydata.org/docs/user_guide/computation.html)"
   ]
  },
  {
   "cell_type": "code",
   "execution_count": 1,
   "metadata": {},
   "outputs": [],
   "source": [
    "import pandas as pd\n",
    "import numpy as np"
   ]
  },
  {
   "cell_type": "markdown",
   "metadata": {},
   "source": [
    "# 1. Statistical Functions"
   ]
  },
  {
   "cell_type": "markdown",
   "metadata": {},
   "source": [
    "## 1.1 Percentage Change\n",
    "\n",
    ">Use the [pct_change][1] method.\n",
    ">\n",
    ">Parameters:\n",
    ">- `periods` (int, default 1)\n",
    ">- `fill_method` (str, default ‘pad’)\n",
    ">- `limit` (int, default None)\n",
    ">- `freq` (DateOffset, timedelta, or str, optional)\n",
    "\n",
    "[1]: https://pandas.pydata.org/docs/reference/api/pandas.DataFrame.pct_change.html#pandas-dataframe-pct-change"
   ]
  },
  {
   "cell_type": "code",
   "execution_count": 2,
   "metadata": {},
   "outputs": [
    {
     "data": {
      "text/html": [
       "<div>\n",
       "<style scoped>\n",
       "    .dataframe tbody tr th:only-of-type {\n",
       "        vertical-align: middle;\n",
       "    }\n",
       "\n",
       "    .dataframe tbody tr th {\n",
       "        vertical-align: top;\n",
       "    }\n",
       "\n",
       "    .dataframe thead th {\n",
       "        text-align: right;\n",
       "    }\n",
       "</style>\n",
       "<table border=\"1\" class=\"dataframe\">\n",
       "  <thead>\n",
       "    <tr style=\"text-align: right;\">\n",
       "      <th></th>\n",
       "      <th>s</th>\n",
       "      <th>% change</th>\n",
       "    </tr>\n",
       "  </thead>\n",
       "  <tbody>\n",
       "    <tr>\n",
       "      <th>0</th>\n",
       "      <td>42</td>\n",
       "      <td>NaN</td>\n",
       "    </tr>\n",
       "    <tr>\n",
       "      <th>1</th>\n",
       "      <td>57</td>\n",
       "      <td>0.357143</td>\n",
       "    </tr>\n",
       "    <tr>\n",
       "      <th>2</th>\n",
       "      <td>35</td>\n",
       "      <td>-0.385965</td>\n",
       "    </tr>\n",
       "    <tr>\n",
       "      <th>3</th>\n",
       "      <td>101</td>\n",
       "      <td>1.885714</td>\n",
       "    </tr>\n",
       "    <tr>\n",
       "      <th>4</th>\n",
       "      <td>88</td>\n",
       "      <td>-0.128713</td>\n",
       "    </tr>\n",
       "  </tbody>\n",
       "</table>\n",
       "</div>"
      ],
      "text/plain": [
       "     s  % change\n",
       "0   42       NaN\n",
       "1   57  0.357143\n",
       "2   35 -0.385965\n",
       "3  101  1.885714\n",
       "4   88 -0.128713"
      ]
     },
     "execution_count": 2,
     "metadata": {},
     "output_type": "execute_result"
    }
   ],
   "source": [
    "s = pd.Series([42, 57, 35, 101, 88])\n",
    "spc = s.pct_change()\n",
    "\n",
    "# by default, each value is compared to the previous one (periods=1)\n",
    "# e.g. 0.357143 == 35.7143% increase: 57 from 42\n",
    "pd.concat([s, spc], axis=1, keys=['s', '% change'])"
   ]
  },
  {
   "cell_type": "code",
   "execution_count": 3,
   "metadata": {},
   "outputs": [
    {
     "data": {
      "text/html": [
       "<div>\n",
       "<style scoped>\n",
       "    .dataframe tbody tr th:only-of-type {\n",
       "        vertical-align: middle;\n",
       "    }\n",
       "\n",
       "    .dataframe tbody tr th {\n",
       "        vertical-align: top;\n",
       "    }\n",
       "\n",
       "    .dataframe thead th {\n",
       "        text-align: right;\n",
       "    }\n",
       "</style>\n",
       "<table border=\"1\" class=\"dataframe\">\n",
       "  <thead>\n",
       "    <tr style=\"text-align: right;\">\n",
       "      <th></th>\n",
       "      <th>0</th>\n",
       "      <th>1</th>\n",
       "      <th>2</th>\n",
       "      <th>0</th>\n",
       "      <th>1</th>\n",
       "      <th>2</th>\n",
       "    </tr>\n",
       "  </thead>\n",
       "  <tbody>\n",
       "    <tr>\n",
       "      <th>0</th>\n",
       "      <td>4</td>\n",
       "      <td>8</td>\n",
       "      <td>8</td>\n",
       "      <td>NaN</td>\n",
       "      <td>NaN</td>\n",
       "      <td>NaN</td>\n",
       "    </tr>\n",
       "    <tr>\n",
       "      <th>1</th>\n",
       "      <td>7</td>\n",
       "      <td>7</td>\n",
       "      <td>1</td>\n",
       "      <td>NaN</td>\n",
       "      <td>NaN</td>\n",
       "      <td>NaN</td>\n",
       "    </tr>\n",
       "    <tr>\n",
       "      <th>2</th>\n",
       "      <td>8</td>\n",
       "      <td>1</td>\n",
       "      <td>8</td>\n",
       "      <td>NaN</td>\n",
       "      <td>NaN</td>\n",
       "      <td>NaN</td>\n",
       "    </tr>\n",
       "    <tr>\n",
       "      <th>3</th>\n",
       "      <td>2</td>\n",
       "      <td>4</td>\n",
       "      <td>5</td>\n",
       "      <td>-0.500000</td>\n",
       "      <td>-0.500000</td>\n",
       "      <td>-0.375</td>\n",
       "    </tr>\n",
       "    <tr>\n",
       "      <th>4</th>\n",
       "      <td>8</td>\n",
       "      <td>4</td>\n",
       "      <td>1</td>\n",
       "      <td>0.142857</td>\n",
       "      <td>-0.428571</td>\n",
       "      <td>0.000</td>\n",
       "    </tr>\n",
       "    <tr>\n",
       "      <th>5</th>\n",
       "      <td>4</td>\n",
       "      <td>4</td>\n",
       "      <td>5</td>\n",
       "      <td>-0.500000</td>\n",
       "      <td>3.000000</td>\n",
       "      <td>-0.375</td>\n",
       "    </tr>\n",
       "    <tr>\n",
       "      <th>6</th>\n",
       "      <td>5</td>\n",
       "      <td>1</td>\n",
       "      <td>8</td>\n",
       "      <td>1.500000</td>\n",
       "      <td>-0.750000</td>\n",
       "      <td>0.600</td>\n",
       "    </tr>\n",
       "  </tbody>\n",
       "</table>\n",
       "</div>"
      ],
      "text/plain": [
       "   0  1  2         0         1      2\n",
       "0  4  8  8       NaN       NaN    NaN\n",
       "1  7  7  1       NaN       NaN    NaN\n",
       "2  8  1  8       NaN       NaN    NaN\n",
       "3  2  4  5 -0.500000 -0.500000 -0.375\n",
       "4  8  4  1  0.142857 -0.428571  0.000\n",
       "5  4  4  5 -0.500000  3.000000 -0.375\n",
       "6  5  1  8  1.500000 -0.750000  0.600"
      ]
     },
     "execution_count": 3,
     "metadata": {},
     "output_type": "execute_result"
    }
   ],
   "source": [
    "df = pd.DataFrame(np.random.randint(1, 10, (7, 3)))\n",
    "dfpct = df.pct_change(periods=3)\n",
    "\n",
    "pd.concat([df, dfpct], axis=1)"
   ]
  },
  {
   "cell_type": "markdown",
   "metadata": {},
   "source": [
    "## 1.2 Covariance\n",
    "\n",
    ">Use [Series.cov()][1] for covariance between series, and [DataFrame.cov()][2] for pairwise covariances among the series/columns in a dataframe. Missing values are excluded.\n",
    "\n",
    "[1]: https://pandas.pydata.org/docs/reference/api/pandas.Series.cov.html\n",
    "[2]: https://pandas.pydata.org/docs/reference/api/pandas.DataFrame.cov.html"
   ]
  },
  {
   "cell_type": "code",
   "execution_count": 4,
   "metadata": {
    "scrolled": true
   },
   "outputs": [
    {
     "data": {
      "text/plain": [
       "(0.0004713130710796497, 0.0004713130710796497)"
      ]
     },
     "execution_count": 4,
     "metadata": {},
     "output_type": "execute_result"
    }
   ],
   "source": [
    "s1 = pd.Series(np.random.randn(200), name='s1')\n",
    "s2 = pd.Series(np.random.randn(200), name='s2')\n",
    "\n",
    "s1.cov(s2), s2.cov(s1)"
   ]
  },
  {
   "cell_type": "code",
   "execution_count": 5,
   "metadata": {},
   "outputs": [
    {
     "data": {
      "text/html": [
       "<div>\n",
       "<style scoped>\n",
       "    .dataframe tbody tr th:only-of-type {\n",
       "        vertical-align: middle;\n",
       "    }\n",
       "\n",
       "    .dataframe tbody tr th {\n",
       "        vertical-align: top;\n",
       "    }\n",
       "\n",
       "    .dataframe thead th {\n",
       "        text-align: right;\n",
       "    }\n",
       "</style>\n",
       "<table border=\"1\" class=\"dataframe\">\n",
       "  <thead>\n",
       "    <tr style=\"text-align: right;\">\n",
       "      <th></th>\n",
       "      <th>0</th>\n",
       "      <th>1</th>\n",
       "      <th>2</th>\n",
       "      <th>3</th>\n",
       "    </tr>\n",
       "  </thead>\n",
       "  <tbody>\n",
       "    <tr>\n",
       "      <th>0</th>\n",
       "      <td>0.076530</td>\n",
       "      <td>-0.001002</td>\n",
       "      <td>0.002664</td>\n",
       "      <td>-0.017268</td>\n",
       "    </tr>\n",
       "    <tr>\n",
       "      <th>1</th>\n",
       "      <td>-0.001002</td>\n",
       "      <td>0.077830</td>\n",
       "      <td>-0.012775</td>\n",
       "      <td>-0.010667</td>\n",
       "    </tr>\n",
       "    <tr>\n",
       "      <th>2</th>\n",
       "      <td>0.002664</td>\n",
       "      <td>-0.012775</td>\n",
       "      <td>0.085897</td>\n",
       "      <td>0.011337</td>\n",
       "    </tr>\n",
       "    <tr>\n",
       "      <th>3</th>\n",
       "      <td>-0.017268</td>\n",
       "      <td>-0.010667</td>\n",
       "      <td>0.011337</td>\n",
       "      <td>0.077523</td>\n",
       "    </tr>\n",
       "  </tbody>\n",
       "</table>\n",
       "</div>"
      ],
      "text/plain": [
       "          0         1         2         3\n",
       "0  0.076530 -0.001002  0.002664 -0.017268\n",
       "1 -0.001002  0.077830 -0.012775 -0.010667\n",
       "2  0.002664 -0.012775  0.085897  0.011337\n",
       "3 -0.017268 -0.010667  0.011337  0.077523"
      ]
     },
     "execution_count": 5,
     "metadata": {},
     "output_type": "execute_result"
    }
   ],
   "source": [
    "df = pd.DataFrame(np.random.rand(50, 4))\n",
    "df.cov()"
   ]
  },
  {
   "cell_type": "markdown",
   "metadata": {},
   "source": [
    "## 1.3 Correlation\n",
    "\n",
    ">Use the [corr()][1] method. You can specify `method` as one of `pearson (default)`, `kendall` or `spearman`.\n",
    "\n",
    "[1]: https://pandas.pydata.org/docs/reference/api/pandas.DataFrame.corr.html"
   ]
  },
  {
   "cell_type": "code",
   "execution_count": 6,
   "metadata": {
    "scrolled": true
   },
   "outputs": [
    {
     "data": {
      "text/plain": [
       "0.0004241222803424599"
      ]
     },
     "execution_count": 6,
     "metadata": {},
     "output_type": "execute_result"
    }
   ],
   "source": [
    "s1.corr(s2, method='pearson') "
   ]
  },
  {
   "cell_type": "code",
   "execution_count": 7,
   "metadata": {
    "scrolled": true
   },
   "outputs": [
    {
     "data": {
      "text/plain": [
       "0.02381909547738693"
      ]
     },
     "execution_count": 7,
     "metadata": {},
     "output_type": "execute_result"
    }
   ],
   "source": [
    "s1.corr(s2, method='kendall')"
   ]
  },
  {
   "cell_type": "code",
   "execution_count": 8,
   "metadata": {},
   "outputs": [
    {
     "data": {
      "text/plain": [
       "0.03335333383334584"
      ]
     },
     "execution_count": 8,
     "metadata": {},
     "output_type": "execute_result"
    }
   ],
   "source": [
    "s1.corr(s2, method='spearman')"
   ]
  },
  {
   "cell_type": "code",
   "execution_count": 9,
   "metadata": {
    "scrolled": true
   },
   "outputs": [
    {
     "data": {
      "text/html": [
       "<div>\n",
       "<style scoped>\n",
       "    .dataframe tbody tr th:only-of-type {\n",
       "        vertical-align: middle;\n",
       "    }\n",
       "\n",
       "    .dataframe tbody tr th {\n",
       "        vertical-align: top;\n",
       "    }\n",
       "\n",
       "    .dataframe thead th {\n",
       "        text-align: right;\n",
       "    }\n",
       "</style>\n",
       "<table border=\"1\" class=\"dataframe\">\n",
       "  <thead>\n",
       "    <tr style=\"text-align: right;\">\n",
       "      <th></th>\n",
       "      <th>0</th>\n",
       "      <th>1</th>\n",
       "      <th>2</th>\n",
       "      <th>3</th>\n",
       "    </tr>\n",
       "  </thead>\n",
       "  <tbody>\n",
       "    <tr>\n",
       "      <th>0</th>\n",
       "      <td>1.000000</td>\n",
       "      <td>-0.012979</td>\n",
       "      <td>0.032863</td>\n",
       "      <td>-0.224188</td>\n",
       "    </tr>\n",
       "    <tr>\n",
       "      <th>1</th>\n",
       "      <td>-0.012979</td>\n",
       "      <td>1.000000</td>\n",
       "      <td>-0.156247</td>\n",
       "      <td>-0.137321</td>\n",
       "    </tr>\n",
       "    <tr>\n",
       "      <th>2</th>\n",
       "      <td>0.032863</td>\n",
       "      <td>-0.156247</td>\n",
       "      <td>1.000000</td>\n",
       "      <td>0.138932</td>\n",
       "    </tr>\n",
       "    <tr>\n",
       "      <th>3</th>\n",
       "      <td>-0.224188</td>\n",
       "      <td>-0.137321</td>\n",
       "      <td>0.138932</td>\n",
       "      <td>1.000000</td>\n",
       "    </tr>\n",
       "  </tbody>\n",
       "</table>\n",
       "</div>"
      ],
      "text/plain": [
       "          0         1         2         3\n",
       "0  1.000000 -0.012979  0.032863 -0.224188\n",
       "1 -0.012979  1.000000 -0.156247 -0.137321\n",
       "2  0.032863 -0.156247  1.000000  0.138932\n",
       "3 -0.224188 -0.137321  0.138932  1.000000"
      ]
     },
     "execution_count": 9,
     "metadata": {},
     "output_type": "execute_result"
    }
   ],
   "source": [
    "# Pairwise correlation of DataFrame columns\n",
    "df.corr()"
   ]
  },
  {
   "cell_type": "markdown",
   "metadata": {},
   "source": [
    ">[DataFrame.corrwith()][1] calculates the correlation between like-labeled `Series` in different `DataFrame`s\n",
    "\n",
    "[1]: https://pandas.pydata.org/docs/reference/api/pandas.DataFrame.corrwith.html"
   ]
  },
  {
   "cell_type": "code",
   "execution_count": 10,
   "metadata": {},
   "outputs": [
    {
     "data": {
      "text/plain": [
       "A   -0.217784\n",
       "C    0.220371\n",
       "D    0.157940\n",
       "B         NaN\n",
       "F         NaN\n",
       "dtype: float64"
      ]
     },
     "execution_count": 10,
     "metadata": {},
     "output_type": "execute_result"
    }
   ],
   "source": [
    "df1 = pd.DataFrame(np.random.randn(7, 4), columns=list('ABCD'))\n",
    "df2 = pd.DataFrame(np.random.randn(7, 4), columns=list('ACDF'))\n",
    "df1.corrwith(df2) "
   ]
  },
  {
   "cell_type": "markdown",
   "metadata": {},
   "source": [
    "## 1.4 Rank\n",
    "\n",
    "> Use the [rank()][1] method to numerically rank data (rank 1 through n) along an axis.\n",
    "\n",
    "[1]: https://pandas.pydata.org/docs/reference/api/pandas.Series.rank.html"
   ]
  },
  {
   "cell_type": "code",
   "execution_count": 11,
   "metadata": {
    "scrolled": true
   },
   "outputs": [
    {
     "data": {
      "text/plain": [
       "0    1.0\n",
       "1    4.0\n",
       "2    2.5\n",
       "3    5.0\n",
       "4    2.5\n",
       "dtype: float64"
      ]
     },
     "execution_count": 11,
     "metadata": {},
     "output_type": "execute_result"
    }
   ],
   "source": [
    "s = pd.Series([2.2, 4.5, 3.8, 5.9, 3.8])\n",
    "\n",
    "# By default, the average is returned for records with equal value\n",
    "# e.g 3.8 ties for 2nd and 3rd, and is thus ranked as mean([2, 3]) = 2.5\n",
    "s.rank() # method=average"
   ]
  },
  {
   "cell_type": "code",
   "execution_count": 12,
   "metadata": {},
   "outputs": [
    {
     "data": {
      "text/plain": [
       "0    1.0\n",
       "1    4.0\n",
       "2    3.0\n",
       "3    5.0\n",
       "4    3.0\n",
       "dtype: float64"
      ]
     },
     "execution_count": 12,
     "metadata": {},
     "output_type": "execute_result"
    }
   ],
   "source": [
    "# To return largest rank for equal records\n",
    "s.rank(method='max')"
   ]
  },
  {
   "cell_type": "code",
   "execution_count": 13,
   "metadata": {},
   "outputs": [
    {
     "name": "stdout",
     "output_type": "stream",
     "text": [
      "          0         1         2\n",
      "0  0.079170  1.201684 -0.451849\n",
      "1 -1.037938  0.434777 -0.433522\n",
      "2  1.085266 -0.728022 -0.866959\n",
      "3 -0.087712 -2.083456 -2.352187\n",
      "4  0.009106  0.265087 -0.795417\n"
     ]
    },
    {
     "data": {
      "text/html": [
       "<div>\n",
       "<style scoped>\n",
       "    .dataframe tbody tr th:only-of-type {\n",
       "        vertical-align: middle;\n",
       "    }\n",
       "\n",
       "    .dataframe tbody tr th {\n",
       "        vertical-align: top;\n",
       "    }\n",
       "\n",
       "    .dataframe thead th {\n",
       "        text-align: right;\n",
       "    }\n",
       "</style>\n",
       "<table border=\"1\" class=\"dataframe\">\n",
       "  <thead>\n",
       "    <tr style=\"text-align: right;\">\n",
       "      <th></th>\n",
       "      <th>0</th>\n",
       "      <th>1</th>\n",
       "      <th>2</th>\n",
       "    </tr>\n",
       "  </thead>\n",
       "  <tbody>\n",
       "    <tr>\n",
       "      <th>0</th>\n",
       "      <td>4.0</td>\n",
       "      <td>5.0</td>\n",
       "      <td>4.0</td>\n",
       "    </tr>\n",
       "    <tr>\n",
       "      <th>1</th>\n",
       "      <td>1.0</td>\n",
       "      <td>4.0</td>\n",
       "      <td>5.0</td>\n",
       "    </tr>\n",
       "    <tr>\n",
       "      <th>2</th>\n",
       "      <td>5.0</td>\n",
       "      <td>2.0</td>\n",
       "      <td>2.0</td>\n",
       "    </tr>\n",
       "    <tr>\n",
       "      <th>3</th>\n",
       "      <td>2.0</td>\n",
       "      <td>1.0</td>\n",
       "      <td>1.0</td>\n",
       "    </tr>\n",
       "    <tr>\n",
       "      <th>4</th>\n",
       "      <td>3.0</td>\n",
       "      <td>3.0</td>\n",
       "      <td>3.0</td>\n",
       "    </tr>\n",
       "  </tbody>\n",
       "</table>\n",
       "</div>"
      ],
      "text/plain": [
       "     0    1    2\n",
       "0  4.0  5.0  4.0\n",
       "1  1.0  4.0  5.0\n",
       "2  5.0  2.0  2.0\n",
       "3  2.0  1.0  1.0\n",
       "4  3.0  3.0  3.0"
      ]
     },
     "execution_count": 13,
     "metadata": {},
     "output_type": "execute_result"
    }
   ],
   "source": [
    "df = pd.DataFrame(np.random.randn(5,3))\n",
    "print(df)\n",
    "\n",
    "# ranking rows (vertically)\n",
    "df.rank() # axis=0"
   ]
  },
  {
   "cell_type": "code",
   "execution_count": 14,
   "metadata": {},
   "outputs": [
    {
     "name": "stdout",
     "output_type": "stream",
     "text": [
      "          0         1         2\n",
      "0  0.079170  1.201684 -0.451849\n",
      "1 -1.037938  0.434777 -0.433522\n",
      "2  1.085266 -0.728022 -0.866959\n",
      "3 -0.087712 -2.083456 -2.352187\n",
      "4  0.009106  0.265087 -0.795417\n"
     ]
    },
    {
     "data": {
      "text/html": [
       "<div>\n",
       "<style scoped>\n",
       "    .dataframe tbody tr th:only-of-type {\n",
       "        vertical-align: middle;\n",
       "    }\n",
       "\n",
       "    .dataframe tbody tr th {\n",
       "        vertical-align: top;\n",
       "    }\n",
       "\n",
       "    .dataframe thead th {\n",
       "        text-align: right;\n",
       "    }\n",
       "</style>\n",
       "<table border=\"1\" class=\"dataframe\">\n",
       "  <thead>\n",
       "    <tr style=\"text-align: right;\">\n",
       "      <th></th>\n",
       "      <th>0</th>\n",
       "      <th>1</th>\n",
       "      <th>2</th>\n",
       "    </tr>\n",
       "  </thead>\n",
       "  <tbody>\n",
       "    <tr>\n",
       "      <th>0</th>\n",
       "      <td>2.0</td>\n",
       "      <td>3.0</td>\n",
       "      <td>1.0</td>\n",
       "    </tr>\n",
       "    <tr>\n",
       "      <th>1</th>\n",
       "      <td>1.0</td>\n",
       "      <td>3.0</td>\n",
       "      <td>2.0</td>\n",
       "    </tr>\n",
       "    <tr>\n",
       "      <th>2</th>\n",
       "      <td>3.0</td>\n",
       "      <td>2.0</td>\n",
       "      <td>1.0</td>\n",
       "    </tr>\n",
       "    <tr>\n",
       "      <th>3</th>\n",
       "      <td>3.0</td>\n",
       "      <td>2.0</td>\n",
       "      <td>1.0</td>\n",
       "    </tr>\n",
       "    <tr>\n",
       "      <th>4</th>\n",
       "      <td>2.0</td>\n",
       "      <td>3.0</td>\n",
       "      <td>1.0</td>\n",
       "    </tr>\n",
       "  </tbody>\n",
       "</table>\n",
       "</div>"
      ],
      "text/plain": [
       "     0    1    2\n",
       "0  2.0  3.0  1.0\n",
       "1  1.0  3.0  2.0\n",
       "2  3.0  2.0  1.0\n",
       "3  3.0  2.0  1.0\n",
       "4  2.0  3.0  1.0"
      ]
     },
     "execution_count": 14,
     "metadata": {},
     "output_type": "execute_result"
    }
   ],
   "source": [
    "print(df)\n",
    "# ranking columns (horizontally)\n",
    "df.rank(axis=1)"
   ]
  },
  {
   "cell_type": "markdown",
   "metadata": {},
   "source": [
    "# 2. Window Functions\n",
    "\n",
    "> `.rolling` for aggregations or to apply functions to \"windows\" of the data\n",
    "\n",
    ">`.expanding` for aggregations or to apply functions to all the data available up to that point in time. \n",
    "\n",
    ">`.ewm` applies exponentially weighted statistical functions"
   ]
  },
  {
   "cell_type": "markdown",
   "metadata": {},
   "source": [
    "## 2.1 Rolling Windows\n",
    "\n",
    "### 2.1.1 Method Summary"
   ]
  },
  {
   "cell_type": "code",
   "execution_count": 16,
   "metadata": {
    "scrolled": true
   },
   "outputs": [],
   "source": [
    "#pd.read_html('https://pandas.pydata.org/docs/user_guide/computation.html')[1]"
   ]
  },
  {
   "cell_type": "code",
   "execution_count": 17,
   "metadata": {},
   "outputs": [
    {
     "data": {
      "text/plain": [
       "2020-01-01 00:00:00         NaN\n",
       "2020-01-01 00:00:01         NaN\n",
       "2020-01-01 00:00:02         NaN\n",
       "2020-01-01 00:00:03         NaN\n",
       "2020-01-01 00:00:04         NaN\n",
       "                         ...   \n",
       "2020-01-01 00:08:15    4.411485\n",
       "2020-01-01 00:08:16    2.616218\n",
       "2020-01-01 00:08:17   -0.363874\n",
       "2020-01-01 00:08:18   -1.394876\n",
       "2020-01-01 00:08:19   -1.173139\n",
       "Freq: S, Length: 500, dtype: float64"
      ]
     },
     "execution_count": 17,
     "metadata": {},
     "output_type": "execute_result"
    }
   ],
   "source": [
    "s = pd.Series(np.random.randn(500),\n",
    "              index=pd.date_range('2020-01-01', periods=500, freq='s'))\n",
    "\n",
    "s.rolling(window=50).sum()"
   ]
  },
  {
   "cell_type": "markdown",
   "metadata": {},
   "source": [
    "### 2.1.2 Rolling Apply\n",
    "\n",
    "> The `apply()` method takes an extra `func` argument and performs generic rolling computations"
   ]
  },
  {
   "cell_type": "code",
   "execution_count": 18,
   "metadata": {
    "scrolled": true
   },
   "outputs": [
    {
     "data": {
      "text/plain": [
       "2020-01-01 00:00:00         NaN\n",
       "2020-01-01 00:00:01         NaN\n",
       "2020-01-01 00:00:02         NaN\n",
       "2020-01-01 00:00:03         NaN\n",
       "2020-01-01 00:00:04         NaN\n",
       "                         ...   \n",
       "2020-01-01 00:08:15   -0.280747\n",
       "2020-01-01 00:08:16   -0.081495\n",
       "2020-01-01 00:08:17   -0.081495\n",
       "2020-01-01 00:08:18   -0.081495\n",
       "2020-01-01 00:08:19   -0.510110\n",
       "Freq: S, Length: 500, dtype: float64"
      ]
     },
     "execution_count": 18,
     "metadata": {},
     "output_type": "execute_result"
    }
   ],
   "source": [
    "def foo(x):\n",
    "    return min(x) + max(x) \n",
    "\n",
    "s.rolling(25).apply(foo)"
   ]
  },
  {
   "cell_type": "code",
   "execution_count": 19,
   "metadata": {},
   "outputs": [
    {
     "data": {
      "text/plain": [
       "2020-01-01 00:00:00         NaN\n",
       "2020-01-01 00:00:01         NaN\n",
       "2020-01-01 00:00:02         NaN\n",
       "2020-01-01 00:00:03         NaN\n",
       "2020-01-01 00:00:04         NaN\n",
       "                         ...   \n",
       "2020-01-01 00:08:15    3.364631\n",
       "2020-01-01 00:08:16    3.364631\n",
       "2020-01-01 00:08:17    3.364631\n",
       "2020-01-01 00:08:18    3.364631\n",
       "2020-01-01 00:08:19    3.364631\n",
       "Freq: S, Length: 500, dtype: float64"
      ]
     },
     "execution_count": 19,
     "metadata": {},
     "output_type": "execute_result"
    }
   ],
   "source": [
    "s.rolling(10).apply(np.ptp)"
   ]
  },
  {
   "cell_type": "markdown",
   "metadata": {},
   "source": [
    "> [scipy.signal window functions][1] can be used. The weights used in the window are specified by the `win_type` keyword.\n",
    "\n",
    "[1]: https://docs.scipy.org/doc/scipy/reference/signal.windows.html"
   ]
  },
  {
   "cell_type": "markdown",
   "metadata": {},
   "source": [
    "### 2.1.3 Time-Aware Rolling\n",
    "\n",
    "You can set `window` to a time offset. This can be particularly useful for an irregular time frequency index."
   ]
  },
  {
   "cell_type": "code",
   "execution_count": 20,
   "metadata": {},
   "outputs": [
    {
     "data": {
      "text/plain": [
       "2020-01-01 01:00:01    2.5\n",
       "2020-01-01 01:00:03    4.8\n",
       "2020-01-01 01:00:04    1.3\n",
       "2020-01-01 01:00:07    NaN\n",
       "2020-01-01 01:00:11    5.9\n",
       "dtype: float64"
      ]
     },
     "execution_count": 20,
     "metadata": {},
     "output_type": "execute_result"
    }
   ],
   "source": [
    "st = pd.Series([2.5, 4.8, 1.3, np.nan, 5.9],\n",
    "                index=pd.Index([pd.Timestamp(2020, 1, 1, 1, 0, 1),\n",
    "                                pd.Timestamp(2020, 1, 1, 1, 0, 3),\n",
    "                                pd.Timestamp(2020, 1, 1, 1, 0, 4),\n",
    "                                pd.Timestamp(2020, 1, 1, 1, 0, 7),\n",
    "                                pd.Timestamp(2020, 1, 1, 1, 0, 11)]))\n",
    "st "
   ]
  },
  {
   "cell_type": "code",
   "execution_count": 21,
   "metadata": {},
   "outputs": [
    {
     "data": {
      "text/plain": [
       "2020-01-01 01:00:01    2.5\n",
       "2020-01-01 01:00:03    4.8\n",
       "2020-01-01 01:00:04    4.8\n",
       "2020-01-01 01:00:07    4.8\n",
       "2020-01-01 01:00:11    5.9\n",
       "dtype: float64"
      ]
     },
     "execution_count": 21,
     "metadata": {},
     "output_type": "execute_result"
    }
   ],
   "source": [
    "st.rolling('5s').max()"
   ]
  },
  {
   "cell_type": "markdown",
   "metadata": {},
   "source": [
    "### 2.1.4 Rolling Window Endpoints\n",
    "\n",
    "The inclusion of the interval endpoints in rolling window calculations can be specified with the `closed` parameter:"
   ]
  },
  {
   "cell_type": "code",
   "execution_count": 23,
   "metadata": {},
   "outputs": [],
   "source": [
    "#pd.read_html('https://pandas.pydata.org/docs/user_guide/computation.html')[3].set_index('closed')"
   ]
  },
  {
   "cell_type": "code",
   "execution_count": 24,
   "metadata": {},
   "outputs": [
    {
     "data": {
      "text/html": [
       "<div>\n",
       "<style scoped>\n",
       "    .dataframe tbody tr th:only-of-type {\n",
       "        vertical-align: middle;\n",
       "    }\n",
       "\n",
       "    .dataframe tbody tr th {\n",
       "        vertical-align: top;\n",
       "    }\n",
       "\n",
       "    .dataframe thead th {\n",
       "        text-align: right;\n",
       "    }\n",
       "</style>\n",
       "<table border=\"1\" class=\"dataframe\">\n",
       "  <thead>\n",
       "    <tr style=\"text-align: right;\">\n",
       "      <th></th>\n",
       "      <th>right</th>\n",
       "      <th>left</th>\n",
       "      <th>both</th>\n",
       "      <th>neither</th>\n",
       "    </tr>\n",
       "  </thead>\n",
       "  <tbody>\n",
       "    <tr>\n",
       "      <th>2020-01-01 01:00:01</th>\n",
       "      <td>1.0</td>\n",
       "      <td>NaN</td>\n",
       "      <td>1.0</td>\n",
       "      <td>NaN</td>\n",
       "    </tr>\n",
       "    <tr>\n",
       "      <th>2020-01-01 01:00:03</th>\n",
       "      <td>2.0</td>\n",
       "      <td>1.0</td>\n",
       "      <td>2.0</td>\n",
       "      <td>1.0</td>\n",
       "    </tr>\n",
       "    <tr>\n",
       "      <th>2020-01-01 01:00:04</th>\n",
       "      <td>3.0</td>\n",
       "      <td>2.0</td>\n",
       "      <td>3.0</td>\n",
       "      <td>2.0</td>\n",
       "    </tr>\n",
       "    <tr>\n",
       "      <th>2020-01-01 01:00:07</th>\n",
       "      <td>3.0</td>\n",
       "      <td>2.0</td>\n",
       "      <td>3.0</td>\n",
       "      <td>2.0</td>\n",
       "    </tr>\n",
       "    <tr>\n",
       "      <th>2020-01-01 01:00:11</th>\n",
       "      <td>2.0</td>\n",
       "      <td>1.0</td>\n",
       "      <td>2.0</td>\n",
       "      <td>1.0</td>\n",
       "    </tr>\n",
       "  </tbody>\n",
       "</table>\n",
       "</div>"
      ],
      "text/plain": [
       "                     right  left  both  neither\n",
       "2020-01-01 01:00:01    1.0   NaN   1.0      NaN\n",
       "2020-01-01 01:00:03    2.0   1.0   2.0      1.0\n",
       "2020-01-01 01:00:04    3.0   2.0   3.0      2.0\n",
       "2020-01-01 01:00:07    3.0   2.0   3.0      2.0\n",
       "2020-01-01 01:00:11    2.0   1.0   2.0      1.0"
      ]
     },
     "execution_count": 24,
     "metadata": {},
     "output_type": "execute_result"
    }
   ],
   "source": [
    "st2 = pd.Series([1] * 5, index=st.index)\n",
    "pd.DataFrame({'right': st2.rolling('5s', closed='right').sum(),\n",
    "              'left': st2.rolling('5s', closed='left').sum(),\n",
    "              'both': st2.rolling('5s', closed='both').sum(),\n",
    "              'neither': st2.rolling('5s', closed='neither').sum()})"
   ]
  },
  {
   "cell_type": "markdown",
   "metadata": {},
   "source": [
    "### 2.1.5 Iteration Over Window\n",
    "\n",
    "`Rolling` and `Expanding` objects accept iteration."
   ]
  },
  {
   "cell_type": "code",
   "execution_count": 25,
   "metadata": {},
   "outputs": [
    {
     "name": "stdout",
     "output_type": "stream",
     "text": [
      "   A  B\n",
      "0  1  4\n",
      "   A  B\n",
      "0  1  4\n",
      "1  2  5\n",
      "   A  B\n",
      "1  2  5\n",
      "2  3  6\n"
     ]
    }
   ],
   "source": [
    "df = pd.DataFrame({\"A\": [1, 2, 3], \"B\": [4, 5, 6]})\n",
    "\n",
    "for win in df.rolling(2):\n",
    "    print(win)"
   ]
  },
  {
   "cell_type": "markdown",
   "metadata": {},
   "source": [
    "### 2.1.6 Centering Windows\n",
    "\n",
    "Use the `center` keyword to set the labels at the center (the default is to set the labels to the right edge of the window)."
   ]
  },
  {
   "cell_type": "code",
   "execution_count": 26,
   "metadata": {},
   "outputs": [
    {
     "data": {
      "text/plain": [
       "2020-01-01 00:00:00         NaN\n",
       "2020-01-01 00:00:01         NaN\n",
       "2020-01-01 00:00:02         NaN\n",
       "2020-01-01 00:00:03         NaN\n",
       "2020-01-01 00:00:04    0.037254\n",
       "                         ...   \n",
       "2020-01-01 00:08:15   -0.255695\n",
       "2020-01-01 00:08:16   -0.450270\n",
       "2020-01-01 00:08:17   -0.402972\n",
       "2020-01-01 00:08:18   -0.702490\n",
       "2020-01-01 00:08:19   -0.579671\n",
       "Freq: S, Length: 500, dtype: float64"
      ]
     },
     "execution_count": 26,
     "metadata": {},
     "output_type": "execute_result"
    }
   ],
   "source": [
    "s.rolling(5).mean()"
   ]
  },
  {
   "cell_type": "code",
   "execution_count": 27,
   "metadata": {
    "scrolled": true
   },
   "outputs": [
    {
     "data": {
      "text/plain": [
       "2020-01-01 00:00:00         NaN\n",
       "2020-01-01 00:00:01         NaN\n",
       "2020-01-01 00:00:02    0.037254\n",
       "2020-01-01 00:00:03   -0.194403\n",
       "2020-01-01 00:00:04   -0.281057\n",
       "                         ...   \n",
       "2020-01-01 00:08:15   -0.402972\n",
       "2020-01-01 00:08:16   -0.702490\n",
       "2020-01-01 00:08:17   -0.579671\n",
       "2020-01-01 00:08:18         NaN\n",
       "2020-01-01 00:08:19         NaN\n",
       "Freq: S, Length: 500, dtype: float64"
      ]
     },
     "execution_count": 27,
     "metadata": {},
     "output_type": "execute_result"
    }
   ],
   "source": [
    "s.rolling(5, center=True).mean()"
   ]
  },
  {
   "cell_type": "markdown",
   "metadata": {},
   "source": [
    "### 2.1.7 Binary Window Functions\n",
    "\n",
    "`cov()` and `corr()` can compute moving window statistics about two Series or any combination of `DataFrame/Series` or `DataFrame/DataFrame`."
   ]
  },
  {
   "cell_type": "code",
   "execution_count": 28,
   "metadata": {},
   "outputs": [
    {
     "data": {
      "text/plain": [
       "49   -0.064074\n",
       "50   -0.061207\n",
       "51   -0.057924\n",
       "52   -0.066899\n",
       "53   -0.071555\n",
       "dtype: float64"
      ]
     },
     "execution_count": 28,
     "metadata": {},
     "output_type": "execute_result"
    }
   ],
   "source": [
    "s1 = pd.Series(np.random.randn(200))\n",
    "s2 = pd.Series(np.linspace(-1, 1, 75))\n",
    "\n",
    "s1.rolling(window=50).cov(s2).dropna().head()"
   ]
  },
  {
   "cell_type": "code",
   "execution_count": 29,
   "metadata": {},
   "outputs": [
    {
     "data": {
      "text/plain": [
       "49   -0.202614\n",
       "50   -0.193949\n",
       "51   -0.183656\n",
       "52   -0.210291\n",
       "53   -0.223290\n",
       "dtype: float64"
      ]
     },
     "execution_count": 29,
     "metadata": {},
     "output_type": "execute_result"
    }
   ],
   "source": [
    "s1.rolling(window=50).corr(s2).dropna().head()"
   ]
  },
  {
   "cell_type": "code",
   "execution_count": 30,
   "metadata": {},
   "outputs": [
    {
     "data": {
      "text/html": [
       "<div>\n",
       "<style scoped>\n",
       "    .dataframe tbody tr th:only-of-type {\n",
       "        vertical-align: middle;\n",
       "    }\n",
       "\n",
       "    .dataframe tbody tr th {\n",
       "        vertical-align: top;\n",
       "    }\n",
       "\n",
       "    .dataframe thead th {\n",
       "        text-align: right;\n",
       "    }\n",
       "</style>\n",
       "<table border=\"1\" class=\"dataframe\">\n",
       "  <thead>\n",
       "    <tr style=\"text-align: right;\">\n",
       "      <th></th>\n",
       "      <th>A</th>\n",
       "      <th>B</th>\n",
       "      <th>C</th>\n",
       "      <th>D</th>\n",
       "    </tr>\n",
       "  </thead>\n",
       "  <tbody>\n",
       "    <tr>\n",
       "      <th>24</th>\n",
       "      <td>0.032381</td>\n",
       "      <td>-0.015729</td>\n",
       "      <td>-0.037395</td>\n",
       "      <td>-0.080062</td>\n",
       "    </tr>\n",
       "    <tr>\n",
       "      <th>25</th>\n",
       "      <td>0.034755</td>\n",
       "      <td>-0.036984</td>\n",
       "      <td>-0.031313</td>\n",
       "      <td>-0.093851</td>\n",
       "    </tr>\n",
       "    <tr>\n",
       "      <th>26</th>\n",
       "      <td>0.040741</td>\n",
       "      <td>-0.018090</td>\n",
       "      <td>-0.031408</td>\n",
       "      <td>-0.108430</td>\n",
       "    </tr>\n",
       "    <tr>\n",
       "      <th>27</th>\n",
       "      <td>0.022020</td>\n",
       "      <td>-0.012121</td>\n",
       "      <td>-0.016808</td>\n",
       "      <td>-0.088513</td>\n",
       "    </tr>\n",
       "    <tr>\n",
       "      <th>28</th>\n",
       "      <td>0.001322</td>\n",
       "      <td>-0.011965</td>\n",
       "      <td>-0.023230</td>\n",
       "      <td>-0.084722</td>\n",
       "    </tr>\n",
       "  </tbody>\n",
       "</table>\n",
       "</div>"
      ],
      "text/plain": [
       "           A         B         C         D\n",
       "24  0.032381 -0.015729 -0.037395 -0.080062\n",
       "25  0.034755 -0.036984 -0.031313 -0.093851\n",
       "26  0.040741 -0.018090 -0.031408 -0.108430\n",
       "27  0.022020 -0.012121 -0.016808 -0.088513\n",
       "28  0.001322 -0.011965 -0.023230 -0.084722"
      ]
     },
     "execution_count": 30,
     "metadata": {},
     "output_type": "execute_result"
    }
   ],
   "source": [
    "df = pd.DataFrame(np.random.randn(100, 4), columns=list('ABCD'))\n",
    "\n",
    "df.rolling(25).cov(s2).dropna().head()"
   ]
  },
  {
   "cell_type": "code",
   "execution_count": 31,
   "metadata": {},
   "outputs": [
    {
     "data": {
      "text/html": [
       "<div>\n",
       "<style scoped>\n",
       "    .dataframe tbody tr th:only-of-type {\n",
       "        vertical-align: middle;\n",
       "    }\n",
       "\n",
       "    .dataframe tbody tr th {\n",
       "        vertical-align: top;\n",
       "    }\n",
       "\n",
       "    .dataframe thead th {\n",
       "        text-align: right;\n",
       "    }\n",
       "</style>\n",
       "<table border=\"1\" class=\"dataframe\">\n",
       "  <thead>\n",
       "    <tr style=\"text-align: right;\">\n",
       "      <th></th>\n",
       "      <th></th>\n",
       "      <th>A</th>\n",
       "      <th>B</th>\n",
       "      <th>C</th>\n",
       "      <th>D</th>\n",
       "    </tr>\n",
       "  </thead>\n",
       "  <tbody>\n",
       "    <tr>\n",
       "      <th rowspan=\"5\" valign=\"top\">24</th>\n",
       "      <th>A</th>\n",
       "      <td>0.099812</td>\n",
       "      <td>0.084246</td>\n",
       "      <td>-0.037931</td>\n",
       "      <td>-0.254320</td>\n",
       "    </tr>\n",
       "    <tr>\n",
       "      <th>C</th>\n",
       "      <td>-0.288167</td>\n",
       "      <td>0.068294</td>\n",
       "      <td>0.059610</td>\n",
       "      <td>-0.136290</td>\n",
       "    </tr>\n",
       "    <tr>\n",
       "      <th>D</th>\n",
       "      <td>0.147117</td>\n",
       "      <td>-0.007319</td>\n",
       "      <td>-0.510334</td>\n",
       "      <td>-0.273950</td>\n",
       "    </tr>\n",
       "    <tr>\n",
       "      <th>E</th>\n",
       "      <td>-0.140294</td>\n",
       "      <td>-0.228852</td>\n",
       "      <td>0.254669</td>\n",
       "      <td>0.286950</td>\n",
       "    </tr>\n",
       "    <tr>\n",
       "      <th>I</th>\n",
       "      <td>0.186871</td>\n",
       "      <td>0.376234</td>\n",
       "      <td>0.053578</td>\n",
       "      <td>-0.052365</td>\n",
       "    </tr>\n",
       "  </tbody>\n",
       "</table>\n",
       "</div>"
      ],
      "text/plain": [
       "             A         B         C         D\n",
       "24 A  0.099812  0.084246 -0.037931 -0.254320\n",
       "   C -0.288167  0.068294  0.059610 -0.136290\n",
       "   D  0.147117 -0.007319 -0.510334 -0.273950\n",
       "   E -0.140294 -0.228852  0.254669  0.286950\n",
       "   I  0.186871  0.376234  0.053578 -0.052365"
      ]
     },
     "execution_count": 31,
     "metadata": {},
     "output_type": "execute_result"
    }
   ],
   "source": [
    "df2 = pd.DataFrame(np.random.randn(70, 5), columns=list('ACDEI'))\n",
    "\n",
    "# pairwise=True required for dataframe/dataframe\n",
    "df.rolling(25).cov(df2, pairwise=True).dropna().head()"
   ]
  },
  {
   "cell_type": "markdown",
   "metadata": {},
   "source": [
    "# 3. Aggregations"
   ]
  },
  {
   "cell_type": "code",
   "execution_count": 32,
   "metadata": {},
   "outputs": [
    {
     "data": {
      "text/plain": [
       "2020-01-01 00:00:00         NaN\n",
       "2020-01-01 00:00:01         NaN\n",
       "2020-01-01 00:00:02         NaN\n",
       "2020-01-01 00:00:03         NaN\n",
       "2020-01-01 00:00:04    1.172901\n",
       "                         ...   \n",
       "2020-01-01 00:08:15    0.954081\n",
       "2020-01-01 00:08:16    0.923337\n",
       "2020-01-01 00:08:17    1.012017\n",
       "2020-01-01 00:08:18    1.059645\n",
       "2020-01-01 00:08:19    1.063690\n",
       "Freq: S, Length: 500, dtype: float64"
      ]
     },
     "execution_count": 32,
     "metadata": {},
     "output_type": "execute_result"
    }
   ],
   "source": [
    "s.rolling(window=15, min_periods=5).aggregate(np.std)"
   ]
  },
  {
   "cell_type": "markdown",
   "metadata": {},
   "source": [
    "## 3.1 Applying Multiple Functions\n",
    "\n",
    "Just pass a list of functions to aggregate with."
   ]
  },
  {
   "cell_type": "code",
   "execution_count": 33,
   "metadata": {},
   "outputs": [
    {
     "data": {
      "text/html": [
       "<div>\n",
       "<style scoped>\n",
       "    .dataframe tbody tr th:only-of-type {\n",
       "        vertical-align: middle;\n",
       "    }\n",
       "\n",
       "    .dataframe tbody tr th {\n",
       "        vertical-align: top;\n",
       "    }\n",
       "\n",
       "    .dataframe thead th {\n",
       "        text-align: right;\n",
       "    }\n",
       "</style>\n",
       "<table border=\"1\" class=\"dataframe\">\n",
       "  <thead>\n",
       "    <tr style=\"text-align: right;\">\n",
       "      <th></th>\n",
       "      <th>max</th>\n",
       "      <th>min</th>\n",
       "      <th>mean</th>\n",
       "      <th>std</th>\n",
       "    </tr>\n",
       "  </thead>\n",
       "  <tbody>\n",
       "    <tr>\n",
       "      <th>2020-01-01 00:00:19</th>\n",
       "      <td>2.398171</td>\n",
       "      <td>-3.188709</td>\n",
       "      <td>-0.181614</td>\n",
       "      <td>1.457391</td>\n",
       "    </tr>\n",
       "    <tr>\n",
       "      <th>2020-01-01 00:00:20</th>\n",
       "      <td>2.398171</td>\n",
       "      <td>-3.188709</td>\n",
       "      <td>-0.195338</td>\n",
       "      <td>1.457802</td>\n",
       "    </tr>\n",
       "    <tr>\n",
       "      <th>2020-01-01 00:00:21</th>\n",
       "      <td>2.398171</td>\n",
       "      <td>-3.188709</td>\n",
       "      <td>-0.178194</td>\n",
       "      <td>1.460581</td>\n",
       "    </tr>\n",
       "    <tr>\n",
       "      <th>2020-01-01 00:00:22</th>\n",
       "      <td>2.398171</td>\n",
       "      <td>-3.188709</td>\n",
       "      <td>-0.227011</td>\n",
       "      <td>1.472324</td>\n",
       "    </tr>\n",
       "    <tr>\n",
       "      <th>2020-01-01 00:00:23</th>\n",
       "      <td>2.398171</td>\n",
       "      <td>-3.188709</td>\n",
       "      <td>-0.317295</td>\n",
       "      <td>1.390012</td>\n",
       "    </tr>\n",
       "  </tbody>\n",
       "</table>\n",
       "</div>"
      ],
      "text/plain": [
       "                          max       min      mean       std\n",
       "2020-01-01 00:00:19  2.398171 -3.188709 -0.181614  1.457391\n",
       "2020-01-01 00:00:20  2.398171 -3.188709 -0.195338  1.457802\n",
       "2020-01-01 00:00:21  2.398171 -3.188709 -0.178194  1.460581\n",
       "2020-01-01 00:00:22  2.398171 -3.188709 -0.227011  1.472324\n",
       "2020-01-01 00:00:23  2.398171 -3.188709 -0.317295  1.390012"
      ]
     },
     "execution_count": 33,
     "metadata": {},
     "output_type": "execute_result"
    }
   ],
   "source": [
    "s.rolling(20).agg([max, min, np.mean, np.std]).dropna().head()"
   ]
  },
  {
   "cell_type": "code",
   "execution_count": 34,
   "metadata": {},
   "outputs": [
    {
     "data": {
      "text/html": [
       "<div>\n",
       "<style scoped>\n",
       "    .dataframe tbody tr th:only-of-type {\n",
       "        vertical-align: middle;\n",
       "    }\n",
       "\n",
       "    .dataframe tbody tr th {\n",
       "        vertical-align: top;\n",
       "    }\n",
       "\n",
       "    .dataframe thead tr th {\n",
       "        text-align: left;\n",
       "    }\n",
       "</style>\n",
       "<table border=\"1\" class=\"dataframe\">\n",
       "  <thead>\n",
       "    <tr>\n",
       "      <th></th>\n",
       "      <th colspan=\"2\" halign=\"left\">A</th>\n",
       "      <th colspan=\"2\" halign=\"left\">B</th>\n",
       "      <th colspan=\"2\" halign=\"left\">C</th>\n",
       "      <th colspan=\"2\" halign=\"left\">D</th>\n",
       "    </tr>\n",
       "    <tr>\n",
       "      <th></th>\n",
       "      <th>mean</th>\n",
       "      <th>std</th>\n",
       "      <th>mean</th>\n",
       "      <th>std</th>\n",
       "      <th>mean</th>\n",
       "      <th>std</th>\n",
       "      <th>mean</th>\n",
       "      <th>std</th>\n",
       "    </tr>\n",
       "  </thead>\n",
       "  <tbody>\n",
       "    <tr>\n",
       "      <th>19</th>\n",
       "      <td>-0.005200</td>\n",
       "      <td>0.821570</td>\n",
       "      <td>0.265957</td>\n",
       "      <td>1.121051</td>\n",
       "      <td>-0.020599</td>\n",
       "      <td>0.981455</td>\n",
       "      <td>-0.133167</td>\n",
       "      <td>0.986771</td>\n",
       "    </tr>\n",
       "    <tr>\n",
       "      <th>20</th>\n",
       "      <td>0.038861</td>\n",
       "      <td>0.814978</td>\n",
       "      <td>0.289102</td>\n",
       "      <td>1.090982</td>\n",
       "      <td>-0.022950</td>\n",
       "      <td>0.978578</td>\n",
       "      <td>0.000187</td>\n",
       "      <td>1.016078</td>\n",
       "    </tr>\n",
       "    <tr>\n",
       "      <th>21</th>\n",
       "      <td>-0.026102</td>\n",
       "      <td>0.866989</td>\n",
       "      <td>0.196051</td>\n",
       "      <td>1.092259</td>\n",
       "      <td>-0.066525</td>\n",
       "      <td>1.001465</td>\n",
       "      <td>-0.088621</td>\n",
       "      <td>1.072933</td>\n",
       "    </tr>\n",
       "    <tr>\n",
       "      <th>22</th>\n",
       "      <td>0.046091</td>\n",
       "      <td>0.902908</td>\n",
       "      <td>0.173368</td>\n",
       "      <td>1.108488</td>\n",
       "      <td>-0.048073</td>\n",
       "      <td>1.006220</td>\n",
       "      <td>-0.075147</td>\n",
       "      <td>1.086425</td>\n",
       "    </tr>\n",
       "    <tr>\n",
       "      <th>23</th>\n",
       "      <td>0.162479</td>\n",
       "      <td>0.934632</td>\n",
       "      <td>0.245575</td>\n",
       "      <td>1.130927</td>\n",
       "      <td>-0.179093</td>\n",
       "      <td>0.954806</td>\n",
       "      <td>-0.161402</td>\n",
       "      <td>1.174323</td>\n",
       "    </tr>\n",
       "  </tbody>\n",
       "</table>\n",
       "</div>"
      ],
      "text/plain": [
       "           A                   B                   C                   D  \\\n",
       "        mean       std      mean       std      mean       std      mean   \n",
       "19 -0.005200  0.821570  0.265957  1.121051 -0.020599  0.981455 -0.133167   \n",
       "20  0.038861  0.814978  0.289102  1.090982 -0.022950  0.978578  0.000187   \n",
       "21 -0.026102  0.866989  0.196051  1.092259 -0.066525  1.001465 -0.088621   \n",
       "22  0.046091  0.902908  0.173368  1.108488 -0.048073  1.006220 -0.075147   \n",
       "23  0.162479  0.934632  0.245575  1.130927 -0.179093  0.954806 -0.161402   \n",
       "\n",
       "              \n",
       "         std  \n",
       "19  0.986771  \n",
       "20  1.016078  \n",
       "21  1.072933  \n",
       "22  1.086425  \n",
       "23  1.174323  "
      ]
     },
     "execution_count": 34,
     "metadata": {},
     "output_type": "execute_result"
    }
   ],
   "source": [
    "df.rolling(20).agg([np.mean, np.std]).dropna().head()"
   ]
  },
  {
   "cell_type": "markdown",
   "metadata": {},
   "source": [
    "## 3.2 Applying Different Functions to DataFrame Columns\n",
    "\n",
    "Just pass a `dict` to `agg`, mapping column names to aggregating functions."
   ]
  },
  {
   "cell_type": "code",
   "execution_count": 35,
   "metadata": {},
   "outputs": [
    {
     "data": {
      "text/html": [
       "<div>\n",
       "<style scoped>\n",
       "    .dataframe tbody tr th:only-of-type {\n",
       "        vertical-align: middle;\n",
       "    }\n",
       "\n",
       "    .dataframe tbody tr th {\n",
       "        vertical-align: top;\n",
       "    }\n",
       "\n",
       "    .dataframe thead tr th {\n",
       "        text-align: left;\n",
       "    }\n",
       "</style>\n",
       "<table border=\"1\" class=\"dataframe\">\n",
       "  <thead>\n",
       "    <tr>\n",
       "      <th></th>\n",
       "      <th colspan=\"2\" halign=\"left\">A</th>\n",
       "      <th>B</th>\n",
       "      <th>D</th>\n",
       "    </tr>\n",
       "    <tr>\n",
       "      <th></th>\n",
       "      <th>max</th>\n",
       "      <th>min</th>\n",
       "      <th>std</th>\n",
       "      <th>&lt;lambda&gt;</th>\n",
       "    </tr>\n",
       "  </thead>\n",
       "  <tbody>\n",
       "    <tr>\n",
       "      <th>19</th>\n",
       "      <td>1.360824</td>\n",
       "      <td>-1.420331</td>\n",
       "      <td>1.121051</td>\n",
       "      <td>-0.137902</td>\n",
       "    </tr>\n",
       "    <tr>\n",
       "      <th>20</th>\n",
       "      <td>1.360824</td>\n",
       "      <td>-1.420331</td>\n",
       "      <td>1.090982</td>\n",
       "      <td>0.094189</td>\n",
       "    </tr>\n",
       "    <tr>\n",
       "      <th>21</th>\n",
       "      <td>1.360824</td>\n",
       "      <td>-1.420331</td>\n",
       "      <td>1.092259</td>\n",
       "      <td>-0.137902</td>\n",
       "    </tr>\n",
       "    <tr>\n",
       "      <th>22</th>\n",
       "      <td>1.360824</td>\n",
       "      <td>-1.420331</td>\n",
       "      <td>1.108488</td>\n",
       "      <td>-0.137902</td>\n",
       "    </tr>\n",
       "    <tr>\n",
       "      <th>23</th>\n",
       "      <td>1.506076</td>\n",
       "      <td>-1.420331</td>\n",
       "      <td>1.130927</td>\n",
       "      <td>-0.175253</td>\n",
       "    </tr>\n",
       "  </tbody>\n",
       "</table>\n",
       "</div>"
      ],
      "text/plain": [
       "           A                   B         D\n",
       "         max       min       std  <lambda>\n",
       "19  1.360824 -1.420331  1.121051 -0.137902\n",
       "20  1.360824 -1.420331  1.090982  0.094189\n",
       "21  1.360824 -1.420331  1.092259 -0.137902\n",
       "22  1.360824 -1.420331  1.108488 -0.137902\n",
       "23  1.506076 -1.420331  1.130927 -0.175253"
      ]
     },
     "execution_count": 35,
     "metadata": {},
     "output_type": "execute_result"
    }
   ],
   "source": [
    "df.rolling(20).agg({'A': [max, min], 'B': np.std, 'D': lambda x: np.quantile(x, 0.5)}\n",
    "                  ).dropna().head()"
   ]
  },
  {
   "cell_type": "markdown",
   "metadata": {},
   "source": [
    "> The aggregating functions can also be given as strings"
   ]
  },
  {
   "cell_type": "code",
   "execution_count": 36,
   "metadata": {},
   "outputs": [
    {
     "data": {
      "text/html": [
       "<div>\n",
       "<style scoped>\n",
       "    .dataframe tbody tr th:only-of-type {\n",
       "        vertical-align: middle;\n",
       "    }\n",
       "\n",
       "    .dataframe tbody tr th {\n",
       "        vertical-align: top;\n",
       "    }\n",
       "\n",
       "    .dataframe thead tr th {\n",
       "        text-align: left;\n",
       "    }\n",
       "</style>\n",
       "<table border=\"1\" class=\"dataframe\">\n",
       "  <thead>\n",
       "    <tr>\n",
       "      <th></th>\n",
       "      <th>A</th>\n",
       "      <th colspan=\"2\" halign=\"left\">B</th>\n",
       "      <th>D</th>\n",
       "    </tr>\n",
       "    <tr>\n",
       "      <th></th>\n",
       "      <th>sum</th>\n",
       "      <th>max</th>\n",
       "      <th>min</th>\n",
       "      <th>std</th>\n",
       "    </tr>\n",
       "  </thead>\n",
       "  <tbody>\n",
       "    <tr>\n",
       "      <th>19</th>\n",
       "      <td>-0.103998</td>\n",
       "      <td>2.522166</td>\n",
       "      <td>-1.318976</td>\n",
       "      <td>0.986771</td>\n",
       "    </tr>\n",
       "    <tr>\n",
       "      <th>20</th>\n",
       "      <td>0.777216</td>\n",
       "      <td>2.522166</td>\n",
       "      <td>-0.881766</td>\n",
       "      <td>1.016078</td>\n",
       "    </tr>\n",
       "    <tr>\n",
       "      <th>21</th>\n",
       "      <td>-0.522041</td>\n",
       "      <td>2.522166</td>\n",
       "      <td>-0.881766</td>\n",
       "      <td>1.072933</td>\n",
       "    </tr>\n",
       "    <tr>\n",
       "      <th>22</th>\n",
       "      <td>0.921819</td>\n",
       "      <td>2.522166</td>\n",
       "      <td>-0.881766</td>\n",
       "      <td>1.086425</td>\n",
       "    </tr>\n",
       "    <tr>\n",
       "      <th>23</th>\n",
       "      <td>3.249582</td>\n",
       "      <td>2.522166</td>\n",
       "      <td>-0.881766</td>\n",
       "      <td>1.174323</td>\n",
       "    </tr>\n",
       "  </tbody>\n",
       "</table>\n",
       "</div>"
      ],
      "text/plain": [
       "           A         B                   D\n",
       "         sum       max       min       std\n",
       "19 -0.103998  2.522166 -1.318976  0.986771\n",
       "20  0.777216  2.522166 -0.881766  1.016078\n",
       "21 -0.522041  2.522166 -0.881766  1.072933\n",
       "22  0.921819  2.522166 -0.881766  1.086425\n",
       "23  3.249582  2.522166 -0.881766  1.174323"
      ]
     },
     "execution_count": 36,
     "metadata": {},
     "output_type": "execute_result"
    }
   ],
   "source": [
    "df.rolling(20).agg({'A': 'sum', 'B': ['max', 'min'], 'D': 'std'}\n",
    "                  ).dropna().head()"
   ]
  },
  {
   "cell_type": "markdown",
   "metadata": {},
   "source": [
    "# 4. Expanding Windows\n",
    "\n",
    "A common alternative to rolling statistics is to use an expanding window, which yields the value of the statistic with all the data available up to that point in time."
   ]
  },
  {
   "cell_type": "markdown",
   "metadata": {},
   "source": [
    "## 4.1 Method Summary"
   ]
  },
  {
   "cell_type": "code",
   "execution_count": 38,
   "metadata": {},
   "outputs": [],
   "source": [
    "#pd.read_html('https://pandas.pydata.org/docs/user_guide/computation.html')[4]"
   ]
  },
  {
   "cell_type": "code",
   "execution_count": 39,
   "metadata": {},
   "outputs": [
    {
     "data": {
      "text/plain": [
       "2020-01-01 00:00:00          NaN\n",
       "2020-01-01 00:00:01    -0.226221\n",
       "2020-01-01 00:00:02    -0.275775\n",
       "2020-01-01 00:00:03     1.594472\n",
       "2020-01-01 00:00:04     0.186271\n",
       "                         ...    \n",
       "2020-01-01 00:08:15    12.184333\n",
       "2020-01-01 00:08:16    12.032256\n",
       "2020-01-01 00:08:17    10.331376\n",
       "2020-01-01 00:08:18     9.012293\n",
       "2020-01-01 00:08:19     9.412297\n",
       "Freq: S, Length: 500, dtype: float64"
      ]
     },
     "execution_count": 39,
     "metadata": {},
     "output_type": "execute_result"
    }
   ],
   "source": [
    "s.expanding(min_periods=2).sum()"
   ]
  },
  {
   "cell_type": "markdown",
   "metadata": {},
   "source": [
    "# 5. Exponentially Weighted Windows\n",
    "\n",
    "A related set of functions are exponentially weighted versions of several of the above statistics. A similar interface to `.rolling` and `.expanding` is accessed through the `.ewm` method.\n",
    "\n",
    ">One must specify precisely one of `span`, `center of mass`, `half-life` and `alpha` to the EW functions:"
   ]
  },
  {
   "cell_type": "markdown",
   "metadata": {},
   "source": [
    "## 5.1 Method Summary"
   ]
  },
  {
   "cell_type": "code",
   "execution_count": 40,
   "metadata": {},
   "outputs": [],
   "source": [
    "#pd.read_html('https://pandas.pydata.org/docs/user_guide/computation.html')[5]"
   ]
  },
  {
   "cell_type": "code",
   "execution_count": 41,
   "metadata": {},
   "outputs": [
    {
     "data": {
      "text/plain": [
       "2020-01-01 00:00:00   -0.092702\n",
       "2020-01-01 00:00:01   -0.114471\n",
       "2020-01-01 00:00:02   -0.089887\n",
       "2020-01-01 00:00:03    0.502201\n",
       "2020-01-01 00:00:04    0.011943\n",
       "                         ...   \n",
       "2020-01-01 00:08:15   -0.037161\n",
       "2020-01-01 00:08:16   -0.051525\n",
       "2020-01-01 00:08:17   -0.257694\n",
       "2020-01-01 00:08:18   -0.390368\n",
       "2020-01-01 00:08:19   -0.291572\n",
       "Freq: S, Length: 500, dtype: float64"
      ]
     },
     "execution_count": 41,
     "metadata": {},
     "output_type": "execute_result"
    }
   ],
   "source": [
    "s.ewm(span=15).mean()"
   ]
  },
  {
   "cell_type": "code",
   "execution_count": 42,
   "metadata": {
    "scrolled": true
   },
   "outputs": [
    {
     "data": {
      "text/plain": [
       "2020-01-01 00:00:00   -0.092702\n",
       "2020-01-01 00:00:01   -0.113252\n",
       "2020-01-01 00:00:02   -0.091724\n",
       "2020-01-01 00:00:03    0.409015\n",
       "2020-01-01 00:00:04    0.035426\n",
       "                         ...   \n",
       "2020-01-01 00:08:15    0.096308\n",
       "2020-01-01 00:08:16    0.092885\n",
       "2020-01-01 00:08:17    0.068164\n",
       "2020-01-01 00:08:18    0.049047\n",
       "2020-01-01 00:08:19    0.053883\n",
       "Freq: S, Length: 500, dtype: float64"
      ]
     },
     "execution_count": 42,
     "metadata": {},
     "output_type": "execute_result"
    }
   ],
   "source": [
    "s.ewm(halflife=50).mean()"
   ]
  },
  {
   "cell_type": "code",
   "execution_count": 43,
   "metadata": {},
   "outputs": [
    {
     "data": {
      "text/plain": [
       "2020-01-01 00:00:00   -0.092702\n",
       "2020-01-01 00:00:01   -0.113237\n",
       "2020-01-01 00:00:02   -0.091745\n",
       "2020-01-01 00:00:03    0.407930\n",
       "2020-01-01 00:00:04    0.035624\n",
       "                         ...   \n",
       "2020-01-01 00:08:15    0.094997\n",
       "2020-01-01 00:08:16    0.091940\n",
       "2020-01-01 00:08:17    0.069761\n",
       "2020-01-01 00:08:18    0.052580\n",
       "2020-01-01 00:08:19    0.056878\n",
       "Freq: S, Length: 500, dtype: float64"
      ]
     },
     "execution_count": 43,
     "metadata": {},
     "output_type": "execute_result"
    }
   ],
   "source": [
    "s.ewm(com=80).mean()"
   ]
  },
  {
   "cell_type": "code",
   "execution_count": null,
   "metadata": {},
   "outputs": [],
   "source": []
  }
 ],
 "metadata": {
  "kernelspec": {
   "display_name": "Python 3",
   "language": "python",
   "name": "python3"
  },
  "language_info": {
   "codemirror_mode": {
    "name": "ipython",
    "version": 3
   },
   "file_extension": ".py",
   "mimetype": "text/x-python",
   "name": "python",
   "nbconvert_exporter": "python",
   "pygments_lexer": "ipython3",
   "version": "3.8.5"
  }
 },
 "nbformat": 4,
 "nbformat_minor": 4
}
