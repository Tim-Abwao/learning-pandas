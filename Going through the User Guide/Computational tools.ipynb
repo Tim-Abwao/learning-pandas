{
 "cells": [
  {
   "cell_type": "markdown",
   "metadata": {},
   "source": [
    "# [Go to \"Computational Tools\" in Pandas Docs](https://pandas.pydata.org/docs/user_guide/computation.html)"
   ]
  },
  {
   "cell_type": "code",
   "execution_count": 1,
   "metadata": {},
   "outputs": [],
   "source": [
    "import pandas as pd\n",
    "import numpy as np"
   ]
  },
  {
   "cell_type": "markdown",
   "metadata": {},
   "source": [
    "# 1. Statistical Functions"
   ]
  },
  {
   "cell_type": "markdown",
   "metadata": {},
   "source": [
    "## 1.1 Percentage Change\n",
    "\n",
    ">Use the [pct_change][1] method.\n",
    ">\n",
    ">Parameters:\n",
    ">- `periods` (int, default 1)\n",
    ">- `fill_method` (str, default ‘pad’)\n",
    ">- `limit` (int, default None)\n",
    ">- `freq` (DateOffset, timedelta, or str, optional)\n",
    "\n",
    "[1]: https://pandas.pydata.org/docs/reference/api/pandas.DataFrame.pct_change.html#pandas-dataframe-pct-change"
   ]
  },
  {
   "cell_type": "code",
   "execution_count": 2,
   "metadata": {},
   "outputs": [
    {
     "data": {
      "text/html": [
       "<div>\n",
       "<style scoped>\n",
       "    .dataframe tbody tr th:only-of-type {\n",
       "        vertical-align: middle;\n",
       "    }\n",
       "\n",
       "    .dataframe tbody tr th {\n",
       "        vertical-align: top;\n",
       "    }\n",
       "\n",
       "    .dataframe thead th {\n",
       "        text-align: right;\n",
       "    }\n",
       "</style>\n",
       "<table border=\"1\" class=\"dataframe\">\n",
       "  <thead>\n",
       "    <tr style=\"text-align: right;\">\n",
       "      <th></th>\n",
       "      <th>s</th>\n",
       "      <th>% change</th>\n",
       "    </tr>\n",
       "  </thead>\n",
       "  <tbody>\n",
       "    <tr>\n",
       "      <th>0</th>\n",
       "      <td>42</td>\n",
       "      <td>NaN</td>\n",
       "    </tr>\n",
       "    <tr>\n",
       "      <th>1</th>\n",
       "      <td>57</td>\n",
       "      <td>0.357143</td>\n",
       "    </tr>\n",
       "    <tr>\n",
       "      <th>2</th>\n",
       "      <td>35</td>\n",
       "      <td>-0.385965</td>\n",
       "    </tr>\n",
       "    <tr>\n",
       "      <th>3</th>\n",
       "      <td>101</td>\n",
       "      <td>1.885714</td>\n",
       "    </tr>\n",
       "    <tr>\n",
       "      <th>4</th>\n",
       "      <td>88</td>\n",
       "      <td>-0.128713</td>\n",
       "    </tr>\n",
       "  </tbody>\n",
       "</table>\n",
       "</div>"
      ],
      "text/plain": [
       "     s  % change\n",
       "0   42       NaN\n",
       "1   57  0.357143\n",
       "2   35 -0.385965\n",
       "3  101  1.885714\n",
       "4   88 -0.128713"
      ]
     },
     "execution_count": 2,
     "metadata": {},
     "output_type": "execute_result"
    }
   ],
   "source": [
    "s = pd.Series([42, 57, 35, 101, 88])\n",
    "spc = s.pct_change()\n",
    "\n",
    "# by default, each value is compared to the previous one (periods=1)\n",
    "# e.g. 0.357143 == 35.7143% increase: 57 from 42\n",
    "pd.concat([s, spc], axis=1, keys=['s', '% change'])"
   ]
  },
  {
   "cell_type": "code",
   "execution_count": 3,
   "metadata": {},
   "outputs": [
    {
     "data": {
      "text/html": [
       "<div>\n",
       "<style scoped>\n",
       "    .dataframe tbody tr th:only-of-type {\n",
       "        vertical-align: middle;\n",
       "    }\n",
       "\n",
       "    .dataframe tbody tr th {\n",
       "        vertical-align: top;\n",
       "    }\n",
       "\n",
       "    .dataframe thead th {\n",
       "        text-align: right;\n",
       "    }\n",
       "</style>\n",
       "<table border=\"1\" class=\"dataframe\">\n",
       "  <thead>\n",
       "    <tr style=\"text-align: right;\">\n",
       "      <th></th>\n",
       "      <th>0</th>\n",
       "      <th>1</th>\n",
       "      <th>2</th>\n",
       "      <th>0</th>\n",
       "      <th>1</th>\n",
       "      <th>2</th>\n",
       "    </tr>\n",
       "  </thead>\n",
       "  <tbody>\n",
       "    <tr>\n",
       "      <th>0</th>\n",
       "      <td>4</td>\n",
       "      <td>5</td>\n",
       "      <td>7</td>\n",
       "      <td>NaN</td>\n",
       "      <td>NaN</td>\n",
       "      <td>NaN</td>\n",
       "    </tr>\n",
       "    <tr>\n",
       "      <th>1</th>\n",
       "      <td>5</td>\n",
       "      <td>2</td>\n",
       "      <td>6</td>\n",
       "      <td>NaN</td>\n",
       "      <td>NaN</td>\n",
       "      <td>NaN</td>\n",
       "    </tr>\n",
       "    <tr>\n",
       "      <th>2</th>\n",
       "      <td>2</td>\n",
       "      <td>8</td>\n",
       "      <td>7</td>\n",
       "      <td>NaN</td>\n",
       "      <td>NaN</td>\n",
       "      <td>NaN</td>\n",
       "    </tr>\n",
       "    <tr>\n",
       "      <th>3</th>\n",
       "      <td>3</td>\n",
       "      <td>9</td>\n",
       "      <td>3</td>\n",
       "      <td>-0.25</td>\n",
       "      <td>0.800000</td>\n",
       "      <td>-0.571429</td>\n",
       "    </tr>\n",
       "    <tr>\n",
       "      <th>4</th>\n",
       "      <td>1</td>\n",
       "      <td>4</td>\n",
       "      <td>1</td>\n",
       "      <td>-0.80</td>\n",
       "      <td>1.000000</td>\n",
       "      <td>-0.833333</td>\n",
       "    </tr>\n",
       "    <tr>\n",
       "      <th>5</th>\n",
       "      <td>7</td>\n",
       "      <td>7</td>\n",
       "      <td>3</td>\n",
       "      <td>2.50</td>\n",
       "      <td>-0.125000</td>\n",
       "      <td>-0.571429</td>\n",
       "    </tr>\n",
       "    <tr>\n",
       "      <th>6</th>\n",
       "      <td>3</td>\n",
       "      <td>8</td>\n",
       "      <td>9</td>\n",
       "      <td>0.00</td>\n",
       "      <td>-0.111111</td>\n",
       "      <td>2.000000</td>\n",
       "    </tr>\n",
       "  </tbody>\n",
       "</table>\n",
       "</div>"
      ],
      "text/plain": [
       "   0  1  2     0         1         2\n",
       "0  4  5  7   NaN       NaN       NaN\n",
       "1  5  2  6   NaN       NaN       NaN\n",
       "2  2  8  7   NaN       NaN       NaN\n",
       "3  3  9  3 -0.25  0.800000 -0.571429\n",
       "4  1  4  1 -0.80  1.000000 -0.833333\n",
       "5  7  7  3  2.50 -0.125000 -0.571429\n",
       "6  3  8  9  0.00 -0.111111  2.000000"
      ]
     },
     "execution_count": 3,
     "metadata": {},
     "output_type": "execute_result"
    }
   ],
   "source": [
    "df = pd.DataFrame(np.random.randint(1, 10, (7, 3)))\n",
    "dfpct = df.pct_change(periods=3)\n",
    "\n",
    "pd.concat([df, dfpct], axis=1)"
   ]
  },
  {
   "cell_type": "markdown",
   "metadata": {},
   "source": [
    "## 1.2 Covariance\n",
    "\n",
    ">Use [Series.cov()][1] for covariance between series, and [DataFrame.cov()][2] for pairwise covariances among the series/columns in a dataframe. Missing values are excluded.\n",
    "\n",
    "[1]: https://pandas.pydata.org/docs/reference/api/pandas.Series.cov.html\n",
    "[2]: https://pandas.pydata.org/docs/reference/api/pandas.DataFrame.cov.html"
   ]
  },
  {
   "cell_type": "code",
   "execution_count": 4,
   "metadata": {
    "scrolled": true
   },
   "outputs": [
    {
     "data": {
      "text/plain": [
       "(-0.07033665510798649, -0.07033665510798649)"
      ]
     },
     "execution_count": 4,
     "metadata": {},
     "output_type": "execute_result"
    }
   ],
   "source": [
    "s1 = pd.Series(np.random.randn(200), name='s1')\n",
    "s2 = pd.Series(np.random.randn(200), name='s2')\n",
    "\n",
    "s1.cov(s2), s2.cov(s1)"
   ]
  },
  {
   "cell_type": "code",
   "execution_count": 5,
   "metadata": {},
   "outputs": [
    {
     "data": {
      "text/html": [
       "<div>\n",
       "<style scoped>\n",
       "    .dataframe tbody tr th:only-of-type {\n",
       "        vertical-align: middle;\n",
       "    }\n",
       "\n",
       "    .dataframe tbody tr th {\n",
       "        vertical-align: top;\n",
       "    }\n",
       "\n",
       "    .dataframe thead th {\n",
       "        text-align: right;\n",
       "    }\n",
       "</style>\n",
       "<table border=\"1\" class=\"dataframe\">\n",
       "  <thead>\n",
       "    <tr style=\"text-align: right;\">\n",
       "      <th></th>\n",
       "      <th>0</th>\n",
       "      <th>1</th>\n",
       "      <th>2</th>\n",
       "      <th>3</th>\n",
       "    </tr>\n",
       "  </thead>\n",
       "  <tbody>\n",
       "    <tr>\n",
       "      <th>0</th>\n",
       "      <td>0.114131</td>\n",
       "      <td>-0.019598</td>\n",
       "      <td>0.000311</td>\n",
       "      <td>0.016941</td>\n",
       "    </tr>\n",
       "    <tr>\n",
       "      <th>1</th>\n",
       "      <td>-0.019598</td>\n",
       "      <td>0.089141</td>\n",
       "      <td>-0.014240</td>\n",
       "      <td>0.018757</td>\n",
       "    </tr>\n",
       "    <tr>\n",
       "      <th>2</th>\n",
       "      <td>0.000311</td>\n",
       "      <td>-0.014240</td>\n",
       "      <td>0.067451</td>\n",
       "      <td>-0.004582</td>\n",
       "    </tr>\n",
       "    <tr>\n",
       "      <th>3</th>\n",
       "      <td>0.016941</td>\n",
       "      <td>0.018757</td>\n",
       "      <td>-0.004582</td>\n",
       "      <td>0.077566</td>\n",
       "    </tr>\n",
       "  </tbody>\n",
       "</table>\n",
       "</div>"
      ],
      "text/plain": [
       "          0         1         2         3\n",
       "0  0.114131 -0.019598  0.000311  0.016941\n",
       "1 -0.019598  0.089141 -0.014240  0.018757\n",
       "2  0.000311 -0.014240  0.067451 -0.004582\n",
       "3  0.016941  0.018757 -0.004582  0.077566"
      ]
     },
     "execution_count": 5,
     "metadata": {},
     "output_type": "execute_result"
    }
   ],
   "source": [
    "df = pd.DataFrame(np.random.rand(50, 4))\n",
    "df.cov()"
   ]
  },
  {
   "cell_type": "markdown",
   "metadata": {},
   "source": [
    "## 1.3 Correlation\n",
    "\n",
    ">Use the [corr()][1] method. You can specify `method` as one of `pearson (default)`, `kendall` or `spearman`.\n",
    "\n",
    "[1]: https://pandas.pydata.org/docs/reference/api/pandas.DataFrame.corr.html"
   ]
  },
  {
   "cell_type": "code",
   "execution_count": 6,
   "metadata": {
    "scrolled": true
   },
   "outputs": [
    {
     "data": {
      "text/plain": [
       "-0.07193544390691518"
      ]
     },
     "execution_count": 6,
     "metadata": {},
     "output_type": "execute_result"
    }
   ],
   "source": [
    "s1.corr(s2, method='pearson') "
   ]
  },
  {
   "cell_type": "code",
   "execution_count": 7,
   "metadata": {
    "scrolled": true
   },
   "outputs": [
    {
     "data": {
      "text/plain": [
       "-0.05155778894472361"
      ]
     },
     "execution_count": 7,
     "metadata": {},
     "output_type": "execute_result"
    }
   ],
   "source": [
    "s1.corr(s2, method='kendall')"
   ]
  },
  {
   "cell_type": "code",
   "execution_count": 8,
   "metadata": {},
   "outputs": [
    {
     "data": {
      "text/plain": [
       "-0.07335633390834771"
      ]
     },
     "execution_count": 8,
     "metadata": {},
     "output_type": "execute_result"
    }
   ],
   "source": [
    "s1.corr(s2, method='spearman')"
   ]
  },
  {
   "cell_type": "code",
   "execution_count": 9,
   "metadata": {
    "scrolled": true
   },
   "outputs": [
    {
     "data": {
      "text/html": [
       "<div>\n",
       "<style scoped>\n",
       "    .dataframe tbody tr th:only-of-type {\n",
       "        vertical-align: middle;\n",
       "    }\n",
       "\n",
       "    .dataframe tbody tr th {\n",
       "        vertical-align: top;\n",
       "    }\n",
       "\n",
       "    .dataframe thead th {\n",
       "        text-align: right;\n",
       "    }\n",
       "</style>\n",
       "<table border=\"1\" class=\"dataframe\">\n",
       "  <thead>\n",
       "    <tr style=\"text-align: right;\">\n",
       "      <th></th>\n",
       "      <th>0</th>\n",
       "      <th>1</th>\n",
       "      <th>2</th>\n",
       "      <th>3</th>\n",
       "    </tr>\n",
       "  </thead>\n",
       "  <tbody>\n",
       "    <tr>\n",
       "      <th>0</th>\n",
       "      <td>1.000000</td>\n",
       "      <td>-0.194297</td>\n",
       "      <td>0.003539</td>\n",
       "      <td>0.180058</td>\n",
       "    </tr>\n",
       "    <tr>\n",
       "      <th>1</th>\n",
       "      <td>-0.194297</td>\n",
       "      <td>1.000000</td>\n",
       "      <td>-0.183640</td>\n",
       "      <td>0.225571</td>\n",
       "    </tr>\n",
       "    <tr>\n",
       "      <th>2</th>\n",
       "      <td>0.003539</td>\n",
       "      <td>-0.183640</td>\n",
       "      <td>1.000000</td>\n",
       "      <td>-0.063341</td>\n",
       "    </tr>\n",
       "    <tr>\n",
       "      <th>3</th>\n",
       "      <td>0.180058</td>\n",
       "      <td>0.225571</td>\n",
       "      <td>-0.063341</td>\n",
       "      <td>1.000000</td>\n",
       "    </tr>\n",
       "  </tbody>\n",
       "</table>\n",
       "</div>"
      ],
      "text/plain": [
       "          0         1         2         3\n",
       "0  1.000000 -0.194297  0.003539  0.180058\n",
       "1 -0.194297  1.000000 -0.183640  0.225571\n",
       "2  0.003539 -0.183640  1.000000 -0.063341\n",
       "3  0.180058  0.225571 -0.063341  1.000000"
      ]
     },
     "execution_count": 9,
     "metadata": {},
     "output_type": "execute_result"
    }
   ],
   "source": [
    "# Pairwise correlation of DataFrame columns\n",
    "df.corr()"
   ]
  },
  {
   "cell_type": "markdown",
   "metadata": {},
   "source": [
    ">[DataFrame.corrwith()][1] calculates the correlation between like-labeled `Series` in different `DataFrame`s\n",
    "\n",
    "[1]: https://pandas.pydata.org/docs/reference/api/pandas.DataFrame.corrwith.html"
   ]
  },
  {
   "cell_type": "code",
   "execution_count": 10,
   "metadata": {},
   "outputs": [
    {
     "data": {
      "text/plain": [
       "A    0.056148\n",
       "C   -0.199097\n",
       "D   -0.234600\n",
       "B         NaN\n",
       "F         NaN\n",
       "dtype: float64"
      ]
     },
     "execution_count": 10,
     "metadata": {},
     "output_type": "execute_result"
    }
   ],
   "source": [
    "df1 = pd.DataFrame(np.random.randn(7, 4), columns=list('ABCD'))\n",
    "df2 = pd.DataFrame(np.random.randn(7, 4), columns=list('ACDF'))\n",
    "df1.corrwith(df2) "
   ]
  },
  {
   "cell_type": "markdown",
   "metadata": {},
   "source": [
    "## 1.4 Rank\n",
    "\n",
    "> Use the [rank()][1] method to numerically rank data (rank 1 through n) along an axis.\n",
    "\n",
    "[1]: https://pandas.pydata.org/docs/reference/api/pandas.Series.rank.html"
   ]
  },
  {
   "cell_type": "code",
   "execution_count": 11,
   "metadata": {
    "scrolled": true
   },
   "outputs": [
    {
     "data": {
      "text/plain": [
       "0    1.0\n",
       "1    4.0\n",
       "2    2.5\n",
       "3    5.0\n",
       "4    2.5\n",
       "dtype: float64"
      ]
     },
     "execution_count": 11,
     "metadata": {},
     "output_type": "execute_result"
    }
   ],
   "source": [
    "s = pd.Series([2.2, 4.5, 3.8, 5.9, 3.8])\n",
    "\n",
    "# By default, the average is returned for records with equal value\n",
    "# e.g 3.8 ties for 2nd and 3rd, and is thus ranked as mean([2, 3]) = 2.5\n",
    "s.rank() # method=average"
   ]
  },
  {
   "cell_type": "code",
   "execution_count": 12,
   "metadata": {},
   "outputs": [
    {
     "data": {
      "text/plain": [
       "0    1.0\n",
       "1    4.0\n",
       "2    3.0\n",
       "3    5.0\n",
       "4    3.0\n",
       "dtype: float64"
      ]
     },
     "execution_count": 12,
     "metadata": {},
     "output_type": "execute_result"
    }
   ],
   "source": [
    "# To return largest rank for equal records\n",
    "s.rank(method='max')"
   ]
  },
  {
   "cell_type": "code",
   "execution_count": 13,
   "metadata": {},
   "outputs": [
    {
     "name": "stdout",
     "output_type": "stream",
     "text": [
      "          0         1         2\n",
      "0 -1.638948  1.040232 -1.701030\n",
      "1 -2.659299 -0.316685 -0.295384\n",
      "2 -0.153426  0.708146  0.530945\n",
      "3  0.753937  0.999822 -0.309514\n",
      "4  0.175637 -0.378550 -0.700197\n"
     ]
    },
    {
     "data": {
      "text/html": [
       "<div>\n",
       "<style scoped>\n",
       "    .dataframe tbody tr th:only-of-type {\n",
       "        vertical-align: middle;\n",
       "    }\n",
       "\n",
       "    .dataframe tbody tr th {\n",
       "        vertical-align: top;\n",
       "    }\n",
       "\n",
       "    .dataframe thead th {\n",
       "        text-align: right;\n",
       "    }\n",
       "</style>\n",
       "<table border=\"1\" class=\"dataframe\">\n",
       "  <thead>\n",
       "    <tr style=\"text-align: right;\">\n",
       "      <th></th>\n",
       "      <th>0</th>\n",
       "      <th>1</th>\n",
       "      <th>2</th>\n",
       "    </tr>\n",
       "  </thead>\n",
       "  <tbody>\n",
       "    <tr>\n",
       "      <th>0</th>\n",
       "      <td>2.0</td>\n",
       "      <td>5.0</td>\n",
       "      <td>1.0</td>\n",
       "    </tr>\n",
       "    <tr>\n",
       "      <th>1</th>\n",
       "      <td>1.0</td>\n",
       "      <td>2.0</td>\n",
       "      <td>4.0</td>\n",
       "    </tr>\n",
       "    <tr>\n",
       "      <th>2</th>\n",
       "      <td>3.0</td>\n",
       "      <td>3.0</td>\n",
       "      <td>5.0</td>\n",
       "    </tr>\n",
       "    <tr>\n",
       "      <th>3</th>\n",
       "      <td>5.0</td>\n",
       "      <td>4.0</td>\n",
       "      <td>3.0</td>\n",
       "    </tr>\n",
       "    <tr>\n",
       "      <th>4</th>\n",
       "      <td>4.0</td>\n",
       "      <td>1.0</td>\n",
       "      <td>2.0</td>\n",
       "    </tr>\n",
       "  </tbody>\n",
       "</table>\n",
       "</div>"
      ],
      "text/plain": [
       "     0    1    2\n",
       "0  2.0  5.0  1.0\n",
       "1  1.0  2.0  4.0\n",
       "2  3.0  3.0  5.0\n",
       "3  5.0  4.0  3.0\n",
       "4  4.0  1.0  2.0"
      ]
     },
     "execution_count": 13,
     "metadata": {},
     "output_type": "execute_result"
    }
   ],
   "source": [
    "df = pd.DataFrame(np.random.randn(5,3))\n",
    "print(df)\n",
    "\n",
    "# ranking rows (vertically)\n",
    "df.rank() # axis=0"
   ]
  },
  {
   "cell_type": "code",
   "execution_count": 14,
   "metadata": {},
   "outputs": [
    {
     "name": "stdout",
     "output_type": "stream",
     "text": [
      "          0         1         2\n",
      "0 -1.638948  1.040232 -1.701030\n",
      "1 -2.659299 -0.316685 -0.295384\n",
      "2 -0.153426  0.708146  0.530945\n",
      "3  0.753937  0.999822 -0.309514\n",
      "4  0.175637 -0.378550 -0.700197\n"
     ]
    },
    {
     "data": {
      "text/html": [
       "<div>\n",
       "<style scoped>\n",
       "    .dataframe tbody tr th:only-of-type {\n",
       "        vertical-align: middle;\n",
       "    }\n",
       "\n",
       "    .dataframe tbody tr th {\n",
       "        vertical-align: top;\n",
       "    }\n",
       "\n",
       "    .dataframe thead th {\n",
       "        text-align: right;\n",
       "    }\n",
       "</style>\n",
       "<table border=\"1\" class=\"dataframe\">\n",
       "  <thead>\n",
       "    <tr style=\"text-align: right;\">\n",
       "      <th></th>\n",
       "      <th>0</th>\n",
       "      <th>1</th>\n",
       "      <th>2</th>\n",
       "    </tr>\n",
       "  </thead>\n",
       "  <tbody>\n",
       "    <tr>\n",
       "      <th>0</th>\n",
       "      <td>2.0</td>\n",
       "      <td>3.0</td>\n",
       "      <td>1.0</td>\n",
       "    </tr>\n",
       "    <tr>\n",
       "      <th>1</th>\n",
       "      <td>1.0</td>\n",
       "      <td>2.0</td>\n",
       "      <td>3.0</td>\n",
       "    </tr>\n",
       "    <tr>\n",
       "      <th>2</th>\n",
       "      <td>1.0</td>\n",
       "      <td>3.0</td>\n",
       "      <td>2.0</td>\n",
       "    </tr>\n",
       "    <tr>\n",
       "      <th>3</th>\n",
       "      <td>2.0</td>\n",
       "      <td>3.0</td>\n",
       "      <td>1.0</td>\n",
       "    </tr>\n",
       "    <tr>\n",
       "      <th>4</th>\n",
       "      <td>3.0</td>\n",
       "      <td>2.0</td>\n",
       "      <td>1.0</td>\n",
       "    </tr>\n",
       "  </tbody>\n",
       "</table>\n",
       "</div>"
      ],
      "text/plain": [
       "     0    1    2\n",
       "0  2.0  3.0  1.0\n",
       "1  1.0  2.0  3.0\n",
       "2  1.0  3.0  2.0\n",
       "3  2.0  3.0  1.0\n",
       "4  3.0  2.0  1.0"
      ]
     },
     "execution_count": 14,
     "metadata": {},
     "output_type": "execute_result"
    }
   ],
   "source": [
    "print(df)\n",
    "# ranking columns (horizontally)\n",
    "df.rank(axis=1)"
   ]
  },
  {
   "cell_type": "markdown",
   "metadata": {},
   "source": [
    "# 2. Window Functions\n",
    "\n",
    "> `.rolling` for aggregations or to apply functions to \"windows\" of the data\n",
    "\n",
    ">`.expanding` for aggregations or to apply functions to all the data available up to that point in time. \n",
    "\n",
    ">`.ewm` applies exponentially weighted statistical functions"
   ]
  },
  {
   "cell_type": "markdown",
   "metadata": {},
   "source": [
    "## 2.1 Rolling Windows\n",
    "\n",
    "### 2.1.1 Method Summary"
   ]
  },
  {
   "cell_type": "code",
   "execution_count": 15,
   "metadata": {
    "scrolled": false
   },
   "outputs": [
    {
     "data": {
      "text/html": [
       "<div>\n",
       "<style scoped>\n",
       "    .dataframe tbody tr th:only-of-type {\n",
       "        vertical-align: middle;\n",
       "    }\n",
       "\n",
       "    .dataframe tbody tr th {\n",
       "        vertical-align: top;\n",
       "    }\n",
       "\n",
       "    .dataframe thead th {\n",
       "        text-align: right;\n",
       "    }\n",
       "</style>\n",
       "<table border=\"1\" class=\"dataframe\">\n",
       "  <thead>\n",
       "    <tr style=\"text-align: right;\">\n",
       "      <th></th>\n",
       "      <th>Method</th>\n",
       "      <th>Description</th>\n",
       "    </tr>\n",
       "  </thead>\n",
       "  <tbody>\n",
       "    <tr>\n",
       "      <th>0</th>\n",
       "      <td>count()</td>\n",
       "      <td>Number of non-null observations</td>\n",
       "    </tr>\n",
       "    <tr>\n",
       "      <th>1</th>\n",
       "      <td>sum()</td>\n",
       "      <td>Sum of values</td>\n",
       "    </tr>\n",
       "    <tr>\n",
       "      <th>2</th>\n",
       "      <td>mean()</td>\n",
       "      <td>Mean of values</td>\n",
       "    </tr>\n",
       "    <tr>\n",
       "      <th>3</th>\n",
       "      <td>median()</td>\n",
       "      <td>Arithmetic median of values</td>\n",
       "    </tr>\n",
       "    <tr>\n",
       "      <th>4</th>\n",
       "      <td>min()</td>\n",
       "      <td>Minimum</td>\n",
       "    </tr>\n",
       "    <tr>\n",
       "      <th>5</th>\n",
       "      <td>max()</td>\n",
       "      <td>Maximum</td>\n",
       "    </tr>\n",
       "    <tr>\n",
       "      <th>6</th>\n",
       "      <td>std()</td>\n",
       "      <td>Sample standard deviation</td>\n",
       "    </tr>\n",
       "    <tr>\n",
       "      <th>7</th>\n",
       "      <td>var()</td>\n",
       "      <td>Sample variance</td>\n",
       "    </tr>\n",
       "    <tr>\n",
       "      <th>8</th>\n",
       "      <td>skew()</td>\n",
       "      <td>Sample skewness (3rd moment)</td>\n",
       "    </tr>\n",
       "    <tr>\n",
       "      <th>9</th>\n",
       "      <td>kurt()</td>\n",
       "      <td>Sample kurtosis (4th moment)</td>\n",
       "    </tr>\n",
       "    <tr>\n",
       "      <th>10</th>\n",
       "      <td>quantile()</td>\n",
       "      <td>Sample quantile (value at %)</td>\n",
       "    </tr>\n",
       "    <tr>\n",
       "      <th>11</th>\n",
       "      <td>apply()</td>\n",
       "      <td>Generic apply</td>\n",
       "    </tr>\n",
       "    <tr>\n",
       "      <th>12</th>\n",
       "      <td>cov()</td>\n",
       "      <td>Sample covariance (binary)</td>\n",
       "    </tr>\n",
       "    <tr>\n",
       "      <th>13</th>\n",
       "      <td>corr()</td>\n",
       "      <td>Sample correlation (binary)</td>\n",
       "    </tr>\n",
       "  </tbody>\n",
       "</table>\n",
       "</div>"
      ],
      "text/plain": [
       "        Method                      Description\n",
       "0      count()  Number of non-null observations\n",
       "1        sum()                    Sum of values\n",
       "2       mean()                   Mean of values\n",
       "3     median()      Arithmetic median of values\n",
       "4        min()                          Minimum\n",
       "5        max()                          Maximum\n",
       "6        std()        Sample standard deviation\n",
       "7        var()                  Sample variance\n",
       "8       skew()     Sample skewness (3rd moment)\n",
       "9       kurt()     Sample kurtosis (4th moment)\n",
       "10  quantile()     Sample quantile (value at %)\n",
       "11     apply()                    Generic apply\n",
       "12       cov()       Sample covariance (binary)\n",
       "13      corr()      Sample correlation (binary)"
      ]
     },
     "execution_count": 15,
     "metadata": {},
     "output_type": "execute_result"
    }
   ],
   "source": [
    "pd.read_html('https://pandas.pydata.org/docs/user_guide/computation.html')[1]"
   ]
  },
  {
   "cell_type": "code",
   "execution_count": 16,
   "metadata": {},
   "outputs": [
    {
     "data": {
      "text/plain": [
       "2020-01-01 00:00:00         NaN\n",
       "2020-01-01 00:00:01         NaN\n",
       "2020-01-01 00:00:02         NaN\n",
       "2020-01-01 00:00:03         NaN\n",
       "2020-01-01 00:00:04         NaN\n",
       "                         ...   \n",
       "2020-01-01 00:08:15    3.121968\n",
       "2020-01-01 00:08:16    5.669720\n",
       "2020-01-01 00:08:17    4.869147\n",
       "2020-01-01 00:08:18    3.302875\n",
       "2020-01-01 00:08:19    3.131162\n",
       "Freq: S, Length: 500, dtype: float64"
      ]
     },
     "execution_count": 16,
     "metadata": {},
     "output_type": "execute_result"
    }
   ],
   "source": [
    "s = pd.Series(np.random.randn(500),\n",
    "              index=pd.date_range('2020-01-01', periods=500, freq='s'))\n",
    "\n",
    "s.rolling(window=50).sum()"
   ]
  },
  {
   "cell_type": "markdown",
   "metadata": {},
   "source": [
    "### 2.1.2 Rolling Apply\n",
    "\n",
    "> The `apply()` method takes an extra `func` argument and performs generic rolling computations"
   ]
  },
  {
   "cell_type": "code",
   "execution_count": 17,
   "metadata": {
    "scrolled": true
   },
   "outputs": [
    {
     "data": {
      "text/plain": [
       "2020-01-01 00:00:00         NaN\n",
       "2020-01-01 00:00:01         NaN\n",
       "2020-01-01 00:00:02         NaN\n",
       "2020-01-01 00:00:03         NaN\n",
       "2020-01-01 00:00:04         NaN\n",
       "                         ...   \n",
       "2020-01-01 00:08:15   -1.044606\n",
       "2020-01-01 00:08:16    0.618902\n",
       "2020-01-01 00:08:17    0.618902\n",
       "2020-01-01 00:08:18    0.618902\n",
       "2020-01-01 00:08:19    0.618902\n",
       "Freq: S, Length: 500, dtype: float64"
      ]
     },
     "execution_count": 17,
     "metadata": {},
     "output_type": "execute_result"
    }
   ],
   "source": [
    "def foo(x):\n",
    "    return min(x) + max(x) \n",
    "\n",
    "s.rolling(25).apply(foo)"
   ]
  },
  {
   "cell_type": "code",
   "execution_count": 18,
   "metadata": {},
   "outputs": [
    {
     "data": {
      "text/plain": [
       "2020-01-01 00:00:00         NaN\n",
       "2020-01-01 00:00:01         NaN\n",
       "2020-01-01 00:00:02         NaN\n",
       "2020-01-01 00:00:03         NaN\n",
       "2020-01-01 00:00:04         NaN\n",
       "                         ...   \n",
       "2020-01-01 00:08:15    2.842497\n",
       "2020-01-01 00:08:16    4.508891\n",
       "2020-01-01 00:08:17    4.508891\n",
       "2020-01-01 00:08:18    4.508891\n",
       "2020-01-01 00:08:19    4.141751\n",
       "Freq: S, Length: 500, dtype: float64"
      ]
     },
     "execution_count": 18,
     "metadata": {},
     "output_type": "execute_result"
    }
   ],
   "source": [
    "s.rolling(10).apply(np.ptp)"
   ]
  },
  {
   "cell_type": "markdown",
   "metadata": {},
   "source": [
    "> [scipy.signal window functions][1] can be used. The weights used in the window are specified by the `win_type` keyword.\n",
    "\n",
    "[1]: https://docs.scipy.org/doc/scipy/reference/signal.windows.html"
   ]
  },
  {
   "cell_type": "markdown",
   "metadata": {},
   "source": [
    "### 2.1.3 Time-Aware Rolling\n",
    "\n",
    "You can set `window` to a time offset. This can be particularly useful for an irregular time frequency index."
   ]
  },
  {
   "cell_type": "code",
   "execution_count": 19,
   "metadata": {},
   "outputs": [
    {
     "data": {
      "text/plain": [
       "2020-01-01 01:00:01    2.5\n",
       "2020-01-01 01:00:03    4.8\n",
       "2020-01-01 01:00:04    1.3\n",
       "2020-01-01 01:00:07    NaN\n",
       "2020-01-01 01:00:11    5.9\n",
       "dtype: float64"
      ]
     },
     "execution_count": 19,
     "metadata": {},
     "output_type": "execute_result"
    }
   ],
   "source": [
    "st = pd.Series([2.5, 4.8, 1.3, np.nan, 5.9],\n",
    "                index=pd.Index([pd.Timestamp(2020, 1, 1, 1, 0, 1),\n",
    "                                pd.Timestamp(2020, 1, 1, 1, 0, 3),\n",
    "                                pd.Timestamp(2020, 1, 1, 1, 0, 4),\n",
    "                                pd.Timestamp(2020, 1, 1, 1, 0, 7),\n",
    "                                pd.Timestamp(2020, 1, 1, 1, 0, 11)]))\n",
    "st "
   ]
  },
  {
   "cell_type": "code",
   "execution_count": 20,
   "metadata": {},
   "outputs": [
    {
     "data": {
      "text/plain": [
       "2020-01-01 01:00:01    2.5\n",
       "2020-01-01 01:00:03    4.8\n",
       "2020-01-01 01:00:04    4.8\n",
       "2020-01-01 01:00:07    4.8\n",
       "2020-01-01 01:00:11    5.9\n",
       "dtype: float64"
      ]
     },
     "execution_count": 20,
     "metadata": {},
     "output_type": "execute_result"
    }
   ],
   "source": [
    "st.rolling('5s').max()"
   ]
  },
  {
   "cell_type": "markdown",
   "metadata": {},
   "source": [
    "### 2.1.4 Rolling Window Endpoints\n",
    "\n",
    "The inclusion of the interval endpoints in rolling window calculations can be specified with the `closed` parameter:"
   ]
  },
  {
   "cell_type": "code",
   "execution_count": 21,
   "metadata": {},
   "outputs": [
    {
     "data": {
      "text/html": [
       "<div>\n",
       "<style scoped>\n",
       "    .dataframe tbody tr th:only-of-type {\n",
       "        vertical-align: middle;\n",
       "    }\n",
       "\n",
       "    .dataframe tbody tr th {\n",
       "        vertical-align: top;\n",
       "    }\n",
       "\n",
       "    .dataframe thead th {\n",
       "        text-align: right;\n",
       "    }\n",
       "</style>\n",
       "<table border=\"1\" class=\"dataframe\">\n",
       "  <thead>\n",
       "    <tr style=\"text-align: right;\">\n",
       "      <th></th>\n",
       "      <th>Description</th>\n",
       "      <th>Default for</th>\n",
       "    </tr>\n",
       "    <tr>\n",
       "      <th>closed</th>\n",
       "      <th></th>\n",
       "      <th></th>\n",
       "    </tr>\n",
       "  </thead>\n",
       "  <tbody>\n",
       "    <tr>\n",
       "      <th>right</th>\n",
       "      <td>close right endpoint</td>\n",
       "      <td>time-based windows</td>\n",
       "    </tr>\n",
       "    <tr>\n",
       "      <th>left</th>\n",
       "      <td>close left endpoint</td>\n",
       "      <td>NaN</td>\n",
       "    </tr>\n",
       "    <tr>\n",
       "      <th>both</th>\n",
       "      <td>close both endpoints</td>\n",
       "      <td>fixed windows</td>\n",
       "    </tr>\n",
       "    <tr>\n",
       "      <th>neither</th>\n",
       "      <td>open endpoints</td>\n",
       "      <td>NaN</td>\n",
       "    </tr>\n",
       "  </tbody>\n",
       "</table>\n",
       "</div>"
      ],
      "text/plain": [
       "                  Description         Default for\n",
       "closed                                           \n",
       "right    close right endpoint  time-based windows\n",
       "left      close left endpoint                 NaN\n",
       "both     close both endpoints       fixed windows\n",
       "neither        open endpoints                 NaN"
      ]
     },
     "execution_count": 21,
     "metadata": {},
     "output_type": "execute_result"
    }
   ],
   "source": [
    "pd.read_html('https://pandas.pydata.org/docs/user_guide/computation.html')[3].set_index('closed')"
   ]
  },
  {
   "cell_type": "code",
   "execution_count": 22,
   "metadata": {},
   "outputs": [
    {
     "data": {
      "text/html": [
       "<div>\n",
       "<style scoped>\n",
       "    .dataframe tbody tr th:only-of-type {\n",
       "        vertical-align: middle;\n",
       "    }\n",
       "\n",
       "    .dataframe tbody tr th {\n",
       "        vertical-align: top;\n",
       "    }\n",
       "\n",
       "    .dataframe thead th {\n",
       "        text-align: right;\n",
       "    }\n",
       "</style>\n",
       "<table border=\"1\" class=\"dataframe\">\n",
       "  <thead>\n",
       "    <tr style=\"text-align: right;\">\n",
       "      <th></th>\n",
       "      <th>right</th>\n",
       "      <th>left</th>\n",
       "      <th>both</th>\n",
       "      <th>neither</th>\n",
       "    </tr>\n",
       "  </thead>\n",
       "  <tbody>\n",
       "    <tr>\n",
       "      <th>2020-01-01 01:00:01</th>\n",
       "      <td>1.0</td>\n",
       "      <td>NaN</td>\n",
       "      <td>1.0</td>\n",
       "      <td>NaN</td>\n",
       "    </tr>\n",
       "    <tr>\n",
       "      <th>2020-01-01 01:00:03</th>\n",
       "      <td>2.0</td>\n",
       "      <td>1.0</td>\n",
       "      <td>2.0</td>\n",
       "      <td>1.0</td>\n",
       "    </tr>\n",
       "    <tr>\n",
       "      <th>2020-01-01 01:00:04</th>\n",
       "      <td>3.0</td>\n",
       "      <td>2.0</td>\n",
       "      <td>3.0</td>\n",
       "      <td>2.0</td>\n",
       "    </tr>\n",
       "    <tr>\n",
       "      <th>2020-01-01 01:00:07</th>\n",
       "      <td>3.0</td>\n",
       "      <td>2.0</td>\n",
       "      <td>3.0</td>\n",
       "      <td>2.0</td>\n",
       "    </tr>\n",
       "    <tr>\n",
       "      <th>2020-01-01 01:00:11</th>\n",
       "      <td>2.0</td>\n",
       "      <td>1.0</td>\n",
       "      <td>2.0</td>\n",
       "      <td>1.0</td>\n",
       "    </tr>\n",
       "  </tbody>\n",
       "</table>\n",
       "</div>"
      ],
      "text/plain": [
       "                     right  left  both  neither\n",
       "2020-01-01 01:00:01    1.0   NaN   1.0      NaN\n",
       "2020-01-01 01:00:03    2.0   1.0   2.0      1.0\n",
       "2020-01-01 01:00:04    3.0   2.0   3.0      2.0\n",
       "2020-01-01 01:00:07    3.0   2.0   3.0      2.0\n",
       "2020-01-01 01:00:11    2.0   1.0   2.0      1.0"
      ]
     },
     "execution_count": 22,
     "metadata": {},
     "output_type": "execute_result"
    }
   ],
   "source": [
    "st2 = pd.Series([1] * 5, index=st.index)\n",
    "pd.DataFrame({'right': st2.rolling('5s', closed='right').sum(),\n",
    "              'left': st2.rolling('5s', closed='left').sum(),\n",
    "              'both': st2.rolling('5s', closed='both').sum(),\n",
    "              'neither': st2.rolling('5s', closed='neither').sum()})"
   ]
  },
  {
   "cell_type": "markdown",
   "metadata": {},
   "source": [
    "### 2.1.5 Iteration Over Window\n",
    "\n",
    "`Rolling` and `Expanding` objects accept iteration."
   ]
  },
  {
   "cell_type": "code",
   "execution_count": 23,
   "metadata": {},
   "outputs": [
    {
     "name": "stdout",
     "output_type": "stream",
     "text": [
      "   A  B\n",
      "0  1  4\n",
      "   A  B\n",
      "0  1  4\n",
      "1  2  5\n",
      "   A  B\n",
      "1  2  5\n",
      "2  3  6\n"
     ]
    }
   ],
   "source": [
    "df = pd.DataFrame({\"A\": [1, 2, 3], \"B\": [4, 5, 6]})\n",
    "\n",
    "for win in df.rolling(2):\n",
    "    print(win)"
   ]
  },
  {
   "cell_type": "markdown",
   "metadata": {},
   "source": [
    "### 2.1.6 Centering Windows\n",
    "\n",
    "Use the `center` keyword to set the labels at the center (the default is to set the labels to the right edge of the window)."
   ]
  },
  {
   "cell_type": "code",
   "execution_count": 24,
   "metadata": {},
   "outputs": [
    {
     "data": {
      "text/plain": [
       "2020-01-01 00:00:00         NaN\n",
       "2020-01-01 00:00:01         NaN\n",
       "2020-01-01 00:00:02         NaN\n",
       "2020-01-01 00:00:03         NaN\n",
       "2020-01-01 00:00:04   -0.066459\n",
       "                         ...   \n",
       "2020-01-01 00:08:15   -0.198437\n",
       "2020-01-01 00:08:16    0.301173\n",
       "2020-01-01 00:08:17    0.252032\n",
       "2020-01-01 00:08:18   -0.129130\n",
       "2020-01-01 00:08:19    0.125827\n",
       "Freq: S, Length: 500, dtype: float64"
      ]
     },
     "execution_count": 24,
     "metadata": {},
     "output_type": "execute_result"
    }
   ],
   "source": [
    "s.rolling(5).mean()"
   ]
  },
  {
   "cell_type": "code",
   "execution_count": 25,
   "metadata": {
    "scrolled": true
   },
   "outputs": [
    {
     "data": {
      "text/plain": [
       "2020-01-01 00:00:00         NaN\n",
       "2020-01-01 00:00:01         NaN\n",
       "2020-01-01 00:00:02   -0.066459\n",
       "2020-01-01 00:00:03    0.065352\n",
       "2020-01-01 00:00:04    0.298356\n",
       "                         ...   \n",
       "2020-01-01 00:08:15    0.252032\n",
       "2020-01-01 00:08:16   -0.129130\n",
       "2020-01-01 00:08:17    0.125827\n",
       "2020-01-01 00:08:18         NaN\n",
       "2020-01-01 00:08:19         NaN\n",
       "Freq: S, Length: 500, dtype: float64"
      ]
     },
     "execution_count": 25,
     "metadata": {},
     "output_type": "execute_result"
    }
   ],
   "source": [
    "s.rolling(5, center=True).mean()"
   ]
  },
  {
   "cell_type": "markdown",
   "metadata": {},
   "source": [
    "### 2.1.7 Binary Window Functions\n",
    "\n",
    "`cov()` and `corr()` can compute moving window statistics about two Series or any combination of `DataFrame/Series` or `DataFrame/DataFrame`."
   ]
  },
  {
   "cell_type": "code",
   "execution_count": 26,
   "metadata": {},
   "outputs": [
    {
     "data": {
      "text/plain": [
       "49   -0.072340\n",
       "50   -0.055808\n",
       "51   -0.052393\n",
       "52   -0.061466\n",
       "53   -0.062777\n",
       "dtype: float64"
      ]
     },
     "execution_count": 26,
     "metadata": {},
     "output_type": "execute_result"
    }
   ],
   "source": [
    "s1 = pd.Series(np.random.randn(200))\n",
    "s2 = pd.Series(np.linspace(-1, 1, 75))\n",
    "\n",
    "s1.rolling(window=50).cov(s2).dropna().head()"
   ]
  },
  {
   "cell_type": "code",
   "execution_count": 27,
   "metadata": {},
   "outputs": [
    {
     "data": {
      "text/plain": [
       "49   -0.165880\n",
       "50   -0.127058\n",
       "51   -0.119802\n",
       "52   -0.138848\n",
       "53   -0.141888\n",
       "dtype: float64"
      ]
     },
     "execution_count": 27,
     "metadata": {},
     "output_type": "execute_result"
    }
   ],
   "source": [
    "s1.rolling(window=50).corr(s2).dropna().head()"
   ]
  },
  {
   "cell_type": "code",
   "execution_count": 28,
   "metadata": {},
   "outputs": [
    {
     "data": {
      "text/html": [
       "<div>\n",
       "<style scoped>\n",
       "    .dataframe tbody tr th:only-of-type {\n",
       "        vertical-align: middle;\n",
       "    }\n",
       "\n",
       "    .dataframe tbody tr th {\n",
       "        vertical-align: top;\n",
       "    }\n",
       "\n",
       "    .dataframe thead th {\n",
       "        text-align: right;\n",
       "    }\n",
       "</style>\n",
       "<table border=\"1\" class=\"dataframe\">\n",
       "  <thead>\n",
       "    <tr style=\"text-align: right;\">\n",
       "      <th></th>\n",
       "      <th>A</th>\n",
       "      <th>B</th>\n",
       "      <th>C</th>\n",
       "      <th>D</th>\n",
       "    </tr>\n",
       "  </thead>\n",
       "  <tbody>\n",
       "    <tr>\n",
       "      <th>24</th>\n",
       "      <td>-0.057412</td>\n",
       "      <td>0.016660</td>\n",
       "      <td>0.040934</td>\n",
       "      <td>0.023718</td>\n",
       "    </tr>\n",
       "    <tr>\n",
       "      <th>25</th>\n",
       "      <td>-0.029500</td>\n",
       "      <td>0.010963</td>\n",
       "      <td>0.058961</td>\n",
       "      <td>0.027977</td>\n",
       "    </tr>\n",
       "    <tr>\n",
       "      <th>26</th>\n",
       "      <td>-0.043282</td>\n",
       "      <td>0.041234</td>\n",
       "      <td>0.103737</td>\n",
       "      <td>0.032296</td>\n",
       "    </tr>\n",
       "    <tr>\n",
       "      <th>27</th>\n",
       "      <td>-0.021037</td>\n",
       "      <td>0.052134</td>\n",
       "      <td>0.112376</td>\n",
       "      <td>0.004187</td>\n",
       "    </tr>\n",
       "    <tr>\n",
       "      <th>28</th>\n",
       "      <td>0.001150</td>\n",
       "      <td>0.054920</td>\n",
       "      <td>0.092018</td>\n",
       "      <td>0.015283</td>\n",
       "    </tr>\n",
       "  </tbody>\n",
       "</table>\n",
       "</div>"
      ],
      "text/plain": [
       "           A         B         C         D\n",
       "24 -0.057412  0.016660  0.040934  0.023718\n",
       "25 -0.029500  0.010963  0.058961  0.027977\n",
       "26 -0.043282  0.041234  0.103737  0.032296\n",
       "27 -0.021037  0.052134  0.112376  0.004187\n",
       "28  0.001150  0.054920  0.092018  0.015283"
      ]
     },
     "execution_count": 28,
     "metadata": {},
     "output_type": "execute_result"
    }
   ],
   "source": [
    "df = pd.DataFrame(np.random.randn(100, 4), columns=list('ABCD'))\n",
    "\n",
    "df.rolling(25).cov(s2).dropna().head()"
   ]
  },
  {
   "cell_type": "code",
   "execution_count": 29,
   "metadata": {},
   "outputs": [
    {
     "data": {
      "text/html": [
       "<div>\n",
       "<style scoped>\n",
       "    .dataframe tbody tr th:only-of-type {\n",
       "        vertical-align: middle;\n",
       "    }\n",
       "\n",
       "    .dataframe tbody tr th {\n",
       "        vertical-align: top;\n",
       "    }\n",
       "\n",
       "    .dataframe thead th {\n",
       "        text-align: right;\n",
       "    }\n",
       "</style>\n",
       "<table border=\"1\" class=\"dataframe\">\n",
       "  <thead>\n",
       "    <tr style=\"text-align: right;\">\n",
       "      <th></th>\n",
       "      <th></th>\n",
       "      <th>A</th>\n",
       "      <th>B</th>\n",
       "      <th>C</th>\n",
       "      <th>D</th>\n",
       "    </tr>\n",
       "  </thead>\n",
       "  <tbody>\n",
       "    <tr>\n",
       "      <th rowspan=\"5\" valign=\"top\">24</th>\n",
       "      <th>A</th>\n",
       "      <td>0.160062</td>\n",
       "      <td>0.447953</td>\n",
       "      <td>0.069412</td>\n",
       "      <td>-0.118122</td>\n",
       "    </tr>\n",
       "    <tr>\n",
       "      <th>C</th>\n",
       "      <td>0.135157</td>\n",
       "      <td>0.030076</td>\n",
       "      <td>-0.054503</td>\n",
       "      <td>0.119467</td>\n",
       "    </tr>\n",
       "    <tr>\n",
       "      <th>D</th>\n",
       "      <td>-0.090223</td>\n",
       "      <td>-0.123577</td>\n",
       "      <td>-0.190041</td>\n",
       "      <td>0.153211</td>\n",
       "    </tr>\n",
       "    <tr>\n",
       "      <th>E</th>\n",
       "      <td>0.074544</td>\n",
       "      <td>0.129176</td>\n",
       "      <td>0.245553</td>\n",
       "      <td>0.095869</td>\n",
       "    </tr>\n",
       "    <tr>\n",
       "      <th>I</th>\n",
       "      <td>0.427202</td>\n",
       "      <td>0.240583</td>\n",
       "      <td>-0.021120</td>\n",
       "      <td>-0.216323</td>\n",
       "    </tr>\n",
       "  </tbody>\n",
       "</table>\n",
       "</div>"
      ],
      "text/plain": [
       "             A         B         C         D\n",
       "24 A  0.160062  0.447953  0.069412 -0.118122\n",
       "   C  0.135157  0.030076 -0.054503  0.119467\n",
       "   D -0.090223 -0.123577 -0.190041  0.153211\n",
       "   E  0.074544  0.129176  0.245553  0.095869\n",
       "   I  0.427202  0.240583 -0.021120 -0.216323"
      ]
     },
     "execution_count": 29,
     "metadata": {},
     "output_type": "execute_result"
    }
   ],
   "source": [
    "df2 = pd.DataFrame(np.random.randn(70, 5), columns=list('ACDEI'))\n",
    "\n",
    "# pairwise=True required for dataframe/dataframe\n",
    "df.rolling(25).cov(df2, pairwise=True).dropna().head()"
   ]
  },
  {
   "cell_type": "markdown",
   "metadata": {},
   "source": [
    "# 3. Aggregations"
   ]
  },
  {
   "cell_type": "code",
   "execution_count": 30,
   "metadata": {},
   "outputs": [
    {
     "data": {
      "text/plain": [
       "2020-01-01 00:00:00         NaN\n",
       "2020-01-01 00:00:01         NaN\n",
       "2020-01-01 00:00:02         NaN\n",
       "2020-01-01 00:00:03         NaN\n",
       "2020-01-01 00:00:04    0.978224\n",
       "                         ...   \n",
       "2020-01-01 00:08:15    0.824425\n",
       "2020-01-01 00:08:16    1.075773\n",
       "2020-01-01 00:08:17    1.062857\n",
       "2020-01-01 00:08:18    1.081028\n",
       "2020-01-01 00:08:19    1.075770\n",
       "Freq: S, Length: 500, dtype: float64"
      ]
     },
     "execution_count": 30,
     "metadata": {},
     "output_type": "execute_result"
    }
   ],
   "source": [
    "s.rolling(window=15, min_periods=5).aggregate(np.std)"
   ]
  },
  {
   "cell_type": "markdown",
   "metadata": {},
   "source": [
    "## 3.1 Applying Multiple Functions\n",
    "\n",
    "Just pass a list of functions to aggregate with."
   ]
  },
  {
   "cell_type": "code",
   "execution_count": 31,
   "metadata": {},
   "outputs": [
    {
     "data": {
      "text/html": [
       "<div>\n",
       "<style scoped>\n",
       "    .dataframe tbody tr th:only-of-type {\n",
       "        vertical-align: middle;\n",
       "    }\n",
       "\n",
       "    .dataframe tbody tr th {\n",
       "        vertical-align: top;\n",
       "    }\n",
       "\n",
       "    .dataframe thead th {\n",
       "        text-align: right;\n",
       "    }\n",
       "</style>\n",
       "<table border=\"1\" class=\"dataframe\">\n",
       "  <thead>\n",
       "    <tr style=\"text-align: right;\">\n",
       "      <th></th>\n",
       "      <th>max</th>\n",
       "      <th>min</th>\n",
       "      <th>mean</th>\n",
       "      <th>std</th>\n",
       "    </tr>\n",
       "  </thead>\n",
       "  <tbody>\n",
       "    <tr>\n",
       "      <th>2020-01-01 00:00:19</th>\n",
       "      <td>1.045701</td>\n",
       "      <td>-2.216395</td>\n",
       "      <td>-0.239092</td>\n",
       "      <td>0.877622</td>\n",
       "    </tr>\n",
       "    <tr>\n",
       "      <th>2020-01-01 00:00:20</th>\n",
       "      <td>1.045701</td>\n",
       "      <td>-2.216395</td>\n",
       "      <td>-0.246477</td>\n",
       "      <td>0.885425</td>\n",
       "    </tr>\n",
       "    <tr>\n",
       "      <th>2020-01-01 00:00:21</th>\n",
       "      <td>1.045701</td>\n",
       "      <td>-2.216395</td>\n",
       "      <td>-0.139763</td>\n",
       "      <td>0.899956</td>\n",
       "    </tr>\n",
       "    <tr>\n",
       "      <th>2020-01-01 00:00:22</th>\n",
       "      <td>1.045701</td>\n",
       "      <td>-2.216395</td>\n",
       "      <td>-0.159944</td>\n",
       "      <td>0.878229</td>\n",
       "    </tr>\n",
       "    <tr>\n",
       "      <th>2020-01-01 00:00:23</th>\n",
       "      <td>1.045701</td>\n",
       "      <td>-2.216395</td>\n",
       "      <td>-0.210316</td>\n",
       "      <td>0.883316</td>\n",
       "    </tr>\n",
       "  </tbody>\n",
       "</table>\n",
       "</div>"
      ],
      "text/plain": [
       "                          max       min      mean       std\n",
       "2020-01-01 00:00:19  1.045701 -2.216395 -0.239092  0.877622\n",
       "2020-01-01 00:00:20  1.045701 -2.216395 -0.246477  0.885425\n",
       "2020-01-01 00:00:21  1.045701 -2.216395 -0.139763  0.899956\n",
       "2020-01-01 00:00:22  1.045701 -2.216395 -0.159944  0.878229\n",
       "2020-01-01 00:00:23  1.045701 -2.216395 -0.210316  0.883316"
      ]
     },
     "execution_count": 31,
     "metadata": {},
     "output_type": "execute_result"
    }
   ],
   "source": [
    "s.rolling(20).agg([max, min, np.mean, np.std]).dropna().head()"
   ]
  },
  {
   "cell_type": "code",
   "execution_count": 32,
   "metadata": {},
   "outputs": [
    {
     "data": {
      "text/html": [
       "<div>\n",
       "<style scoped>\n",
       "    .dataframe tbody tr th:only-of-type {\n",
       "        vertical-align: middle;\n",
       "    }\n",
       "\n",
       "    .dataframe tbody tr th {\n",
       "        vertical-align: top;\n",
       "    }\n",
       "\n",
       "    .dataframe thead tr th {\n",
       "        text-align: left;\n",
       "    }\n",
       "</style>\n",
       "<table border=\"1\" class=\"dataframe\">\n",
       "  <thead>\n",
       "    <tr>\n",
       "      <th></th>\n",
       "      <th colspan=\"2\" halign=\"left\">A</th>\n",
       "      <th colspan=\"2\" halign=\"left\">B</th>\n",
       "      <th colspan=\"2\" halign=\"left\">C</th>\n",
       "      <th colspan=\"2\" halign=\"left\">D</th>\n",
       "    </tr>\n",
       "    <tr>\n",
       "      <th></th>\n",
       "      <th>mean</th>\n",
       "      <th>std</th>\n",
       "      <th>mean</th>\n",
       "      <th>std</th>\n",
       "      <th>mean</th>\n",
       "      <th>std</th>\n",
       "      <th>mean</th>\n",
       "      <th>std</th>\n",
       "    </tr>\n",
       "  </thead>\n",
       "  <tbody>\n",
       "    <tr>\n",
       "      <th>19</th>\n",
       "      <td>-0.086699</td>\n",
       "      <td>1.105987</td>\n",
       "      <td>0.154830</td>\n",
       "      <td>0.897953</td>\n",
       "      <td>-0.378123</td>\n",
       "      <td>0.817277</td>\n",
       "      <td>-0.138586</td>\n",
       "      <td>1.149093</td>\n",
       "    </tr>\n",
       "    <tr>\n",
       "      <th>20</th>\n",
       "      <td>-0.218900</td>\n",
       "      <td>0.964423</td>\n",
       "      <td>0.163654</td>\n",
       "      <td>0.898648</td>\n",
       "      <td>-0.353397</td>\n",
       "      <td>0.821864</td>\n",
       "      <td>-0.097206</td>\n",
       "      <td>1.175845</td>\n",
       "    </tr>\n",
       "    <tr>\n",
       "      <th>21</th>\n",
       "      <td>-0.097373</td>\n",
       "      <td>1.030695</td>\n",
       "      <td>0.154619</td>\n",
       "      <td>0.898472</td>\n",
       "      <td>-0.455909</td>\n",
       "      <td>0.739727</td>\n",
       "      <td>-0.144674</td>\n",
       "      <td>1.163109</td>\n",
       "    </tr>\n",
       "    <tr>\n",
       "      <th>22</th>\n",
       "      <td>-0.172383</td>\n",
       "      <td>1.025177</td>\n",
       "      <td>0.146045</td>\n",
       "      <td>0.889797</td>\n",
       "      <td>-0.488870</td>\n",
       "      <td>0.690804</td>\n",
       "      <td>-0.200479</td>\n",
       "      <td>1.197468</td>\n",
       "    </tr>\n",
       "    <tr>\n",
       "      <th>23</th>\n",
       "      <td>-0.215198</td>\n",
       "      <td>1.021522</td>\n",
       "      <td>0.100831</td>\n",
       "      <td>0.905433</td>\n",
       "      <td>-0.406956</td>\n",
       "      <td>0.732196</td>\n",
       "      <td>-0.187642</td>\n",
       "      <td>1.197415</td>\n",
       "    </tr>\n",
       "  </tbody>\n",
       "</table>\n",
       "</div>"
      ],
      "text/plain": [
       "           A                   B                   C                   D  \\\n",
       "        mean       std      mean       std      mean       std      mean   \n",
       "19 -0.086699  1.105987  0.154830  0.897953 -0.378123  0.817277 -0.138586   \n",
       "20 -0.218900  0.964423  0.163654  0.898648 -0.353397  0.821864 -0.097206   \n",
       "21 -0.097373  1.030695  0.154619  0.898472 -0.455909  0.739727 -0.144674   \n",
       "22 -0.172383  1.025177  0.146045  0.889797 -0.488870  0.690804 -0.200479   \n",
       "23 -0.215198  1.021522  0.100831  0.905433 -0.406956  0.732196 -0.187642   \n",
       "\n",
       "              \n",
       "         std  \n",
       "19  1.149093  \n",
       "20  1.175845  \n",
       "21  1.163109  \n",
       "22  1.197468  \n",
       "23  1.197415  "
      ]
     },
     "execution_count": 32,
     "metadata": {},
     "output_type": "execute_result"
    }
   ],
   "source": [
    "df.rolling(20).agg([np.mean, np.std]).dropna().head()"
   ]
  },
  {
   "cell_type": "markdown",
   "metadata": {},
   "source": [
    "## 3.2 Applying Different Functions to DataFrame Columns\n",
    "\n",
    "Just pass a `dict` to `agg`, mapping column names to aggregating functions."
   ]
  },
  {
   "cell_type": "code",
   "execution_count": 33,
   "metadata": {},
   "outputs": [
    {
     "data": {
      "text/html": [
       "<div>\n",
       "<style scoped>\n",
       "    .dataframe tbody tr th:only-of-type {\n",
       "        vertical-align: middle;\n",
       "    }\n",
       "\n",
       "    .dataframe tbody tr th {\n",
       "        vertical-align: top;\n",
       "    }\n",
       "\n",
       "    .dataframe thead tr th {\n",
       "        text-align: left;\n",
       "    }\n",
       "</style>\n",
       "<table border=\"1\" class=\"dataframe\">\n",
       "  <thead>\n",
       "    <tr>\n",
       "      <th></th>\n",
       "      <th colspan=\"2\" halign=\"left\">A</th>\n",
       "      <th>B</th>\n",
       "      <th>D</th>\n",
       "    </tr>\n",
       "    <tr>\n",
       "      <th></th>\n",
       "      <th>max</th>\n",
       "      <th>min</th>\n",
       "      <th>std</th>\n",
       "      <th>&lt;lambda&gt;</th>\n",
       "    </tr>\n",
       "  </thead>\n",
       "  <tbody>\n",
       "    <tr>\n",
       "      <th>19</th>\n",
       "      <td>2.222313</td>\n",
       "      <td>-2.181016</td>\n",
       "      <td>0.897953</td>\n",
       "      <td>-0.316002</td>\n",
       "    </tr>\n",
       "    <tr>\n",
       "      <th>20</th>\n",
       "      <td>1.111283</td>\n",
       "      <td>-2.181016</td>\n",
       "      <td>0.898648</td>\n",
       "      <td>-0.316002</td>\n",
       "    </tr>\n",
       "    <tr>\n",
       "      <th>21</th>\n",
       "      <td>1.573933</td>\n",
       "      <td>-2.181016</td>\n",
       "      <td>0.898472</td>\n",
       "      <td>-0.316002</td>\n",
       "    </tr>\n",
       "    <tr>\n",
       "      <th>22</th>\n",
       "      <td>1.573933</td>\n",
       "      <td>-2.181016</td>\n",
       "      <td>0.889797</td>\n",
       "      <td>-0.338491</td>\n",
       "    </tr>\n",
       "    <tr>\n",
       "      <th>23</th>\n",
       "      <td>1.573933</td>\n",
       "      <td>-2.181016</td>\n",
       "      <td>0.905433</td>\n",
       "      <td>-0.323687</td>\n",
       "    </tr>\n",
       "  </tbody>\n",
       "</table>\n",
       "</div>"
      ],
      "text/plain": [
       "           A                   B         D\n",
       "         max       min       std  <lambda>\n",
       "19  2.222313 -2.181016  0.897953 -0.316002\n",
       "20  1.111283 -2.181016  0.898648 -0.316002\n",
       "21  1.573933 -2.181016  0.898472 -0.316002\n",
       "22  1.573933 -2.181016  0.889797 -0.338491\n",
       "23  1.573933 -2.181016  0.905433 -0.323687"
      ]
     },
     "execution_count": 33,
     "metadata": {},
     "output_type": "execute_result"
    }
   ],
   "source": [
    "df.rolling(20).agg({'A': [max, min], 'B': np.std, 'D': lambda x: np.quantile(x, 0.5)}\n",
    "                  ).dropna().head()"
   ]
  },
  {
   "cell_type": "markdown",
   "metadata": {},
   "source": [
    "> The aggregating functions can also be given as strings"
   ]
  },
  {
   "cell_type": "code",
   "execution_count": 34,
   "metadata": {},
   "outputs": [
    {
     "data": {
      "text/html": [
       "<div>\n",
       "<style scoped>\n",
       "    .dataframe tbody tr th:only-of-type {\n",
       "        vertical-align: middle;\n",
       "    }\n",
       "\n",
       "    .dataframe tbody tr th {\n",
       "        vertical-align: top;\n",
       "    }\n",
       "\n",
       "    .dataframe thead tr th {\n",
       "        text-align: left;\n",
       "    }\n",
       "</style>\n",
       "<table border=\"1\" class=\"dataframe\">\n",
       "  <thead>\n",
       "    <tr>\n",
       "      <th></th>\n",
       "      <th>A</th>\n",
       "      <th colspan=\"2\" halign=\"left\">B</th>\n",
       "      <th>D</th>\n",
       "    </tr>\n",
       "    <tr>\n",
       "      <th></th>\n",
       "      <th>sum</th>\n",
       "      <th>max</th>\n",
       "      <th>min</th>\n",
       "      <th>std</th>\n",
       "    </tr>\n",
       "  </thead>\n",
       "  <tbody>\n",
       "    <tr>\n",
       "      <th>19</th>\n",
       "      <td>-1.733971</td>\n",
       "      <td>1.783753</td>\n",
       "      <td>-1.530046</td>\n",
       "      <td>1.149093</td>\n",
       "    </tr>\n",
       "    <tr>\n",
       "      <th>20</th>\n",
       "      <td>-4.378009</td>\n",
       "      <td>1.783753</td>\n",
       "      <td>-1.530046</td>\n",
       "      <td>1.175845</td>\n",
       "    </tr>\n",
       "    <tr>\n",
       "      <th>21</th>\n",
       "      <td>-1.947456</td>\n",
       "      <td>1.783753</td>\n",
       "      <td>-1.530046</td>\n",
       "      <td>1.163109</td>\n",
       "    </tr>\n",
       "    <tr>\n",
       "      <th>22</th>\n",
       "      <td>-3.447661</td>\n",
       "      <td>1.783753</td>\n",
       "      <td>-1.530046</td>\n",
       "      <td>1.197468</td>\n",
       "    </tr>\n",
       "    <tr>\n",
       "      <th>23</th>\n",
       "      <td>-4.303962</td>\n",
       "      <td>1.783753</td>\n",
       "      <td>-1.530046</td>\n",
       "      <td>1.197415</td>\n",
       "    </tr>\n",
       "  </tbody>\n",
       "</table>\n",
       "</div>"
      ],
      "text/plain": [
       "           A         B                   D\n",
       "         sum       max       min       std\n",
       "19 -1.733971  1.783753 -1.530046  1.149093\n",
       "20 -4.378009  1.783753 -1.530046  1.175845\n",
       "21 -1.947456  1.783753 -1.530046  1.163109\n",
       "22 -3.447661  1.783753 -1.530046  1.197468\n",
       "23 -4.303962  1.783753 -1.530046  1.197415"
      ]
     },
     "execution_count": 34,
     "metadata": {},
     "output_type": "execute_result"
    }
   ],
   "source": [
    "df.rolling(20).agg({'A': 'sum', 'B': ['max', 'min'], 'D': 'std'}\n",
    "                  ).dropna().head()"
   ]
  },
  {
   "cell_type": "markdown",
   "metadata": {},
   "source": [
    "# 4. Expanding Windows\n",
    "\n",
    "A common alternative to rolling statistics is to use an expanding window, which yields the value of the statistic with all the data available up to that point in time."
   ]
  },
  {
   "cell_type": "markdown",
   "metadata": {},
   "source": [
    "## 4.1 Method Summary"
   ]
  },
  {
   "cell_type": "code",
   "execution_count": 35,
   "metadata": {},
   "outputs": [
    {
     "data": {
      "text/html": [
       "<div>\n",
       "<style scoped>\n",
       "    .dataframe tbody tr th:only-of-type {\n",
       "        vertical-align: middle;\n",
       "    }\n",
       "\n",
       "    .dataframe tbody tr th {\n",
       "        vertical-align: top;\n",
       "    }\n",
       "\n",
       "    .dataframe thead th {\n",
       "        text-align: right;\n",
       "    }\n",
       "</style>\n",
       "<table border=\"1\" class=\"dataframe\">\n",
       "  <thead>\n",
       "    <tr style=\"text-align: right;\">\n",
       "      <th></th>\n",
       "      <th>Function</th>\n",
       "      <th>Description</th>\n",
       "    </tr>\n",
       "  </thead>\n",
       "  <tbody>\n",
       "    <tr>\n",
       "      <th>0</th>\n",
       "      <td>count()</td>\n",
       "      <td>Number of non-null observations</td>\n",
       "    </tr>\n",
       "    <tr>\n",
       "      <th>1</th>\n",
       "      <td>sum()</td>\n",
       "      <td>Sum of values</td>\n",
       "    </tr>\n",
       "    <tr>\n",
       "      <th>2</th>\n",
       "      <td>mean()</td>\n",
       "      <td>Mean of values</td>\n",
       "    </tr>\n",
       "    <tr>\n",
       "      <th>3</th>\n",
       "      <td>median()</td>\n",
       "      <td>Arithmetic median of values</td>\n",
       "    </tr>\n",
       "    <tr>\n",
       "      <th>4</th>\n",
       "      <td>min()</td>\n",
       "      <td>Minimum</td>\n",
       "    </tr>\n",
       "    <tr>\n",
       "      <th>5</th>\n",
       "      <td>max()</td>\n",
       "      <td>Maximum</td>\n",
       "    </tr>\n",
       "    <tr>\n",
       "      <th>6</th>\n",
       "      <td>std()</td>\n",
       "      <td>Sample standard deviation</td>\n",
       "    </tr>\n",
       "    <tr>\n",
       "      <th>7</th>\n",
       "      <td>var()</td>\n",
       "      <td>Sample variance</td>\n",
       "    </tr>\n",
       "    <tr>\n",
       "      <th>8</th>\n",
       "      <td>skew()</td>\n",
       "      <td>Sample skewness (3rd moment)</td>\n",
       "    </tr>\n",
       "    <tr>\n",
       "      <th>9</th>\n",
       "      <td>kurt()</td>\n",
       "      <td>Sample kurtosis (4th moment)</td>\n",
       "    </tr>\n",
       "    <tr>\n",
       "      <th>10</th>\n",
       "      <td>quantile()</td>\n",
       "      <td>Sample quantile (value at %)</td>\n",
       "    </tr>\n",
       "    <tr>\n",
       "      <th>11</th>\n",
       "      <td>apply()</td>\n",
       "      <td>Generic apply</td>\n",
       "    </tr>\n",
       "    <tr>\n",
       "      <th>12</th>\n",
       "      <td>cov()</td>\n",
       "      <td>Sample covariance (binary)</td>\n",
       "    </tr>\n",
       "    <tr>\n",
       "      <th>13</th>\n",
       "      <td>corr()</td>\n",
       "      <td>Sample correlation (binary)</td>\n",
       "    </tr>\n",
       "  </tbody>\n",
       "</table>\n",
       "</div>"
      ],
      "text/plain": [
       "      Function                      Description\n",
       "0      count()  Number of non-null observations\n",
       "1        sum()                    Sum of values\n",
       "2       mean()                   Mean of values\n",
       "3     median()      Arithmetic median of values\n",
       "4        min()                          Minimum\n",
       "5        max()                          Maximum\n",
       "6        std()        Sample standard deviation\n",
       "7        var()                  Sample variance\n",
       "8       skew()     Sample skewness (3rd moment)\n",
       "9       kurt()     Sample kurtosis (4th moment)\n",
       "10  quantile()     Sample quantile (value at %)\n",
       "11     apply()                    Generic apply\n",
       "12       cov()       Sample covariance (binary)\n",
       "13      corr()      Sample correlation (binary)"
      ]
     },
     "execution_count": 35,
     "metadata": {},
     "output_type": "execute_result"
    }
   ],
   "source": [
    "pd.read_html('https://pandas.pydata.org/docs/user_guide/computation.html')[4]"
   ]
  },
  {
   "cell_type": "code",
   "execution_count": 36,
   "metadata": {},
   "outputs": [
    {
     "data": {
      "text/plain": [
       "2020-01-01 00:00:00          NaN\n",
       "2020-01-01 00:00:01    -2.198507\n",
       "2020-01-01 00:00:02    -1.237187\n",
       "2020-01-01 00:00:03    -1.003094\n",
       "2020-01-01 00:00:04    -0.332293\n",
       "                         ...    \n",
       "2020-01-01 00:08:15   -14.162348\n",
       "2020-01-01 00:08:16   -11.598452\n",
       "2020-01-01 00:08:17   -12.214303\n",
       "2020-01-01 00:08:18   -13.222610\n",
       "2020-01-01 00:08:19   -13.525680\n",
       "Freq: S, Length: 500, dtype: float64"
      ]
     },
     "execution_count": 36,
     "metadata": {},
     "output_type": "execute_result"
    }
   ],
   "source": [
    "s.expanding(min_periods=2).sum()"
   ]
  },
  {
   "cell_type": "markdown",
   "metadata": {},
   "source": [
    "# 5. Exponentially Weighted Windows\n",
    "\n",
    "A related set of functions are exponentially weighted versions of several of the above statistics. A similar interface to `.rolling` and `.expanding` is accessed through the `.ewm` method.\n",
    "\n",
    ">One must specify precisely one of `span`, `center of mass`, `half-life` and `alpha` to the EW functions:"
   ]
  },
  {
   "cell_type": "markdown",
   "metadata": {},
   "source": [
    "## 5.1 Method Summary"
   ]
  },
  {
   "cell_type": "code",
   "execution_count": 37,
   "metadata": {},
   "outputs": [
    {
     "data": {
      "text/html": [
       "<div>\n",
       "<style scoped>\n",
       "    .dataframe tbody tr th:only-of-type {\n",
       "        vertical-align: middle;\n",
       "    }\n",
       "\n",
       "    .dataframe tbody tr th {\n",
       "        vertical-align: top;\n",
       "    }\n",
       "\n",
       "    .dataframe thead th {\n",
       "        text-align: right;\n",
       "    }\n",
       "</style>\n",
       "<table border=\"1\" class=\"dataframe\">\n",
       "  <thead>\n",
       "    <tr style=\"text-align: right;\">\n",
       "      <th></th>\n",
       "      <th>Function</th>\n",
       "      <th>Description</th>\n",
       "    </tr>\n",
       "  </thead>\n",
       "  <tbody>\n",
       "    <tr>\n",
       "      <th>0</th>\n",
       "      <td>mean()</td>\n",
       "      <td>EW moving average</td>\n",
       "    </tr>\n",
       "    <tr>\n",
       "      <th>1</th>\n",
       "      <td>var()</td>\n",
       "      <td>EW moving variance</td>\n",
       "    </tr>\n",
       "    <tr>\n",
       "      <th>2</th>\n",
       "      <td>std()</td>\n",
       "      <td>EW moving standard deviation</td>\n",
       "    </tr>\n",
       "    <tr>\n",
       "      <th>3</th>\n",
       "      <td>corr()</td>\n",
       "      <td>EW moving correlation</td>\n",
       "    </tr>\n",
       "    <tr>\n",
       "      <th>4</th>\n",
       "      <td>cov()</td>\n",
       "      <td>EW moving covariance</td>\n",
       "    </tr>\n",
       "  </tbody>\n",
       "</table>\n",
       "</div>"
      ],
      "text/plain": [
       "  Function                   Description\n",
       "0   mean()             EW moving average\n",
       "1    var()            EW moving variance\n",
       "2    std()  EW moving standard deviation\n",
       "3   corr()         EW moving correlation\n",
       "4    cov()          EW moving covariance"
      ]
     },
     "execution_count": 37,
     "metadata": {},
     "output_type": "execute_result"
    }
   ],
   "source": [
    "pd.read_html('https://pandas.pydata.org/docs/user_guide/computation.html')[5]"
   ]
  },
  {
   "cell_type": "code",
   "execution_count": 38,
   "metadata": {},
   "outputs": [
    {
     "data": {
      "text/plain": [
       "2020-01-01 00:00:00   -1.053725\n",
       "2020-01-01 00:00:01   -1.102289\n",
       "2020-01-01 00:00:02   -0.320804\n",
       "2020-01-01 00:00:03   -0.153189\n",
       "2020-01-01 00:00:04    0.058268\n",
       "                         ...   \n",
       "2020-01-01 00:08:15   -0.225316\n",
       "2020-01-01 00:08:16    0.123336\n",
       "2020-01-01 00:08:17    0.030937\n",
       "2020-01-01 00:08:18   -0.098968\n",
       "2020-01-01 00:08:19   -0.124481\n",
       "Freq: S, Length: 500, dtype: float64"
      ]
     },
     "execution_count": 38,
     "metadata": {},
     "output_type": "execute_result"
    }
   ],
   "source": [
    "s.ewm(span=15).mean()"
   ]
  },
  {
   "cell_type": "code",
   "execution_count": 39,
   "metadata": {
    "scrolled": true
   },
   "outputs": [
    {
     "data": {
      "text/plain": [
       "2020-01-01 00:00:00   -1.053725\n",
       "2020-01-01 00:00:01   -1.099569\n",
       "2020-01-01 00:00:02   -0.403061\n",
       "2020-01-01 00:00:03   -0.240445\n",
       "2020-01-01 00:00:04   -0.053108\n",
       "                         ...   \n",
       "2020-01-01 00:08:15    0.028846\n",
       "2020-01-01 00:08:16    0.063782\n",
       "2020-01-01 00:08:17    0.054416\n",
       "2020-01-01 00:08:18    0.039771\n",
       "2020-01-01 00:08:19    0.035046\n",
       "Freq: S, Length: 500, dtype: float64"
      ]
     },
     "execution_count": 39,
     "metadata": {},
     "output_type": "execute_result"
    }
   ],
   "source": [
    "s.ewm(halflife=50).mean()"
   ]
  },
  {
   "cell_type": "code",
   "execution_count": 40,
   "metadata": {},
   "outputs": [
    {
     "data": {
      "text/plain": [
       "2020-01-01 00:00:00   -1.053725\n",
       "2020-01-01 00:00:01   -1.099536\n",
       "2020-01-01 00:00:02   -0.404033\n",
       "2020-01-01 00:00:03   -0.241517\n",
       "2020-01-01 00:00:04   -0.054492\n",
       "                         ...   \n",
       "2020-01-01 00:08:15    0.024456\n",
       "2020-01-01 00:08:16    0.055872\n",
       "2020-01-01 00:08:17    0.047562\n",
       "2020-01-01 00:08:18    0.034500\n",
       "2020-01-01 00:08:19    0.030324\n",
       "Freq: S, Length: 500, dtype: float64"
      ]
     },
     "execution_count": 40,
     "metadata": {},
     "output_type": "execute_result"
    }
   ],
   "source": [
    "s.ewm(com=80).mean()"
   ]
  }
 ],
 "metadata": {
  "kernelspec": {
   "display_name": "Python 3",
   "language": "python",
   "name": "python3"
  },
  "language_info": {
   "codemirror_mode": {
    "name": "ipython",
    "version": 3
   },
   "file_extension": ".py",
   "mimetype": "text/x-python",
   "name": "python",
   "nbconvert_exporter": "python",
   "pygments_lexer": "ipython3",
   "version": "3.8.2"
  }
 },
 "nbformat": 4,
 "nbformat_minor": 4
}
