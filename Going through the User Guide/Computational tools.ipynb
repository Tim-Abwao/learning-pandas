{
 "cells": [
  {
   "cell_type": "markdown",
   "metadata": {},
   "source": [
    "# [Go to \"Computational Tools\" in Pandas Docs](https://pandas.pydata.org/docs/user_guide/computation.html)"
   ]
  },
  {
   "cell_type": "code",
   "execution_count": 1,
   "metadata": {},
   "outputs": [],
   "source": [
    "import pandas as pd\n",
    "import numpy as np"
   ]
  },
  {
   "cell_type": "markdown",
   "metadata": {},
   "source": [
    "# 1. Statistical Functions"
   ]
  },
  {
   "cell_type": "markdown",
   "metadata": {},
   "source": [
    "## 1.1 Percentage Change\n",
    "\n",
    ">Use the [pct_change][1] method.\n",
    ">\n",
    ">Parameters:\n",
    ">- `periods` (int, default 1)\n",
    ">- `fill_method` (str, default ‘pad’)\n",
    ">- `limit` (int, default None)\n",
    ">- `freq` (DateOffset, timedelta, or str, optional)\n",
    "\n",
    "[1]: https://pandas.pydata.org/docs/reference/api/pandas.DataFrame.pct_change.html#pandas-dataframe-pct-change"
   ]
  },
  {
   "cell_type": "code",
   "execution_count": 2,
   "metadata": {},
   "outputs": [
    {
     "data": {
      "text/html": [
       "<div>\n",
       "<style scoped>\n",
       "    .dataframe tbody tr th:only-of-type {\n",
       "        vertical-align: middle;\n",
       "    }\n",
       "\n",
       "    .dataframe tbody tr th {\n",
       "        vertical-align: top;\n",
       "    }\n",
       "\n",
       "    .dataframe thead th {\n",
       "        text-align: right;\n",
       "    }\n",
       "</style>\n",
       "<table border=\"1\" class=\"dataframe\">\n",
       "  <thead>\n",
       "    <tr style=\"text-align: right;\">\n",
       "      <th></th>\n",
       "      <th>s</th>\n",
       "      <th>% change</th>\n",
       "    </tr>\n",
       "  </thead>\n",
       "  <tbody>\n",
       "    <tr>\n",
       "      <th>0</th>\n",
       "      <td>42</td>\n",
       "      <td>NaN</td>\n",
       "    </tr>\n",
       "    <tr>\n",
       "      <th>1</th>\n",
       "      <td>57</td>\n",
       "      <td>0.357143</td>\n",
       "    </tr>\n",
       "    <tr>\n",
       "      <th>2</th>\n",
       "      <td>35</td>\n",
       "      <td>-0.385965</td>\n",
       "    </tr>\n",
       "    <tr>\n",
       "      <th>3</th>\n",
       "      <td>101</td>\n",
       "      <td>1.885714</td>\n",
       "    </tr>\n",
       "    <tr>\n",
       "      <th>4</th>\n",
       "      <td>88</td>\n",
       "      <td>-0.128713</td>\n",
       "    </tr>\n",
       "  </tbody>\n",
       "</table>\n",
       "</div>"
      ],
      "text/plain": [
       "     s  % change\n",
       "0   42       NaN\n",
       "1   57  0.357143\n",
       "2   35 -0.385965\n",
       "3  101  1.885714\n",
       "4   88 -0.128713"
      ]
     },
     "execution_count": 2,
     "metadata": {},
     "output_type": "execute_result"
    }
   ],
   "source": [
    "s = pd.Series([42, 57, 35, 101, 88])\n",
    "spc = s.pct_change()\n",
    "\n",
    "# by default, each value is compared to the previous one (periods=1)\n",
    "# e.g. 0.357143 == 35.7143% increase: 57 from 42\n",
    "pd.concat([s, spc], axis=1, keys=['s', '% change'])"
   ]
  },
  {
   "cell_type": "code",
   "execution_count": 3,
   "metadata": {},
   "outputs": [
    {
     "data": {
      "text/html": [
       "<div>\n",
       "<style scoped>\n",
       "    .dataframe tbody tr th:only-of-type {\n",
       "        vertical-align: middle;\n",
       "    }\n",
       "\n",
       "    .dataframe tbody tr th {\n",
       "        vertical-align: top;\n",
       "    }\n",
       "\n",
       "    .dataframe thead th {\n",
       "        text-align: right;\n",
       "    }\n",
       "</style>\n",
       "<table border=\"1\" class=\"dataframe\">\n",
       "  <thead>\n",
       "    <tr style=\"text-align: right;\">\n",
       "      <th></th>\n",
       "      <th>0</th>\n",
       "      <th>1</th>\n",
       "      <th>2</th>\n",
       "      <th>0</th>\n",
       "      <th>1</th>\n",
       "      <th>2</th>\n",
       "    </tr>\n",
       "  </thead>\n",
       "  <tbody>\n",
       "    <tr>\n",
       "      <th>0</th>\n",
       "      <td>6</td>\n",
       "      <td>9</td>\n",
       "      <td>9</td>\n",
       "      <td>NaN</td>\n",
       "      <td>NaN</td>\n",
       "      <td>NaN</td>\n",
       "    </tr>\n",
       "    <tr>\n",
       "      <th>1</th>\n",
       "      <td>9</td>\n",
       "      <td>7</td>\n",
       "      <td>7</td>\n",
       "      <td>NaN</td>\n",
       "      <td>NaN</td>\n",
       "      <td>NaN</td>\n",
       "    </tr>\n",
       "    <tr>\n",
       "      <th>2</th>\n",
       "      <td>6</td>\n",
       "      <td>9</td>\n",
       "      <td>9</td>\n",
       "      <td>NaN</td>\n",
       "      <td>NaN</td>\n",
       "      <td>NaN</td>\n",
       "    </tr>\n",
       "    <tr>\n",
       "      <th>3</th>\n",
       "      <td>7</td>\n",
       "      <td>8</td>\n",
       "      <td>3</td>\n",
       "      <td>0.166667</td>\n",
       "      <td>-0.111111</td>\n",
       "      <td>-0.666667</td>\n",
       "    </tr>\n",
       "    <tr>\n",
       "      <th>4</th>\n",
       "      <td>3</td>\n",
       "      <td>2</td>\n",
       "      <td>8</td>\n",
       "      <td>-0.666667</td>\n",
       "      <td>-0.714286</td>\n",
       "      <td>0.142857</td>\n",
       "    </tr>\n",
       "    <tr>\n",
       "      <th>5</th>\n",
       "      <td>1</td>\n",
       "      <td>9</td>\n",
       "      <td>4</td>\n",
       "      <td>-0.833333</td>\n",
       "      <td>0.000000</td>\n",
       "      <td>-0.555556</td>\n",
       "    </tr>\n",
       "    <tr>\n",
       "      <th>6</th>\n",
       "      <td>2</td>\n",
       "      <td>9</td>\n",
       "      <td>9</td>\n",
       "      <td>-0.714286</td>\n",
       "      <td>0.125000</td>\n",
       "      <td>2.000000</td>\n",
       "    </tr>\n",
       "  </tbody>\n",
       "</table>\n",
       "</div>"
      ],
      "text/plain": [
       "   0  1  2         0         1         2\n",
       "0  6  9  9       NaN       NaN       NaN\n",
       "1  9  7  7       NaN       NaN       NaN\n",
       "2  6  9  9       NaN       NaN       NaN\n",
       "3  7  8  3  0.166667 -0.111111 -0.666667\n",
       "4  3  2  8 -0.666667 -0.714286  0.142857\n",
       "5  1  9  4 -0.833333  0.000000 -0.555556\n",
       "6  2  9  9 -0.714286  0.125000  2.000000"
      ]
     },
     "execution_count": 3,
     "metadata": {},
     "output_type": "execute_result"
    }
   ],
   "source": [
    "df = pd.DataFrame(np.random.randint(1, 10, (7, 3)))\n",
    "dfpct = df.pct_change(periods=3)\n",
    "\n",
    "pd.concat([df, dfpct], axis=1)"
   ]
  },
  {
   "cell_type": "markdown",
   "metadata": {},
   "source": [
    "## 1.2 Covariance\n",
    "\n",
    ">Use [Series.cov()][1] for covariance between series, and [DataFrame.cov()][2] for pairwise covariances among the series/columns in a dataframe. Missing values are excluded.\n",
    "\n",
    "[1]: https://pandas.pydata.org/docs/reference/api/pandas.Series.cov.html\n",
    "[2]: https://pandas.pydata.org/docs/reference/api/pandas.DataFrame.cov.html"
   ]
  },
  {
   "cell_type": "code",
   "execution_count": 4,
   "metadata": {
    "scrolled": true
   },
   "outputs": [
    {
     "data": {
      "text/plain": [
       "(0.1418521704781405, 0.1418521704781405)"
      ]
     },
     "execution_count": 4,
     "metadata": {},
     "output_type": "execute_result"
    }
   ],
   "source": [
    "s1 = pd.Series(np.random.randn(200), name='s1')\n",
    "s2 = pd.Series(np.random.randn(200), name='s2')\n",
    "\n",
    "s1.cov(s2), s2.cov(s1)"
   ]
  },
  {
   "cell_type": "code",
   "execution_count": 5,
   "metadata": {},
   "outputs": [
    {
     "data": {
      "text/html": [
       "<div>\n",
       "<style scoped>\n",
       "    .dataframe tbody tr th:only-of-type {\n",
       "        vertical-align: middle;\n",
       "    }\n",
       "\n",
       "    .dataframe tbody tr th {\n",
       "        vertical-align: top;\n",
       "    }\n",
       "\n",
       "    .dataframe thead th {\n",
       "        text-align: right;\n",
       "    }\n",
       "</style>\n",
       "<table border=\"1\" class=\"dataframe\">\n",
       "  <thead>\n",
       "    <tr style=\"text-align: right;\">\n",
       "      <th></th>\n",
       "      <th>0</th>\n",
       "      <th>1</th>\n",
       "      <th>2</th>\n",
       "      <th>3</th>\n",
       "    </tr>\n",
       "  </thead>\n",
       "  <tbody>\n",
       "    <tr>\n",
       "      <th>0</th>\n",
       "      <td>0.100312</td>\n",
       "      <td>-0.019691</td>\n",
       "      <td>-0.027244</td>\n",
       "      <td>-0.006723</td>\n",
       "    </tr>\n",
       "    <tr>\n",
       "      <th>1</th>\n",
       "      <td>-0.019691</td>\n",
       "      <td>0.077404</td>\n",
       "      <td>0.001938</td>\n",
       "      <td>-0.008211</td>\n",
       "    </tr>\n",
       "    <tr>\n",
       "      <th>2</th>\n",
       "      <td>-0.027244</td>\n",
       "      <td>0.001938</td>\n",
       "      <td>0.083108</td>\n",
       "      <td>0.000073</td>\n",
       "    </tr>\n",
       "    <tr>\n",
       "      <th>3</th>\n",
       "      <td>-0.006723</td>\n",
       "      <td>-0.008211</td>\n",
       "      <td>0.000073</td>\n",
       "      <td>0.071362</td>\n",
       "    </tr>\n",
       "  </tbody>\n",
       "</table>\n",
       "</div>"
      ],
      "text/plain": [
       "          0         1         2         3\n",
       "0  0.100312 -0.019691 -0.027244 -0.006723\n",
       "1 -0.019691  0.077404  0.001938 -0.008211\n",
       "2 -0.027244  0.001938  0.083108  0.000073\n",
       "3 -0.006723 -0.008211  0.000073  0.071362"
      ]
     },
     "execution_count": 5,
     "metadata": {},
     "output_type": "execute_result"
    }
   ],
   "source": [
    "df = pd.DataFrame(np.random.rand(50, 4))\n",
    "df.cov()"
   ]
  },
  {
   "cell_type": "markdown",
   "metadata": {},
   "source": [
    "## 1.3 Correlation\n",
    "\n",
    ">Use the [corr()][1] method. You can specify `method` as one of `pearson (default)`, `kendall` or `spearman`.\n",
    "\n",
    "[1]: https://pandas.pydata.org/docs/reference/api/pandas.DataFrame.corr.html"
   ]
  },
  {
   "cell_type": "code",
   "execution_count": 6,
   "metadata": {
    "scrolled": true
   },
   "outputs": [
    {
     "data": {
      "text/plain": [
       "0.12996730235093143"
      ]
     },
     "execution_count": 6,
     "metadata": {},
     "output_type": "execute_result"
    }
   ],
   "source": [
    "s1.corr(s2, method='pearson') "
   ]
  },
  {
   "cell_type": "code",
   "execution_count": 7,
   "metadata": {
    "scrolled": true
   },
   "outputs": [
    {
     "data": {
      "text/plain": [
       "0.1307537688442211"
      ]
     },
     "execution_count": 7,
     "metadata": {},
     "output_type": "execute_result"
    }
   ],
   "source": [
    "s1.corr(s2, method='kendall')"
   ]
  },
  {
   "cell_type": "code",
   "execution_count": 8,
   "metadata": {},
   "outputs": [
    {
     "data": {
      "text/plain": [
       "0.19012075301882547"
      ]
     },
     "execution_count": 8,
     "metadata": {},
     "output_type": "execute_result"
    }
   ],
   "source": [
    "s1.corr(s2, method='spearman')"
   ]
  },
  {
   "cell_type": "code",
   "execution_count": 9,
   "metadata": {
    "scrolled": true
   },
   "outputs": [
    {
     "data": {
      "text/html": [
       "<div>\n",
       "<style scoped>\n",
       "    .dataframe tbody tr th:only-of-type {\n",
       "        vertical-align: middle;\n",
       "    }\n",
       "\n",
       "    .dataframe tbody tr th {\n",
       "        vertical-align: top;\n",
       "    }\n",
       "\n",
       "    .dataframe thead th {\n",
       "        text-align: right;\n",
       "    }\n",
       "</style>\n",
       "<table border=\"1\" class=\"dataframe\">\n",
       "  <thead>\n",
       "    <tr style=\"text-align: right;\">\n",
       "      <th></th>\n",
       "      <th>0</th>\n",
       "      <th>1</th>\n",
       "      <th>2</th>\n",
       "      <th>3</th>\n",
       "    </tr>\n",
       "  </thead>\n",
       "  <tbody>\n",
       "    <tr>\n",
       "      <th>0</th>\n",
       "      <td>1.000000</td>\n",
       "      <td>-0.223465</td>\n",
       "      <td>-0.298378</td>\n",
       "      <td>-0.079457</td>\n",
       "    </tr>\n",
       "    <tr>\n",
       "      <th>1</th>\n",
       "      <td>-0.223465</td>\n",
       "      <td>1.000000</td>\n",
       "      <td>0.024165</td>\n",
       "      <td>-0.110477</td>\n",
       "    </tr>\n",
       "    <tr>\n",
       "      <th>2</th>\n",
       "      <td>-0.298378</td>\n",
       "      <td>0.024165</td>\n",
       "      <td>1.000000</td>\n",
       "      <td>0.000950</td>\n",
       "    </tr>\n",
       "    <tr>\n",
       "      <th>3</th>\n",
       "      <td>-0.079457</td>\n",
       "      <td>-0.110477</td>\n",
       "      <td>0.000950</td>\n",
       "      <td>1.000000</td>\n",
       "    </tr>\n",
       "  </tbody>\n",
       "</table>\n",
       "</div>"
      ],
      "text/plain": [
       "          0         1         2         3\n",
       "0  1.000000 -0.223465 -0.298378 -0.079457\n",
       "1 -0.223465  1.000000  0.024165 -0.110477\n",
       "2 -0.298378  0.024165  1.000000  0.000950\n",
       "3 -0.079457 -0.110477  0.000950  1.000000"
      ]
     },
     "execution_count": 9,
     "metadata": {},
     "output_type": "execute_result"
    }
   ],
   "source": [
    "# Pairwise correlation of DataFrame columns\n",
    "df.corr()"
   ]
  },
  {
   "cell_type": "markdown",
   "metadata": {},
   "source": [
    ">[DataFrame.corrwith()][1] calculates the correlation between like-labeled `Series` in different `DataFrame`s\n",
    "\n",
    "[1]: https://pandas.pydata.org/docs/reference/api/pandas.DataFrame.corrwith.html"
   ]
  },
  {
   "cell_type": "code",
   "execution_count": 10,
   "metadata": {},
   "outputs": [
    {
     "data": {
      "text/plain": [
       "A    0.433448\n",
       "C   -0.188393\n",
       "D    0.118545\n",
       "B         NaN\n",
       "F         NaN\n",
       "dtype: float64"
      ]
     },
     "execution_count": 10,
     "metadata": {},
     "output_type": "execute_result"
    }
   ],
   "source": [
    "df1 = pd.DataFrame(np.random.randn(7, 4), columns=list('ABCD'))\n",
    "df2 = pd.DataFrame(np.random.randn(7, 4), columns=list('ACDF'))\n",
    "df1.corrwith(df2) "
   ]
  },
  {
   "cell_type": "markdown",
   "metadata": {},
   "source": [
    "## 1.4 Rank\n",
    "\n",
    "> Use the [rank()][1] method to numerically rank data (rank 1 through n) along an axis.\n",
    "\n",
    "[1]: https://pandas.pydata.org/docs/reference/api/pandas.Series.rank.html"
   ]
  },
  {
   "cell_type": "code",
   "execution_count": 11,
   "metadata": {
    "scrolled": true
   },
   "outputs": [
    {
     "data": {
      "text/plain": [
       "0    1.0\n",
       "1    4.0\n",
       "2    2.5\n",
       "3    5.0\n",
       "4    2.5\n",
       "dtype: float64"
      ]
     },
     "execution_count": 11,
     "metadata": {},
     "output_type": "execute_result"
    }
   ],
   "source": [
    "s = pd.Series([2.2, 4.5, 3.8, 5.9, 3.8])\n",
    "\n",
    "# By default, the average is returned for records with equal value\n",
    "# e.g 3.8 ties for 2nd and 3rd, and is thus ranked as mean([2, 3]) = 2.5\n",
    "s.rank() # method=average"
   ]
  },
  {
   "cell_type": "code",
   "execution_count": 12,
   "metadata": {},
   "outputs": [
    {
     "data": {
      "text/plain": [
       "0    1.0\n",
       "1    4.0\n",
       "2    3.0\n",
       "3    5.0\n",
       "4    3.0\n",
       "dtype: float64"
      ]
     },
     "execution_count": 12,
     "metadata": {},
     "output_type": "execute_result"
    }
   ],
   "source": [
    "# To return largest rank for equal records\n",
    "s.rank(method='max')"
   ]
  },
  {
   "cell_type": "code",
   "execution_count": 13,
   "metadata": {},
   "outputs": [
    {
     "name": "stdout",
     "output_type": "stream",
     "text": [
      "          0         1         2\n",
      "0 -1.647236  0.165342 -1.472941\n",
      "1  0.611870  0.023304 -0.521819\n",
      "2 -0.623801  0.160415  0.483638\n",
      "3 -0.624204 -0.822573 -2.145984\n",
      "4 -0.470108  0.374735  0.017061\n"
     ]
    },
    {
     "data": {
      "text/html": [
       "<div>\n",
       "<style scoped>\n",
       "    .dataframe tbody tr th:only-of-type {\n",
       "        vertical-align: middle;\n",
       "    }\n",
       "\n",
       "    .dataframe tbody tr th {\n",
       "        vertical-align: top;\n",
       "    }\n",
       "\n",
       "    .dataframe thead th {\n",
       "        text-align: right;\n",
       "    }\n",
       "</style>\n",
       "<table border=\"1\" class=\"dataframe\">\n",
       "  <thead>\n",
       "    <tr style=\"text-align: right;\">\n",
       "      <th></th>\n",
       "      <th>0</th>\n",
       "      <th>1</th>\n",
       "      <th>2</th>\n",
       "    </tr>\n",
       "  </thead>\n",
       "  <tbody>\n",
       "    <tr>\n",
       "      <th>0</th>\n",
       "      <td>1.0</td>\n",
       "      <td>4.0</td>\n",
       "      <td>2.0</td>\n",
       "    </tr>\n",
       "    <tr>\n",
       "      <th>1</th>\n",
       "      <td>5.0</td>\n",
       "      <td>2.0</td>\n",
       "      <td>3.0</td>\n",
       "    </tr>\n",
       "    <tr>\n",
       "      <th>2</th>\n",
       "      <td>3.0</td>\n",
       "      <td>3.0</td>\n",
       "      <td>5.0</td>\n",
       "    </tr>\n",
       "    <tr>\n",
       "      <th>3</th>\n",
       "      <td>2.0</td>\n",
       "      <td>1.0</td>\n",
       "      <td>1.0</td>\n",
       "    </tr>\n",
       "    <tr>\n",
       "      <th>4</th>\n",
       "      <td>4.0</td>\n",
       "      <td>5.0</td>\n",
       "      <td>4.0</td>\n",
       "    </tr>\n",
       "  </tbody>\n",
       "</table>\n",
       "</div>"
      ],
      "text/plain": [
       "     0    1    2\n",
       "0  1.0  4.0  2.0\n",
       "1  5.0  2.0  3.0\n",
       "2  3.0  3.0  5.0\n",
       "3  2.0  1.0  1.0\n",
       "4  4.0  5.0  4.0"
      ]
     },
     "execution_count": 13,
     "metadata": {},
     "output_type": "execute_result"
    }
   ],
   "source": [
    "df = pd.DataFrame(np.random.randn(5,3))\n",
    "print(df)\n",
    "\n",
    "# ranking rows (vertically)\n",
    "df.rank() # axis=0"
   ]
  },
  {
   "cell_type": "code",
   "execution_count": 14,
   "metadata": {},
   "outputs": [
    {
     "name": "stdout",
     "output_type": "stream",
     "text": [
      "          0         1         2\n",
      "0 -1.647236  0.165342 -1.472941\n",
      "1  0.611870  0.023304 -0.521819\n",
      "2 -0.623801  0.160415  0.483638\n",
      "3 -0.624204 -0.822573 -2.145984\n",
      "4 -0.470108  0.374735  0.017061\n"
     ]
    },
    {
     "data": {
      "text/html": [
       "<div>\n",
       "<style scoped>\n",
       "    .dataframe tbody tr th:only-of-type {\n",
       "        vertical-align: middle;\n",
       "    }\n",
       "\n",
       "    .dataframe tbody tr th {\n",
       "        vertical-align: top;\n",
       "    }\n",
       "\n",
       "    .dataframe thead th {\n",
       "        text-align: right;\n",
       "    }\n",
       "</style>\n",
       "<table border=\"1\" class=\"dataframe\">\n",
       "  <thead>\n",
       "    <tr style=\"text-align: right;\">\n",
       "      <th></th>\n",
       "      <th>0</th>\n",
       "      <th>1</th>\n",
       "      <th>2</th>\n",
       "    </tr>\n",
       "  </thead>\n",
       "  <tbody>\n",
       "    <tr>\n",
       "      <th>0</th>\n",
       "      <td>1.0</td>\n",
       "      <td>3.0</td>\n",
       "      <td>2.0</td>\n",
       "    </tr>\n",
       "    <tr>\n",
       "      <th>1</th>\n",
       "      <td>3.0</td>\n",
       "      <td>2.0</td>\n",
       "      <td>1.0</td>\n",
       "    </tr>\n",
       "    <tr>\n",
       "      <th>2</th>\n",
       "      <td>1.0</td>\n",
       "      <td>2.0</td>\n",
       "      <td>3.0</td>\n",
       "    </tr>\n",
       "    <tr>\n",
       "      <th>3</th>\n",
       "      <td>3.0</td>\n",
       "      <td>2.0</td>\n",
       "      <td>1.0</td>\n",
       "    </tr>\n",
       "    <tr>\n",
       "      <th>4</th>\n",
       "      <td>1.0</td>\n",
       "      <td>3.0</td>\n",
       "      <td>2.0</td>\n",
       "    </tr>\n",
       "  </tbody>\n",
       "</table>\n",
       "</div>"
      ],
      "text/plain": [
       "     0    1    2\n",
       "0  1.0  3.0  2.0\n",
       "1  3.0  2.0  1.0\n",
       "2  1.0  2.0  3.0\n",
       "3  3.0  2.0  1.0\n",
       "4  1.0  3.0  2.0"
      ]
     },
     "execution_count": 14,
     "metadata": {},
     "output_type": "execute_result"
    }
   ],
   "source": [
    "print(df)\n",
    "# ranking columns (horizontally)\n",
    "df.rank(axis=1)"
   ]
  },
  {
   "cell_type": "markdown",
   "metadata": {},
   "source": [
    "# 2. Window Functions\n",
    "\n",
    "> `.rolling` for aggregations or to apply functions to \"windows\" of the data\n",
    "\n",
    ">`.expanding` for aggregations or to apply functions to all the data available up to that point in time. \n",
    "\n",
    ">`.ewm` applies exponentially weighted statistical functions"
   ]
  },
  {
   "cell_type": "markdown",
   "metadata": {},
   "source": [
    "## 2.1 Rolling Windows\n",
    "\n",
    "### 2.1.1 Method Summary"
   ]
  },
  {
   "cell_type": "code",
   "execution_count": 15,
   "metadata": {
    "scrolled": false
   },
   "outputs": [
    {
     "data": {
      "text/html": [
       "<div>\n",
       "<style scoped>\n",
       "    .dataframe tbody tr th:only-of-type {\n",
       "        vertical-align: middle;\n",
       "    }\n",
       "\n",
       "    .dataframe tbody tr th {\n",
       "        vertical-align: top;\n",
       "    }\n",
       "\n",
       "    .dataframe thead th {\n",
       "        text-align: right;\n",
       "    }\n",
       "</style>\n",
       "<table border=\"1\" class=\"dataframe\">\n",
       "  <thead>\n",
       "    <tr style=\"text-align: right;\">\n",
       "      <th></th>\n",
       "      <th>Method</th>\n",
       "      <th>Description</th>\n",
       "    </tr>\n",
       "  </thead>\n",
       "  <tbody>\n",
       "    <tr>\n",
       "      <th>0</th>\n",
       "      <td>count()</td>\n",
       "      <td>Number of non-null observations</td>\n",
       "    </tr>\n",
       "    <tr>\n",
       "      <th>1</th>\n",
       "      <td>sum()</td>\n",
       "      <td>Sum of values</td>\n",
       "    </tr>\n",
       "    <tr>\n",
       "      <th>2</th>\n",
       "      <td>mean()</td>\n",
       "      <td>Mean of values</td>\n",
       "    </tr>\n",
       "    <tr>\n",
       "      <th>3</th>\n",
       "      <td>median()</td>\n",
       "      <td>Arithmetic median of values</td>\n",
       "    </tr>\n",
       "    <tr>\n",
       "      <th>4</th>\n",
       "      <td>min()</td>\n",
       "      <td>Minimum</td>\n",
       "    </tr>\n",
       "    <tr>\n",
       "      <th>5</th>\n",
       "      <td>max()</td>\n",
       "      <td>Maximum</td>\n",
       "    </tr>\n",
       "    <tr>\n",
       "      <th>6</th>\n",
       "      <td>std()</td>\n",
       "      <td>Sample standard deviation</td>\n",
       "    </tr>\n",
       "    <tr>\n",
       "      <th>7</th>\n",
       "      <td>var()</td>\n",
       "      <td>Sample variance</td>\n",
       "    </tr>\n",
       "    <tr>\n",
       "      <th>8</th>\n",
       "      <td>skew()</td>\n",
       "      <td>Sample skewness (3rd moment)</td>\n",
       "    </tr>\n",
       "    <tr>\n",
       "      <th>9</th>\n",
       "      <td>kurt()</td>\n",
       "      <td>Sample kurtosis (4th moment)</td>\n",
       "    </tr>\n",
       "    <tr>\n",
       "      <th>10</th>\n",
       "      <td>quantile()</td>\n",
       "      <td>Sample quantile (value at %)</td>\n",
       "    </tr>\n",
       "    <tr>\n",
       "      <th>11</th>\n",
       "      <td>apply()</td>\n",
       "      <td>Generic apply</td>\n",
       "    </tr>\n",
       "    <tr>\n",
       "      <th>12</th>\n",
       "      <td>cov()</td>\n",
       "      <td>Sample covariance (binary)</td>\n",
       "    </tr>\n",
       "    <tr>\n",
       "      <th>13</th>\n",
       "      <td>corr()</td>\n",
       "      <td>Sample correlation (binary)</td>\n",
       "    </tr>\n",
       "  </tbody>\n",
       "</table>\n",
       "</div>"
      ],
      "text/plain": [
       "        Method                      Description\n",
       "0      count()  Number of non-null observations\n",
       "1        sum()                    Sum of values\n",
       "2       mean()                   Mean of values\n",
       "3     median()      Arithmetic median of values\n",
       "4        min()                          Minimum\n",
       "5        max()                          Maximum\n",
       "6        std()        Sample standard deviation\n",
       "7        var()                  Sample variance\n",
       "8       skew()     Sample skewness (3rd moment)\n",
       "9       kurt()     Sample kurtosis (4th moment)\n",
       "10  quantile()     Sample quantile (value at %)\n",
       "11     apply()                    Generic apply\n",
       "12       cov()       Sample covariance (binary)\n",
       "13      corr()      Sample correlation (binary)"
      ]
     },
     "execution_count": 15,
     "metadata": {},
     "output_type": "execute_result"
    }
   ],
   "source": [
    "pd.read_html('https://pandas.pydata.org/docs/user_guide/computation.html')[1]"
   ]
  },
  {
   "cell_type": "code",
   "execution_count": 16,
   "metadata": {},
   "outputs": [
    {
     "data": {
      "text/plain": [
       "2020-01-01 00:00:00         NaN\n",
       "2020-01-01 00:00:01         NaN\n",
       "2020-01-01 00:00:02         NaN\n",
       "2020-01-01 00:00:03         NaN\n",
       "2020-01-01 00:00:04         NaN\n",
       "                         ...   \n",
       "2020-01-01 00:08:15   -4.541972\n",
       "2020-01-01 00:08:16   -5.936031\n",
       "2020-01-01 00:08:17   -6.439987\n",
       "2020-01-01 00:08:18   -6.357397\n",
       "2020-01-01 00:08:19   -5.689216\n",
       "Freq: S, Length: 500, dtype: float64"
      ]
     },
     "execution_count": 16,
     "metadata": {},
     "output_type": "execute_result"
    }
   ],
   "source": [
    "s = pd.Series(np.random.randn(500),\n",
    "              index=pd.date_range('2020-01-01', periods=500, freq='s'))\n",
    "\n",
    "s.rolling(window=50).sum()"
   ]
  },
  {
   "cell_type": "markdown",
   "metadata": {},
   "source": [
    "### 2.1.2 Rolling Apply\n",
    "\n",
    "> The `apply()` method takes an extra `func` argument and performs generic rolling computations"
   ]
  },
  {
   "cell_type": "code",
   "execution_count": 17,
   "metadata": {
    "scrolled": true
   },
   "outputs": [
    {
     "data": {
      "text/plain": [
       "2020-01-01 00:00:00         NaN\n",
       "2020-01-01 00:00:01         NaN\n",
       "2020-01-01 00:00:02         NaN\n",
       "2020-01-01 00:00:03         NaN\n",
       "2020-01-01 00:00:04         NaN\n",
       "                         ...   \n",
       "2020-01-01 00:08:15   -0.222455\n",
       "2020-01-01 00:08:16   -0.222455\n",
       "2020-01-01 00:08:17   -0.222455\n",
       "2020-01-01 00:08:18   -0.222455\n",
       "2020-01-01 00:08:19    0.123818\n",
       "Freq: S, Length: 500, dtype: float64"
      ]
     },
     "execution_count": 17,
     "metadata": {},
     "output_type": "execute_result"
    }
   ],
   "source": [
    "def foo(x):\n",
    "    return min(x) + max(x) \n",
    "\n",
    "s.rolling(25).apply(foo)"
   ]
  },
  {
   "cell_type": "code",
   "execution_count": 18,
   "metadata": {},
   "outputs": [
    {
     "data": {
      "text/plain": [
       "2020-01-01 00:00:00         NaN\n",
       "2020-01-01 00:00:01         NaN\n",
       "2020-01-01 00:00:02         NaN\n",
       "2020-01-01 00:00:03         NaN\n",
       "2020-01-01 00:00:04         NaN\n",
       "                         ...   \n",
       "2020-01-01 00:08:15    3.075773\n",
       "2020-01-01 00:08:16    3.041160\n",
       "2020-01-01 00:08:17    2.250781\n",
       "2020-01-01 00:08:18    1.908662\n",
       "2020-01-01 00:08:19    1.918418\n",
       "Freq: S, Length: 500, dtype: float64"
      ]
     },
     "execution_count": 18,
     "metadata": {},
     "output_type": "execute_result"
    }
   ],
   "source": [
    "s.rolling(10).apply(np.ptp)"
   ]
  },
  {
   "cell_type": "markdown",
   "metadata": {},
   "source": [
    "> [scipy.signal window functions][1] can be used. The weights used in the window are specified by the `win_type` keyword.\n",
    "\n",
    "[1]: https://docs.scipy.org/doc/scipy/reference/signal.windows.html"
   ]
  },
  {
   "cell_type": "markdown",
   "metadata": {},
   "source": [
    "### 2.1.3 Time-Aware Rolling\n",
    "\n",
    "You can set `window` to a time offset. This can be particularly useful for an irregular time frequency index."
   ]
  },
  {
   "cell_type": "code",
   "execution_count": 19,
   "metadata": {},
   "outputs": [
    {
     "data": {
      "text/plain": [
       "2020-01-01 01:00:01    2.5\n",
       "2020-01-01 01:00:03    4.8\n",
       "2020-01-01 01:00:04    1.3\n",
       "2020-01-01 01:00:07    NaN\n",
       "2020-01-01 01:00:11    5.9\n",
       "dtype: float64"
      ]
     },
     "execution_count": 19,
     "metadata": {},
     "output_type": "execute_result"
    }
   ],
   "source": [
    "st = pd.Series([2.5, 4.8, 1.3, np.nan, 5.9],\n",
    "                index=pd.Index([pd.Timestamp(2020, 1, 1, 1, 0, 1),\n",
    "                                pd.Timestamp(2020, 1, 1, 1, 0, 3),\n",
    "                                pd.Timestamp(2020, 1, 1, 1, 0, 4),\n",
    "                                pd.Timestamp(2020, 1, 1, 1, 0, 7),\n",
    "                                pd.Timestamp(2020, 1, 1, 1, 0, 11)]))\n",
    "st "
   ]
  },
  {
   "cell_type": "code",
   "execution_count": 20,
   "metadata": {},
   "outputs": [
    {
     "data": {
      "text/plain": [
       "2020-01-01 01:00:01    2.5\n",
       "2020-01-01 01:00:03    4.8\n",
       "2020-01-01 01:00:04    4.8\n",
       "2020-01-01 01:00:07    4.8\n",
       "2020-01-01 01:00:11    5.9\n",
       "dtype: float64"
      ]
     },
     "execution_count": 20,
     "metadata": {},
     "output_type": "execute_result"
    }
   ],
   "source": [
    "st.rolling('5s').max()"
   ]
  },
  {
   "cell_type": "markdown",
   "metadata": {},
   "source": [
    "### 2.1.4 Rolling Window Endpoints\n",
    "\n",
    "The inclusion of the interval endpoints in rolling window calculations can be specified with the `closed` parameter:"
   ]
  },
  {
   "cell_type": "code",
   "execution_count": 21,
   "metadata": {},
   "outputs": [
    {
     "data": {
      "text/html": [
       "<div>\n",
       "<style scoped>\n",
       "    .dataframe tbody tr th:only-of-type {\n",
       "        vertical-align: middle;\n",
       "    }\n",
       "\n",
       "    .dataframe tbody tr th {\n",
       "        vertical-align: top;\n",
       "    }\n",
       "\n",
       "    .dataframe thead th {\n",
       "        text-align: right;\n",
       "    }\n",
       "</style>\n",
       "<table border=\"1\" class=\"dataframe\">\n",
       "  <thead>\n",
       "    <tr style=\"text-align: right;\">\n",
       "      <th></th>\n",
       "      <th>Description</th>\n",
       "      <th>Default for</th>\n",
       "    </tr>\n",
       "    <tr>\n",
       "      <th>closed</th>\n",
       "      <th></th>\n",
       "      <th></th>\n",
       "    </tr>\n",
       "  </thead>\n",
       "  <tbody>\n",
       "    <tr>\n",
       "      <th>right</th>\n",
       "      <td>close right endpoint</td>\n",
       "      <td>time-based windows</td>\n",
       "    </tr>\n",
       "    <tr>\n",
       "      <th>left</th>\n",
       "      <td>close left endpoint</td>\n",
       "      <td>NaN</td>\n",
       "    </tr>\n",
       "    <tr>\n",
       "      <th>both</th>\n",
       "      <td>close both endpoints</td>\n",
       "      <td>fixed windows</td>\n",
       "    </tr>\n",
       "    <tr>\n",
       "      <th>neither</th>\n",
       "      <td>open endpoints</td>\n",
       "      <td>NaN</td>\n",
       "    </tr>\n",
       "  </tbody>\n",
       "</table>\n",
       "</div>"
      ],
      "text/plain": [
       "                  Description         Default for\n",
       "closed                                           \n",
       "right    close right endpoint  time-based windows\n",
       "left      close left endpoint                 NaN\n",
       "both     close both endpoints       fixed windows\n",
       "neither        open endpoints                 NaN"
      ]
     },
     "execution_count": 21,
     "metadata": {},
     "output_type": "execute_result"
    }
   ],
   "source": [
    "pd.read_html('https://pandas.pydata.org/docs/user_guide/computation.html')[3].set_index('closed')"
   ]
  },
  {
   "cell_type": "code",
   "execution_count": 22,
   "metadata": {},
   "outputs": [
    {
     "data": {
      "text/html": [
       "<div>\n",
       "<style scoped>\n",
       "    .dataframe tbody tr th:only-of-type {\n",
       "        vertical-align: middle;\n",
       "    }\n",
       "\n",
       "    .dataframe tbody tr th {\n",
       "        vertical-align: top;\n",
       "    }\n",
       "\n",
       "    .dataframe thead th {\n",
       "        text-align: right;\n",
       "    }\n",
       "</style>\n",
       "<table border=\"1\" class=\"dataframe\">\n",
       "  <thead>\n",
       "    <tr style=\"text-align: right;\">\n",
       "      <th></th>\n",
       "      <th>right</th>\n",
       "      <th>left</th>\n",
       "      <th>both</th>\n",
       "      <th>neither</th>\n",
       "    </tr>\n",
       "  </thead>\n",
       "  <tbody>\n",
       "    <tr>\n",
       "      <th>2020-01-01 01:00:01</th>\n",
       "      <td>1.0</td>\n",
       "      <td>NaN</td>\n",
       "      <td>1.0</td>\n",
       "      <td>NaN</td>\n",
       "    </tr>\n",
       "    <tr>\n",
       "      <th>2020-01-01 01:00:03</th>\n",
       "      <td>2.0</td>\n",
       "      <td>1.0</td>\n",
       "      <td>2.0</td>\n",
       "      <td>1.0</td>\n",
       "    </tr>\n",
       "    <tr>\n",
       "      <th>2020-01-01 01:00:04</th>\n",
       "      <td>3.0</td>\n",
       "      <td>2.0</td>\n",
       "      <td>3.0</td>\n",
       "      <td>2.0</td>\n",
       "    </tr>\n",
       "    <tr>\n",
       "      <th>2020-01-01 01:00:07</th>\n",
       "      <td>3.0</td>\n",
       "      <td>2.0</td>\n",
       "      <td>3.0</td>\n",
       "      <td>2.0</td>\n",
       "    </tr>\n",
       "    <tr>\n",
       "      <th>2020-01-01 01:00:11</th>\n",
       "      <td>2.0</td>\n",
       "      <td>1.0</td>\n",
       "      <td>2.0</td>\n",
       "      <td>1.0</td>\n",
       "    </tr>\n",
       "  </tbody>\n",
       "</table>\n",
       "</div>"
      ],
      "text/plain": [
       "                     right  left  both  neither\n",
       "2020-01-01 01:00:01    1.0   NaN   1.0      NaN\n",
       "2020-01-01 01:00:03    2.0   1.0   2.0      1.0\n",
       "2020-01-01 01:00:04    3.0   2.0   3.0      2.0\n",
       "2020-01-01 01:00:07    3.0   2.0   3.0      2.0\n",
       "2020-01-01 01:00:11    2.0   1.0   2.0      1.0"
      ]
     },
     "execution_count": 22,
     "metadata": {},
     "output_type": "execute_result"
    }
   ],
   "source": [
    "st2 = pd.Series([1] * 5, index=st.index)\n",
    "pd.DataFrame({'right': st2.rolling('5s', closed='right').sum(),\n",
    "              'left': st2.rolling('5s', closed='left').sum(),\n",
    "              'both': st2.rolling('5s', closed='both').sum(),\n",
    "              'neither': st2.rolling('5s', closed='neither').sum()})"
   ]
  },
  {
   "cell_type": "markdown",
   "metadata": {},
   "source": [
    "### 2.1.5 Iteration Over Window\n",
    "\n",
    "`Rolling` and `Expanding` objects accept iteration."
   ]
  },
  {
   "cell_type": "code",
   "execution_count": 23,
   "metadata": {},
   "outputs": [
    {
     "name": "stdout",
     "output_type": "stream",
     "text": [
      "   A  B\n",
      "0  1  4\n",
      "   A  B\n",
      "0  1  4\n",
      "1  2  5\n",
      "   A  B\n",
      "1  2  5\n",
      "2  3  6\n"
     ]
    }
   ],
   "source": [
    "df = pd.DataFrame({\"A\": [1, 2, 3], \"B\": [4, 5, 6]})\n",
    "\n",
    "for win in df.rolling(2):\n",
    "    print(win)"
   ]
  },
  {
   "cell_type": "markdown",
   "metadata": {},
   "source": [
    "### 2.1.6 Centering Windows\n",
    "\n",
    "Use the `center` keyword to set the labels at the center (the default is to set the labels to the right edge of the window)."
   ]
  },
  {
   "cell_type": "code",
   "execution_count": 24,
   "metadata": {},
   "outputs": [
    {
     "data": {
      "text/plain": [
       "2020-01-01 00:00:00         NaN\n",
       "2020-01-01 00:00:01         NaN\n",
       "2020-01-01 00:00:02         NaN\n",
       "2020-01-01 00:00:03         NaN\n",
       "2020-01-01 00:00:04    0.495057\n",
       "                         ...   \n",
       "2020-01-01 00:08:15   -0.479937\n",
       "2020-01-01 00:08:16   -0.608534\n",
       "2020-01-01 00:08:17   -0.481100\n",
       "2020-01-01 00:08:18   -0.297336\n",
       "2020-01-01 00:08:19   -0.175097\n",
       "Freq: S, Length: 500, dtype: float64"
      ]
     },
     "execution_count": 24,
     "metadata": {},
     "output_type": "execute_result"
    }
   ],
   "source": [
    "s.rolling(5).mean()"
   ]
  },
  {
   "cell_type": "code",
   "execution_count": 25,
   "metadata": {
    "scrolled": true
   },
   "outputs": [
    {
     "data": {
      "text/plain": [
       "2020-01-01 00:00:00         NaN\n",
       "2020-01-01 00:00:01         NaN\n",
       "2020-01-01 00:00:02    0.495057\n",
       "2020-01-01 00:00:03    0.431148\n",
       "2020-01-01 00:00:04    0.203207\n",
       "                         ...   \n",
       "2020-01-01 00:08:15   -0.481100\n",
       "2020-01-01 00:08:16   -0.297336\n",
       "2020-01-01 00:08:17   -0.175097\n",
       "2020-01-01 00:08:18         NaN\n",
       "2020-01-01 00:08:19         NaN\n",
       "Freq: S, Length: 500, dtype: float64"
      ]
     },
     "execution_count": 25,
     "metadata": {},
     "output_type": "execute_result"
    }
   ],
   "source": [
    "s.rolling(5, center=True).mean()"
   ]
  },
  {
   "cell_type": "markdown",
   "metadata": {},
   "source": [
    "### 2.1.7 Binary Window Functions\n",
    "\n",
    "`cov()` and `corr()` can compute moving window statistics about two Series or any combination of `DataFrame/Series` or `DataFrame/DataFrame`."
   ]
  },
  {
   "cell_type": "code",
   "execution_count": 26,
   "metadata": {},
   "outputs": [
    {
     "data": {
      "text/plain": [
       "49   -0.028233\n",
       "50    0.009222\n",
       "51    0.029689\n",
       "52    0.030457\n",
       "53    0.011550\n",
       "dtype: float64"
      ]
     },
     "execution_count": 26,
     "metadata": {},
     "output_type": "execute_result"
    }
   ],
   "source": [
    "s1 = pd.Series(np.random.randn(200))\n",
    "s2 = pd.Series(np.linspace(-1, 1, 75))\n",
    "\n",
    "s1.rolling(window=50).cov(s2).dropna().head()"
   ]
  },
  {
   "cell_type": "code",
   "execution_count": 27,
   "metadata": {},
   "outputs": [
    {
     "data": {
      "text/plain": [
       "49   -0.073683\n",
       "50    0.024443\n",
       "51    0.077780\n",
       "52    0.079713\n",
       "53    0.029609\n",
       "dtype: float64"
      ]
     },
     "execution_count": 27,
     "metadata": {},
     "output_type": "execute_result"
    }
   ],
   "source": [
    "s1.rolling(window=50).corr(s2).dropna().head()"
   ]
  },
  {
   "cell_type": "code",
   "execution_count": 28,
   "metadata": {},
   "outputs": [
    {
     "data": {
      "text/html": [
       "<div>\n",
       "<style scoped>\n",
       "    .dataframe tbody tr th:only-of-type {\n",
       "        vertical-align: middle;\n",
       "    }\n",
       "\n",
       "    .dataframe tbody tr th {\n",
       "        vertical-align: top;\n",
       "    }\n",
       "\n",
       "    .dataframe thead th {\n",
       "        text-align: right;\n",
       "    }\n",
       "</style>\n",
       "<table border=\"1\" class=\"dataframe\">\n",
       "  <thead>\n",
       "    <tr style=\"text-align: right;\">\n",
       "      <th></th>\n",
       "      <th>A</th>\n",
       "      <th>B</th>\n",
       "      <th>C</th>\n",
       "      <th>D</th>\n",
       "    </tr>\n",
       "  </thead>\n",
       "  <tbody>\n",
       "    <tr>\n",
       "      <th>24</th>\n",
       "      <td>0.021572</td>\n",
       "      <td>0.051540</td>\n",
       "      <td>-0.050062</td>\n",
       "      <td>-0.045238</td>\n",
       "    </tr>\n",
       "    <tr>\n",
       "      <th>25</th>\n",
       "      <td>0.020245</td>\n",
       "      <td>0.025835</td>\n",
       "      <td>-0.013548</td>\n",
       "      <td>-0.021360</td>\n",
       "    </tr>\n",
       "    <tr>\n",
       "      <th>26</th>\n",
       "      <td>0.051145</td>\n",
       "      <td>-0.017756</td>\n",
       "      <td>-0.018925</td>\n",
       "      <td>-0.033465</td>\n",
       "    </tr>\n",
       "    <tr>\n",
       "      <th>27</th>\n",
       "      <td>0.053317</td>\n",
       "      <td>0.002606</td>\n",
       "      <td>-0.048665</td>\n",
       "      <td>-0.032443</td>\n",
       "    </tr>\n",
       "    <tr>\n",
       "      <th>28</th>\n",
       "      <td>0.042833</td>\n",
       "      <td>0.013238</td>\n",
       "      <td>-0.053503</td>\n",
       "      <td>-0.017919</td>\n",
       "    </tr>\n",
       "  </tbody>\n",
       "</table>\n",
       "</div>"
      ],
      "text/plain": [
       "           A         B         C         D\n",
       "24  0.021572  0.051540 -0.050062 -0.045238\n",
       "25  0.020245  0.025835 -0.013548 -0.021360\n",
       "26  0.051145 -0.017756 -0.018925 -0.033465\n",
       "27  0.053317  0.002606 -0.048665 -0.032443\n",
       "28  0.042833  0.013238 -0.053503 -0.017919"
      ]
     },
     "execution_count": 28,
     "metadata": {},
     "output_type": "execute_result"
    }
   ],
   "source": [
    "df = pd.DataFrame(np.random.randn(100, 4), columns=list('ABCD'))\n",
    "\n",
    "df.rolling(25).cov(s2).dropna().head()"
   ]
  },
  {
   "cell_type": "code",
   "execution_count": 29,
   "metadata": {},
   "outputs": [
    {
     "data": {
      "text/html": [
       "<div>\n",
       "<style scoped>\n",
       "    .dataframe tbody tr th:only-of-type {\n",
       "        vertical-align: middle;\n",
       "    }\n",
       "\n",
       "    .dataframe tbody tr th {\n",
       "        vertical-align: top;\n",
       "    }\n",
       "\n",
       "    .dataframe thead th {\n",
       "        text-align: right;\n",
       "    }\n",
       "</style>\n",
       "<table border=\"1\" class=\"dataframe\">\n",
       "  <thead>\n",
       "    <tr style=\"text-align: right;\">\n",
       "      <th></th>\n",
       "      <th></th>\n",
       "      <th>A</th>\n",
       "      <th>B</th>\n",
       "      <th>C</th>\n",
       "      <th>D</th>\n",
       "    </tr>\n",
       "  </thead>\n",
       "  <tbody>\n",
       "    <tr>\n",
       "      <th rowspan=\"5\" valign=\"top\">24</th>\n",
       "      <th>A</th>\n",
       "      <td>-0.039057</td>\n",
       "      <td>0.084499</td>\n",
       "      <td>0.314296</td>\n",
       "      <td>0.055429</td>\n",
       "    </tr>\n",
       "    <tr>\n",
       "      <th>C</th>\n",
       "      <td>-0.087545</td>\n",
       "      <td>-0.063866</td>\n",
       "      <td>-0.083898</td>\n",
       "      <td>-0.074239</td>\n",
       "    </tr>\n",
       "    <tr>\n",
       "      <th>D</th>\n",
       "      <td>0.123655</td>\n",
       "      <td>0.049059</td>\n",
       "      <td>-0.017986</td>\n",
       "      <td>0.114510</td>\n",
       "    </tr>\n",
       "    <tr>\n",
       "      <th>E</th>\n",
       "      <td>0.135151</td>\n",
       "      <td>0.051768</td>\n",
       "      <td>-0.014491</td>\n",
       "      <td>-0.123784</td>\n",
       "    </tr>\n",
       "    <tr>\n",
       "      <th>I</th>\n",
       "      <td>-0.291543</td>\n",
       "      <td>-0.014254</td>\n",
       "      <td>-0.153343</td>\n",
       "      <td>-0.294555</td>\n",
       "    </tr>\n",
       "  </tbody>\n",
       "</table>\n",
       "</div>"
      ],
      "text/plain": [
       "             A         B         C         D\n",
       "24 A -0.039057  0.084499  0.314296  0.055429\n",
       "   C -0.087545 -0.063866 -0.083898 -0.074239\n",
       "   D  0.123655  0.049059 -0.017986  0.114510\n",
       "   E  0.135151  0.051768 -0.014491 -0.123784\n",
       "   I -0.291543 -0.014254 -0.153343 -0.294555"
      ]
     },
     "execution_count": 29,
     "metadata": {},
     "output_type": "execute_result"
    }
   ],
   "source": [
    "df2 = pd.DataFrame(np.random.randn(70, 5), columns=list('ACDEI'))\n",
    "\n",
    "# pairwise=True required for dataframe/dataframe\n",
    "df.rolling(25).cov(df2, pairwise=True).dropna().head()"
   ]
  },
  {
   "cell_type": "markdown",
   "metadata": {},
   "source": [
    "# 3. Aggregations"
   ]
  },
  {
   "cell_type": "code",
   "execution_count": 30,
   "metadata": {},
   "outputs": [
    {
     "data": {
      "text/plain": [
       "2020-01-01 00:00:00         NaN\n",
       "2020-01-01 00:00:01         NaN\n",
       "2020-01-01 00:00:02         NaN\n",
       "2020-01-01 00:00:03         NaN\n",
       "2020-01-01 00:00:04    0.992858\n",
       "                         ...   \n",
       "2020-01-01 00:08:15    1.009871\n",
       "2020-01-01 00:08:16    0.954966\n",
       "2020-01-01 00:08:17    0.956861\n",
       "2020-01-01 00:08:18    0.956035\n",
       "2020-01-01 00:08:19    0.921477\n",
       "Freq: S, Length: 500, dtype: float64"
      ]
     },
     "execution_count": 30,
     "metadata": {},
     "output_type": "execute_result"
    }
   ],
   "source": [
    "s.rolling(window=15, min_periods=5).aggregate(np.std)"
   ]
  },
  {
   "cell_type": "markdown",
   "metadata": {},
   "source": [
    "## 3.1 Applying Multiple Functions\n",
    "\n",
    "Just pass a list of functions to aggregate with."
   ]
  },
  {
   "cell_type": "code",
   "execution_count": 31,
   "metadata": {},
   "outputs": [
    {
     "data": {
      "text/html": [
       "<div>\n",
       "<style scoped>\n",
       "    .dataframe tbody tr th:only-of-type {\n",
       "        vertical-align: middle;\n",
       "    }\n",
       "\n",
       "    .dataframe tbody tr th {\n",
       "        vertical-align: top;\n",
       "    }\n",
       "\n",
       "    .dataframe thead th {\n",
       "        text-align: right;\n",
       "    }\n",
       "</style>\n",
       "<table border=\"1\" class=\"dataframe\">\n",
       "  <thead>\n",
       "    <tr style=\"text-align: right;\">\n",
       "      <th></th>\n",
       "      <th>max</th>\n",
       "      <th>min</th>\n",
       "      <th>mean</th>\n",
       "      <th>std</th>\n",
       "    </tr>\n",
       "  </thead>\n",
       "  <tbody>\n",
       "    <tr>\n",
       "      <th>2020-01-01 00:00:19</th>\n",
       "      <td>1.871727</td>\n",
       "      <td>-0.699064</td>\n",
       "      <td>0.274015</td>\n",
       "      <td>0.675513</td>\n",
       "    </tr>\n",
       "    <tr>\n",
       "      <th>2020-01-01 00:00:20</th>\n",
       "      <td>1.871727</td>\n",
       "      <td>-0.699064</td>\n",
       "      <td>0.245949</td>\n",
       "      <td>0.695160</td>\n",
       "    </tr>\n",
       "    <tr>\n",
       "      <th>2020-01-01 00:00:21</th>\n",
       "      <td>1.837576</td>\n",
       "      <td>-0.699064</td>\n",
       "      <td>0.244242</td>\n",
       "      <td>0.690986</td>\n",
       "    </tr>\n",
       "    <tr>\n",
       "      <th>2020-01-01 00:00:22</th>\n",
       "      <td>1.837576</td>\n",
       "      <td>-0.938497</td>\n",
       "      <td>0.202688</td>\n",
       "      <td>0.736722</td>\n",
       "    </tr>\n",
       "    <tr>\n",
       "      <th>2020-01-01 00:00:23</th>\n",
       "      <td>1.837576</td>\n",
       "      <td>-0.938497</td>\n",
       "      <td>0.235604</td>\n",
       "      <td>0.716287</td>\n",
       "    </tr>\n",
       "  </tbody>\n",
       "</table>\n",
       "</div>"
      ],
      "text/plain": [
       "                          max       min      mean       std\n",
       "2020-01-01 00:00:19  1.871727 -0.699064  0.274015  0.675513\n",
       "2020-01-01 00:00:20  1.871727 -0.699064  0.245949  0.695160\n",
       "2020-01-01 00:00:21  1.837576 -0.699064  0.244242  0.690986\n",
       "2020-01-01 00:00:22  1.837576 -0.938497  0.202688  0.736722\n",
       "2020-01-01 00:00:23  1.837576 -0.938497  0.235604  0.716287"
      ]
     },
     "execution_count": 31,
     "metadata": {},
     "output_type": "execute_result"
    }
   ],
   "source": [
    "s.rolling(20).agg([max, min, np.mean, np.std]).dropna().head()"
   ]
  },
  {
   "cell_type": "code",
   "execution_count": 32,
   "metadata": {},
   "outputs": [
    {
     "data": {
      "text/html": [
       "<div>\n",
       "<style scoped>\n",
       "    .dataframe tbody tr th:only-of-type {\n",
       "        vertical-align: middle;\n",
       "    }\n",
       "\n",
       "    .dataframe tbody tr th {\n",
       "        vertical-align: top;\n",
       "    }\n",
       "\n",
       "    .dataframe thead tr th {\n",
       "        text-align: left;\n",
       "    }\n",
       "</style>\n",
       "<table border=\"1\" class=\"dataframe\">\n",
       "  <thead>\n",
       "    <tr>\n",
       "      <th></th>\n",
       "      <th colspan=\"2\" halign=\"left\">A</th>\n",
       "      <th colspan=\"2\" halign=\"left\">B</th>\n",
       "      <th colspan=\"2\" halign=\"left\">C</th>\n",
       "      <th colspan=\"2\" halign=\"left\">D</th>\n",
       "    </tr>\n",
       "    <tr>\n",
       "      <th></th>\n",
       "      <th>mean</th>\n",
       "      <th>std</th>\n",
       "      <th>mean</th>\n",
       "      <th>std</th>\n",
       "      <th>mean</th>\n",
       "      <th>std</th>\n",
       "      <th>mean</th>\n",
       "      <th>std</th>\n",
       "    </tr>\n",
       "  </thead>\n",
       "  <tbody>\n",
       "    <tr>\n",
       "      <th>19</th>\n",
       "      <td>0.012553</td>\n",
       "      <td>0.744065</td>\n",
       "      <td>0.098507</td>\n",
       "      <td>0.994935</td>\n",
       "      <td>0.035644</td>\n",
       "      <td>1.232360</td>\n",
       "      <td>-0.026447</td>\n",
       "      <td>1.084731</td>\n",
       "    </tr>\n",
       "    <tr>\n",
       "      <th>20</th>\n",
       "      <td>-0.000832</td>\n",
       "      <td>0.767881</td>\n",
       "      <td>0.245266</td>\n",
       "      <td>1.022956</td>\n",
       "      <td>-0.124647</td>\n",
       "      <td>1.198281</td>\n",
       "      <td>-0.101494</td>\n",
       "      <td>1.163584</td>\n",
       "    </tr>\n",
       "    <tr>\n",
       "      <th>21</th>\n",
       "      <td>-0.030664</td>\n",
       "      <td>0.768417</td>\n",
       "      <td>0.301748</td>\n",
       "      <td>1.037460</td>\n",
       "      <td>-0.190730</td>\n",
       "      <td>1.231533</td>\n",
       "      <td>-0.101431</td>\n",
       "      <td>1.163479</td>\n",
       "    </tr>\n",
       "    <tr>\n",
       "      <th>22</th>\n",
       "      <td>0.007053</td>\n",
       "      <td>0.837586</td>\n",
       "      <td>0.279709</td>\n",
       "      <td>1.036418</td>\n",
       "      <td>-0.154726</td>\n",
       "      <td>1.187117</td>\n",
       "      <td>-0.113263</td>\n",
       "      <td>1.165808</td>\n",
       "    </tr>\n",
       "    <tr>\n",
       "      <th>23</th>\n",
       "      <td>0.052876</td>\n",
       "      <td>0.817725</td>\n",
       "      <td>0.203232</td>\n",
       "      <td>1.039959</td>\n",
       "      <td>-0.088517</td>\n",
       "      <td>1.210047</td>\n",
       "      <td>-0.159192</td>\n",
       "      <td>1.121992</td>\n",
       "    </tr>\n",
       "  </tbody>\n",
       "</table>\n",
       "</div>"
      ],
      "text/plain": [
       "           A                   B                   C                   D  \\\n",
       "        mean       std      mean       std      mean       std      mean   \n",
       "19  0.012553  0.744065  0.098507  0.994935  0.035644  1.232360 -0.026447   \n",
       "20 -0.000832  0.767881  0.245266  1.022956 -0.124647  1.198281 -0.101494   \n",
       "21 -0.030664  0.768417  0.301748  1.037460 -0.190730  1.231533 -0.101431   \n",
       "22  0.007053  0.837586  0.279709  1.036418 -0.154726  1.187117 -0.113263   \n",
       "23  0.052876  0.817725  0.203232  1.039959 -0.088517  1.210047 -0.159192   \n",
       "\n",
       "              \n",
       "         std  \n",
       "19  1.084731  \n",
       "20  1.163584  \n",
       "21  1.163479  \n",
       "22  1.165808  \n",
       "23  1.121992  "
      ]
     },
     "execution_count": 32,
     "metadata": {},
     "output_type": "execute_result"
    }
   ],
   "source": [
    "df.rolling(20).agg([np.mean, np.std]).dropna().head()"
   ]
  },
  {
   "cell_type": "markdown",
   "metadata": {},
   "source": [
    "## 3.2 Applying Different Functions to DataFrame Columns\n",
    "\n",
    "Just pass a `dict` to `agg`, mapping column names to aggregating functions."
   ]
  },
  {
   "cell_type": "code",
   "execution_count": 33,
   "metadata": {},
   "outputs": [
    {
     "data": {
      "text/html": [
       "<div>\n",
       "<style scoped>\n",
       "    .dataframe tbody tr th:only-of-type {\n",
       "        vertical-align: middle;\n",
       "    }\n",
       "\n",
       "    .dataframe tbody tr th {\n",
       "        vertical-align: top;\n",
       "    }\n",
       "\n",
       "    .dataframe thead tr th {\n",
       "        text-align: left;\n",
       "    }\n",
       "</style>\n",
       "<table border=\"1\" class=\"dataframe\">\n",
       "  <thead>\n",
       "    <tr>\n",
       "      <th></th>\n",
       "      <th colspan=\"2\" halign=\"left\">A</th>\n",
       "      <th>B</th>\n",
       "      <th>D</th>\n",
       "    </tr>\n",
       "    <tr>\n",
       "      <th></th>\n",
       "      <th>max</th>\n",
       "      <th>min</th>\n",
       "      <th>std</th>\n",
       "      <th>&lt;lambda&gt;</th>\n",
       "    </tr>\n",
       "  </thead>\n",
       "  <tbody>\n",
       "    <tr>\n",
       "      <th>19</th>\n",
       "      <td>1.220806</td>\n",
       "      <td>-1.140664</td>\n",
       "      <td>0.994935</td>\n",
       "      <td>-0.031614</td>\n",
       "    </tr>\n",
       "    <tr>\n",
       "      <th>20</th>\n",
       "      <td>1.220806</td>\n",
       "      <td>-1.405811</td>\n",
       "      <td>1.022956</td>\n",
       "      <td>-0.031614</td>\n",
       "    </tr>\n",
       "    <tr>\n",
       "      <th>21</th>\n",
       "      <td>1.220806</td>\n",
       "      <td>-1.405811</td>\n",
       "      <td>1.037460</td>\n",
       "      <td>-0.031614</td>\n",
       "    </tr>\n",
       "    <tr>\n",
       "      <th>22</th>\n",
       "      <td>1.764350</td>\n",
       "      <td>-1.405811</td>\n",
       "      <td>1.036418</td>\n",
       "      <td>-0.031614</td>\n",
       "    </tr>\n",
       "    <tr>\n",
       "      <th>23</th>\n",
       "      <td>1.764350</td>\n",
       "      <td>-1.405811</td>\n",
       "      <td>1.039959</td>\n",
       "      <td>-0.031614</td>\n",
       "    </tr>\n",
       "  </tbody>\n",
       "</table>\n",
       "</div>"
      ],
      "text/plain": [
       "           A                   B         D\n",
       "         max       min       std  <lambda>\n",
       "19  1.220806 -1.140664  0.994935 -0.031614\n",
       "20  1.220806 -1.405811  1.022956 -0.031614\n",
       "21  1.220806 -1.405811  1.037460 -0.031614\n",
       "22  1.764350 -1.405811  1.036418 -0.031614\n",
       "23  1.764350 -1.405811  1.039959 -0.031614"
      ]
     },
     "execution_count": 33,
     "metadata": {},
     "output_type": "execute_result"
    }
   ],
   "source": [
    "df.rolling(20).agg({'A': [max, min], 'B': np.std, 'D': lambda x: np.quantile(x, 0.5)}\n",
    "                  ).dropna().head()"
   ]
  },
  {
   "cell_type": "markdown",
   "metadata": {},
   "source": [
    "> The aggregating functions can also be given as strings"
   ]
  },
  {
   "cell_type": "code",
   "execution_count": 34,
   "metadata": {},
   "outputs": [
    {
     "data": {
      "text/html": [
       "<div>\n",
       "<style scoped>\n",
       "    .dataframe tbody tr th:only-of-type {\n",
       "        vertical-align: middle;\n",
       "    }\n",
       "\n",
       "    .dataframe tbody tr th {\n",
       "        vertical-align: top;\n",
       "    }\n",
       "\n",
       "    .dataframe thead tr th {\n",
       "        text-align: left;\n",
       "    }\n",
       "</style>\n",
       "<table border=\"1\" class=\"dataframe\">\n",
       "  <thead>\n",
       "    <tr>\n",
       "      <th></th>\n",
       "      <th>A</th>\n",
       "      <th colspan=\"2\" halign=\"left\">B</th>\n",
       "      <th>D</th>\n",
       "    </tr>\n",
       "    <tr>\n",
       "      <th></th>\n",
       "      <th>sum</th>\n",
       "      <th>max</th>\n",
       "      <th>min</th>\n",
       "      <th>std</th>\n",
       "    </tr>\n",
       "  </thead>\n",
       "  <tbody>\n",
       "    <tr>\n",
       "      <th>19</th>\n",
       "      <td>0.251067</td>\n",
       "      <td>1.910436</td>\n",
       "      <td>-1.631778</td>\n",
       "      <td>1.084731</td>\n",
       "    </tr>\n",
       "    <tr>\n",
       "      <th>20</th>\n",
       "      <td>-0.016643</td>\n",
       "      <td>1.910436</td>\n",
       "      <td>-1.631778</td>\n",
       "      <td>1.163584</td>\n",
       "    </tr>\n",
       "    <tr>\n",
       "      <th>21</th>\n",
       "      <td>-0.613275</td>\n",
       "      <td>1.910436</td>\n",
       "      <td>-1.631778</td>\n",
       "      <td>1.163479</td>\n",
       "    </tr>\n",
       "    <tr>\n",
       "      <th>22</th>\n",
       "      <td>0.141065</td>\n",
       "      <td>1.910436</td>\n",
       "      <td>-1.631778</td>\n",
       "      <td>1.165808</td>\n",
       "    </tr>\n",
       "    <tr>\n",
       "      <th>23</th>\n",
       "      <td>1.057514</td>\n",
       "      <td>1.910436</td>\n",
       "      <td>-1.631778</td>\n",
       "      <td>1.121992</td>\n",
       "    </tr>\n",
       "  </tbody>\n",
       "</table>\n",
       "</div>"
      ],
      "text/plain": [
       "           A         B                   D\n",
       "         sum       max       min       std\n",
       "19  0.251067  1.910436 -1.631778  1.084731\n",
       "20 -0.016643  1.910436 -1.631778  1.163584\n",
       "21 -0.613275  1.910436 -1.631778  1.163479\n",
       "22  0.141065  1.910436 -1.631778  1.165808\n",
       "23  1.057514  1.910436 -1.631778  1.121992"
      ]
     },
     "execution_count": 34,
     "metadata": {},
     "output_type": "execute_result"
    }
   ],
   "source": [
    "df.rolling(20).agg({'A': 'sum', 'B': ['max', 'min'], 'D': 'std'}\n",
    "                  ).dropna().head()"
   ]
  },
  {
   "cell_type": "markdown",
   "metadata": {},
   "source": [
    "# 4. Expanding Windows\n",
    "\n",
    "A common alternative to rolling statistics is to use an expanding window, which yields the value of the statistic with all the data available up to that point in time."
   ]
  },
  {
   "cell_type": "markdown",
   "metadata": {},
   "source": [
    "## 4.1 Method Summary"
   ]
  },
  {
   "cell_type": "code",
   "execution_count": 35,
   "metadata": {},
   "outputs": [
    {
     "data": {
      "text/html": [
       "<div>\n",
       "<style scoped>\n",
       "    .dataframe tbody tr th:only-of-type {\n",
       "        vertical-align: middle;\n",
       "    }\n",
       "\n",
       "    .dataframe tbody tr th {\n",
       "        vertical-align: top;\n",
       "    }\n",
       "\n",
       "    .dataframe thead th {\n",
       "        text-align: right;\n",
       "    }\n",
       "</style>\n",
       "<table border=\"1\" class=\"dataframe\">\n",
       "  <thead>\n",
       "    <tr style=\"text-align: right;\">\n",
       "      <th></th>\n",
       "      <th>Function</th>\n",
       "      <th>Description</th>\n",
       "    </tr>\n",
       "  </thead>\n",
       "  <tbody>\n",
       "    <tr>\n",
       "      <th>0</th>\n",
       "      <td>count()</td>\n",
       "      <td>Number of non-null observations</td>\n",
       "    </tr>\n",
       "    <tr>\n",
       "      <th>1</th>\n",
       "      <td>sum()</td>\n",
       "      <td>Sum of values</td>\n",
       "    </tr>\n",
       "    <tr>\n",
       "      <th>2</th>\n",
       "      <td>mean()</td>\n",
       "      <td>Mean of values</td>\n",
       "    </tr>\n",
       "    <tr>\n",
       "      <th>3</th>\n",
       "      <td>median()</td>\n",
       "      <td>Arithmetic median of values</td>\n",
       "    </tr>\n",
       "    <tr>\n",
       "      <th>4</th>\n",
       "      <td>min()</td>\n",
       "      <td>Minimum</td>\n",
       "    </tr>\n",
       "    <tr>\n",
       "      <th>5</th>\n",
       "      <td>max()</td>\n",
       "      <td>Maximum</td>\n",
       "    </tr>\n",
       "    <tr>\n",
       "      <th>6</th>\n",
       "      <td>std()</td>\n",
       "      <td>Sample standard deviation</td>\n",
       "    </tr>\n",
       "    <tr>\n",
       "      <th>7</th>\n",
       "      <td>var()</td>\n",
       "      <td>Sample variance</td>\n",
       "    </tr>\n",
       "    <tr>\n",
       "      <th>8</th>\n",
       "      <td>skew()</td>\n",
       "      <td>Sample skewness (3rd moment)</td>\n",
       "    </tr>\n",
       "    <tr>\n",
       "      <th>9</th>\n",
       "      <td>kurt()</td>\n",
       "      <td>Sample kurtosis (4th moment)</td>\n",
       "    </tr>\n",
       "    <tr>\n",
       "      <th>10</th>\n",
       "      <td>quantile()</td>\n",
       "      <td>Sample quantile (value at %)</td>\n",
       "    </tr>\n",
       "    <tr>\n",
       "      <th>11</th>\n",
       "      <td>apply()</td>\n",
       "      <td>Generic apply</td>\n",
       "    </tr>\n",
       "    <tr>\n",
       "      <th>12</th>\n",
       "      <td>cov()</td>\n",
       "      <td>Sample covariance (binary)</td>\n",
       "    </tr>\n",
       "    <tr>\n",
       "      <th>13</th>\n",
       "      <td>corr()</td>\n",
       "      <td>Sample correlation (binary)</td>\n",
       "    </tr>\n",
       "  </tbody>\n",
       "</table>\n",
       "</div>"
      ],
      "text/plain": [
       "      Function                      Description\n",
       "0      count()  Number of non-null observations\n",
       "1        sum()                    Sum of values\n",
       "2       mean()                   Mean of values\n",
       "3     median()      Arithmetic median of values\n",
       "4        min()                          Minimum\n",
       "5        max()                          Maximum\n",
       "6        std()        Sample standard deviation\n",
       "7        var()                  Sample variance\n",
       "8       skew()     Sample skewness (3rd moment)\n",
       "9       kurt()     Sample kurtosis (4th moment)\n",
       "10  quantile()     Sample quantile (value at %)\n",
       "11     apply()                    Generic apply\n",
       "12       cov()       Sample covariance (binary)\n",
       "13      corr()      Sample correlation (binary)"
      ]
     },
     "execution_count": 35,
     "metadata": {},
     "output_type": "execute_result"
    }
   ],
   "source": [
    "pd.read_html('https://pandas.pydata.org/docs/user_guide/computation.html')[4]"
   ]
  },
  {
   "cell_type": "code",
   "execution_count": 36,
   "metadata": {},
   "outputs": [
    {
     "data": {
      "text/plain": [
       "2020-01-01 00:00:00          NaN\n",
       "2020-01-01 00:00:01     1.956576\n",
       "2020-01-01 00:00:02     1.849149\n",
       "2020-01-01 00:00:03     1.310644\n",
       "2020-01-01 00:00:04     2.475285\n",
       "                         ...    \n",
       "2020-01-01 00:08:15   -24.337817\n",
       "2020-01-01 00:08:16   -24.853042\n",
       "2020-01-01 00:08:17   -25.294729\n",
       "2020-01-01 00:08:18   -24.842805\n",
       "2020-01-01 00:08:19   -24.381126\n",
       "Freq: S, Length: 500, dtype: float64"
      ]
     },
     "execution_count": 36,
     "metadata": {},
     "output_type": "execute_result"
    }
   ],
   "source": [
    "s.expanding(min_periods=2).sum()"
   ]
  },
  {
   "cell_type": "markdown",
   "metadata": {},
   "source": [
    "# 5. Exponentially Weighted Windows\n",
    "\n",
    "A related set of functions are exponentially weighted versions of several of the above statistics. A similar interface to `.rolling` and `.expanding` is accessed through the `.ewm` method.\n",
    "\n",
    ">One must specify precisely one of `span`, `center of mass`, `half-life` and `alpha` to the EW functions:"
   ]
  },
  {
   "cell_type": "markdown",
   "metadata": {},
   "source": [
    "## 5.1 Method Summary"
   ]
  },
  {
   "cell_type": "code",
   "execution_count": 37,
   "metadata": {},
   "outputs": [
    {
     "data": {
      "text/html": [
       "<div>\n",
       "<style scoped>\n",
       "    .dataframe tbody tr th:only-of-type {\n",
       "        vertical-align: middle;\n",
       "    }\n",
       "\n",
       "    .dataframe tbody tr th {\n",
       "        vertical-align: top;\n",
       "    }\n",
       "\n",
       "    .dataframe thead th {\n",
       "        text-align: right;\n",
       "    }\n",
       "</style>\n",
       "<table border=\"1\" class=\"dataframe\">\n",
       "  <thead>\n",
       "    <tr style=\"text-align: right;\">\n",
       "      <th></th>\n",
       "      <th>Function</th>\n",
       "      <th>Description</th>\n",
       "    </tr>\n",
       "  </thead>\n",
       "  <tbody>\n",
       "    <tr>\n",
       "      <th>0</th>\n",
       "      <td>mean()</td>\n",
       "      <td>EW moving average</td>\n",
       "    </tr>\n",
       "    <tr>\n",
       "      <th>1</th>\n",
       "      <td>var()</td>\n",
       "      <td>EW moving variance</td>\n",
       "    </tr>\n",
       "    <tr>\n",
       "      <th>2</th>\n",
       "      <td>std()</td>\n",
       "      <td>EW moving standard deviation</td>\n",
       "    </tr>\n",
       "    <tr>\n",
       "      <th>3</th>\n",
       "      <td>corr()</td>\n",
       "      <td>EW moving correlation</td>\n",
       "    </tr>\n",
       "    <tr>\n",
       "      <th>4</th>\n",
       "      <td>cov()</td>\n",
       "      <td>EW moving covariance</td>\n",
       "    </tr>\n",
       "  </tbody>\n",
       "</table>\n",
       "</div>"
      ],
      "text/plain": [
       "  Function                   Description\n",
       "0   mean()             EW moving average\n",
       "1    var()            EW moving variance\n",
       "2    std()  EW moving standard deviation\n",
       "3   corr()         EW moving correlation\n",
       "4    cov()          EW moving covariance"
      ]
     },
     "execution_count": 37,
     "metadata": {},
     "output_type": "execute_result"
    }
   ],
   "source": [
    "pd.read_html('https://pandas.pydata.org/docs/user_guide/computation.html')[5]"
   ]
  },
  {
   "cell_type": "code",
   "execution_count": 38,
   "metadata": {},
   "outputs": [
    {
     "data": {
      "text/plain": [
       "2020-01-01 00:00:00    0.084849\n",
       "2020-01-01 00:00:01    1.037851\n",
       "2020-01-01 00:00:02    0.604136\n",
       "2020-01-01 00:00:03    0.258984\n",
       "2020-01-01 00:00:04    0.491399\n",
       "                         ...   \n",
       "2020-01-01 00:08:15   -0.306430\n",
       "2020-01-01 00:08:16   -0.332529\n",
       "2020-01-01 00:08:17   -0.346174\n",
       "2020-01-01 00:08:18   -0.246412\n",
       "2020-01-01 00:08:19   -0.157900\n",
       "Freq: S, Length: 500, dtype: float64"
      ]
     },
     "execution_count": 38,
     "metadata": {},
     "output_type": "execute_result"
    }
   ],
   "source": [
    "s.ewm(span=15).mean()"
   ]
  },
  {
   "cell_type": "code",
   "execution_count": 39,
   "metadata": {
    "scrolled": true
   },
   "outputs": [
    {
     "data": {
      "text/plain": [
       "2020-01-01 00:00:00    0.084849\n",
       "2020-01-01 00:00:01    0.984481\n",
       "2020-01-01 00:00:02    0.615454\n",
       "2020-01-01 00:00:03    0.320938\n",
       "2020-01-01 00:00:04    0.494389\n",
       "                         ...   \n",
       "2020-01-01 00:08:15   -0.074853\n",
       "2020-01-01 00:08:16   -0.080922\n",
       "2020-01-01 00:08:17   -0.085894\n",
       "2020-01-01 00:08:18   -0.078482\n",
       "2020-01-01 00:08:19   -0.071039\n",
       "Freq: S, Length: 500, dtype: float64"
      ]
     },
     "execution_count": 39,
     "metadata": {},
     "output_type": "execute_result"
    }
   ],
   "source": [
    "s.ewm(halflife=50).mean()"
   ]
  },
  {
   "cell_type": "code",
   "execution_count": 40,
   "metadata": {},
   "outputs": [
    {
     "data": {
      "text/plain": [
       "2020-01-01 00:00:00    0.084849\n",
       "2020-01-01 00:00:01    0.983837\n",
       "2020-01-01 00:00:02    0.615555\n",
       "2020-01-01 00:00:03    0.321642\n",
       "2020-01-01 00:00:04    0.494456\n",
       "                         ...   \n",
       "2020-01-01 00:08:15   -0.069464\n",
       "2020-01-01 00:08:16   -0.074979\n",
       "2020-01-01 00:08:17   -0.079515\n",
       "2020-01-01 00:08:18   -0.072941\n",
       "2020-01-01 00:08:19   -0.066328\n",
       "Freq: S, Length: 500, dtype: float64"
      ]
     },
     "execution_count": 40,
     "metadata": {},
     "output_type": "execute_result"
    }
   ],
   "source": [
    "s.ewm(com=80).mean()"
   ]
  }
 ],
 "metadata": {
  "kernelspec": {
   "display_name": "Python 3",
   "language": "python",
   "name": "python3"
  },
  "language_info": {
   "codemirror_mode": {
    "name": "ipython",
    "version": 3
   },
   "file_extension": ".py",
   "mimetype": "text/x-python",
   "name": "python",
   "nbconvert_exporter": "python",
   "pygments_lexer": "ipython3",
   "version": "3.8.5"
  }
 },
 "nbformat": 4,
 "nbformat_minor": 4
}
