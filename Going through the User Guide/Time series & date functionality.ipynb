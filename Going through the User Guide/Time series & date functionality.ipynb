{
 "cells": [
  {
   "cell_type": "code",
   "execution_count": 1,
   "metadata": {},
   "outputs": [],
   "source": [
    "import pandas as pd\n",
    "import numpy as np\n",
    "import datetime"
   ]
  },
  {
   "cell_type": "markdown",
   "metadata": {},
   "source": [
    "# Overview\n",
    "\n",
    "`pandas` captures 4 general time related concepts:\n",
    "\n",
    "- **Date times:** A specific date and time with timezone support. Similar to datetime.datetime from the standard library.\n",
    "- **Time deltas:** An absolute time duration. Similar to datetime.timedelta from the standard library.\n",
    "- **Time spans:** A span of time defined by a point in time and its associated frequency.\n",
    "- **Date offsets:** A relative time duration that respects calendar arithmetic. Similar to dateutil.relativedelta.relativedelta from the dateutil package."
   ]
  },
  {
   "cell_type": "markdown",
   "metadata": {},
   "source": [
    "### Parsing time series information from various sources and formats"
   ]
  },
  {
   "cell_type": "code",
   "execution_count": 2,
   "metadata": {},
   "outputs": [
    {
     "data": {
      "text/plain": [
       "DatetimeIndex(['2020-01-01', '2020-01-01', '2020-01-01'], dtype='datetime64[ns]', freq=None)"
      ]
     },
     "execution_count": 2,
     "metadata": {},
     "output_type": "execute_result"
    }
   ],
   "source": [
    "dti = pd.to_datetime(['1/1/2020', \n",
    "                      np.datetime64('2020-01-01'),\n",
    "                      datetime.datetime(2020, 1, 1)])\n",
    "   \n",
    "dti"
   ]
  },
  {
   "cell_type": "markdown",
   "metadata": {},
   "source": [
    "### Generate sequences of fixed-frequency dates and time spans"
   ]
  },
  {
   "cell_type": "code",
   "execution_count": 3,
   "metadata": {},
   "outputs": [
    {
     "data": {
      "text/plain": [
       "DatetimeIndex(['2020-01-01 00:00:00', '2020-01-01 01:00:00',\n",
       "               '2020-01-01 02:00:00', '2020-01-01 03:00:00',\n",
       "               '2020-01-01 04:00:00'],\n",
       "              dtype='datetime64[ns]', freq='H')"
      ]
     },
     "execution_count": 3,
     "metadata": {},
     "output_type": "execute_result"
    }
   ],
   "source": [
    "dti = pd.date_range('2020-01-01', periods=5, freq='H')\n",
    "dti"
   ]
  },
  {
   "cell_type": "markdown",
   "metadata": {},
   "source": [
    "### Manipulating and converting date times with timezone information"
   ]
  },
  {
   "cell_type": "code",
   "execution_count": 4,
   "metadata": {},
   "outputs": [
    {
     "data": {
      "text/plain": [
       "DatetimeIndex(['2020-01-01 00:00:00+00:00', '2020-01-01 01:00:00+00:00',\n",
       "               '2020-01-01 02:00:00+00:00', '2020-01-01 03:00:00+00:00',\n",
       "               '2020-01-01 04:00:00+00:00'],\n",
       "              dtype='datetime64[ns, UTC]', freq='H')"
      ]
     },
     "execution_count": 4,
     "metadata": {},
     "output_type": "execute_result"
    }
   ],
   "source": [
    "dti = dti.tz_localize('UTC')\n",
    "dti"
   ]
  },
  {
   "cell_type": "code",
   "execution_count": 5,
   "metadata": {},
   "outputs": [
    {
     "data": {
      "text/plain": [
       "DatetimeIndex(['2019-12-31 16:00:00-08:00', '2019-12-31 17:00:00-08:00',\n",
       "               '2019-12-31 18:00:00-08:00', '2019-12-31 19:00:00-08:00',\n",
       "               '2019-12-31 20:00:00-08:00'],\n",
       "              dtype='datetime64[ns, US/Pacific]', freq='H')"
      ]
     },
     "execution_count": 5,
     "metadata": {},
     "output_type": "execute_result"
    }
   ],
   "source": [
    "dti.tz_convert('US/Pacific')"
   ]
  },
  {
   "cell_type": "markdown",
   "metadata": {},
   "source": [
    "### Resampling or converting a time series to a particular frequency"
   ]
  },
  {
   "cell_type": "code",
   "execution_count": 6,
   "metadata": {},
   "outputs": [
    {
     "data": {
      "text/plain": [
       "2020-01-01 00:00:00    0\n",
       "2020-01-01 01:00:00    1\n",
       "2020-01-01 02:00:00    2\n",
       "2020-01-01 03:00:00    3\n",
       "2020-01-01 04:00:00    4\n",
       "2020-01-01 05:00:00    5\n",
       "2020-01-01 06:00:00    6\n",
       "2020-01-01 07:00:00    7\n",
       "Freq: H, dtype: int64"
      ]
     },
     "execution_count": 6,
     "metadata": {},
     "output_type": "execute_result"
    }
   ],
   "source": [
    "idx = pd.date_range('2020-01-01', periods=8, freq='H')\n",
    "\n",
    "ts = pd.Series(range(len(idx)), index=idx)\n",
    "ts"
   ]
  },
  {
   "cell_type": "code",
   "execution_count": 7,
   "metadata": {},
   "outputs": [
    {
     "data": {
      "text/plain": [
       "2020-01-01 00:00:00    0.5\n",
       "2020-01-01 02:00:00    2.5\n",
       "2020-01-01 04:00:00    4.5\n",
       "2020-01-01 06:00:00    6.5\n",
       "Freq: 2H, dtype: float64"
      ]
     },
     "execution_count": 7,
     "metadata": {},
     "output_type": "execute_result"
    }
   ],
   "source": [
    "ts.resample('2H').mean()"
   ]
  },
  {
   "cell_type": "markdown",
   "metadata": {},
   "source": [
    "### Performing date and time arithmetic with absolute or relative time increments"
   ]
  },
  {
   "cell_type": "code",
   "execution_count": 8,
   "metadata": {},
   "outputs": [
    {
     "data": {
      "text/plain": [
       "'Friday'"
      ]
     },
     "execution_count": 8,
     "metadata": {},
     "output_type": "execute_result"
    }
   ],
   "source": [
    "friday = pd.Timestamp('2020-01-03')\n",
    "friday.day_name()"
   ]
  },
  {
   "cell_type": "code",
   "execution_count": 9,
   "metadata": {},
   "outputs": [
    {
     "data": {
      "text/plain": [
       "'Saturday'"
      ]
     },
     "execution_count": 9,
     "metadata": {},
     "output_type": "execute_result"
    }
   ],
   "source": [
    "saturday = friday + pd.Timedelta('1 day') # Adding 1 day\n",
    "saturday.day_name()"
   ]
  },
  {
   "cell_type": "code",
   "execution_count": 10,
   "metadata": {},
   "outputs": [
    {
     "data": {
      "text/plain": [
       "'Monday'"
      ]
     },
     "execution_count": 10,
     "metadata": {},
     "output_type": "execute_result"
    }
   ],
   "source": [
    "monday = friday + pd.offsets.BDay() # Adding 1 business-day / weekday\n",
    "monday.day_name()"
   ]
  },
  {
   "cell_type": "markdown",
   "metadata": {},
   "source": [
    ">pandas represents null date times, time deltas, and time spans as `NaT` which is useful for representing missing or null date like values and behaves similar as `np.nan` does for float data."
   ]
  },
  {
   "cell_type": "code",
   "execution_count": 11,
   "metadata": {},
   "outputs": [
    {
     "data": {
      "text/plain": [
       "NaT"
      ]
     },
     "execution_count": 11,
     "metadata": {},
     "output_type": "execute_result"
    }
   ],
   "source": [
    "pd.Timestamp(pd.NaT)"
   ]
  },
  {
   "cell_type": "markdown",
   "metadata": {},
   "source": [
    "# 1. Timestamps vs. Time Spans"
   ]
  },
  {
   "cell_type": "markdown",
   "metadata": {},
   "source": [
    "## Timestamps\n",
    "Timestamped data is the most basic type of time series data that associates values with points in time. For pandas objects it means using the points in time."
   ]
  },
  {
   "cell_type": "code",
   "execution_count": 12,
   "metadata": {},
   "outputs": [
    {
     "data": {
      "text/plain": [
       "Timestamp('2020-05-01 00:00:00')"
      ]
     },
     "execution_count": 12,
     "metadata": {},
     "output_type": "execute_result"
    }
   ],
   "source": [
    "pd.Timestamp('2020-05-01')"
   ]
  },
  {
   "cell_type": "code",
   "execution_count": 13,
   "metadata": {},
   "outputs": [
    {
     "data": {
      "text/plain": [
       "Timestamp('2020-03-31 12:59:59')"
      ]
     },
     "execution_count": 13,
     "metadata": {},
     "output_type": "execute_result"
    }
   ],
   "source": [
    "pd.Timestamp(2020,3,31,12,59,59)"
   ]
  },
  {
   "cell_type": "markdown",
   "metadata": {},
   "source": [
    "## Timespans\n",
    "Timespans are handy for representing things like change variables. The span represented by `Period` can be specified explicitly, or inferred from datetime string format."
   ]
  },
  {
   "cell_type": "code",
   "execution_count": 14,
   "metadata": {},
   "outputs": [
    {
     "data": {
      "text/plain": [
       "Period('2020-01', 'M')"
      ]
     },
     "execution_count": 14,
     "metadata": {},
     "output_type": "execute_result"
    }
   ],
   "source": [
    "pd.Period('2020-01')"
   ]
  },
  {
   "cell_type": "code",
   "execution_count": 15,
   "metadata": {},
   "outputs": [
    {
     "data": {
      "text/plain": [
       "Period('2020-01-01 00:00', 'H')"
      ]
     },
     "execution_count": 15,
     "metadata": {},
     "output_type": "execute_result"
    }
   ],
   "source": [
    "pd.Period('2020-01', freq='H')"
   ]
  },
  {
   "cell_type": "markdown",
   "metadata": {},
   "source": [
    ">`Timestamp` and `Period` can serve as an index. Lists of Timestamp and Period are automatically coerced to `DatetimeIndex` and `PeriodIndex` respectively."
   ]
  },
  {
   "cell_type": "markdown",
   "metadata": {},
   "source": [
    "# Converting to timestamps\n",
    "To convert a Series or list-like object of date-like objects e.g. strings, epochs, or a mixture, you can use the `to_datetime` function. \n",
    "\n",
    "When passed a Series, this returns a Series (with the same index), while a list-like is converted to a DatetimeIndex:"
   ]
  },
  {
   "cell_type": "code",
   "execution_count": 16,
   "metadata": {},
   "outputs": [
    {
     "data": {
      "text/plain": [
       "0   2019-12-31\n",
       "1   2020-01-01\n",
       "2          NaT\n",
       "dtype: datetime64[ns]"
      ]
     },
     "execution_count": 16,
     "metadata": {},
     "output_type": "execute_result"
    }
   ],
   "source": [
    "pd.to_datetime(pd.Series(['Dec 31, 2019', '2020-01-01', None]))"
   ]
  },
  {
   "cell_type": "code",
   "execution_count": 17,
   "metadata": {},
   "outputs": [
    {
     "data": {
      "text/plain": [
       "DatetimeIndex(['2020-03-30', '2020-03-31', '2020-04-01'], dtype='datetime64[ns]', freq=None)"
      ]
     },
     "execution_count": 17,
     "metadata": {},
     "output_type": "execute_result"
    }
   ],
   "source": [
    " pd.to_datetime(['2020/03/30', '2020.3.31', '04-01-2020'])"
   ]
  },
  {
   "cell_type": "markdown",
   "metadata": {},
   "source": [
    ">If you use dates which start with the day first (i.e. European style), you can pass the `dayfirst` flag:"
   ]
  },
  {
   "cell_type": "code",
   "execution_count": 18,
   "metadata": {},
   "outputs": [
    {
     "data": {
      "text/plain": [
       "DatetimeIndex(['2020-03-30', '2020-03-31', '2020-01-04'], dtype='datetime64[ns]', freq=None)"
      ]
     },
     "execution_count": 18,
     "metadata": {},
     "output_type": "execute_result"
    }
   ],
   "source": [
    "pd.to_datetime(['2020/03/30', '2020.3.31', '04-01-2020'], dayfirst=True)"
   ]
  },
  {
   "cell_type": "markdown",
   "metadata": {},
   "source": [
    ">You can also use the `DatetimeIndex` constructor directly"
   ]
  },
  {
   "cell_type": "code",
   "execution_count": 19,
   "metadata": {},
   "outputs": [
    {
     "data": {
      "text/plain": [
       "DatetimeIndex(['2020-01-01', '2020-01-03', '2020-01-05'], dtype='datetime64[ns]', freq=None)"
      ]
     },
     "execution_count": 19,
     "metadata": {},
     "output_type": "execute_result"
    }
   ],
   "source": [
    "pd.DatetimeIndex(['2020-01-01', '2020-01-03', '2020-01-05'])"
   ]
  },
  {
   "cell_type": "markdown",
   "metadata": {},
   "source": [
    ">The string ‘infer’ can be passed in order to set the frequency of the index as the inferred frequency upon creation:"
   ]
  },
  {
   "cell_type": "code",
   "execution_count": 20,
   "metadata": {},
   "outputs": [
    {
     "data": {
      "text/plain": [
       "DatetimeIndex(['2020-01-01', '2020-01-03', '2020-01-05'], dtype='datetime64[ns]', freq='2D')"
      ]
     },
     "execution_count": 20,
     "metadata": {},
     "output_type": "execute_result"
    }
   ],
   "source": [
    "pd.DatetimeIndex(['2020-01-01', '2020-01-03', '2020-01-05'], freq='infer')"
   ]
  },
  {
   "cell_type": "markdown",
   "metadata": {},
   "source": [
    "## Providing a format argument"
   ]
  },
  {
   "cell_type": "code",
   "execution_count": 21,
   "metadata": {},
   "outputs": [
    {
     "data": {
      "text/plain": [
       "Timestamp('2020-03-31 00:00:00')"
      ]
     },
     "execution_count": 21,
     "metadata": {},
     "output_type": "execute_result"
    }
   ],
   "source": [
    "pd.to_datetime('2020/03/31', format='%Y/%m/%d')"
   ]
  },
  {
   "cell_type": "code",
   "execution_count": 22,
   "metadata": {},
   "outputs": [
    {
     "data": {
      "text/plain": [
       "Timestamp('2020-03-31 12:59:00')"
      ]
     },
     "execution_count": 22,
     "metadata": {},
     "output_type": "execute_result"
    }
   ],
   "source": [
    "pd.to_datetime('31-03-2020 12:59', format='%d-%m-%Y %H:%M')"
   ]
  },
  {
   "cell_type": "markdown",
   "metadata": {},
   "source": [
    "## Assembling datetime from multiple DataFrame columns"
   ]
  },
  {
   "cell_type": "code",
   "execution_count": 23,
   "metadata": {},
   "outputs": [
    {
     "data": {
      "text/html": [
       "<div>\n",
       "<style scoped>\n",
       "    .dataframe tbody tr th:only-of-type {\n",
       "        vertical-align: middle;\n",
       "    }\n",
       "\n",
       "    .dataframe tbody tr th {\n",
       "        vertical-align: top;\n",
       "    }\n",
       "\n",
       "    .dataframe thead th {\n",
       "        text-align: right;\n",
       "    }\n",
       "</style>\n",
       "<table border=\"1\" class=\"dataframe\">\n",
       "  <thead>\n",
       "    <tr style=\"text-align: right;\">\n",
       "      <th></th>\n",
       "      <th>year</th>\n",
       "      <th>month</th>\n",
       "      <th>day</th>\n",
       "      <th>hour</th>\n",
       "    </tr>\n",
       "  </thead>\n",
       "  <tbody>\n",
       "    <tr>\n",
       "      <th>0</th>\n",
       "      <td>2019</td>\n",
       "      <td>3</td>\n",
       "      <td>31</td>\n",
       "      <td>23</td>\n",
       "    </tr>\n",
       "    <tr>\n",
       "      <th>1</th>\n",
       "      <td>2020</td>\n",
       "      <td>4</td>\n",
       "      <td>1</td>\n",
       "      <td>0</td>\n",
       "    </tr>\n",
       "  </tbody>\n",
       "</table>\n",
       "</div>"
      ],
      "text/plain": [
       "   year  month  day  hour\n",
       "0  2019      3   31    23\n",
       "1  2020      4    1     0"
      ]
     },
     "execution_count": 23,
     "metadata": {},
     "output_type": "execute_result"
    }
   ],
   "source": [
    "df = pd.DataFrame({'year': [2019, 2020],\n",
    "                   'month': [3, 4],\n",
    "                   'day': [31, 1],\n",
    "                   'hour': [23, 0]})\n",
    "df"
   ]
  },
  {
   "cell_type": "code",
   "execution_count": 24,
   "metadata": {},
   "outputs": [
    {
     "data": {
      "text/plain": [
       "0   2019-03-31 23:00:00\n",
       "1   2020-04-01 00:00:00\n",
       "dtype: datetime64[ns]"
      ]
     },
     "execution_count": 24,
     "metadata": {},
     "output_type": "execute_result"
    }
   ],
   "source": [
    "pd.to_datetime(df)"
   ]
  },
  {
   "cell_type": "code",
   "execution_count": 25,
   "metadata": {},
   "outputs": [
    {
     "data": {
      "text/plain": [
       "0   2019-03-31\n",
       "1   2020-04-01\n",
       "dtype: datetime64[ns]"
      ]
     },
     "execution_count": 25,
     "metadata": {},
     "output_type": "execute_result"
    }
   ],
   "source": [
    "pd.to_datetime(df[['year', 'month', 'day']])"
   ]
  },
  {
   "cell_type": "markdown",
   "metadata": {},
   "source": [
    "## Invalid data\n",
    "The default behavior, `errors='raise'`, is to raise when unparseable:"
   ]
  },
  {
   "cell_type": "code",
   "execution_count": 26,
   "metadata": {},
   "outputs": [
    {
     "ename": "ParserError",
     "evalue": "Unknown string format: asd",
     "output_type": "error",
     "traceback": [
      "\u001b[0;31m---------------------------------------------------------------------------\u001b[0m",
      "\u001b[0;31mTypeError\u001b[0m                                 Traceback (most recent call last)",
      "\u001b[0;32m~/Projects/learning-pandas/venv/lib/python3.6/site-packages/pandas/core/arrays/datetimes.py\u001b[0m in \u001b[0;36mobjects_to_datetime64ns\u001b[0;34m(data, dayfirst, yearfirst, utc, errors, require_iso8601, allow_object)\u001b[0m\n\u001b[1;32m   1857\u001b[0m         \u001b[0;32mtry\u001b[0m\u001b[0;34m:\u001b[0m\u001b[0;34m\u001b[0m\u001b[0;34m\u001b[0m\u001b[0m\n\u001b[0;32m-> 1858\u001b[0;31m             \u001b[0mvalues\u001b[0m\u001b[0;34m,\u001b[0m \u001b[0mtz_parsed\u001b[0m \u001b[0;34m=\u001b[0m \u001b[0mconversion\u001b[0m\u001b[0;34m.\u001b[0m\u001b[0mdatetime_to_datetime64\u001b[0m\u001b[0;34m(\u001b[0m\u001b[0mdata\u001b[0m\u001b[0;34m)\u001b[0m\u001b[0;34m\u001b[0m\u001b[0;34m\u001b[0m\u001b[0m\n\u001b[0m\u001b[1;32m   1859\u001b[0m             \u001b[0;31m# If tzaware, these values represent unix timestamps, so we\u001b[0m\u001b[0;34m\u001b[0m\u001b[0;34m\u001b[0m\u001b[0;34m\u001b[0m\u001b[0m\n",
      "\u001b[0;32mpandas/_libs/tslibs/conversion.pyx\u001b[0m in \u001b[0;36mpandas._libs.tslibs.conversion.datetime_to_datetime64\u001b[0;34m()\u001b[0m\n",
      "\u001b[0;31mTypeError\u001b[0m: Unrecognized value type: <class 'str'>",
      "\nDuring handling of the above exception, another exception occurred:\n",
      "\u001b[0;31mParserError\u001b[0m                               Traceback (most recent call last)",
      "\u001b[0;32m<ipython-input-26-5f97cab785fb>\u001b[0m in \u001b[0;36m<module>\u001b[0;34m\u001b[0m\n\u001b[0;32m----> 1\u001b[0;31m \u001b[0mpd\u001b[0m\u001b[0;34m.\u001b[0m\u001b[0mto_datetime\u001b[0m\u001b[0;34m(\u001b[0m\u001b[0;34m[\u001b[0m\u001b[0;34m'2020/03/31'\u001b[0m\u001b[0;34m,\u001b[0m \u001b[0;34m'asd'\u001b[0m\u001b[0;34m]\u001b[0m\u001b[0;34m)\u001b[0m\u001b[0;34m\u001b[0m\u001b[0;34m\u001b[0m\u001b[0m\n\u001b[0m",
      "\u001b[0;32m~/Projects/learning-pandas/venv/lib/python3.6/site-packages/pandas/core/tools/datetimes.py\u001b[0m in \u001b[0;36mto_datetime\u001b[0;34m(arg, errors, dayfirst, yearfirst, utc, format, exact, unit, infer_datetime_format, origin, cache)\u001b[0m\n\u001b[1;32m    752\u001b[0m             \u001b[0mresult\u001b[0m \u001b[0;34m=\u001b[0m \u001b[0m_convert_and_box_cache\u001b[0m\u001b[0;34m(\u001b[0m\u001b[0marg\u001b[0m\u001b[0;34m,\u001b[0m \u001b[0mcache_array\u001b[0m\u001b[0;34m)\u001b[0m\u001b[0;34m\u001b[0m\u001b[0;34m\u001b[0m\u001b[0m\n\u001b[1;32m    753\u001b[0m         \u001b[0;32melse\u001b[0m\u001b[0;34m:\u001b[0m\u001b[0;34m\u001b[0m\u001b[0;34m\u001b[0m\u001b[0m\n\u001b[0;32m--> 754\u001b[0;31m             \u001b[0mresult\u001b[0m \u001b[0;34m=\u001b[0m \u001b[0mconvert_listlike\u001b[0m\u001b[0;34m(\u001b[0m\u001b[0marg\u001b[0m\u001b[0;34m,\u001b[0m \u001b[0mformat\u001b[0m\u001b[0;34m)\u001b[0m\u001b[0;34m\u001b[0m\u001b[0;34m\u001b[0m\u001b[0m\n\u001b[0m\u001b[1;32m    755\u001b[0m     \u001b[0;32melse\u001b[0m\u001b[0;34m:\u001b[0m\u001b[0;34m\u001b[0m\u001b[0;34m\u001b[0m\u001b[0m\n\u001b[1;32m    756\u001b[0m         \u001b[0mresult\u001b[0m \u001b[0;34m=\u001b[0m \u001b[0mconvert_listlike\u001b[0m\u001b[0;34m(\u001b[0m\u001b[0mnp\u001b[0m\u001b[0;34m.\u001b[0m\u001b[0marray\u001b[0m\u001b[0;34m(\u001b[0m\u001b[0;34m[\u001b[0m\u001b[0marg\u001b[0m\u001b[0;34m]\u001b[0m\u001b[0;34m)\u001b[0m\u001b[0;34m,\u001b[0m \u001b[0mformat\u001b[0m\u001b[0;34m)\u001b[0m\u001b[0;34m[\u001b[0m\u001b[0;36m0\u001b[0m\u001b[0;34m]\u001b[0m\u001b[0;34m\u001b[0m\u001b[0;34m\u001b[0m\u001b[0m\n",
      "\u001b[0;32m~/Projects/learning-pandas/venv/lib/python3.6/site-packages/pandas/core/tools/datetimes.py\u001b[0m in \u001b[0;36m_convert_listlike_datetimes\u001b[0;34m(arg, format, name, tz, unit, errors, infer_datetime_format, dayfirst, yearfirst, exact)\u001b[0m\n\u001b[1;32m    445\u001b[0m             \u001b[0merrors\u001b[0m\u001b[0;34m=\u001b[0m\u001b[0merrors\u001b[0m\u001b[0;34m,\u001b[0m\u001b[0;34m\u001b[0m\u001b[0;34m\u001b[0m\u001b[0m\n\u001b[1;32m    446\u001b[0m             \u001b[0mrequire_iso8601\u001b[0m\u001b[0;34m=\u001b[0m\u001b[0mrequire_iso8601\u001b[0m\u001b[0;34m,\u001b[0m\u001b[0;34m\u001b[0m\u001b[0;34m\u001b[0m\u001b[0m\n\u001b[0;32m--> 447\u001b[0;31m             \u001b[0mallow_object\u001b[0m\u001b[0;34m=\u001b[0m\u001b[0;32mTrue\u001b[0m\u001b[0;34m,\u001b[0m\u001b[0;34m\u001b[0m\u001b[0;34m\u001b[0m\u001b[0m\n\u001b[0m\u001b[1;32m    448\u001b[0m         )\n\u001b[1;32m    449\u001b[0m \u001b[0;34m\u001b[0m\u001b[0m\n",
      "\u001b[0;32m~/Projects/learning-pandas/venv/lib/python3.6/site-packages/pandas/core/arrays/datetimes.py\u001b[0m in \u001b[0;36mobjects_to_datetime64ns\u001b[0;34m(data, dayfirst, yearfirst, utc, errors, require_iso8601, allow_object)\u001b[0m\n\u001b[1;32m   1861\u001b[0m             \u001b[0;32mreturn\u001b[0m \u001b[0mvalues\u001b[0m\u001b[0;34m.\u001b[0m\u001b[0mview\u001b[0m\u001b[0;34m(\u001b[0m\u001b[0;34m\"i8\"\u001b[0m\u001b[0;34m)\u001b[0m\u001b[0;34m,\u001b[0m \u001b[0mtz_parsed\u001b[0m\u001b[0;34m\u001b[0m\u001b[0;34m\u001b[0m\u001b[0m\n\u001b[1;32m   1862\u001b[0m         \u001b[0;32mexcept\u001b[0m \u001b[0;34m(\u001b[0m\u001b[0mValueError\u001b[0m\u001b[0;34m,\u001b[0m \u001b[0mTypeError\u001b[0m\u001b[0;34m)\u001b[0m\u001b[0;34m:\u001b[0m\u001b[0;34m\u001b[0m\u001b[0;34m\u001b[0m\u001b[0m\n\u001b[0;32m-> 1863\u001b[0;31m             \u001b[0;32mraise\u001b[0m \u001b[0me\u001b[0m\u001b[0;34m\u001b[0m\u001b[0;34m\u001b[0m\u001b[0m\n\u001b[0m\u001b[1;32m   1864\u001b[0m \u001b[0;34m\u001b[0m\u001b[0m\n\u001b[1;32m   1865\u001b[0m     \u001b[0;32mif\u001b[0m \u001b[0mtz_parsed\u001b[0m \u001b[0;32mis\u001b[0m \u001b[0;32mnot\u001b[0m \u001b[0;32mNone\u001b[0m\u001b[0;34m:\u001b[0m\u001b[0;34m\u001b[0m\u001b[0;34m\u001b[0m\u001b[0m\n",
      "\u001b[0;32m~/Projects/learning-pandas/venv/lib/python3.6/site-packages/pandas/core/arrays/datetimes.py\u001b[0m in \u001b[0;36mobjects_to_datetime64ns\u001b[0;34m(data, dayfirst, yearfirst, utc, errors, require_iso8601, allow_object)\u001b[0m\n\u001b[1;32m   1852\u001b[0m             \u001b[0mdayfirst\u001b[0m\u001b[0;34m=\u001b[0m\u001b[0mdayfirst\u001b[0m\u001b[0;34m,\u001b[0m\u001b[0;34m\u001b[0m\u001b[0;34m\u001b[0m\u001b[0m\n\u001b[1;32m   1853\u001b[0m             \u001b[0myearfirst\u001b[0m\u001b[0;34m=\u001b[0m\u001b[0myearfirst\u001b[0m\u001b[0;34m,\u001b[0m\u001b[0;34m\u001b[0m\u001b[0;34m\u001b[0m\u001b[0m\n\u001b[0;32m-> 1854\u001b[0;31m             \u001b[0mrequire_iso8601\u001b[0m\u001b[0;34m=\u001b[0m\u001b[0mrequire_iso8601\u001b[0m\u001b[0;34m,\u001b[0m\u001b[0;34m\u001b[0m\u001b[0;34m\u001b[0m\u001b[0m\n\u001b[0m\u001b[1;32m   1855\u001b[0m         )\n\u001b[1;32m   1856\u001b[0m     \u001b[0;32mexcept\u001b[0m \u001b[0mValueError\u001b[0m \u001b[0;32mas\u001b[0m \u001b[0me\u001b[0m\u001b[0;34m:\u001b[0m\u001b[0;34m\u001b[0m\u001b[0;34m\u001b[0m\u001b[0m\n",
      "\u001b[0;32mpandas/_libs/tslib.pyx\u001b[0m in \u001b[0;36mpandas._libs.tslib.array_to_datetime\u001b[0;34m()\u001b[0m\n",
      "\u001b[0;32mpandas/_libs/tslib.pyx\u001b[0m in \u001b[0;36mpandas._libs.tslib.array_to_datetime\u001b[0;34m()\u001b[0m\n",
      "\u001b[0;32mpandas/_libs/tslib.pyx\u001b[0m in \u001b[0;36mpandas._libs.tslib.array_to_datetime_object\u001b[0;34m()\u001b[0m\n",
      "\u001b[0;32mpandas/_libs/tslib.pyx\u001b[0m in \u001b[0;36mpandas._libs.tslib.array_to_datetime_object\u001b[0;34m()\u001b[0m\n",
      "\u001b[0;32mpandas/_libs/tslibs/parsing.pyx\u001b[0m in \u001b[0;36mpandas._libs.tslibs.parsing.parse_datetime_string\u001b[0;34m()\u001b[0m\n",
      "\u001b[0;32m~/Projects/learning-pandas/venv/lib/python3.6/site-packages/dateutil/parser/_parser.py\u001b[0m in \u001b[0;36mparse\u001b[0;34m(timestr, parserinfo, **kwargs)\u001b[0m\n\u001b[1;32m   1372\u001b[0m         \u001b[0;32mreturn\u001b[0m \u001b[0mparser\u001b[0m\u001b[0;34m(\u001b[0m\u001b[0mparserinfo\u001b[0m\u001b[0;34m)\u001b[0m\u001b[0;34m.\u001b[0m\u001b[0mparse\u001b[0m\u001b[0;34m(\u001b[0m\u001b[0mtimestr\u001b[0m\u001b[0;34m,\u001b[0m \u001b[0;34m**\u001b[0m\u001b[0mkwargs\u001b[0m\u001b[0;34m)\u001b[0m\u001b[0;34m\u001b[0m\u001b[0;34m\u001b[0m\u001b[0m\n\u001b[1;32m   1373\u001b[0m     \u001b[0;32melse\u001b[0m\u001b[0;34m:\u001b[0m\u001b[0;34m\u001b[0m\u001b[0;34m\u001b[0m\u001b[0m\n\u001b[0;32m-> 1374\u001b[0;31m         \u001b[0;32mreturn\u001b[0m \u001b[0mDEFAULTPARSER\u001b[0m\u001b[0;34m.\u001b[0m\u001b[0mparse\u001b[0m\u001b[0;34m(\u001b[0m\u001b[0mtimestr\u001b[0m\u001b[0;34m,\u001b[0m \u001b[0;34m**\u001b[0m\u001b[0mkwargs\u001b[0m\u001b[0;34m)\u001b[0m\u001b[0;34m\u001b[0m\u001b[0;34m\u001b[0m\u001b[0m\n\u001b[0m\u001b[1;32m   1375\u001b[0m \u001b[0;34m\u001b[0m\u001b[0m\n\u001b[1;32m   1376\u001b[0m \u001b[0;34m\u001b[0m\u001b[0m\n",
      "\u001b[0;32m~/Projects/learning-pandas/venv/lib/python3.6/site-packages/dateutil/parser/_parser.py\u001b[0m in \u001b[0;36mparse\u001b[0;34m(self, timestr, default, ignoretz, tzinfos, **kwargs)\u001b[0m\n\u001b[1;32m    647\u001b[0m \u001b[0;34m\u001b[0m\u001b[0m\n\u001b[1;32m    648\u001b[0m         \u001b[0;32mif\u001b[0m \u001b[0mres\u001b[0m \u001b[0;32mis\u001b[0m \u001b[0;32mNone\u001b[0m\u001b[0;34m:\u001b[0m\u001b[0;34m\u001b[0m\u001b[0;34m\u001b[0m\u001b[0m\n\u001b[0;32m--> 649\u001b[0;31m             \u001b[0;32mraise\u001b[0m \u001b[0mParserError\u001b[0m\u001b[0;34m(\u001b[0m\u001b[0;34m\"Unknown string format: %s\"\u001b[0m\u001b[0;34m,\u001b[0m \u001b[0mtimestr\u001b[0m\u001b[0;34m)\u001b[0m\u001b[0;34m\u001b[0m\u001b[0;34m\u001b[0m\u001b[0m\n\u001b[0m\u001b[1;32m    650\u001b[0m \u001b[0;34m\u001b[0m\u001b[0m\n\u001b[1;32m    651\u001b[0m         \u001b[0;32mif\u001b[0m \u001b[0mlen\u001b[0m\u001b[0;34m(\u001b[0m\u001b[0mres\u001b[0m\u001b[0;34m)\u001b[0m \u001b[0;34m==\u001b[0m \u001b[0;36m0\u001b[0m\u001b[0;34m:\u001b[0m\u001b[0;34m\u001b[0m\u001b[0;34m\u001b[0m\u001b[0m\n",
      "\u001b[0;31mParserError\u001b[0m: Unknown string format: asd"
     ]
    }
   ],
   "source": [
    "pd.to_datetime(['2020/03/31', 'asd'])"
   ]
  },
  {
   "cell_type": "markdown",
   "metadata": {},
   "source": [
    ">Pass `errors='ignore'` to return the original input when unparseable"
   ]
  },
  {
   "cell_type": "code",
   "execution_count": 27,
   "metadata": {},
   "outputs": [
    {
     "data": {
      "text/plain": [
       "Index(['2020/03/31', 'asd'], dtype='object')"
      ]
     },
     "execution_count": 27,
     "metadata": {},
     "output_type": "execute_result"
    }
   ],
   "source": [
    "pd.to_datetime(['2020/03/31', 'asd'], errors='ignore')"
   ]
  },
  {
   "cell_type": "markdown",
   "metadata": {},
   "source": [
    ">Pass `errors='coerce'` to convert unparseable data to NaT (not a time)"
   ]
  },
  {
   "cell_type": "code",
   "execution_count": 28,
   "metadata": {},
   "outputs": [
    {
     "data": {
      "text/plain": [
       "DatetimeIndex(['2020-03-31', 'NaT'], dtype='datetime64[ns]', freq=None)"
      ]
     },
     "execution_count": 28,
     "metadata": {},
     "output_type": "execute_result"
    }
   ],
   "source": [
    "pd.to_datetime(['2020/03/31', 'asd'], errors='coerce')"
   ]
  },
  {
   "cell_type": "markdown",
   "metadata": {},
   "source": [
    "## Epoch timestamps\n",
    "\n",
    "*pandas* supports converting integer or float epoch times to `Timestamp` and `DatetimeIndex`. The default unit is nanoseconds, since that is how Timestamp objects are stored internally. However, epochs are often stored in another `unit` which can be specified. These are computed from the starting point specified by the `origin` parameter."
   ]
  },
  {
   "cell_type": "code",
   "execution_count": 29,
   "metadata": {},
   "outputs": [
    {
     "data": {
      "text/plain": [
       "Timestamp('2020-03-31 12:59:00')"
      ]
     },
     "execution_count": 29,
     "metadata": {},
     "output_type": "execute_result"
    }
   ],
   "source": [
    "pd.Timestamp(1585659540000000000)"
   ]
  },
  {
   "cell_type": "code",
   "execution_count": 30,
   "metadata": {},
   "outputs": [
    {
     "data": {
      "text/plain": [
       "Timestamp('2020-03-31 12:59:00')"
      ]
     },
     "execution_count": 30,
     "metadata": {},
     "output_type": "execute_result"
    }
   ],
   "source": [
    "pd.to_datetime(1585659540000000000)"
   ]
  },
  {
   "cell_type": "code",
   "execution_count": 31,
   "metadata": {
    "scrolled": true
   },
   "outputs": [
    {
     "data": {
      "text/plain": [
       "Timestamp('2020-03-31 12:59:00')"
      ]
     },
     "execution_count": 31,
     "metadata": {},
     "output_type": "execute_result"
    }
   ],
   "source": [
    "pd.to_datetime(1585659540000, unit='ms')"
   ]
  },
  {
   "cell_type": "code",
   "execution_count": 32,
   "metadata": {},
   "outputs": [
    {
     "data": {
      "text/plain": [
       "Timestamp('2020-03-31 12:59:00')"
      ]
     },
     "execution_count": 32,
     "metadata": {},
     "output_type": "execute_result"
    }
   ],
   "source": [
    "pd.to_datetime(1585659540, unit='s')"
   ]
  },
  {
   "cell_type": "markdown",
   "metadata": {},
   "source": [
    "## From timestamps to epoch\n",
    "This can be done by subtracting the epoch (midnight at January 1, 1970 UTC) and then floor dividing by the “unit”."
   ]
  },
  {
   "cell_type": "code",
   "execution_count": 33,
   "metadata": {},
   "outputs": [
    {
     "data": {
      "text/plain": [
       "1585659540"
      ]
     },
     "execution_count": 33,
     "metadata": {},
     "output_type": "execute_result"
    }
   ],
   "source": [
    "(pd.to_datetime(1585659540, unit='s')-pd.Timestamp('1970-01-01')) // pd.Timedelta('1s')"
   ]
  },
  {
   "cell_type": "code",
   "execution_count": 34,
   "metadata": {},
   "outputs": [
    {
     "data": {
      "text/plain": [
       "1585659540000000000"
      ]
     },
     "execution_count": 34,
     "metadata": {},
     "output_type": "execute_result"
    }
   ],
   "source": [
    "(pd.to_datetime('2020-03-31 12:59')-pd.Timestamp('1970-01-01')) // pd.Timedelta('1ns')"
   ]
  },
  {
   "cell_type": "markdown",
   "metadata": {},
   "source": [
    "## Using the origin Parameter\n",
    "Using the `origin` parameter, one can specify an alternative starting point for creation of a `DatetimeIndex`. "
   ]
  },
  {
   "cell_type": "code",
   "execution_count": 35,
   "metadata": {},
   "outputs": [
    {
     "data": {
      "text/plain": [
       "DatetimeIndex(['1900-01-02', '1900-01-03', '1900-01-04'], dtype='datetime64[ns]', freq=None)"
      ]
     },
     "execution_count": 35,
     "metadata": {},
     "output_type": "execute_result"
    }
   ],
   "source": [
    "pd.to_datetime([1, 2, 3], unit='D', origin=pd.Timestamp('1900-01-01'))"
   ]
  },
  {
   "cell_type": "markdown",
   "metadata": {},
   "source": [
    ">The default is set at `origin='unix'`, which defaults to `1970-01-01 00:00:00`. Commonly called **‘unix epoch’** or **POSIX time**."
   ]
  },
  {
   "cell_type": "markdown",
   "metadata": {},
   "source": [
    "# 3. Generating ranges of timestamps\n",
    "We can use the `date_range()` and `bdate_range()` functions to create a `DatetimeIndex`. The default frequency for date_range is a *calendar day* while the default for bdate_range is a *business day*:"
   ]
  },
  {
   "cell_type": "code",
   "execution_count": 36,
   "metadata": {},
   "outputs": [
    {
     "data": {
      "text/plain": [
       "DatetimeIndex(['2019-01-01', '2019-01-02', '2019-01-03', '2019-01-04',\n",
       "               '2019-01-05', '2019-01-06', '2019-01-07', '2019-01-08',\n",
       "               '2019-01-09', '2019-01-10',\n",
       "               ...\n",
       "               '2020-12-22', '2020-12-23', '2020-12-24', '2020-12-25',\n",
       "               '2020-12-26', '2020-12-27', '2020-12-28', '2020-12-29',\n",
       "               '2020-12-30', '2020-12-31'],\n",
       "              dtype='datetime64[ns]', length=731, freq='D')"
      ]
     },
     "execution_count": 36,
     "metadata": {},
     "output_type": "execute_result"
    }
   ],
   "source": [
    "start = datetime.datetime(2019, 1, 1)\n",
    "end = datetime.datetime(2020, 12, 31)\n",
    "\n",
    "index = pd.date_range(start, end)\n",
    "index"
   ]
  },
  {
   "cell_type": "code",
   "execution_count": 37,
   "metadata": {},
   "outputs": [
    {
     "data": {
      "text/plain": [
       "DatetimeIndex(['2019-01-01', '2019-01-02', '2019-01-03', '2019-01-04',\n",
       "               '2019-01-07', '2019-01-08', '2019-01-09', '2019-01-10',\n",
       "               '2019-01-11', '2019-01-14',\n",
       "               ...\n",
       "               '2020-12-18', '2020-12-21', '2020-12-22', '2020-12-23',\n",
       "               '2020-12-24', '2020-12-25', '2020-12-28', '2020-12-29',\n",
       "               '2020-12-30', '2020-12-31'],\n",
       "              dtype='datetime64[ns]', length=523, freq='B')"
      ]
     },
     "execution_count": 37,
     "metadata": {},
     "output_type": "execute_result"
    }
   ],
   "source": [
    "index = pd.bdate_range(start, end)\n",
    "index"
   ]
  },
  {
   "cell_type": "markdown",
   "metadata": {},
   "source": [
    ">Convenience functions like `date_range` and `bdate_range` can utilize a variety of **frequency aliases**:"
   ]
  },
  {
   "cell_type": "code",
   "execution_count": 38,
   "metadata": {},
   "outputs": [
    {
     "data": {
      "text/plain": [
       "DatetimeIndex(['2019-03-31', '2019-06-30', '2019-09-30', '2019-12-31',\n",
       "               '2020-03-31', '2020-06-30', '2020-09-30', '2020-12-31',\n",
       "               '2021-03-31', '2021-06-30', '2021-09-30', '2021-12-31',\n",
       "               '2022-03-31', '2022-06-30', '2022-09-30', '2022-12-31',\n",
       "               '2023-03-31', '2023-06-30', '2023-09-30', '2023-12-31'],\n",
       "              dtype='datetime64[ns]', freq='Q-DEC')"
      ]
     },
     "execution_count": 38,
     "metadata": {},
     "output_type": "execute_result"
    }
   ],
   "source": [
    " pd.date_range(start, periods=20, freq='Q')"
   ]
  },
  {
   "cell_type": "code",
   "execution_count": 39,
   "metadata": {},
   "outputs": [
    {
     "data": {
      "text/plain": [
       "DatetimeIndex(['2019-01-01', '2019-01-15', '2019-02-01', '2019-02-15',\n",
       "               '2019-03-01', '2019-03-15', '2019-04-01', '2019-04-15',\n",
       "               '2019-05-01', '2019-05-15',\n",
       "               ...\n",
       "               '2060-04-01', '2060-04-15', '2060-05-01', '2060-05-15',\n",
       "               '2060-06-01', '2060-06-15', '2060-07-01', '2060-07-15',\n",
       "               '2060-08-01', '2060-08-15'],\n",
       "              dtype='datetime64[ns]', length=1000, freq='SMS-15')"
      ]
     },
     "execution_count": 39,
     "metadata": {},
     "output_type": "execute_result"
    }
   ],
   "source": [
    " pd.date_range(start, periods=1000, freq='SMS')"
   ]
  },
  {
   "cell_type": "markdown",
   "metadata": {},
   "source": [
    ">Specifying `start`, `end`, and `periods` will generate a range of evenly spaced dates from *start* to *end* inclusively, with *periods* number of elements in the resulting `DatetimeIndex`"
   ]
  },
  {
   "cell_type": "code",
   "execution_count": 40,
   "metadata": {},
   "outputs": [
    {
     "data": {
      "text/plain": [
       "DatetimeIndex(['2019-01-01 00:00:00', '2019-01-01 10:40:00',\n",
       "               '2019-01-01 21:20:00', '2019-01-02 08:00:00',\n",
       "               '2019-01-02 18:40:00', '2019-01-03 05:20:00',\n",
       "               '2019-01-03 16:00:00', '2019-01-04 02:40:00',\n",
       "               '2019-01-04 13:20:00', '2019-01-05 00:00:00'],\n",
       "              dtype='datetime64[ns]', freq=None)"
      ]
     },
     "execution_count": 40,
     "metadata": {},
     "output_type": "execute_result"
    }
   ],
   "source": [
    "pd.date_range('2019-01-01', '2019-01-05', periods=10)"
   ]
  },
  {
   "cell_type": "markdown",
   "metadata": {},
   "source": [
    "## Custom frequency ranges\n",
    "`bdate_range` can also generate a range of custom frequency dates by using the `weekmask` and `holidays` parameters. These parameters will only be used if a custom frequency string is passed."
   ]
  },
  {
   "cell_type": "code",
   "execution_count": 41,
   "metadata": {},
   "outputs": [
    {
     "data": {
      "text/plain": [
       "DatetimeIndex(['2019-01-02', '2019-01-04', '2019-01-07', '2019-01-09',\n",
       "               '2019-01-11', '2019-01-14', '2019-01-16', '2019-01-18',\n",
       "               '2019-01-21', '2019-01-23',\n",
       "               ...\n",
       "               '2020-12-09', '2020-12-11', '2020-12-14', '2020-12-16',\n",
       "               '2020-12-18', '2020-12-21', '2020-12-23', '2020-12-25',\n",
       "               '2020-12-28', '2020-12-30'],\n",
       "              dtype='datetime64[ns]', length=313, freq='C')"
      ]
     },
     "execution_count": 41,
     "metadata": {},
     "output_type": "execute_result"
    }
   ],
   "source": [
    "weekmask = 'Mon Wed Fri'\n",
    "holidays = [datetime.datetime(2011, 1, 5), datetime.datetime(2011, 3, 14)]\n",
    "\n",
    "pd.bdate_range(start, end, freq='C', weekmask=weekmask, holidays=holidays)"
   ]
  },
  {
   "cell_type": "code",
   "execution_count": 42,
   "metadata": {},
   "outputs": [
    {
     "data": {
      "text/plain": [
       "DatetimeIndex(['2019-01-02', '2019-02-01', '2019-03-01', '2019-04-01',\n",
       "               '2019-05-01', '2019-06-03', '2019-07-01', '2019-08-02',\n",
       "               '2019-09-02', '2019-10-02', '2019-11-01', '2019-12-02',\n",
       "               '2020-01-01', '2020-02-03', '2020-03-02', '2020-04-01',\n",
       "               '2020-05-01', '2020-06-01', '2020-07-01', '2020-08-03',\n",
       "               '2020-09-02', '2020-10-02', '2020-11-02', '2020-12-02'],\n",
       "              dtype='datetime64[ns]', freq='CBMS')"
      ]
     },
     "execution_count": 42,
     "metadata": {},
     "output_type": "execute_result"
    }
   ],
   "source": [
    "pd.bdate_range(start, end, freq='CBMS', weekmask=weekmask)"
   ]
  },
  {
   "cell_type": "markdown",
   "metadata": {},
   "source": [
    "# 4. Timestamp limitations\n",
    "Since pandas represents timestamps in nanosecond resolution, the time span that can be represented using a 64-bit integer is limited to approximately 584 years"
   ]
  },
  {
   "cell_type": "code",
   "execution_count": 43,
   "metadata": {},
   "outputs": [
    {
     "data": {
      "text/plain": [
       "Timestamp('1677-09-21 00:12:43.145225')"
      ]
     },
     "execution_count": 43,
     "metadata": {},
     "output_type": "execute_result"
    }
   ],
   "source": [
    "pd.Timestamp.min"
   ]
  },
  {
   "cell_type": "code",
   "execution_count": 44,
   "metadata": {},
   "outputs": [
    {
     "data": {
      "text/plain": [
       "Timestamp('2262-04-11 23:47:16.854775807')"
      ]
     },
     "execution_count": 44,
     "metadata": {},
     "output_type": "execute_result"
    }
   ],
   "source": [
    "pd.Timestamp.max"
   ]
  },
  {
   "cell_type": "markdown",
   "metadata": {},
   "source": [
    "# 5. Indexing\n",
    "One of the main uses for `DatetimeIndex` is as an index for pandas objects. The `DatetimeIndex` class contains many time series related optimizations:\n",
    "\n",
    "- A large range of dates for various offsets are pre-computed and cached under the hood in order to make generating subsequent date ranges very fast (just have to grab a slice).\n",
    "\n",
    "- Fast shifting using the `shift` and `tshift` method on pandas objects.\n",
    "\n",
    "- Unioning of overlapping `DatetimeIndex` objects with the same frequency is very fast (important for fast data alignment).\n",
    "\n",
    "- Quick access to date fields via properties such as year, month, etc.\n",
    "\n",
    "- Regularization functions like `snap` and very fast `asof` logic."
   ]
  },
  {
   "cell_type": "markdown",
   "metadata": {},
   "source": [
    "## Partial string indexing\n",
    "Dates and strings that parse to timestamps can be passed as indexing parameters"
   ]
  },
  {
   "cell_type": "code",
   "execution_count": 45,
   "metadata": {
    "scrolled": true
   },
   "outputs": [
    {
     "data": {
      "text/plain": [
       "2019-01-31   -0.393824\n",
       "2019-02-28    1.440254\n",
       "2019-03-29   -0.143648\n",
       "2019-04-30    0.654265\n",
       "2019-05-31   -0.118227\n",
       "2019-06-28   -1.035523\n",
       "2019-07-31    0.259739\n",
       "2019-08-30    0.112128\n",
       "2019-09-30    1.003163\n",
       "2019-10-31   -0.356965\n",
       "2019-11-29    0.206974\n",
       "2019-12-31    1.981269\n",
       "2020-01-31    1.409143\n",
       "2020-02-28    0.421594\n",
       "2020-03-31   -0.984618\n",
       "2020-04-30   -0.467787\n",
       "2020-05-29   -0.347008\n",
       "2020-06-30   -0.181093\n",
       "2020-07-31    0.802217\n",
       "2020-08-31    1.241751\n",
       "2020-09-30    0.992803\n",
       "2020-10-30    0.646566\n",
       "2020-11-30   -0.815503\n",
       "2020-12-31    1.425884\n",
       "Freq: BM, dtype: float64"
      ]
     },
     "execution_count": 45,
     "metadata": {},
     "output_type": "execute_result"
    }
   ],
   "source": [
    "rng = pd.date_range(start, end, freq='BM')\n",
    "ts = pd.Series(np.random.randn(len(rng)), index=rng)\n",
    "ts"
   ]
  },
  {
   "cell_type": "code",
   "execution_count": 46,
   "metadata": {},
   "outputs": [
    {
     "data": {
      "text/plain": [
       "-0.3938237743876534"
      ]
     },
     "execution_count": 46,
     "metadata": {},
     "output_type": "execute_result"
    }
   ],
   "source": [
    "ts['1/31/2019']"
   ]
  },
  {
   "cell_type": "code",
   "execution_count": 47,
   "metadata": {},
   "outputs": [
    {
     "data": {
      "text/plain": [
       "2019-12-31    1.981269\n",
       "2020-01-31    1.409143\n",
       "2020-02-28    0.421594\n",
       "2020-03-31   -0.984618\n",
       "2020-04-30   -0.467787\n",
       "2020-05-29   -0.347008\n",
       "2020-06-30   -0.181093\n",
       "Freq: BM, dtype: float64"
      ]
     },
     "execution_count": 47,
     "metadata": {},
     "output_type": "execute_result"
    }
   ],
   "source": [
    "ts['12/01/2019':'6/30/2020']"
   ]
  },
  {
   "cell_type": "code",
   "execution_count": 48,
   "metadata": {},
   "outputs": [
    {
     "data": {
      "text/plain": [
       "2020-01-31    1.409143\n",
       "2020-02-28    0.421594\n",
       "2020-03-31   -0.984618\n",
       "2020-04-30   -0.467787\n",
       "2020-05-29   -0.347008\n",
       "2020-06-30   -0.181093\n",
       "2020-07-31    0.802217\n",
       "2020-08-31    1.241751\n",
       "2020-09-30    0.992803\n",
       "2020-10-30    0.646566\n",
       "2020-11-30   -0.815503\n",
       "2020-12-31    1.425884\n",
       "Freq: BM, dtype: float64"
      ]
     },
     "execution_count": 48,
     "metadata": {},
     "output_type": "execute_result"
    }
   ],
   "source": [
    "ts['2020']"
   ]
  },
  {
   "cell_type": "code",
   "execution_count": 49,
   "metadata": {},
   "outputs": [
    {
     "data": {
      "text/plain": [
       "2019-07-31    0.259739\n",
       "Freq: BM, dtype: float64"
      ]
     },
     "execution_count": 49,
     "metadata": {},
     "output_type": "execute_result"
    }
   ],
   "source": [
    "ts['2019-7']"
   ]
  },
  {
   "cell_type": "code",
   "execution_count": 50,
   "metadata": {
    "scrolled": false
   },
   "outputs": [
    {
     "data": {
      "text/html": [
       "<div>\n",
       "<style scoped>\n",
       "    .dataframe tbody tr th:only-of-type {\n",
       "        vertical-align: middle;\n",
       "    }\n",
       "\n",
       "    .dataframe tbody tr th {\n",
       "        vertical-align: top;\n",
       "    }\n",
       "\n",
       "    .dataframe thead th {\n",
       "        text-align: right;\n",
       "    }\n",
       "</style>\n",
       "<table border=\"1\" class=\"dataframe\">\n",
       "  <thead>\n",
       "    <tr style=\"text-align: right;\">\n",
       "      <th></th>\n",
       "      <th>A</th>\n",
       "    </tr>\n",
       "  </thead>\n",
       "  <tbody>\n",
       "    <tr>\n",
       "      <th>2020-01-01 00:00:00</th>\n",
       "      <td>-0.923275</td>\n",
       "    </tr>\n",
       "    <tr>\n",
       "      <th>2020-01-01 00:01:00</th>\n",
       "      <td>-0.310598</td>\n",
       "    </tr>\n",
       "    <tr>\n",
       "      <th>2020-01-01 00:02:00</th>\n",
       "      <td>1.826602</td>\n",
       "    </tr>\n",
       "    <tr>\n",
       "      <th>2020-01-01 00:03:00</th>\n",
       "      <td>0.886112</td>\n",
       "    </tr>\n",
       "    <tr>\n",
       "      <th>2020-01-01 00:04:00</th>\n",
       "      <td>0.054675</td>\n",
       "    </tr>\n",
       "    <tr>\n",
       "      <th>...</th>\n",
       "      <td>...</td>\n",
       "    </tr>\n",
       "    <tr>\n",
       "      <th>2020-03-10 10:35:00</th>\n",
       "      <td>1.212410</td>\n",
       "    </tr>\n",
       "    <tr>\n",
       "      <th>2020-03-10 10:36:00</th>\n",
       "      <td>1.719235</td>\n",
       "    </tr>\n",
       "    <tr>\n",
       "      <th>2020-03-10 10:37:00</th>\n",
       "      <td>0.116507</td>\n",
       "    </tr>\n",
       "    <tr>\n",
       "      <th>2020-03-10 10:38:00</th>\n",
       "      <td>1.935006</td>\n",
       "    </tr>\n",
       "    <tr>\n",
       "      <th>2020-03-10 10:39:00</th>\n",
       "      <td>-0.529848</td>\n",
       "    </tr>\n",
       "  </tbody>\n",
       "</table>\n",
       "<p>100000 rows × 1 columns</p>\n",
       "</div>"
      ],
      "text/plain": [
       "                            A\n",
       "2020-01-01 00:00:00 -0.923275\n",
       "2020-01-01 00:01:00 -0.310598\n",
       "2020-01-01 00:02:00  1.826602\n",
       "2020-01-01 00:03:00  0.886112\n",
       "2020-01-01 00:04:00  0.054675\n",
       "...                       ...\n",
       "2020-03-10 10:35:00  1.212410\n",
       "2020-03-10 10:36:00  1.719235\n",
       "2020-03-10 10:37:00  0.116507\n",
       "2020-03-10 10:38:00  1.935006\n",
       "2020-03-10 10:39:00 -0.529848\n",
       "\n",
       "[100000 rows x 1 columns]"
      ]
     },
     "execution_count": 50,
     "metadata": {},
     "output_type": "execute_result"
    }
   ],
   "source": [
    "dft = pd.DataFrame(np.random.randn(100000, 1), columns=['A'],\n",
    "                   index=pd.date_range('20200101', periods=100000, freq='T'))\n",
    "    \n",
    "dft"
   ]
  },
  {
   "cell_type": "code",
   "execution_count": 51,
   "metadata": {},
   "outputs": [
    {
     "data": {
      "text/html": [
       "<div>\n",
       "<style scoped>\n",
       "    .dataframe tbody tr th:only-of-type {\n",
       "        vertical-align: middle;\n",
       "    }\n",
       "\n",
       "    .dataframe tbody tr th {\n",
       "        vertical-align: top;\n",
       "    }\n",
       "\n",
       "    .dataframe thead th {\n",
       "        text-align: right;\n",
       "    }\n",
       "</style>\n",
       "<table border=\"1\" class=\"dataframe\">\n",
       "  <thead>\n",
       "    <tr style=\"text-align: right;\">\n",
       "      <th></th>\n",
       "      <th>A</th>\n",
       "    </tr>\n",
       "  </thead>\n",
       "  <tbody>\n",
       "    <tr>\n",
       "      <th>2020-01-01 00:00:00</th>\n",
       "      <td>-0.923275</td>\n",
       "    </tr>\n",
       "    <tr>\n",
       "      <th>2020-01-01 00:01:00</th>\n",
       "      <td>-0.310598</td>\n",
       "    </tr>\n",
       "    <tr>\n",
       "      <th>2020-01-01 00:02:00</th>\n",
       "      <td>1.826602</td>\n",
       "    </tr>\n",
       "    <tr>\n",
       "      <th>2020-01-01 00:03:00</th>\n",
       "      <td>0.886112</td>\n",
       "    </tr>\n",
       "    <tr>\n",
       "      <th>2020-01-01 00:04:00</th>\n",
       "      <td>0.054675</td>\n",
       "    </tr>\n",
       "    <tr>\n",
       "      <th>...</th>\n",
       "      <td>...</td>\n",
       "    </tr>\n",
       "    <tr>\n",
       "      <th>2020-02-29 23:55:00</th>\n",
       "      <td>0.480544</td>\n",
       "    </tr>\n",
       "    <tr>\n",
       "      <th>2020-02-29 23:56:00</th>\n",
       "      <td>-1.251689</td>\n",
       "    </tr>\n",
       "    <tr>\n",
       "      <th>2020-02-29 23:57:00</th>\n",
       "      <td>-0.097411</td>\n",
       "    </tr>\n",
       "    <tr>\n",
       "      <th>2020-02-29 23:58:00</th>\n",
       "      <td>-2.014863</td>\n",
       "    </tr>\n",
       "    <tr>\n",
       "      <th>2020-02-29 23:59:00</th>\n",
       "      <td>1.135061</td>\n",
       "    </tr>\n",
       "  </tbody>\n",
       "</table>\n",
       "<p>86400 rows × 1 columns</p>\n",
       "</div>"
      ],
      "text/plain": [
       "                            A\n",
       "2020-01-01 00:00:00 -0.923275\n",
       "2020-01-01 00:01:00 -0.310598\n",
       "2020-01-01 00:02:00  1.826602\n",
       "2020-01-01 00:03:00  0.886112\n",
       "2020-01-01 00:04:00  0.054675\n",
       "...                       ...\n",
       "2020-02-29 23:55:00  0.480544\n",
       "2020-02-29 23:56:00 -1.251689\n",
       "2020-02-29 23:57:00 -0.097411\n",
       "2020-02-29 23:58:00 -2.014863\n",
       "2020-02-29 23:59:00  1.135061\n",
       "\n",
       "[86400 rows x 1 columns]"
      ]
     },
     "execution_count": 51,
     "metadata": {},
     "output_type": "execute_result"
    }
   ],
   "source": [
    "dft['2020-1':'2020-2']"
   ]
  },
  {
   "cell_type": "code",
   "execution_count": 52,
   "metadata": {},
   "outputs": [
    {
     "data": {
      "text/html": [
       "<div>\n",
       "<style scoped>\n",
       "    .dataframe tbody tr th:only-of-type {\n",
       "        vertical-align: middle;\n",
       "    }\n",
       "\n",
       "    .dataframe tbody tr th {\n",
       "        vertical-align: top;\n",
       "    }\n",
       "\n",
       "    .dataframe thead th {\n",
       "        text-align: right;\n",
       "    }\n",
       "</style>\n",
       "<table border=\"1\" class=\"dataframe\">\n",
       "  <thead>\n",
       "    <tr style=\"text-align: right;\">\n",
       "      <th></th>\n",
       "      <th>A</th>\n",
       "    </tr>\n",
       "  </thead>\n",
       "  <tbody>\n",
       "    <tr>\n",
       "      <th>2020-02-01 00:00:00</th>\n",
       "      <td>-1.287485</td>\n",
       "    </tr>\n",
       "    <tr>\n",
       "      <th>2020-02-01 00:01:00</th>\n",
       "      <td>0.605932</td>\n",
       "    </tr>\n",
       "    <tr>\n",
       "      <th>2020-02-01 00:02:00</th>\n",
       "      <td>1.527507</td>\n",
       "    </tr>\n",
       "    <tr>\n",
       "      <th>2020-02-01 00:03:00</th>\n",
       "      <td>0.241946</td>\n",
       "    </tr>\n",
       "    <tr>\n",
       "      <th>2020-02-01 00:04:00</th>\n",
       "      <td>0.651482</td>\n",
       "    </tr>\n",
       "    <tr>\n",
       "      <th>...</th>\n",
       "      <td>...</td>\n",
       "    </tr>\n",
       "    <tr>\n",
       "      <th>2020-02-29 22:57:00</th>\n",
       "      <td>-0.439443</td>\n",
       "    </tr>\n",
       "    <tr>\n",
       "      <th>2020-02-29 22:58:00</th>\n",
       "      <td>2.020856</td>\n",
       "    </tr>\n",
       "    <tr>\n",
       "      <th>2020-02-29 22:59:00</th>\n",
       "      <td>-0.623054</td>\n",
       "    </tr>\n",
       "    <tr>\n",
       "      <th>2020-02-29 23:00:00</th>\n",
       "      <td>-0.978171</td>\n",
       "    </tr>\n",
       "    <tr>\n",
       "      <th>2020-02-29 23:01:00</th>\n",
       "      <td>0.420089</td>\n",
       "    </tr>\n",
       "  </tbody>\n",
       "</table>\n",
       "<p>41702 rows × 1 columns</p>\n",
       "</div>"
      ],
      "text/plain": [
       "                            A\n",
       "2020-02-01 00:00:00 -1.287485\n",
       "2020-02-01 00:01:00  0.605932\n",
       "2020-02-01 00:02:00  1.527507\n",
       "2020-02-01 00:03:00  0.241946\n",
       "2020-02-01 00:04:00  0.651482\n",
       "...                       ...\n",
       "2020-02-29 22:57:00 -0.439443\n",
       "2020-02-29 22:58:00  2.020856\n",
       "2020-02-29 22:59:00 -0.623054\n",
       "2020-02-29 23:00:00 -0.978171\n",
       "2020-02-29 23:01:00  0.420089\n",
       "\n",
       "[41702 rows x 1 columns]"
      ]
     },
     "execution_count": 52,
     "metadata": {},
     "output_type": "execute_result"
    }
   ],
   "source": [
    "dft['2020-2':'2020-2-29 23:01']"
   ]
  },
  {
   "cell_type": "markdown",
   "metadata": {},
   "source": [
    "## Slice vs. exact match\n",
    "The same string used as an indexing parameter can be treated either as a slice or as an exact match depending on the resolution of the index. If the string is less accurate than the index, it will be treated as a slice, otherwise as an exact match."
   ]
  },
  {
   "cell_type": "code",
   "execution_count": 53,
   "metadata": {},
   "outputs": [
    {
     "data": {
      "text/plain": [
       "'minute'"
      ]
     },
     "execution_count": 53,
     "metadata": {},
     "output_type": "execute_result"
    }
   ],
   "source": [
    "series_minute = pd.Series([1, 2, 3],\n",
    "                           pd.DatetimeIndex(['2011-12-31 23:59:00',\n",
    "                                             '2012-01-01 00:00:00',\n",
    "                                             '2012-01-01 00:02:00']))\n",
    "   \n",
    "series_minute.index.resolution"
   ]
  },
  {
   "cell_type": "code",
   "execution_count": 54,
   "metadata": {},
   "outputs": [
    {
     "data": {
      "text/plain": [
       "2011-12-31 23:59:00    1\n",
       "dtype: int64"
      ]
     },
     "execution_count": 54,
     "metadata": {},
     "output_type": "execute_result"
    }
   ],
   "source": [
    "# A timestamp string less accurate than a minute gives a Series object.\n",
    "series_minute['2011-12-31 23']"
   ]
  },
  {
   "cell_type": "code",
   "execution_count": 55,
   "metadata": {},
   "outputs": [
    {
     "data": {
      "text/plain": [
       "1"
      ]
     },
     "execution_count": 55,
     "metadata": {},
     "output_type": "execute_result"
    }
   ],
   "source": [
    "# A timestamp string with minute resolution (or more accurate), gives a scalar instead: not casted to a slice.\n",
    "series_minute['2011-12-31 23:59:00']"
   ]
  },
  {
   "cell_type": "markdown",
   "metadata": {},
   "source": [
    ">Note that `DatetimeIndex` resolution cannot be less precise than day"
   ]
  },
  {
   "cell_type": "code",
   "execution_count": 56,
   "metadata": {},
   "outputs": [
    {
     "data": {
      "text/plain": [
       "'day'"
      ]
     },
     "execution_count": 56,
     "metadata": {},
     "output_type": "execute_result"
    }
   ],
   "source": [
    "series_monthly = pd.Series([1, 2, 3], pd.DatetimeIndex(['2011-12', '2012-01', '2012-02'])) \n",
    "\n",
    "series_monthly.index.resolution"
   ]
  },
  {
   "cell_type": "markdown",
   "metadata": {},
   "source": [
    "## Exact indexing\n",
    "Indexing with `Timestamp` or `datetime` objects is exact, because the objects have exact meaning. `Timestamp` and `datetime` objects have exact `hours`, `minutes`, and `seconds`, even though they were not explicitly specified (they are 0)."
   ]
  },
  {
   "cell_type": "code",
   "execution_count": 60,
   "metadata": {},
   "outputs": [
    {
     "data": {
      "text/html": [
       "<div>\n",
       "<style scoped>\n",
       "    .dataframe tbody tr th:only-of-type {\n",
       "        vertical-align: middle;\n",
       "    }\n",
       "\n",
       "    .dataframe tbody tr th {\n",
       "        vertical-align: top;\n",
       "    }\n",
       "\n",
       "    .dataframe thead th {\n",
       "        text-align: right;\n",
       "    }\n",
       "</style>\n",
       "<table border=\"1\" class=\"dataframe\">\n",
       "  <thead>\n",
       "    <tr style=\"text-align: right;\">\n",
       "      <th></th>\n",
       "      <th>A</th>\n",
       "    </tr>\n",
       "  </thead>\n",
       "  <tbody>\n",
       "    <tr>\n",
       "      <th>2020-01-01 00:00:00</th>\n",
       "      <td>-0.923275</td>\n",
       "    </tr>\n",
       "    <tr>\n",
       "      <th>2020-01-01 00:01:00</th>\n",
       "      <td>-0.310598</td>\n",
       "    </tr>\n",
       "    <tr>\n",
       "      <th>2020-01-01 00:02:00</th>\n",
       "      <td>1.826602</td>\n",
       "    </tr>\n",
       "    <tr>\n",
       "      <th>2020-01-01 00:03:00</th>\n",
       "      <td>0.886112</td>\n",
       "    </tr>\n",
       "    <tr>\n",
       "      <th>2020-01-01 00:04:00</th>\n",
       "      <td>0.054675</td>\n",
       "    </tr>\n",
       "    <tr>\n",
       "      <th>...</th>\n",
       "      <td>...</td>\n",
       "    </tr>\n",
       "    <tr>\n",
       "      <th>2020-02-28 23:56:00</th>\n",
       "      <td>0.067157</td>\n",
       "    </tr>\n",
       "    <tr>\n",
       "      <th>2020-02-28 23:57:00</th>\n",
       "      <td>-0.319324</td>\n",
       "    </tr>\n",
       "    <tr>\n",
       "      <th>2020-02-28 23:58:00</th>\n",
       "      <td>1.467121</td>\n",
       "    </tr>\n",
       "    <tr>\n",
       "      <th>2020-02-28 23:59:00</th>\n",
       "      <td>1.525607</td>\n",
       "    </tr>\n",
       "    <tr>\n",
       "      <th>2020-02-29 00:00:00</th>\n",
       "      <td>-0.226152</td>\n",
       "    </tr>\n",
       "  </tbody>\n",
       "</table>\n",
       "<p>84961 rows × 1 columns</p>\n",
       "</div>"
      ],
      "text/plain": [
       "                            A\n",
       "2020-01-01 00:00:00 -0.923275\n",
       "2020-01-01 00:01:00 -0.310598\n",
       "2020-01-01 00:02:00  1.826602\n",
       "2020-01-01 00:03:00  0.886112\n",
       "2020-01-01 00:04:00  0.054675\n",
       "...                       ...\n",
       "2020-02-28 23:56:00  0.067157\n",
       "2020-02-28 23:57:00 -0.319324\n",
       "2020-02-28 23:58:00  1.467121\n",
       "2020-02-28 23:59:00  1.525607\n",
       "2020-02-29 00:00:00 -0.226152\n",
       "\n",
       "[84961 rows x 1 columns]"
      ]
     },
     "execution_count": 60,
     "metadata": {},
     "output_type": "execute_result"
    }
   ],
   "source": [
    "dft[datetime.datetime(2020, 1, 1):datetime.datetime(2020, 2, 29)]"
   ]
  },
  {
   "cell_type": "code",
   "execution_count": 61,
   "metadata": {},
   "outputs": [
    {
     "data": {
      "text/html": [
       "<div>\n",
       "<style scoped>\n",
       "    .dataframe tbody tr th:only-of-type {\n",
       "        vertical-align: middle;\n",
       "    }\n",
       "\n",
       "    .dataframe tbody tr th {\n",
       "        vertical-align: top;\n",
       "    }\n",
       "\n",
       "    .dataframe thead th {\n",
       "        text-align: right;\n",
       "    }\n",
       "</style>\n",
       "<table border=\"1\" class=\"dataframe\">\n",
       "  <thead>\n",
       "    <tr style=\"text-align: right;\">\n",
       "      <th></th>\n",
       "      <th>A</th>\n",
       "    </tr>\n",
       "  </thead>\n",
       "  <tbody>\n",
       "    <tr>\n",
       "      <th>2020-01-01 07:00:00</th>\n",
       "      <td>-0.015184</td>\n",
       "    </tr>\n",
       "    <tr>\n",
       "      <th>2020-01-01 07:01:00</th>\n",
       "      <td>0.797302</td>\n",
       "    </tr>\n",
       "    <tr>\n",
       "      <th>2020-01-01 07:02:00</th>\n",
       "      <td>-1.315721</td>\n",
       "    </tr>\n",
       "    <tr>\n",
       "      <th>2020-01-01 07:03:00</th>\n",
       "      <td>0.303624</td>\n",
       "    </tr>\n",
       "    <tr>\n",
       "      <th>2020-01-01 07:04:00</th>\n",
       "      <td>0.575186</td>\n",
       "    </tr>\n",
       "    <tr>\n",
       "      <th>...</th>\n",
       "      <td>...</td>\n",
       "    </tr>\n",
       "    <tr>\n",
       "      <th>2020-02-29 16:55:00</th>\n",
       "      <td>0.664465</td>\n",
       "    </tr>\n",
       "    <tr>\n",
       "      <th>2020-02-29 16:56:00</th>\n",
       "      <td>0.220941</td>\n",
       "    </tr>\n",
       "    <tr>\n",
       "      <th>2020-02-29 16:57:00</th>\n",
       "      <td>-0.642853</td>\n",
       "    </tr>\n",
       "    <tr>\n",
       "      <th>2020-02-29 16:58:00</th>\n",
       "      <td>-0.526146</td>\n",
       "    </tr>\n",
       "    <tr>\n",
       "      <th>2020-02-29 16:59:00</th>\n",
       "      <td>1.088064</td>\n",
       "    </tr>\n",
       "  </tbody>\n",
       "</table>\n",
       "<p>85560 rows × 1 columns</p>\n",
       "</div>"
      ],
      "text/plain": [
       "                            A\n",
       "2020-01-01 07:00:00 -0.015184\n",
       "2020-01-01 07:01:00  0.797302\n",
       "2020-01-01 07:02:00 -1.315721\n",
       "2020-01-01 07:03:00  0.303624\n",
       "2020-01-01 07:04:00  0.575186\n",
       "...                       ...\n",
       "2020-02-29 16:55:00  0.664465\n",
       "2020-02-29 16:56:00  0.220941\n",
       "2020-02-29 16:57:00 -0.642853\n",
       "2020-02-29 16:58:00 -0.526146\n",
       "2020-02-29 16:59:00  1.088064\n",
       "\n",
       "[85560 rows x 1 columns]"
      ]
     },
     "execution_count": 61,
     "metadata": {},
     "output_type": "execute_result"
    }
   ],
   "source": [
    "dft[datetime.datetime(2020, 1, 1,7,0,0):datetime.datetime(2020, 2, 29,16,59,0)]"
   ]
  },
  {
   "cell_type": "markdown",
   "metadata": {},
   "source": [
    "## Truncating & fancy indexing\n",
    "`truncate` assumes a 0 value for any unspecified date component in a `DatetimeIndex` in contrast to slicing which returns any partially matching dates."
   ]
  },
  {
   "cell_type": "code",
   "execution_count": 67,
   "metadata": {},
   "outputs": [
    {
     "data": {
      "text/plain": [
       "2019-11-03    0.422895\n",
       "2019-11-10   -0.082756\n",
       "2019-11-17    0.174714\n",
       "2019-11-24    0.480963\n",
       "2019-12-01    0.586385\n",
       "Freq: W-SUN, dtype: float64"
      ]
     },
     "execution_count": 67,
     "metadata": {},
     "output_type": "execute_result"
    }
   ],
   "source": [
    "rng2 = pd.date_range('2019-01-01', '2020-01-01', freq='W')\n",
    "\n",
    "ts2 = pd.Series(np.random.randn(len(rng2)), index=rng2)\n",
    "ts2.truncate(before='2019-7', after='2019-8')"
   ]
  },
  {
   "cell_type": "code",
   "execution_count": 68,
   "metadata": {},
   "outputs": [
    {
     "data": {
      "text/plain": [
       "2019-07-07   -1.081856\n",
       "2019-07-14   -0.542833\n",
       "2019-07-21   -1.589458\n",
       "2019-07-28   -2.347431\n",
       "2019-08-04    1.361603\n",
       "2019-08-11   -0.070880\n",
       "2019-08-18   -0.995301\n",
       "2019-08-25   -0.640804\n",
       "Freq: W-SUN, dtype: float64"
      ]
     },
     "execution_count": 68,
     "metadata": {},
     "output_type": "execute_result"
    }
   ],
   "source": [
    "ts2['2019-7':'2019-8']"
   ]
  },
  {
   "cell_type": "markdown",
   "metadata": {},
   "source": [
    "> Even complicated fancy indexing that breaks the `DatetimeIndex` frequency regularity will result in a `DatetimeIndex`, although frequency is lost"
   ]
  },
  {
   "cell_type": "code",
   "execution_count": 69,
   "metadata": {},
   "outputs": [
    {
     "data": {
      "text/plain": [
       "DatetimeIndex(['2019-01-06', '2019-01-20', '2019-03-03', '2019-04-28'], dtype='datetime64[ns]', freq=None)"
      ]
     },
     "execution_count": 69,
     "metadata": {},
     "output_type": "execute_result"
    }
   ],
   "source": [
    "ts2[[0, 2, 8, 16]].index"
   ]
  },
  {
   "cell_type": "code",
   "execution_count": 70,
   "metadata": {},
   "outputs": [
    {
     "data": {
      "text/plain": [
       "DatetimeIndex(['2019-01-06', '2019-01-13', '2019-01-20', '2019-01-27',\n",
       "               '2019-02-03', '2019-02-10', '2019-02-17', '2019-02-24',\n",
       "               '2019-03-03', '2019-03-10', '2019-03-17', '2019-03-24',\n",
       "               '2019-03-31', '2019-04-07', '2019-04-14', '2019-04-21',\n",
       "               '2019-04-28', '2019-05-05', '2019-05-12', '2019-05-19',\n",
       "               '2019-05-26', '2019-06-02', '2019-06-09', '2019-06-16',\n",
       "               '2019-06-23', '2019-06-30', '2019-07-07', '2019-07-14',\n",
       "               '2019-07-21', '2019-07-28', '2019-08-04', '2019-08-11',\n",
       "               '2019-08-18', '2019-08-25', '2019-09-01', '2019-09-08',\n",
       "               '2019-09-15', '2019-09-22', '2019-09-29', '2019-10-06',\n",
       "               '2019-10-13', '2019-10-20', '2019-10-27', '2019-11-03',\n",
       "               '2019-11-10', '2019-11-17', '2019-11-24', '2019-12-01',\n",
       "               '2019-12-08', '2019-12-15', '2019-12-22', '2019-12-29'],\n",
       "              dtype='datetime64[ns]', freq='W-SUN')"
      ]
     },
     "execution_count": 70,
     "metadata": {},
     "output_type": "execute_result"
    }
   ],
   "source": [
    "ts2.index"
   ]
  },
  {
   "cell_type": "markdown",
   "metadata": {},
   "source": [
    "# 6. Time/date components"
   ]
  },
  {
   "cell_type": "markdown",
   "metadata": {},
   "source": [
    "Property | Description\n",
    "--- | ---\n",
    "year | The year of the datetime\n",
    "month | The month of the datetime\n",
    "day | The days of the datetime\n",
    "hour | The hour of the datetime\n",
    "minute | The minutes of the datetime\n",
    "second | The seconds of the datetime\n",
    "microsecond | The microseconds of the datetime\n",
    "nanosecond | The nanoseconds of the datetime\n",
    "date | Returns datetime.date (does not contain timezone information)\n",
    "time | Returns datetime.time (does not contain timezone information)\n",
    "timetz | Returns datetime.time as local time with timezone information\n",
    "dayofyear | The ordinal day of year\n",
    "weekofyear | The week ordinal of the year\n",
    "week | The week ordinal of the year\n",
    "dayofweek | The number of the day of the week with Monday=0, Sunday=6\n",
    "weekday | The number of the day of the week with Monday=0, Sunday=6\n",
    "quarter | Quarter of the date: Jan-Mar = 1, Apr-Jun = 2, etc.\n",
    "days_in_month | The number of days in the month of the datetime\n",
    "is_month_start | Logical indicating if first day of month (defined by frequency)\n",
    "is_month_end | Logical indicating if last day of month (defined by frequency)\n",
    "is_quarter_start | Logical indicating if first day of quarter (defined by frequency)\n",
    "is_quarter_end | Logical indicating if last day of quarter (defined by frequency)\n",
    "is_year_start | Logical indicating if first day of year (defined by frequency)\n",
    "is_year_end | Logical indicating if last day of year (defined by frequency)\n",
    "is_leap_year | Logical indicating if the date belongs to a leap year"
   ]
  },
  {
   "cell_type": "markdown",
   "metadata": {},
   "source": [
    ">  If you have a `Series` with datetime-like values, you can access these properties via the `.dt` accessor"
   ]
  },
  {
   "cell_type": "markdown",
   "metadata": {},
   "source": [
    "# 7. DateOffset objects\n",
    "Frequency strings (e.g. 'D') map to a `DateOffset` object and its subclasses. \n",
    "\n",
    "A `DateOffset` is similar to a `Timedelta` that represents a duration of time, but follows specific calendar duration rules. A `DateOffset` day will increment `datetimes` to the same time the next day whether a day represents 23, 24 or 25 hours due to [daylight savings time](https://en.wikipedia.org/wiki/Daylight_saving_time). "
   ]
  },
  {
   "cell_type": "markdown",
   "metadata": {},
   "source": [
    "Date Offset | Frequency String | Description\n",
    "--- | --- | ---\n",
    "DateOffset | None | Generic offset class, defaults to 1 calendar day\n",
    "BDay or BusinessDay | 'B' | business day (weekday)\n",
    "CDay or CustomBusinessDay | 'C' | custom business day\n",
    "Week | 'W' | one week, optionally anchored on a day of the week\n",
    "WeekOfMonth | 'WOM' | the x-th day of the y-th week of each month\n",
    "LastWeekOfMonth | 'LWOM' | the x-th day of the last week of each month\n",
    "MonthEnd | 'M' | calendar month end\n",
    "MonthBegin | 'MS' | calendar month begin\n",
    "BMonthEnd or BusinessMonthEnd | 'BM' | business month end\n",
    "BMonthBegin or BusinessMonthBegin | 'BMS' | business month begin\n",
    "CBMonthEnd or CustomBusinessMonthEnd | 'CBM' | custom business month end\n",
    "CBMonthBegin or CustomBusinessMonthBegin | 'CBMS' | custom business month begin\n",
    "SemiMonthEnd | 'SM' | 15th (or other day_of_month) and calendar month end\n",
    "SemiMonthBegin | 'SMS' | 15th (or other day_of_month) and calendar month begin\n",
    "QuarterEnd | 'Q' | calendar quarter end\n",
    "QuarterBegin | 'QS' | calendar quarter begin\n",
    "BQuarterEnd | 'BQ | business quarter end\n",
    "BQuarterBegin | 'BQS' | business quarter begin\n",
    "FY5253Quarter | 'REQ' | retail (aka 52-53 week) quarter\n",
    "YearEnd | 'A' | calendar year end\n",
    "YearBegin | 'AS' or 'BYS' | calendar year begin\n",
    "BYearEnd | 'BA' | business year end\n",
    "BYearBegin | 'BAS' | business year begin\n",
    "FY5253 | 'RE' | retail (aka 52-53 week) year\n",
    "Easter | None | Easter holiday\n",
    "BusinessHour | 'BH' | business hour\n",
    "CustomBusinessHour | 'CBH' | custom business hour\n",
    "Day | 'D' | one absolute day\n",
    "Hour | 'H' | one hour\n",
    "Minute | 'T' or 'min' | one minute\n",
    "Second | 'S' | one second\n",
    "Milli | 'L' or 'ms' | one millisecond\n",
    "Micro | 'U' or 'us' | one microsecond\n",
    "Nano | 'N' | one nanosecond"
   ]
  },
  {
   "cell_type": "markdown",
   "metadata": {},
   "source": [
    "DateOffsets additionally have `rollforward()` and `rollback()` methods for moving a date forward or backward respectively to a valid offset date relative to the offset."
   ]
  },
  {
   "cell_type": "code",
   "execution_count": null,
   "metadata": {},
   "outputs": [],
   "source": []
  }
 ],
 "metadata": {
  "kernelspec": {
   "display_name": "Python 3",
   "language": "python",
   "name": "python3"
  },
  "language_info": {
   "codemirror_mode": {
    "name": "ipython",
    "version": 3
   },
   "file_extension": ".py",
   "mimetype": "text/x-python",
   "name": "python",
   "nbconvert_exporter": "python",
   "pygments_lexer": "ipython3",
   "version": "3.6.9"
  }
 },
 "nbformat": 4,
 "nbformat_minor": 4
}
