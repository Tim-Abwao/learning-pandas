{
 "cells": [
  {
   "cell_type": "markdown",
   "metadata": {},
   "source": [
    "# Based on: [Time series / date functionality](https://pandas.pydata.org/docs/user_guide/timeseries.html)"
   ]
  },
  {
   "cell_type": "code",
   "execution_count": 1,
   "metadata": {},
   "outputs": [],
   "source": [
    "import pandas as pd\n",
    "import numpy as np\n",
    "import datetime"
   ]
  },
  {
   "cell_type": "markdown",
   "metadata": {},
   "source": [
    "# 1. Overview\n",
    "\n",
    "`pandas` captures 4 general time related concepts:\n",
    "\n",
    "- **Date times:** \n",
    "  - *specific date and time* with *timezone* support\n",
    "  - similar to `datetime.datetime`.\n",
    "- **Time deltas:**\n",
    "  - *absolute time duration*\n",
    "  - similar to `datetime.timedelta`.\n",
    "- **Time spans:**\n",
    "  - *span of time*, defined by a point in time and its associated frequency.\n",
    "- **Date offsets:**\n",
    "  - *relative time duration* that respects *calendar arithmetic*\n",
    "  - similar to `dateutil.relativedelta.relativedelta` from the `dateutil` package.\n",
    "\n",
    "*Null* date times, time deltas, and time spans are represented as `NaT`.\n",
    "\n",
    "\n",
    "## Timestamps vs. Time Spans\n",
    "\n",
    "Timestamps **associate values with points in time**. Single values are instances of `Timestamp`, and sequences are instances of `DatetimeIndex`.\n",
    "\n",
    "Timespans **represent periods**, and are more suited for things like change variables. Scalars are instances of `Period`, and sequences are instances of `PeriodIndex`.\n",
    "\n",
    "\n",
    "# 2. Converting to Timestamps\n",
    "\n",
    "In most cases, you'd wish to use [`pd.to_datetime`][dt]. It provides more options e.g for dates with the day coming first, set `dayfirst=True`.\n",
    "\n",
    "`pd.Timestamp` can be used for scalars, and `pd.DatetimeIndex` for indices.\n",
    "\n",
    "[dt]: https://pandas.pydata.org/docs/reference/api/pandas.to_datetime.html#pandas.to_datetime"
   ]
  },
  {
   "cell_type": "code",
   "execution_count": 2,
   "metadata": {},
   "outputs": [
    {
     "data": {
      "text/plain": [
       "DatetimeIndex(['2022-01-01', '2022-01-02', '2022-01-03'], dtype='datetime64[ns]', freq=None)"
      ]
     },
     "execution_count": 2,
     "metadata": {},
     "output_type": "execute_result"
    }
   ],
   "source": [
    "pd.to_datetime([\"20220101\", \"2022-01-02\", \"2022/01/03\"])"
   ]
  },
  {
   "cell_type": "code",
   "execution_count": 3,
   "metadata": {},
   "outputs": [
    {
     "data": {
      "text/plain": [
       "DatetimeIndex(['2022-01-01', '2022-01-02'], dtype='datetime64[ns]', freq=None)"
      ]
     },
     "execution_count": 3,
     "metadata": {},
     "output_type": "execute_result"
    }
   ],
   "source": [
    "pd.to_datetime([\"01-01-22\", \"02/01/22\"], dayfirst=True)"
   ]
  },
  {
   "cell_type": "code",
   "execution_count": 4,
   "metadata": {},
   "outputs": [
    {
     "data": {
      "text/plain": [
       "Timestamp('2022-01-01 00:00:00')"
      ]
     },
     "execution_count": 4,
     "metadata": {},
     "output_type": "execute_result"
    }
   ],
   "source": [
    "pd.Timestamp(\"2022-01-01\")"
   ]
  },
  {
   "cell_type": "code",
   "execution_count": 5,
   "metadata": {},
   "outputs": [
    {
     "data": {
      "text/plain": [
       "DatetimeIndex(['2022-01-01', '2022-01-02', '2022-01-03'], dtype='datetime64[ns]', freq='D')"
      ]
     },
     "execution_count": 5,
     "metadata": {},
     "output_type": "execute_result"
    }
   ],
   "source": [
    "pd.DatetimeIndex([\"20220101\", \"2022-01-02\", \"2022/01/03\"], freq=\"infer\")"
   ]
  },
  {
   "cell_type": "markdown",
   "metadata": {},
   "source": [
    "## 2.1 Specifying a format\n",
    "\n",
    "`format` ensures specific parsing, and could potentially speed up conversion."
   ]
  },
  {
   "cell_type": "code",
   "execution_count": 6,
   "metadata": {},
   "outputs": [
    {
     "data": {
      "text/plain": [
       "DatetimeIndex(['2022-01-01', '2022-01-02', '2022-01-03'], dtype='datetime64[ns]', freq=None)"
      ]
     },
     "execution_count": 6,
     "metadata": {},
     "output_type": "execute_result"
    }
   ],
   "source": [
    "pd.to_datetime([\"01012022\", \"02012022\", \"03012022\"], format=\"%d%m%Y\")"
   ]
  },
  {
   "cell_type": "markdown",
   "metadata": {},
   "source": [
    "## 2.2 Assembling datetime from multiple DataFrame columns\n",
    "\n",
    "A DataFrame of `int` or `str` values can be assembled into a datetime Series.\n",
    "\n",
    "The columns should be appropriately named as `year`, `month`, `day`, (optional: `hour`, `minute`, `second`, `millisecond`, `microsecond`, `nanosecond`)."
   ]
  },
  {
   "cell_type": "code",
   "execution_count": 7,
   "metadata": {},
   "outputs": [
    {
     "data": {
      "text/html": [
       "<div>\n",
       "<style scoped>\n",
       "    .dataframe tbody tr th:only-of-type {\n",
       "        vertical-align: middle;\n",
       "    }\n",
       "\n",
       "    .dataframe tbody tr th {\n",
       "        vertical-align: top;\n",
       "    }\n",
       "\n",
       "    .dataframe thead th {\n",
       "        text-align: right;\n",
       "    }\n",
       "</style>\n",
       "<table border=\"1\" class=\"dataframe\">\n",
       "  <thead>\n",
       "    <tr style=\"text-align: right;\">\n",
       "      <th></th>\n",
       "      <th>day</th>\n",
       "      <th>month</th>\n",
       "      <th>year</th>\n",
       "      <th>hour</th>\n",
       "      <th>minute</th>\n",
       "    </tr>\n",
       "  </thead>\n",
       "  <tbody>\n",
       "    <tr>\n",
       "      <th>0</th>\n",
       "      <td>1</td>\n",
       "      <td>1</td>\n",
       "      <td>2022</td>\n",
       "      <td>7</td>\n",
       "      <td>1</td>\n",
       "    </tr>\n",
       "    <tr>\n",
       "      <th>1</th>\n",
       "      <td>2</td>\n",
       "      <td>1</td>\n",
       "      <td>2022</td>\n",
       "      <td>7</td>\n",
       "      <td>0</td>\n",
       "    </tr>\n",
       "    <tr>\n",
       "      <th>2</th>\n",
       "      <td>3</td>\n",
       "      <td>1</td>\n",
       "      <td>2022</td>\n",
       "      <td>7</td>\n",
       "      <td>2</td>\n",
       "    </tr>\n",
       "  </tbody>\n",
       "</table>\n",
       "</div>"
      ],
      "text/plain": [
       "   day  month  year  hour  minute\n",
       "0    1      1  2022     7       1\n",
       "1    2      1  2022     7       0\n",
       "2    3      1  2022     7       2"
      ]
     },
     "execution_count": 7,
     "metadata": {},
     "output_type": "execute_result"
    }
   ],
   "source": [
    "df = pd.DataFrame(\n",
    "    [[1, 1, 2022, 7, 1], [2, 1, 2022, 7, 0], [3, 1, 2022, 7, 2]],\n",
    "    columns=[\"day\", \"month\", \"year\", \"hour\", \"minute\"],\n",
    ")\n",
    "df"
   ]
  },
  {
   "cell_type": "code",
   "execution_count": 8,
   "metadata": {},
   "outputs": [
    {
     "data": {
      "text/plain": [
       "0   2022-01-01 07:01:00\n",
       "1   2022-01-02 07:00:00\n",
       "2   2022-01-03 07:02:00\n",
       "dtype: datetime64[ns]"
      ]
     },
     "execution_count": 8,
     "metadata": {},
     "output_type": "execute_result"
    }
   ],
   "source": [
    "pd.to_datetime(df)"
   ]
  },
  {
   "cell_type": "markdown",
   "metadata": {},
   "source": [
    "## 2.3 Invalid data\n",
    "\n",
    "- `errors=\"raise\"` (default) throws an error when input can't be parsed.\n",
    "- `errors=\"ignore\"` returns the original input.\n",
    "- `errors=\"coerce\"` converts unparseable input to `NaT`."
   ]
  },
  {
   "cell_type": "code",
   "execution_count": 9,
   "metadata": {},
   "outputs": [
    {
     "name": "stdout",
     "output_type": "stream",
     "text": [
      "ParserError('Unknown string format: %s', 'abcd')\n"
     ]
    }
   ],
   "source": [
    "try:\n",
    "    pd.to_datetime([\"01-01-2022\", \"abcd\"])\n",
    "except Exception as error:\n",
    "    print(repr(error))"
   ]
  },
  {
   "cell_type": "code",
   "execution_count": 10,
   "metadata": {},
   "outputs": [
    {
     "data": {
      "text/plain": [
       "Index(['01-01-2022', 'abcd'], dtype='object')"
      ]
     },
     "execution_count": 10,
     "metadata": {},
     "output_type": "execute_result"
    }
   ],
   "source": [
    "pd.to_datetime([\"01-01-2022\", \"abcd\"], errors=\"ignore\")"
   ]
  },
  {
   "cell_type": "code",
   "execution_count": 11,
   "metadata": {},
   "outputs": [
    {
     "data": {
      "text/plain": [
       "DatetimeIndex(['2022-01-01', 'NaT'], dtype='datetime64[ns]', freq=None)"
      ]
     },
     "execution_count": 11,
     "metadata": {},
     "output_type": "execute_result"
    }
   ],
   "source": [
    "pd.to_datetime([\"01-01-2022\", \"abcd\"], errors=\"coerce\")"
   ]
  },
  {
   "cell_type": "markdown",
   "metadata": {},
   "source": [
    "## 2.4 Epoch timestamps\n",
    "\n",
    "`int` or `float` epoch times can be converted to `Timestamp` and `DatetimeIndex`. You can specify the `unit` (*nanoseconds* default - how timestamps are stored internally).\n",
    "\n",
    "The starting point is set by the `origin` parameter. The default is set at `origin='unix'` i.e. `1970-01-01 00:00:00` commonly called *unix epoch* or *POSIX time*.\n",
    "\n",
    "Setting `tz` in epoch timestamps raises an error. Localize after creation.\n",
    "\n",
    ">**NOTE:**Conversion of `float` epoch times can lead to inaccurate results. Python floats have about 15 digits precision in decimal. Rounding during conversion from float to high precision `Timestamp` is unavoidable."
   ]
  },
  {
   "cell_type": "code",
   "execution_count": 12,
   "metadata": {},
   "outputs": [
    {
     "data": {
      "text/plain": [
       "DatetimeIndex(['2022-06-12 02:13:20', '2022-06-23 16:00:00',\n",
       "               '2022-07-05 05:46:40'],\n",
       "              dtype='datetime64[ns]', freq=None)"
      ]
     },
     "execution_count": 12,
     "metadata": {},
     "output_type": "execute_result"
    }
   ],
   "source": [
    "pd.to_datetime([1655000000, 1656000000, 1657000000], unit='s')"
   ]
  },
  {
   "cell_type": "code",
   "execution_count": 13,
   "metadata": {},
   "outputs": [
    {
     "data": {
      "text/plain": [
       "DatetimeIndex(['2022-01-01 00:00:00.000000001',\n",
       "               '2022-01-01 00:00:00.000000002',\n",
       "               '2022-01-01 00:00:00.000000003'],\n",
       "              dtype='datetime64[ns]', freq=None)"
      ]
     },
     "execution_count": 13,
     "metadata": {},
     "output_type": "execute_result"
    }
   ],
   "source": [
    "pd.to_datetime([1, 2, 3], origin=pd.Timestamp('01-01-2022'))"
   ]
  },
  {
   "cell_type": "code",
   "execution_count": 14,
   "metadata": {},
   "outputs": [
    {
     "data": {
      "text/plain": [
       "Timestamp('2022-06-12 02:13:20+0300', tz='Africa/Nairobi')"
      ]
     },
     "execution_count": 14,
     "metadata": {},
     "output_type": "execute_result"
    }
   ],
   "source": [
    "pd.Timestamp(1655000000000000000).tz_localize(\"Africa/Nairobi\")"
   ]
  },
  {
   "cell_type": "markdown",
   "metadata": {},
   "source": [
    "## 2.5 From Timestamp to epoch\n",
    "\n",
    "Subtract the *epoch* (usually midnight at January 1, 1970 UTC) and then floor divide by the `unit`."
   ]
  },
  {
   "cell_type": "code",
   "execution_count": 15,
   "metadata": {},
   "outputs": [
    {
     "data": {
      "text/plain": [
       "Timestamp('2022-06-12 02:13:20')"
      ]
     },
     "execution_count": 15,
     "metadata": {},
     "output_type": "execute_result"
    }
   ],
   "source": [
    "stamp = pd.Timestamp(1655000000, unit='s')\n",
    "stamp"
   ]
  },
  {
   "cell_type": "code",
   "execution_count": 16,
   "metadata": {},
   "outputs": [
    {
     "data": {
      "text/plain": [
       "1655000000.0"
      ]
     },
     "execution_count": 16,
     "metadata": {},
     "output_type": "execute_result"
    }
   ],
   "source": [
    "(stamp - pd.Timestamp(\"1970-01-01\")) / pd.Timedelta(\"1s\")"
   ]
  }
 ],
 "metadata": {
  "kernelspec": {
   "display_name": "Python 3 (ipykernel)",
   "language": "python",
   "name": "python3"
  },
  "language_info": {
   "codemirror_mode": {
    "name": "ipython",
    "version": 3
   },
   "file_extension": ".py",
   "mimetype": "text/x-python",
   "name": "python",
   "nbconvert_exporter": "python",
   "pygments_lexer": "ipython3",
   "version": "3.9.13"
  }
 },
 "nbformat": 4,
 "nbformat_minor": 4
}
