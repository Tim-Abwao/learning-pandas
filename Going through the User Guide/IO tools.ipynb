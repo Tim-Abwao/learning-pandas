{
 "cells": [
  {
   "cell_type": "markdown",
   "metadata": {},
   "source": [
    "# [Go to \"I/O tools\" in Pandas Docs](https://pandas.pydata.org/docs/user_guide/io.html)"
   ]
  },
  {
   "cell_type": "code",
   "execution_count": 1,
   "metadata": {},
   "outputs": [],
   "source": [
    "import pandas as pd\n",
    "import numpy as np"
   ]
  },
  {
   "cell_type": "markdown",
   "metadata": {},
   "source": [
    "# 1. CSV & text files"
   ]
  },
  {
   "cell_type": "code",
   "execution_count": 2,
   "metadata": {
    "scrolled": false
   },
   "outputs": [
    {
     "data": {
      "text/html": [
       "<div>\n",
       "<style scoped>\n",
       "    .dataframe tbody tr th:only-of-type {\n",
       "        vertical-align: middle;\n",
       "    }\n",
       "\n",
       "    .dataframe tbody tr th {\n",
       "        vertical-align: top;\n",
       "    }\n",
       "\n",
       "    .dataframe thead th {\n",
       "        text-align: right;\n",
       "    }\n",
       "</style>\n",
       "<table border=\"1\" class=\"dataframe\">\n",
       "  <thead>\n",
       "    <tr style=\"text-align: right;\">\n",
       "      <th></th>\n",
       "      <th>A</th>\n",
       "      <th>B</th>\n",
       "      <th>C</th>\n",
       "      <th>D</th>\n",
       "    </tr>\n",
       "  </thead>\n",
       "  <tbody>\n",
       "    <tr>\n",
       "      <th>2000-01-01</th>\n",
       "      <td>-1.662334</td>\n",
       "      <td>1.754375</td>\n",
       "      <td>2.277854</td>\n",
       "      <td>-1.222050</td>\n",
       "    </tr>\n",
       "    <tr>\n",
       "      <th>2000-01-02</th>\n",
       "      <td>-3.170328</td>\n",
       "      <td>2.640600</td>\n",
       "      <td>3.252950</td>\n",
       "      <td>0.325672</td>\n",
       "    </tr>\n",
       "    <tr>\n",
       "      <th>2000-01-03</th>\n",
       "      <td>-4.905516</td>\n",
       "      <td>3.187861</td>\n",
       "      <td>1.720954</td>\n",
       "      <td>-1.209723</td>\n",
       "    </tr>\n",
       "    <tr>\n",
       "      <th>2000-01-04</th>\n",
       "      <td>-5.109194</td>\n",
       "      <td>3.717737</td>\n",
       "      <td>2.365512</td>\n",
       "      <td>0.338022</td>\n",
       "    </tr>\n",
       "    <tr>\n",
       "      <th>2000-01-05</th>\n",
       "      <td>-5.705884</td>\n",
       "      <td>2.990343</td>\n",
       "      <td>1.962035</td>\n",
       "      <td>0.355969</td>\n",
       "    </tr>\n",
       "  </tbody>\n",
       "</table>\n",
       "</div>"
      ],
      "text/plain": [
       "                   A         B         C         D\n",
       "2000-01-01 -1.662334  1.754375  2.277854 -1.222050\n",
       "2000-01-02 -3.170328  2.640600  3.252950  0.325672\n",
       "2000-01-03 -4.905516  3.187861  1.720954 -1.209723\n",
       "2000-01-04 -5.109194  3.717737  2.365512  0.338022\n",
       "2000-01-05 -5.705884  2.990343  1.962035  0.355969"
      ]
     },
     "execution_count": 2,
     "metadata": {},
     "output_type": "execute_result"
    }
   ],
   "source": [
    "# reading CSV file\n",
    "df = pd.read_csv('../sample_data/data.csv', index_col=0)\n",
    "df.head()"
   ]
  },
  {
   "cell_type": "code",
   "execution_count": 3,
   "metadata": {},
   "outputs": [],
   "source": [
    "# writing to CSV\n",
    "df.to_csv('../sample_data/data.csv')"
   ]
  },
  {
   "cell_type": "markdown",
   "metadata": {},
   "source": [
    "# 2. JSON"
   ]
  },
  {
   "cell_type": "code",
   "execution_count": 4,
   "metadata": {},
   "outputs": [
    {
     "name": "stdout",
     "output_type": "stream",
     "text": [
      "{'A': {'2000-01-01': -1.6623337071,\n",
      "       '2000-01-02': -3.1703279261,\n",
      "       '2000-01-03': -4.9055156169},\n",
      " 'B': {'2000-01-01': 1.7543746416,\n",
      "       '2000-01-02': 2.6405996729,\n",
      "       '2000-01-03': 3.1878605419},\n",
      " 'C': {'2000-01-01': 2.2778541809,\n",
      "       '2000-01-02': 3.2529501215,\n",
      "       '2000-01-03': 1.7209538329},\n",
      " 'D': {'2000-01-01': -1.2220504344,\n",
      "       '2000-01-02': 0.3256715133,\n",
      "       '2000-01-03': -1.2097228282}}\n"
     ]
    }
   ],
   "source": [
    "# writing/converting to JSON\n",
    "json_df = df[:3].to_json()\n",
    "\n",
    "import json, pprint\n",
    "pprint.pprint(json.loads(json_df))"
   ]
  },
  {
   "cell_type": "code",
   "execution_count": 5,
   "metadata": {},
   "outputs": [
    {
     "data": {
      "text/html": [
       "<div>\n",
       "<style scoped>\n",
       "    .dataframe tbody tr th:only-of-type {\n",
       "        vertical-align: middle;\n",
       "    }\n",
       "\n",
       "    .dataframe tbody tr th {\n",
       "        vertical-align: top;\n",
       "    }\n",
       "\n",
       "    .dataframe thead th {\n",
       "        text-align: right;\n",
       "    }\n",
       "</style>\n",
       "<table border=\"1\" class=\"dataframe\">\n",
       "  <thead>\n",
       "    <tr style=\"text-align: right;\">\n",
       "      <th></th>\n",
       "      <th>A</th>\n",
       "      <th>B</th>\n",
       "      <th>C</th>\n",
       "      <th>D</th>\n",
       "    </tr>\n",
       "  </thead>\n",
       "  <tbody>\n",
       "    <tr>\n",
       "      <th>2000-01-01</th>\n",
       "      <td>-1.662334</td>\n",
       "      <td>1.754375</td>\n",
       "      <td>2.277854</td>\n",
       "      <td>-1.222050</td>\n",
       "    </tr>\n",
       "    <tr>\n",
       "      <th>2000-01-02</th>\n",
       "      <td>-3.170328</td>\n",
       "      <td>2.640600</td>\n",
       "      <td>3.252950</td>\n",
       "      <td>0.325672</td>\n",
       "    </tr>\n",
       "    <tr>\n",
       "      <th>2000-01-03</th>\n",
       "      <td>-4.905516</td>\n",
       "      <td>3.187861</td>\n",
       "      <td>1.720954</td>\n",
       "      <td>-1.209723</td>\n",
       "    </tr>\n",
       "  </tbody>\n",
       "</table>\n",
       "</div>"
      ],
      "text/plain": [
       "                   A         B         C         D\n",
       "2000-01-01 -1.662334  1.754375  2.277854 -1.222050\n",
       "2000-01-02 -3.170328  2.640600  3.252950  0.325672\n",
       "2000-01-03 -4.905516  3.187861  1.720954 -1.209723"
      ]
     },
     "execution_count": 5,
     "metadata": {},
     "output_type": "execute_result"
    }
   ],
   "source": [
    "# reading from JSON\n",
    "pd.read_json(json_df)"
   ]
  },
  {
   "cell_type": "code",
   "execution_count": 6,
   "metadata": {
    "scrolled": false
   },
   "outputs": [
    {
     "data": {
      "text/html": [
       "<div>\n",
       "<style scoped>\n",
       "    .dataframe tbody tr th:only-of-type {\n",
       "        vertical-align: middle;\n",
       "    }\n",
       "\n",
       "    .dataframe tbody tr th {\n",
       "        vertical-align: top;\n",
       "    }\n",
       "\n",
       "    .dataframe thead th {\n",
       "        text-align: right;\n",
       "    }\n",
       "</style>\n",
       "<table border=\"1\" class=\"dataframe\">\n",
       "  <thead>\n",
       "    <tr style=\"text-align: right;\">\n",
       "      <th></th>\n",
       "      <th>Country</th>\n",
       "      <th>2017[1]</th>\n",
       "      <th>2016[1]</th>\n",
       "      <th>2015[2]</th>\n",
       "      <th>2014[3]</th>\n",
       "      <th>2013[4]</th>\n",
       "      <th>2012[5]</th>\n",
       "      <th>2011[5]</th>\n",
       "      <th>2010[5]</th>\n",
       "      <th>2009[5]</th>\n",
       "      <th>...</th>\n",
       "      <th>2005 [6]</th>\n",
       "      <th>2004[6]</th>\n",
       "      <th>2003[6]</th>\n",
       "      <th>2002</th>\n",
       "      <th>2001</th>\n",
       "      <th>2000</th>\n",
       "      <th>1999</th>\n",
       "      <th>1998</th>\n",
       "      <th>1997</th>\n",
       "      <th>1996</th>\n",
       "    </tr>\n",
       "  </thead>\n",
       "  <tbody>\n",
       "    <tr>\n",
       "      <th>0</th>\n",
       "      <td>European Union</td>\n",
       "      <td>150.2</td>\n",
       "      <td>142.7</td>\n",
       "      <td>161.4</td>\n",
       "      <td>157.2</td>\n",
       "      <td>143.3</td>\n",
       "      <td>134.5</td>\n",
       "      <td>140.0</td>\n",
       "      <td>136.5</td>\n",
       "      <td>138.5</td>\n",
       "      <td>...</td>\n",
       "      <td>135.4</td>\n",
       "      <td>149.4</td>\n",
       "      <td>111.7</td>\n",
       "      <td>133.6</td>\n",
       "      <td>126.6</td>\n",
       "      <td>132.4</td>\n",
       "      <td>123.1</td>\n",
       "      <td>134.1</td>\n",
       "      <td>126.4</td>\n",
       "      <td>124.3</td>\n",
       "    </tr>\n",
       "    <tr>\n",
       "      <th>1</th>\n",
       "      <td>China</td>\n",
       "      <td>134.3</td>\n",
       "      <td>131.7</td>\n",
       "      <td>130.2</td>\n",
       "      <td>126.2</td>\n",
       "      <td>121.7</td>\n",
       "      <td>125.6</td>\n",
       "      <td>117.4</td>\n",
       "      <td>115.2</td>\n",
       "      <td>115.1</td>\n",
       "      <td>...</td>\n",
       "      <td>96.3</td>\n",
       "      <td>91.6</td>\n",
       "      <td>86.5</td>\n",
       "      <td>90.3</td>\n",
       "      <td>93.9</td>\n",
       "      <td>99.7</td>\n",
       "      <td>113.9</td>\n",
       "      <td>109.7</td>\n",
       "      <td>123.3</td>\n",
       "      <td>110.6</td>\n",
       "    </tr>\n",
       "    <tr>\n",
       "      <th>2</th>\n",
       "      <td>India</td>\n",
       "      <td>98.5</td>\n",
       "      <td>93.5</td>\n",
       "      <td>86.5</td>\n",
       "      <td>94.5</td>\n",
       "      <td>93.5</td>\n",
       "      <td>94.9</td>\n",
       "      <td>86.9</td>\n",
       "      <td>80.7</td>\n",
       "      <td>80.7</td>\n",
       "      <td>...</td>\n",
       "      <td>72.0</td>\n",
       "      <td>72.1</td>\n",
       "      <td>65.1</td>\n",
       "      <td>72.8</td>\n",
       "      <td>69.7</td>\n",
       "      <td>76.4</td>\n",
       "      <td>70.8</td>\n",
       "      <td>65.9</td>\n",
       "      <td>69.4</td>\n",
       "      <td>62.6</td>\n",
       "    </tr>\n",
       "    <tr>\n",
       "      <th>3</th>\n",
       "      <td>Russia</td>\n",
       "      <td>85.9</td>\n",
       "      <td>73.3</td>\n",
       "      <td>61.8</td>\n",
       "      <td>59.7</td>\n",
       "      <td>52.1</td>\n",
       "      <td>37.7</td>\n",
       "      <td>56.2</td>\n",
       "      <td>41.5</td>\n",
       "      <td>61.7</td>\n",
       "      <td>...</td>\n",
       "      <td>47.6</td>\n",
       "      <td>45.4</td>\n",
       "      <td>34.1</td>\n",
       "      <td>50.6</td>\n",
       "      <td>47.0</td>\n",
       "      <td>34.5</td>\n",
       "      <td>31.0</td>\n",
       "      <td>27.0</td>\n",
       "      <td>44.3</td>\n",
       "      <td>34.9</td>\n",
       "    </tr>\n",
       "    <tr>\n",
       "      <th>4</th>\n",
       "      <td>United States</td>\n",
       "      <td>47.3</td>\n",
       "      <td>62.9</td>\n",
       "      <td>55.8</td>\n",
       "      <td>55.4</td>\n",
       "      <td>60.0</td>\n",
       "      <td>61.8</td>\n",
       "      <td>54.4</td>\n",
       "      <td>60.1</td>\n",
       "      <td>60.3</td>\n",
       "      <td>...</td>\n",
       "      <td>57.1</td>\n",
       "      <td>58.7</td>\n",
       "      <td>63.8</td>\n",
       "      <td>44.1</td>\n",
       "      <td>53.3</td>\n",
       "      <td>60.8</td>\n",
       "      <td>62.7</td>\n",
       "      <td>69.4</td>\n",
       "      <td>67.5</td>\n",
       "      <td>62.0</td>\n",
       "    </tr>\n",
       "  </tbody>\n",
       "</table>\n",
       "<p>5 rows × 23 columns</p>\n",
       "</div>"
      ],
      "text/plain": [
       "          Country 2017[1] 2016[1] 2015[2] 2014[3] 2013[4] 2012[5] 2011[5]  \\\n",
       "0  European Union   150.2   142.7   161.4   157.2   143.3   134.5   140.0   \n",
       "1           China   134.3   131.7   130.2   126.2   121.7   125.6   117.4   \n",
       "2           India    98.5    93.5    86.5    94.5    93.5    94.9    86.9   \n",
       "3          Russia    85.9    73.3    61.8    59.7    52.1    37.7    56.2   \n",
       "4   United States    47.3    62.9    55.8    55.4    60.0    61.8    54.4   \n",
       "\n",
       "   2010[5]  2009[5]  ...  2005 [6]  2004[6]  2003[6]   2002   2001   2000  \\\n",
       "0    136.5    138.5  ...     135.4    149.4    111.7  133.6  126.6  132.4   \n",
       "1    115.2    115.1  ...      96.3     91.6     86.5   90.3   93.9   99.7   \n",
       "2     80.7     80.7  ...      72.0     72.1     65.1   72.8   69.7   76.4   \n",
       "3     41.5     61.7  ...      47.6     45.4     34.1   50.6   47.0   34.5   \n",
       "4     60.1     60.3  ...      57.1     58.7     63.8   44.1   53.3   60.8   \n",
       "\n",
       "    1999   1998   1997   1996  \n",
       "0  123.1  134.1  126.4  124.3  \n",
       "1  113.9  109.7  123.3  110.6  \n",
       "2   70.8   65.9   69.4   62.6  \n",
       "3   31.0   27.0   44.3   34.9  \n",
       "4   62.7   69.4   67.5   62.0  \n",
       "\n",
       "[5 rows x 23 columns]"
      ]
     },
     "execution_count": 6,
     "metadata": {},
     "output_type": "execute_result"
    }
   ],
   "source": [
    "# reading from HTML\n",
    "df_html = pd.read_html('https://en.wikipedia.org/wiki/International_wheat_production_statistics')[0]\n",
    "df_html.head()"
   ]
  },
  {
   "cell_type": "code",
   "execution_count": 7,
   "metadata": {},
   "outputs": [
    {
     "name": "stdout",
     "output_type": "stream",
     "text": [
      "<table border=\"1\" class=\"dataframe\">\n",
      "  <thead>\n",
      "    <tr style=\"text-align: right;\">\n",
      "      <th></th>\n",
      "      <th>A</th>\n",
      "      <th>B</th>\n",
      "    </tr>\n",
      "  </thead>\n",
      "  <tbody>\n",
      "    <tr>\n",
      "      <th>0</th>\n",
      "      <td>0.234269</td>\n",
      "      <td>0.121848</td>\n",
      "    </tr>\n",
      "    <tr>\n",
      "      <th>1</th>\n",
      "      <td>1.184361</td>\n",
      "      <td>-0.989412</td>\n",
      "    </tr>\n",
      "  </tbody>\n",
      "</table>\n"
     ]
    }
   ],
   "source": [
    "# writing to HTML\n",
    "print(pd.DataFrame(np.random.randn(2, 2), columns=['A', 'B']).to_html())"
   ]
  },
  {
   "cell_type": "markdown",
   "metadata": {},
   "source": [
    "# 4. Excel files"
   ]
  },
  {
   "cell_type": "code",
   "execution_count": 8,
   "metadata": {},
   "outputs": [
    {
     "data": {
      "text/html": [
       "<div>\n",
       "<style scoped>\n",
       "    .dataframe tbody tr th:only-of-type {\n",
       "        vertical-align: middle;\n",
       "    }\n",
       "\n",
       "    .dataframe tbody tr th {\n",
       "        vertical-align: top;\n",
       "    }\n",
       "\n",
       "    .dataframe thead th {\n",
       "        text-align: right;\n",
       "    }\n",
       "</style>\n",
       "<table border=\"1\" class=\"dataframe\">\n",
       "  <thead>\n",
       "    <tr style=\"text-align: right;\">\n",
       "      <th></th>\n",
       "      <th>A</th>\n",
       "      <th>B</th>\n",
       "      <th>C</th>\n",
       "      <th>D</th>\n",
       "    </tr>\n",
       "  </thead>\n",
       "  <tbody>\n",
       "    <tr>\n",
       "      <th>2000-01-01</th>\n",
       "      <td>-1.662334</td>\n",
       "      <td>1.754375</td>\n",
       "      <td>2.277854</td>\n",
       "      <td>-1.222050</td>\n",
       "    </tr>\n",
       "    <tr>\n",
       "      <th>2000-01-02</th>\n",
       "      <td>-3.170328</td>\n",
       "      <td>2.640600</td>\n",
       "      <td>3.252950</td>\n",
       "      <td>0.325672</td>\n",
       "    </tr>\n",
       "    <tr>\n",
       "      <th>2000-01-03</th>\n",
       "      <td>-4.905516</td>\n",
       "      <td>3.187861</td>\n",
       "      <td>1.720954</td>\n",
       "      <td>-1.209723</td>\n",
       "    </tr>\n",
       "    <tr>\n",
       "      <th>2000-01-04</th>\n",
       "      <td>-5.109194</td>\n",
       "      <td>3.717737</td>\n",
       "      <td>2.365512</td>\n",
       "      <td>0.338022</td>\n",
       "    </tr>\n",
       "    <tr>\n",
       "      <th>2000-01-05</th>\n",
       "      <td>-5.705884</td>\n",
       "      <td>2.990343</td>\n",
       "      <td>1.962035</td>\n",
       "      <td>0.355969</td>\n",
       "    </tr>\n",
       "  </tbody>\n",
       "</table>\n",
       "</div>"
      ],
      "text/plain": [
       "                   A         B         C         D\n",
       "2000-01-01 -1.662334  1.754375  2.277854 -1.222050\n",
       "2000-01-02 -3.170328  2.640600  3.252950  0.325672\n",
       "2000-01-03 -4.905516  3.187861  1.720954 -1.209723\n",
       "2000-01-04 -5.109194  3.717737  2.365512  0.338022\n",
       "2000-01-05 -5.705884  2.990343  1.962035  0.355969"
      ]
     },
     "execution_count": 8,
     "metadata": {},
     "output_type": "execute_result"
    }
   ],
   "source": [
    "# reading from Excel\n",
    "df_excel = pd.read_excel('../sample_data/data.xlsx', sheet_name='Sheet1', index_col=0)\n",
    "df_excel.head()"
   ]
  },
  {
   "cell_type": "code",
   "execution_count": 9,
   "metadata": {},
   "outputs": [],
   "source": [
    "# writing to Excel\n",
    "df_excel.to_excel('../sample_data/data.xlsx', sheet_name='Sheet1')"
   ]
  },
  {
   "cell_type": "markdown",
   "metadata": {},
   "source": [
    "# 5. OpenDocument Spreadsheets"
   ]
  },
  {
   "cell_type": "code",
   "execution_count": 10,
   "metadata": {},
   "outputs": [
    {
     "data": {
      "text/html": [
       "<div>\n",
       "<style scoped>\n",
       "    .dataframe tbody tr th:only-of-type {\n",
       "        vertical-align: middle;\n",
       "    }\n",
       "\n",
       "    .dataframe tbody tr th {\n",
       "        vertical-align: top;\n",
       "    }\n",
       "\n",
       "    .dataframe thead th {\n",
       "        text-align: right;\n",
       "    }\n",
       "</style>\n",
       "<table border=\"1\" class=\"dataframe\">\n",
       "  <thead>\n",
       "    <tr style=\"text-align: right;\">\n",
       "      <th></th>\n",
       "      <th>A</th>\n",
       "      <th>B</th>\n",
       "      <th>C</th>\n",
       "      <th>D</th>\n",
       "    </tr>\n",
       "  </thead>\n",
       "  <tbody>\n",
       "    <tr>\n",
       "      <th>2000-01-01</th>\n",
       "      <td>-1.662334</td>\n",
       "      <td>1.754375</td>\n",
       "      <td>2.277854</td>\n",
       "      <td>-1.222050</td>\n",
       "    </tr>\n",
       "    <tr>\n",
       "      <th>2000-01-02</th>\n",
       "      <td>-3.170328</td>\n",
       "      <td>2.640600</td>\n",
       "      <td>3.252950</td>\n",
       "      <td>0.325672</td>\n",
       "    </tr>\n",
       "    <tr>\n",
       "      <th>2000-01-03</th>\n",
       "      <td>-4.905516</td>\n",
       "      <td>3.187861</td>\n",
       "      <td>1.720954</td>\n",
       "      <td>-1.209723</td>\n",
       "    </tr>\n",
       "    <tr>\n",
       "      <th>2000-01-04</th>\n",
       "      <td>-5.109194</td>\n",
       "      <td>3.717737</td>\n",
       "      <td>2.365512</td>\n",
       "      <td>0.338022</td>\n",
       "    </tr>\n",
       "    <tr>\n",
       "      <th>2000-01-05</th>\n",
       "      <td>-5.705884</td>\n",
       "      <td>2.990343</td>\n",
       "      <td>1.962035</td>\n",
       "      <td>0.355969</td>\n",
       "    </tr>\n",
       "  </tbody>\n",
       "</table>\n",
       "</div>"
      ],
      "text/plain": [
       "                   A         B         C         D\n",
       "2000-01-01 -1.662334  1.754375  2.277854 -1.222050\n",
       "2000-01-02 -3.170328  2.640600  3.252950  0.325672\n",
       "2000-01-03 -4.905516  3.187861  1.720954 -1.209723\n",
       "2000-01-04 -5.109194  3.717737  2.365512  0.338022\n",
       "2000-01-05 -5.705884  2.990343  1.962035  0.355969"
      ]
     },
     "execution_count": 10,
     "metadata": {},
     "output_type": "execute_result"
    }
   ],
   "source": [
    "# reading from ODS\n",
    "df_ods = pd.read_excel('../sample_data/data.ods', engine='odf', index_col=0)\n",
    "df_ods.head()"
   ]
  },
  {
   "cell_type": "markdown",
   "metadata": {},
   "source": [
    "# 6. Binary Excel"
   ]
  },
  {
   "cell_type": "code",
   "execution_count": 11,
   "metadata": {},
   "outputs": [
    {
     "data": {
      "text/html": [
       "<div>\n",
       "<style scoped>\n",
       "    .dataframe tbody tr th:only-of-type {\n",
       "        vertical-align: middle;\n",
       "    }\n",
       "\n",
       "    .dataframe tbody tr th {\n",
       "        vertical-align: top;\n",
       "    }\n",
       "\n",
       "    .dataframe thead th {\n",
       "        text-align: right;\n",
       "    }\n",
       "</style>\n",
       "<table border=\"1\" class=\"dataframe\">\n",
       "  <thead>\n",
       "    <tr style=\"text-align: right;\">\n",
       "      <th></th>\n",
       "      <th>A</th>\n",
       "      <th>B</th>\n",
       "      <th>C</th>\n",
       "      <th>D</th>\n",
       "    </tr>\n",
       "  </thead>\n",
       "  <tbody>\n",
       "    <tr>\n",
       "      <th>36526</th>\n",
       "      <td>-1.662334</td>\n",
       "      <td>1.754375</td>\n",
       "      <td>2.277854</td>\n",
       "      <td>-1.222050</td>\n",
       "    </tr>\n",
       "    <tr>\n",
       "      <th>36527</th>\n",
       "      <td>-3.170328</td>\n",
       "      <td>2.640600</td>\n",
       "      <td>3.252950</td>\n",
       "      <td>0.325672</td>\n",
       "    </tr>\n",
       "    <tr>\n",
       "      <th>36528</th>\n",
       "      <td>-4.905516</td>\n",
       "      <td>3.187861</td>\n",
       "      <td>1.720954</td>\n",
       "      <td>-1.209723</td>\n",
       "    </tr>\n",
       "    <tr>\n",
       "      <th>36529</th>\n",
       "      <td>-5.109194</td>\n",
       "      <td>3.717737</td>\n",
       "      <td>2.365512</td>\n",
       "      <td>0.338022</td>\n",
       "    </tr>\n",
       "    <tr>\n",
       "      <th>36530</th>\n",
       "      <td>-5.705884</td>\n",
       "      <td>2.990343</td>\n",
       "      <td>1.962035</td>\n",
       "      <td>0.355969</td>\n",
       "    </tr>\n",
       "  </tbody>\n",
       "</table>\n",
       "</div>"
      ],
      "text/plain": [
       "              A         B         C         D\n",
       "36526 -1.662334  1.754375  2.277854 -1.222050\n",
       "36527 -3.170328  2.640600  3.252950  0.325672\n",
       "36528 -4.905516  3.187861  1.720954 -1.209723\n",
       "36529 -5.109194  3.717737  2.365512  0.338022\n",
       "36530 -5.705884  2.990343  1.962035  0.355969"
      ]
     },
     "execution_count": 11,
     "metadata": {},
     "output_type": "execute_result"
    }
   ],
   "source": [
    "# reading from Binary Excel\n",
    "df_be = pd.read_excel('../sample_data/data.xlsb', engine='pyxlsb', index_col=0)\n",
    "df_be.head()"
   ]
  },
  {
   "cell_type": "markdown",
   "metadata": {},
   "source": [
    "# 7. Clipboard"
   ]
  },
  {
   "cell_type": "markdown",
   "metadata": {},
   "source": [
    "Copy this table, \n",
    "\n",
    "Y | x1 | x2 | x3\n",
    "--- |--- | --- | ---\n",
    " 0.5 | 7.2 | 5.1 | 0.9 \n",
    " 1.1 | 8.4 | 3.7 | 2.5 \n",
    " \n",
    " then run the cell below."
   ]
  },
  {
   "cell_type": "code",
   "execution_count": 12,
   "metadata": {},
   "outputs": [
    {
     "data": {
      "text/html": [
       "<div>\n",
       "<style scoped>\n",
       "    .dataframe tbody tr th:only-of-type {\n",
       "        vertical-align: middle;\n",
       "    }\n",
       "\n",
       "    .dataframe tbody tr th {\n",
       "        vertical-align: top;\n",
       "    }\n",
       "\n",
       "    .dataframe thead th {\n",
       "        text-align: right;\n",
       "    }\n",
       "</style>\n",
       "<table border=\"1\" class=\"dataframe\">\n",
       "  <thead>\n",
       "    <tr style=\"text-align: right;\">\n",
       "      <th></th>\n",
       "      <th>Y</th>\n",
       "      <th>x1</th>\n",
       "      <th>x2</th>\n",
       "      <th>x3</th>\n",
       "    </tr>\n",
       "  </thead>\n",
       "  <tbody>\n",
       "    <tr>\n",
       "      <th>0</th>\n",
       "      <td>0.5</td>\n",
       "      <td>7.2</td>\n",
       "      <td>5.1</td>\n",
       "      <td>0.9</td>\n",
       "    </tr>\n",
       "    <tr>\n",
       "      <th>1</th>\n",
       "      <td>1.1</td>\n",
       "      <td>8.4</td>\n",
       "      <td>3.7</td>\n",
       "      <td>2.5</td>\n",
       "    </tr>\n",
       "  </tbody>\n",
       "</table>\n",
       "</div>"
      ],
      "text/plain": [
       "     Y   x1   x2   x3\n",
       "0  0.5  7.2  5.1  0.9\n",
       "1  1.1  8.4  3.7  2.5"
      ]
     },
     "execution_count": 12,
     "metadata": {},
     "output_type": "execute_result"
    }
   ],
   "source": [
    "pd.read_clipboard()"
   ]
  },
  {
   "cell_type": "markdown",
   "metadata": {},
   "source": [
    "# 8. Pickling\n",
    "\n",
    "All pandas objects are equipped with to_pickle methods which use Python’s cPickle module to save data structures to disk using the pickle format."
   ]
  },
  {
   "cell_type": "code",
   "execution_count": 13,
   "metadata": {
    "scrolled": false
   },
   "outputs": [
    {
     "data": {
      "text/html": [
       "<div>\n",
       "<style scoped>\n",
       "    .dataframe tbody tr th:only-of-type {\n",
       "        vertical-align: middle;\n",
       "    }\n",
       "\n",
       "    .dataframe tbody tr th {\n",
       "        vertical-align: top;\n",
       "    }\n",
       "\n",
       "    .dataframe thead th {\n",
       "        text-align: right;\n",
       "    }\n",
       "</style>\n",
       "<table border=\"1\" class=\"dataframe\">\n",
       "  <thead>\n",
       "    <tr style=\"text-align: right;\">\n",
       "      <th></th>\n",
       "      <th>A</th>\n",
       "      <th>B</th>\n",
       "      <th>C</th>\n",
       "      <th>D</th>\n",
       "    </tr>\n",
       "  </thead>\n",
       "  <tbody>\n",
       "    <tr>\n",
       "      <th>2000-01-01</th>\n",
       "      <td>-1.662334</td>\n",
       "      <td>1.754375</td>\n",
       "      <td>2.277854</td>\n",
       "      <td>-1.222050</td>\n",
       "    </tr>\n",
       "    <tr>\n",
       "      <th>2000-01-02</th>\n",
       "      <td>-3.170328</td>\n",
       "      <td>2.640600</td>\n",
       "      <td>3.252950</td>\n",
       "      <td>0.325672</td>\n",
       "    </tr>\n",
       "    <tr>\n",
       "      <th>2000-01-03</th>\n",
       "      <td>-4.905516</td>\n",
       "      <td>3.187861</td>\n",
       "      <td>1.720954</td>\n",
       "      <td>-1.209723</td>\n",
       "    </tr>\n",
       "    <tr>\n",
       "      <th>2000-01-04</th>\n",
       "      <td>-5.109194</td>\n",
       "      <td>3.717737</td>\n",
       "      <td>2.365512</td>\n",
       "      <td>0.338022</td>\n",
       "    </tr>\n",
       "    <tr>\n",
       "      <th>2000-01-05</th>\n",
       "      <td>-5.705884</td>\n",
       "      <td>2.990343</td>\n",
       "      <td>1.962035</td>\n",
       "      <td>0.355969</td>\n",
       "    </tr>\n",
       "  </tbody>\n",
       "</table>\n",
       "</div>"
      ],
      "text/plain": [
       "                   A         B         C         D\n",
       "2000-01-01 -1.662334  1.754375  2.277854 -1.222050\n",
       "2000-01-02 -3.170328  2.640600  3.252950  0.325672\n",
       "2000-01-03 -4.905516  3.187861  1.720954 -1.209723\n",
       "2000-01-04 -5.109194  3.717737  2.365512  0.338022\n",
       "2000-01-05 -5.705884  2.990343  1.962035  0.355969"
      ]
     },
     "execution_count": 13,
     "metadata": {},
     "output_type": "execute_result"
    }
   ],
   "source": [
    "# reading from disk\n",
    "pd.read_pickle('../sample_data/data.pkl').head()"
   ]
  },
  {
   "cell_type": "code",
   "execution_count": 14,
   "metadata": {},
   "outputs": [],
   "source": [
    "# saving to disk\n",
    "df.to_pickle('../sample_data/data.pkl')"
   ]
  },
  {
   "cell_type": "markdown",
   "metadata": {},
   "source": [
    "> **Note:** Loading pickled data received from untrusted sources can be unsafe."
   ]
  },
  {
   "cell_type": "markdown",
   "metadata": {},
   "source": [
    "## Compressed pickle files\n",
    "The compression types of `gzip`, `bz2`, `xz` are supported for reading and writing. The `zip` file format only supports reading and must contain only one data file to be read."
   ]
  },
  {
   "cell_type": "code",
   "execution_count": 15,
   "metadata": {},
   "outputs": [],
   "source": [
    "df = pd.DataFrame({\n",
    "        'A': np.random.randn(1000),\n",
    "        'B': 'foo',\n",
    "        'C': pd.date_range('20130101', periods=1000, freq='s')})\n",
    "# inferring compression format from extension\n",
    "df.to_pickle(\"../sample_data/data.pkl.gz\")\n",
    "\n",
    "#'infer' is default, as above\n",
    "df.to_pickle(\"../sample_data/data.pkl.xz\", compression=\"infer\")\n",
    "\n",
    "# explicitly setting compression format\n",
    "df.to_pickle(\"../sample_data/data.pkl.compress\", compression=\"gzip\") "
   ]
  },
  {
   "cell_type": "code",
   "execution_count": 16,
   "metadata": {
    "scrolled": false
   },
   "outputs": [
    {
     "data": {
      "text/html": [
       "<div>\n",
       "<style scoped>\n",
       "    .dataframe tbody tr th:only-of-type {\n",
       "        vertical-align: middle;\n",
       "    }\n",
       "\n",
       "    .dataframe tbody tr th {\n",
       "        vertical-align: top;\n",
       "    }\n",
       "\n",
       "    .dataframe thead th {\n",
       "        text-align: right;\n",
       "    }\n",
       "</style>\n",
       "<table border=\"1\" class=\"dataframe\">\n",
       "  <thead>\n",
       "    <tr style=\"text-align: right;\">\n",
       "      <th></th>\n",
       "      <th>A</th>\n",
       "      <th>B</th>\n",
       "      <th>C</th>\n",
       "    </tr>\n",
       "  </thead>\n",
       "  <tbody>\n",
       "    <tr>\n",
       "      <th>0</th>\n",
       "      <td>0.988821</td>\n",
       "      <td>foo</td>\n",
       "      <td>2013-01-01 00:00:00</td>\n",
       "    </tr>\n",
       "    <tr>\n",
       "      <th>1</th>\n",
       "      <td>0.392040</td>\n",
       "      <td>foo</td>\n",
       "      <td>2013-01-01 00:00:01</td>\n",
       "    </tr>\n",
       "    <tr>\n",
       "      <th>2</th>\n",
       "      <td>0.453600</td>\n",
       "      <td>foo</td>\n",
       "      <td>2013-01-01 00:00:02</td>\n",
       "    </tr>\n",
       "    <tr>\n",
       "      <th>3</th>\n",
       "      <td>-0.658292</td>\n",
       "      <td>foo</td>\n",
       "      <td>2013-01-01 00:00:03</td>\n",
       "    </tr>\n",
       "    <tr>\n",
       "      <th>4</th>\n",
       "      <td>-0.719088</td>\n",
       "      <td>foo</td>\n",
       "      <td>2013-01-01 00:00:04</td>\n",
       "    </tr>\n",
       "  </tbody>\n",
       "</table>\n",
       "</div>"
      ],
      "text/plain": [
       "          A    B                   C\n",
       "0  0.988821  foo 2013-01-01 00:00:00\n",
       "1  0.392040  foo 2013-01-01 00:00:01\n",
       "2  0.453600  foo 2013-01-01 00:00:02\n",
       "3 -0.658292  foo 2013-01-01 00:00:03\n",
       "4 -0.719088  foo 2013-01-01 00:00:04"
      ]
     },
     "execution_count": 16,
     "metadata": {},
     "output_type": "execute_result"
    }
   ],
   "source": [
    "pd.read_pickle(\"../sample_data/data.pkl.xz\").head()"
   ]
  },
  {
   "cell_type": "markdown",
   "metadata": {},
   "source": [
    "# 9. HDF5\n",
    "\n",
    "`HDFStore` is a dict-like object which reads and writes pandas using the high performance `HDF5` format using the excellent `PyTables` library.\n",
    "\n",
    "Objects can be written to the file just like adding key-value pairs to a `dict`."
   ]
  },
  {
   "cell_type": "code",
   "execution_count": 17,
   "metadata": {},
   "outputs": [
    {
     "name": "stdout",
     "output_type": "stream",
     "text": [
      "<class 'pandas.io.pytables.HDFStore'>\n",
      "File path: ../sample_data/store.h5\n",
      "\n"
     ]
    }
   ],
   "source": [
    "store = pd.HDFStore('../sample_data/store.h5')\n",
    "print(store)"
   ]
  },
  {
   "cell_type": "code",
   "execution_count": 18,
   "metadata": {},
   "outputs": [],
   "source": [
    "# saving to HDF5\n",
    "store.put('s', df.A)  # == store['s'] = df.A\n",
    "store['df2'] = df[['B','C']]"
   ]
  },
  {
   "cell_type": "code",
   "execution_count": 19,
   "metadata": {},
   "outputs": [
    {
     "data": {
      "text/html": [
       "<div>\n",
       "<style scoped>\n",
       "    .dataframe tbody tr th:only-of-type {\n",
       "        vertical-align: middle;\n",
       "    }\n",
       "\n",
       "    .dataframe tbody tr th {\n",
       "        vertical-align: top;\n",
       "    }\n",
       "\n",
       "    .dataframe thead th {\n",
       "        text-align: right;\n",
       "    }\n",
       "</style>\n",
       "<table border=\"1\" class=\"dataframe\">\n",
       "  <thead>\n",
       "    <tr style=\"text-align: right;\">\n",
       "      <th></th>\n",
       "      <th>B</th>\n",
       "      <th>C</th>\n",
       "    </tr>\n",
       "  </thead>\n",
       "  <tbody>\n",
       "    <tr>\n",
       "      <th>0</th>\n",
       "      <td>foo</td>\n",
       "      <td>2013-01-01 00:00:00</td>\n",
       "    </tr>\n",
       "    <tr>\n",
       "      <th>1</th>\n",
       "      <td>foo</td>\n",
       "      <td>2013-01-01 00:00:01</td>\n",
       "    </tr>\n",
       "    <tr>\n",
       "      <th>2</th>\n",
       "      <td>foo</td>\n",
       "      <td>2013-01-01 00:00:02</td>\n",
       "    </tr>\n",
       "    <tr>\n",
       "      <th>3</th>\n",
       "      <td>foo</td>\n",
       "      <td>2013-01-01 00:00:03</td>\n",
       "    </tr>\n",
       "    <tr>\n",
       "      <th>4</th>\n",
       "      <td>foo</td>\n",
       "      <td>2013-01-01 00:00:04</td>\n",
       "    </tr>\n",
       "  </tbody>\n",
       "</table>\n",
       "</div>"
      ],
      "text/plain": [
       "     B                   C\n",
       "0  foo 2013-01-01 00:00:00\n",
       "1  foo 2013-01-01 00:00:01\n",
       "2  foo 2013-01-01 00:00:02\n",
       "3  foo 2013-01-01 00:00:03\n",
       "4  foo 2013-01-01 00:00:04"
      ]
     },
     "execution_count": 19,
     "metadata": {},
     "output_type": "execute_result"
    }
   ],
   "source": [
    "# reading from HDF5\n",
    "store['df2'].head()"
   ]
  },
  {
   "cell_type": "markdown",
   "metadata": {},
   "source": [
    "# 10. Feather\n",
    "\n",
    "Feather is designed to faithfully serialize and de-serialize `DataFrames`, supporting all of the pandas dtypes, including extension dtypes such as `categorical` and `datetime` with tz."
   ]
  },
  {
   "cell_type": "code",
   "execution_count": 20,
   "metadata": {},
   "outputs": [
    {
     "name": "stdout",
     "output_type": "stream",
     "text": [
      "a                        object\n",
      "b                         int64\n",
      "c                         uint8\n",
      "d                       float64\n",
      "e                          bool\n",
      "f                      category\n",
      "g                datetime64[ns]\n",
      "h    datetime64[ns, US/Eastern]\n",
      "i                datetime64[ns]\n",
      "dtype: object\n"
     ]
    },
    {
     "data": {
      "text/html": [
       "<div>\n",
       "<style scoped>\n",
       "    .dataframe tbody tr th:only-of-type {\n",
       "        vertical-align: middle;\n",
       "    }\n",
       "\n",
       "    .dataframe tbody tr th {\n",
       "        vertical-align: top;\n",
       "    }\n",
       "\n",
       "    .dataframe thead th {\n",
       "        text-align: right;\n",
       "    }\n",
       "</style>\n",
       "<table border=\"1\" class=\"dataframe\">\n",
       "  <thead>\n",
       "    <tr style=\"text-align: right;\">\n",
       "      <th></th>\n",
       "      <th>a</th>\n",
       "      <th>b</th>\n",
       "      <th>c</th>\n",
       "      <th>d</th>\n",
       "      <th>e</th>\n",
       "      <th>f</th>\n",
       "      <th>g</th>\n",
       "      <th>h</th>\n",
       "      <th>i</th>\n",
       "    </tr>\n",
       "  </thead>\n",
       "  <tbody>\n",
       "    <tr>\n",
       "      <th>0</th>\n",
       "      <td>a</td>\n",
       "      <td>1</td>\n",
       "      <td>3</td>\n",
       "      <td>4.0</td>\n",
       "      <td>True</td>\n",
       "      <td>a</td>\n",
       "      <td>2013-01-01</td>\n",
       "      <td>2013-01-01 00:00:00-05:00</td>\n",
       "      <td>2013-01-01 00:00:00.000</td>\n",
       "    </tr>\n",
       "    <tr>\n",
       "      <th>1</th>\n",
       "      <td>b</td>\n",
       "      <td>2</td>\n",
       "      <td>4</td>\n",
       "      <td>5.0</td>\n",
       "      <td>False</td>\n",
       "      <td>b</td>\n",
       "      <td>2013-01-02</td>\n",
       "      <td>2013-01-02 00:00:00-05:00</td>\n",
       "      <td>2013-01-01 00:00:00.001</td>\n",
       "    </tr>\n",
       "    <tr>\n",
       "      <th>2</th>\n",
       "      <td>c</td>\n",
       "      <td>3</td>\n",
       "      <td>5</td>\n",
       "      <td>6.0</td>\n",
       "      <td>True</td>\n",
       "      <td>c</td>\n",
       "      <td>2013-01-03</td>\n",
       "      <td>2013-01-03 00:00:00-05:00</td>\n",
       "      <td>2013-01-01 00:00:00.002</td>\n",
       "    </tr>\n",
       "  </tbody>\n",
       "</table>\n",
       "</div>"
      ],
      "text/plain": [
       "   a  b  c    d      e  f          g                         h  \\\n",
       "0  a  1  3  4.0   True  a 2013-01-01 2013-01-01 00:00:00-05:00   \n",
       "1  b  2  4  5.0  False  b 2013-01-02 2013-01-02 00:00:00-05:00   \n",
       "2  c  3  5  6.0   True  c 2013-01-03 2013-01-03 00:00:00-05:00   \n",
       "\n",
       "                        i  \n",
       "0 2013-01-01 00:00:00.000  \n",
       "1 2013-01-01 00:00:00.001  \n",
       "2 2013-01-01 00:00:00.002  "
      ]
     },
     "execution_count": 20,
     "metadata": {},
     "output_type": "execute_result"
    }
   ],
   "source": [
    "df_f = pd.DataFrame({'a': list('abc'),\n",
    "                     'b': list(range(1, 4)),\n",
    "                     'c': np.arange(3, 6).astype('u1'),\n",
    "                     'd': np.arange(4.0, 7.0, dtype='float64'),\n",
    "                     'e': [True, False, True],\n",
    "                     'f': pd.Categorical(list('abc')),\n",
    "                     'g': pd.date_range('20130101', periods=3),\n",
    "                     'h': pd.date_range('20130101', periods=3, tz='US/Eastern'),\n",
    "                     'i': pd.date_range('20130101', periods=3, freq='ms')})\n",
    "print(df_f.dtypes)\n",
    "df_f.head()"
   ]
  },
  {
   "cell_type": "code",
   "execution_count": 21,
   "metadata": {
    "scrolled": false
   },
   "outputs": [
    {
     "data": {
      "text/plain": [
       "a                        object\n",
       "b                         int64\n",
       "c                         uint8\n",
       "d                       float64\n",
       "e                          bool\n",
       "f                      category\n",
       "g                datetime64[ns]\n",
       "h    datetime64[ns, US/Eastern]\n",
       "i                datetime64[ns]\n",
       "dtype: object"
      ]
     },
     "execution_count": 21,
     "metadata": {},
     "output_type": "execute_result"
    }
   ],
   "source": [
    "# writing to feather\n",
    "df_f.to_feather('../sample_data/data.feather') \n",
    "\n",
    "# reading from feather\n",
    "pd.read_feather('../sample_data/data.feather').dtypes # data types preserved"
   ]
  },
  {
   "cell_type": "markdown",
   "metadata": {},
   "source": [
    "# 11. Paraquet\n",
    "\n",
    "Parquet too is designed to faithfully serialize and de-serialize `DataFrame`s, supporting all of the pandas dtypes."
   ]
  },
  {
   "cell_type": "code",
   "execution_count": 22,
   "metadata": {},
   "outputs": [
    {
     "data": {
      "text/html": [
       "<div>\n",
       "<style scoped>\n",
       "    .dataframe tbody tr th:only-of-type {\n",
       "        vertical-align: middle;\n",
       "    }\n",
       "\n",
       "    .dataframe tbody tr th {\n",
       "        vertical-align: top;\n",
       "    }\n",
       "\n",
       "    .dataframe thead th {\n",
       "        text-align: right;\n",
       "    }\n",
       "</style>\n",
       "<table border=\"1\" class=\"dataframe\">\n",
       "  <thead>\n",
       "    <tr style=\"text-align: right;\">\n",
       "      <th></th>\n",
       "      <th>a</th>\n",
       "      <th>b</th>\n",
       "      <th>c</th>\n",
       "      <th>d</th>\n",
       "      <th>e</th>\n",
       "      <th>f</th>\n",
       "      <th>g</th>\n",
       "      <th>h</th>\n",
       "      <th>i</th>\n",
       "    </tr>\n",
       "  </thead>\n",
       "  <tbody>\n",
       "    <tr>\n",
       "      <th>0</th>\n",
       "      <td>a</td>\n",
       "      <td>1</td>\n",
       "      <td>3</td>\n",
       "      <td>4.0</td>\n",
       "      <td>True</td>\n",
       "      <td>a</td>\n",
       "      <td>2013-01-01</td>\n",
       "      <td>2013-01-01 00:00:00-05:00</td>\n",
       "      <td>2013-01-01 00:00:00.000</td>\n",
       "    </tr>\n",
       "    <tr>\n",
       "      <th>1</th>\n",
       "      <td>b</td>\n",
       "      <td>2</td>\n",
       "      <td>4</td>\n",
       "      <td>5.0</td>\n",
       "      <td>False</td>\n",
       "      <td>b</td>\n",
       "      <td>2013-01-02</td>\n",
       "      <td>2013-01-02 00:00:00-05:00</td>\n",
       "      <td>2013-01-01 00:00:00.001</td>\n",
       "    </tr>\n",
       "    <tr>\n",
       "      <th>2</th>\n",
       "      <td>c</td>\n",
       "      <td>3</td>\n",
       "      <td>5</td>\n",
       "      <td>6.0</td>\n",
       "      <td>True</td>\n",
       "      <td>c</td>\n",
       "      <td>2013-01-03</td>\n",
       "      <td>2013-01-03 00:00:00-05:00</td>\n",
       "      <td>2013-01-01 00:00:00.002</td>\n",
       "    </tr>\n",
       "  </tbody>\n",
       "</table>\n",
       "</div>"
      ],
      "text/plain": [
       "   a  b  c    d      e  f          g                         h  \\\n",
       "0  a  1  3  4.0   True  a 2013-01-01 2013-01-01 00:00:00-05:00   \n",
       "1  b  2  4  5.0  False  b 2013-01-02 2013-01-02 00:00:00-05:00   \n",
       "2  c  3  5  6.0   True  c 2013-01-03 2013-01-03 00:00:00-05:00   \n",
       "\n",
       "                        i  \n",
       "0 2013-01-01 00:00:00.000  \n",
       "1 2013-01-01 00:00:00.001  \n",
       "2 2013-01-01 00:00:00.002  "
      ]
     },
     "execution_count": 22,
     "metadata": {},
     "output_type": "execute_result"
    }
   ],
   "source": [
    "# writing to paraquet\n",
    "df_f.to_parquet('../sample_data/data.paraquet')\n",
    "\n",
    "# reading from paraquet\n",
    "pd.read_parquet('../sample_data/data.paraquet').head()"
   ]
  },
  {
   "cell_type": "code",
   "execution_count": 23,
   "metadata": {},
   "outputs": [
    {
     "data": {
      "text/plain": [
       "a                        object\n",
       "b                         int64\n",
       "c                         uint8\n",
       "d                       float64\n",
       "e                          bool\n",
       "f                      category\n",
       "g                datetime64[ns]\n",
       "h    datetime64[ns, US/Eastern]\n",
       "i                datetime64[ns]\n",
       "dtype: object"
      ]
     },
     "execution_count": 23,
     "metadata": {},
     "output_type": "execute_result"
    }
   ],
   "source": [
    "pd.read_parquet('../sample_data/data.paraquet').dtypes"
   ]
  },
  {
   "cell_type": "markdown",
   "metadata": {},
   "source": [
    "# 12. SQL"
   ]
  },
  {
   "cell_type": "code",
   "execution_count": 24,
   "metadata": {},
   "outputs": [],
   "source": [
    "import sqlite3\n",
    "\n",
    "# creating an SQLite database in RAM\n",
    "conn = sqlite3.connect(':memory:')\n",
    "\n",
    "users = pd.DataFrame({'name' : ['User 1', 'User 2', 'User 3']})\n",
    "\n",
    "# writing a DataFrame to an SQL database table\n",
    "users.to_sql('users', con=conn)"
   ]
  },
  {
   "cell_type": "code",
   "execution_count": 25,
   "metadata": {},
   "outputs": [
    {
     "data": {
      "text/plain": [
       "[(0, 'User 1'), (1, 'User 2'), (2, 'User 3')]"
      ]
     },
     "execution_count": 25,
     "metadata": {},
     "output_type": "execute_result"
    }
   ],
   "source": [
    "# reading data from an SQL database table\n",
    "conn.execute(\"SELECT * FROM users\").fetchall()"
   ]
  },
  {
   "cell_type": "code",
   "execution_count": 26,
   "metadata": {},
   "outputs": [
    {
     "data": {
      "text/html": [
       "<div>\n",
       "<style scoped>\n",
       "    .dataframe tbody tr th:only-of-type {\n",
       "        vertical-align: middle;\n",
       "    }\n",
       "\n",
       "    .dataframe tbody tr th {\n",
       "        vertical-align: top;\n",
       "    }\n",
       "\n",
       "    .dataframe thead th {\n",
       "        text-align: right;\n",
       "    }\n",
       "</style>\n",
       "<table border=\"1\" class=\"dataframe\">\n",
       "  <thead>\n",
       "    <tr style=\"text-align: right;\">\n",
       "      <th></th>\n",
       "      <th>name</th>\n",
       "    </tr>\n",
       "    <tr>\n",
       "      <th>index</th>\n",
       "      <th></th>\n",
       "    </tr>\n",
       "  </thead>\n",
       "  <tbody>\n",
       "    <tr>\n",
       "      <th>0</th>\n",
       "      <td>User 1</td>\n",
       "    </tr>\n",
       "    <tr>\n",
       "      <th>1</th>\n",
       "      <td>User 2</td>\n",
       "    </tr>\n",
       "    <tr>\n",
       "      <th>2</th>\n",
       "      <td>User 3</td>\n",
       "    </tr>\n",
       "  </tbody>\n",
       "</table>\n",
       "</div>"
      ],
      "text/plain": [
       "         name\n",
       "index        \n",
       "0      User 1\n",
       "1      User 2\n",
       "2      User 3"
      ]
     },
     "execution_count": 26,
     "metadata": {},
     "output_type": "execute_result"
    }
   ],
   "source": [
    "# creating a DataFrame from an SQL database table\n",
    "pd.read_sql(\"SELECT * FROM users\", con=conn, index_col='index')"
   ]
  },
  {
   "cell_type": "markdown",
   "metadata": {},
   "source": [
    "# 13. STATA"
   ]
  },
  {
   "cell_type": "code",
   "execution_count": 27,
   "metadata": {
    "scrolled": true
   },
   "outputs": [
    {
     "data": {
      "text/html": [
       "<div>\n",
       "<style scoped>\n",
       "    .dataframe tbody tr th:only-of-type {\n",
       "        vertical-align: middle;\n",
       "    }\n",
       "\n",
       "    .dataframe tbody tr th {\n",
       "        vertical-align: top;\n",
       "    }\n",
       "\n",
       "    .dataframe thead th {\n",
       "        text-align: right;\n",
       "    }\n",
       "</style>\n",
       "<table border=\"1\" class=\"dataframe\">\n",
       "  <thead>\n",
       "    <tr style=\"text-align: right;\">\n",
       "      <th></th>\n",
       "      <th>index</th>\n",
       "      <th>A</th>\n",
       "      <th>B</th>\n",
       "      <th>C</th>\n",
       "    </tr>\n",
       "  </thead>\n",
       "  <tbody>\n",
       "    <tr>\n",
       "      <th>0</th>\n",
       "      <td>0</td>\n",
       "      <td>0.988821</td>\n",
       "      <td>foo</td>\n",
       "      <td>2013-01-01 00:00:00</td>\n",
       "    </tr>\n",
       "    <tr>\n",
       "      <th>1</th>\n",
       "      <td>1</td>\n",
       "      <td>0.392040</td>\n",
       "      <td>foo</td>\n",
       "      <td>2013-01-01 00:00:01</td>\n",
       "    </tr>\n",
       "    <tr>\n",
       "      <th>2</th>\n",
       "      <td>2</td>\n",
       "      <td>0.453600</td>\n",
       "      <td>foo</td>\n",
       "      <td>2013-01-01 00:00:02</td>\n",
       "    </tr>\n",
       "    <tr>\n",
       "      <th>3</th>\n",
       "      <td>3</td>\n",
       "      <td>-0.658292</td>\n",
       "      <td>foo</td>\n",
       "      <td>2013-01-01 00:00:03</td>\n",
       "    </tr>\n",
       "    <tr>\n",
       "      <th>4</th>\n",
       "      <td>4</td>\n",
       "      <td>-0.719088</td>\n",
       "      <td>foo</td>\n",
       "      <td>2013-01-01 00:00:04</td>\n",
       "    </tr>\n",
       "  </tbody>\n",
       "</table>\n",
       "</div>"
      ],
      "text/plain": [
       "   index         A    B                   C\n",
       "0      0  0.988821  foo 2013-01-01 00:00:00\n",
       "1      1  0.392040  foo 2013-01-01 00:00:01\n",
       "2      2  0.453600  foo 2013-01-01 00:00:02\n",
       "3      3 -0.658292  foo 2013-01-01 00:00:03\n",
       "4      4 -0.719088  foo 2013-01-01 00:00:04"
      ]
     },
     "execution_count": 27,
     "metadata": {},
     "output_type": "execute_result"
    }
   ],
   "source": [
    "# writing to STATA\n",
    "df.to_stata('../sample_data/stata.dta')\n",
    "\n",
    "# reading from STATA\n",
    "pd.read_stata('../sample_data/stata.dta').head()"
   ]
  },
  {
   "cell_type": "code",
   "execution_count": 28,
   "metadata": {},
   "outputs": [
    {
     "name": "stdout",
     "output_type": "stream",
     "text": [
      "(250, 4)\n",
      "(250, 4)\n",
      "(250, 4)\n",
      "(250, 4)\n"
     ]
    }
   ],
   "source": [
    "# Specifying a chunksize yields a StataReader instance that can be used as an iterator.\n",
    "reader = pd.read_stata('../sample_data/stata.dta', chunksize=250)\n",
    "\n",
    "for df in reader:\n",
    "    print(df.shape)\n"
   ]
  },
  {
   "cell_type": "markdown",
   "metadata": {},
   "source": [
    "# 14. SAS\n",
    "\n",
    "Only reading from SAS is supported."
   ]
  },
  {
   "cell_type": "code",
   "execution_count": 29,
   "metadata": {},
   "outputs": [],
   "source": [
    "#  df = pd.read_sas('sas_data.sas7bdat')\n",
    "\n",
    "\n",
    "\n",
    "#  def do_something(chunk):\n",
    "#      pass\n",
    "#\n",
    "#  rdr = pd.read_sas('sas_xport.xpt', chunk=100000)\n",
    "#  for chunk in rdr:\n",
    "#      do_something(chunk)"
   ]
  },
  {
   "cell_type": "markdown",
   "metadata": {},
   "source": [
    "# 15. SPSS\n",
    "Only reading from SPSS files is supported."
   ]
  },
  {
   "cell_type": "code",
   "execution_count": 30,
   "metadata": {},
   "outputs": [],
   "source": [
    "#  df = pd.read_spss('spss_data.sav')"
   ]
  }
 ],
 "metadata": {
  "kernelspec": {
   "display_name": "Python 3",
   "language": "python",
   "name": "python3"
  },
  "language_info": {
   "codemirror_mode": {
    "name": "ipython",
    "version": 3
   },
   "file_extension": ".py",
   "mimetype": "text/x-python",
   "name": "python",
   "nbconvert_exporter": "python",
   "pygments_lexer": "ipython3",
   "version": "3.6.9"
  }
 },
 "nbformat": 4,
 "nbformat_minor": 4
}
