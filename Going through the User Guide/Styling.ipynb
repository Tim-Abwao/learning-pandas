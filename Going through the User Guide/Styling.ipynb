{
 "cells": [
  {
   "cell_type": "markdown",
   "metadata": {},
   "source": [
    "# [Go to \"Styling\" in pandas docs](https://pandas.pydata.org/pandas-docs/stable/user_guide/style.html)"
   ]
  },
  {
   "cell_type": "markdown",
   "metadata": {},
   "source": [
    "The `DataFrame.style` property returns a `Styler` object, which has useful methods for formatting and displaying `DataFrames`.\n",
    "\n",
    "Styling is accomplished using **CSS**: through functions that take scalars, `DataFrames` or `Series`, and return like-indexed `DataFrames` or `Series` with CSS `\"attribute: value\"` pairs for the values."
   ]
  },
  {
   "cell_type": "code",
   "execution_count": 1,
   "metadata": {},
   "outputs": [],
   "source": [
    "import pandas as pd\n",
    "import numpy as np\n",
    "np.random.seed(1)"
   ]
  },
  {
   "cell_type": "code",
   "execution_count": 2,
   "metadata": {},
   "outputs": [],
   "source": [
    "df = pd.DataFrame(np.random.standard_normal(20).reshape(5, 4), columns=list('ABCD'))"
   ]
  },
  {
   "cell_type": "code",
   "execution_count": 3,
   "metadata": {},
   "outputs": [
    {
     "data": {
      "text/plain": [
       "'<style  type=\"text/css\" >\\n</style><table id=\"T_e8abf298_b63d_11ea_a5c1_b068e6d46a5d\" ><thead>    <tr>        <th class=\"blank level0\" ></th>        <th class=\"col_heading level0 col0\" >A</th>        <th class=\"col_heading level0 col1\" >B</th>        <th class=\"col_heading level0 col2\" >C</th>        <th class=\"col_heading level0 col3\" >D</th>    </tr></thead><tbody>\\n                <tr>\\n                        <th id=\"T_e8abf298_b63d_11ea_a5c1_b068e6d46a5dlevel0_row0\" class=\"row_heading level0 row0\" >0</th>\\n                        <td id=\"T_e8abf298_b63d_11ea_a5c1_b068e6d46a5drow0_col0\" class=\"data row0 col0\" >1.624345</td>\\n                        <td id=\"T_e8abf298_b63d_11ea_a5c1_b068e6d46a5drow0_col1\" class=\"data row0 col1\" >-0.611756</td>\\n                        <td id=\"T_e8abf298_b63d_11ea_a5c1_b068e6d46a5drow0_col2\" class=\"data row0 col2\" >-0.528172</td>\\n                        <td id=\"T_e8abf298_b63d_11ea_a5c1_b068e6d46a5drow0_col3\" class=\"data row0 col3\" >-1.072969</td>\\n            </tr>\\n            <tr>\\n                        <th id=\"T_e8abf298_b63d_11ea_a5c1_b068e6d46a5dlevel0_row1\" class=\"row_heading level0 row1\" >1</th>\\n                        <td id=\"T_e8abf298_b63d_11ea_a5c1_b068e6d46a5drow1_col0\" class=\"data row1 col0\" >0.865408</td>\\n                        <td id=\"T_e8abf298_b63d_11ea_a5c1_b068e6d46a5drow1_col1\" class=\"data row1 col1\" >-2.301539</td>\\n                        <td id=\"T_e8abf298_b63d_11ea_a5c1_b068e6d46a5drow1_col2\" class=\"data row1 col2\" >1.744812</td>\\n                        <td id=\"T_e8abf298_b63d_11ea_a5c1_b068e6d46a5drow1_col3\" class=\"data row1 col3\" >-0.761207</td>\\n            </tr>\\n            <tr>\\n                        <th id=\"T_e8abf298_b63d_11ea_a5c1_b068e6d46a5dlevel0_row2\" class=\"row_heading level0 row2\" >2</th>\\n                        <td id=\"T_e8abf298_b63d_11ea_a5c1_b068e6d46a5drow2_col0\" class=\"data row2 col0\" >0.319039</td>\\n                        <td id=\"T_e8abf298_b63d_11ea_a5c1_b068e6d46a5drow2_col1\" class=\"data row2 col1\" >-0.249370</td>\\n                        <td id=\"T_e8abf298_b63d_11ea_a5c1_b068e6d46a5drow2_col2\" class=\"data row2 col2\" >1.462108</td>\\n                        <td id=\"T_e8abf298_b63d_11ea_a5c1_b068e6d46a5drow2_col3\" class=\"data row2 col3\" >-2.060141</td>\\n            </tr>\\n            <tr>\\n                        <th id=\"T_e8abf298_b63d_11ea_a5c1_b068e6d46a5dlevel0_row3\" class=\"row_heading level0 row3\" >3</th>\\n                        <td id=\"T_e8abf298_b63d_11ea_a5c1_b068e6d46a5drow3_col0\" class=\"data row3 col0\" >-0.322417</td>\\n                        <td id=\"T_e8abf298_b63d_11ea_a5c1_b068e6d46a5drow3_col1\" class=\"data row3 col1\" >-0.384054</td>\\n                        <td id=\"T_e8abf298_b63d_11ea_a5c1_b068e6d46a5drow3_col2\" class=\"data row3 col2\" >1.133769</td>\\n                        <td id=\"T_e8abf298_b63d_11ea_a5c1_b068e6d46a5drow3_col3\" class=\"data row3 col3\" >-1.099891</td>\\n            </tr>\\n            <tr>\\n                        <th id=\"T_e8abf298_b63d_11ea_a5c1_b068e6d46a5dlevel0_row4\" class=\"row_heading level0 row4\" >4</th>\\n                        <td id=\"T_e8abf298_b63d_11ea_a5c1_b068e6d46a5drow4_col0\" class=\"data row4 col0\" >-0.172428</td>\\n                        <td id=\"T_e8abf298_b63d_11ea_a5c1_b068e6d46a5drow4_col1\" class=\"data row4 col1\" >-0.877858</td>\\n                        <td id=\"T_e8abf298_b63d_11ea_a5c1_b068e6d46a5drow4_col2\" class=\"data row4 col2\" >0.042214</td>\\n                        <td id=\"T_e8abf298_b63d_11ea_a5c1_b068e6d46a5drow4_col3\" class=\"data row4 col3\" >0.582815</td>\\n            </tr>\\n    </tbody></table>'"
      ]
     },
     "execution_count": 3,
     "metadata": {},
     "output_type": "execute_result"
    }
   ],
   "source": [
    "df.style.render()"
   ]
  },
  {
   "cell_type": "markdown",
   "metadata": {},
   "source": [
    "# 1. Building Styles\n",
    "\n",
    "Style functions should return strings with one or more CSS attribute: value delimited by semicolons. Use:\n",
    "\n",
    "- `Styler.applymap(func)` for elementwise styles\n",
    "\n",
    "- `Styler.apply(func, axis=0)` for columnwise styles\n",
    "\n",
    "- `Styler.apply(func, axis=1)` for rowwise styles\n",
    "\n",
    "- `Styler.apply(func, axis=None)` for tablewise styles\n",
    "\n",
    "### 1.1 `Styler.applymap` - elementwise."
   ]
  },
  {
   "cell_type": "code",
   "execution_count": 4,
   "metadata": {},
   "outputs": [
    {
     "data": {
      "text/html": [
       "<style  type=\"text/css\" >\n",
       "    #T_e8abf299_b63d_11ea_a5c1_b068e6d46a5drow0_col0 {\n",
       "            color:  black;\n",
       "        }    #T_e8abf299_b63d_11ea_a5c1_b068e6d46a5drow0_col1 {\n",
       "            color:  red;\n",
       "        }    #T_e8abf299_b63d_11ea_a5c1_b068e6d46a5drow0_col2 {\n",
       "            color:  red;\n",
       "        }    #T_e8abf299_b63d_11ea_a5c1_b068e6d46a5drow0_col3 {\n",
       "            color:  red;\n",
       "        }    #T_e8abf299_b63d_11ea_a5c1_b068e6d46a5drow1_col0 {\n",
       "            color:  black;\n",
       "        }    #T_e8abf299_b63d_11ea_a5c1_b068e6d46a5drow1_col1 {\n",
       "            color:  red;\n",
       "        }    #T_e8abf299_b63d_11ea_a5c1_b068e6d46a5drow1_col2 {\n",
       "            color:  black;\n",
       "        }    #T_e8abf299_b63d_11ea_a5c1_b068e6d46a5drow1_col3 {\n",
       "            color:  red;\n",
       "        }    #T_e8abf299_b63d_11ea_a5c1_b068e6d46a5drow2_col0 {\n",
       "            color:  black;\n",
       "        }    #T_e8abf299_b63d_11ea_a5c1_b068e6d46a5drow2_col1 {\n",
       "            color:  red;\n",
       "        }    #T_e8abf299_b63d_11ea_a5c1_b068e6d46a5drow2_col2 {\n",
       "            color:  black;\n",
       "        }    #T_e8abf299_b63d_11ea_a5c1_b068e6d46a5drow2_col3 {\n",
       "            color:  red;\n",
       "        }    #T_e8abf299_b63d_11ea_a5c1_b068e6d46a5drow3_col0 {\n",
       "            color:  red;\n",
       "        }    #T_e8abf299_b63d_11ea_a5c1_b068e6d46a5drow3_col1 {\n",
       "            color:  red;\n",
       "        }    #T_e8abf299_b63d_11ea_a5c1_b068e6d46a5drow3_col2 {\n",
       "            color:  black;\n",
       "        }    #T_e8abf299_b63d_11ea_a5c1_b068e6d46a5drow3_col3 {\n",
       "            color:  red;\n",
       "        }    #T_e8abf299_b63d_11ea_a5c1_b068e6d46a5drow4_col0 {\n",
       "            color:  red;\n",
       "        }    #T_e8abf299_b63d_11ea_a5c1_b068e6d46a5drow4_col1 {\n",
       "            color:  red;\n",
       "        }    #T_e8abf299_b63d_11ea_a5c1_b068e6d46a5drow4_col2 {\n",
       "            color:  black;\n",
       "        }    #T_e8abf299_b63d_11ea_a5c1_b068e6d46a5drow4_col3 {\n",
       "            color:  black;\n",
       "        }</style><table id=\"T_e8abf299_b63d_11ea_a5c1_b068e6d46a5d\" ><thead>    <tr>        <th class=\"blank level0\" ></th>        <th class=\"col_heading level0 col0\" >A</th>        <th class=\"col_heading level0 col1\" >B</th>        <th class=\"col_heading level0 col2\" >C</th>        <th class=\"col_heading level0 col3\" >D</th>    </tr></thead><tbody>\n",
       "                <tr>\n",
       "                        <th id=\"T_e8abf299_b63d_11ea_a5c1_b068e6d46a5dlevel0_row0\" class=\"row_heading level0 row0\" >0</th>\n",
       "                        <td id=\"T_e8abf299_b63d_11ea_a5c1_b068e6d46a5drow0_col0\" class=\"data row0 col0\" >1.624345</td>\n",
       "                        <td id=\"T_e8abf299_b63d_11ea_a5c1_b068e6d46a5drow0_col1\" class=\"data row0 col1\" >-0.611756</td>\n",
       "                        <td id=\"T_e8abf299_b63d_11ea_a5c1_b068e6d46a5drow0_col2\" class=\"data row0 col2\" >-0.528172</td>\n",
       "                        <td id=\"T_e8abf299_b63d_11ea_a5c1_b068e6d46a5drow0_col3\" class=\"data row0 col3\" >-1.072969</td>\n",
       "            </tr>\n",
       "            <tr>\n",
       "                        <th id=\"T_e8abf299_b63d_11ea_a5c1_b068e6d46a5dlevel0_row1\" class=\"row_heading level0 row1\" >1</th>\n",
       "                        <td id=\"T_e8abf299_b63d_11ea_a5c1_b068e6d46a5drow1_col0\" class=\"data row1 col0\" >0.865408</td>\n",
       "                        <td id=\"T_e8abf299_b63d_11ea_a5c1_b068e6d46a5drow1_col1\" class=\"data row1 col1\" >-2.301539</td>\n",
       "                        <td id=\"T_e8abf299_b63d_11ea_a5c1_b068e6d46a5drow1_col2\" class=\"data row1 col2\" >1.744812</td>\n",
       "                        <td id=\"T_e8abf299_b63d_11ea_a5c1_b068e6d46a5drow1_col3\" class=\"data row1 col3\" >-0.761207</td>\n",
       "            </tr>\n",
       "            <tr>\n",
       "                        <th id=\"T_e8abf299_b63d_11ea_a5c1_b068e6d46a5dlevel0_row2\" class=\"row_heading level0 row2\" >2</th>\n",
       "                        <td id=\"T_e8abf299_b63d_11ea_a5c1_b068e6d46a5drow2_col0\" class=\"data row2 col0\" >0.319039</td>\n",
       "                        <td id=\"T_e8abf299_b63d_11ea_a5c1_b068e6d46a5drow2_col1\" class=\"data row2 col1\" >-0.249370</td>\n",
       "                        <td id=\"T_e8abf299_b63d_11ea_a5c1_b068e6d46a5drow2_col2\" class=\"data row2 col2\" >1.462108</td>\n",
       "                        <td id=\"T_e8abf299_b63d_11ea_a5c1_b068e6d46a5drow2_col3\" class=\"data row2 col3\" >-2.060141</td>\n",
       "            </tr>\n",
       "            <tr>\n",
       "                        <th id=\"T_e8abf299_b63d_11ea_a5c1_b068e6d46a5dlevel0_row3\" class=\"row_heading level0 row3\" >3</th>\n",
       "                        <td id=\"T_e8abf299_b63d_11ea_a5c1_b068e6d46a5drow3_col0\" class=\"data row3 col0\" >-0.322417</td>\n",
       "                        <td id=\"T_e8abf299_b63d_11ea_a5c1_b068e6d46a5drow3_col1\" class=\"data row3 col1\" >-0.384054</td>\n",
       "                        <td id=\"T_e8abf299_b63d_11ea_a5c1_b068e6d46a5drow3_col2\" class=\"data row3 col2\" >1.133769</td>\n",
       "                        <td id=\"T_e8abf299_b63d_11ea_a5c1_b068e6d46a5drow3_col3\" class=\"data row3 col3\" >-1.099891</td>\n",
       "            </tr>\n",
       "            <tr>\n",
       "                        <th id=\"T_e8abf299_b63d_11ea_a5c1_b068e6d46a5dlevel0_row4\" class=\"row_heading level0 row4\" >4</th>\n",
       "                        <td id=\"T_e8abf299_b63d_11ea_a5c1_b068e6d46a5drow4_col0\" class=\"data row4 col0\" >-0.172428</td>\n",
       "                        <td id=\"T_e8abf299_b63d_11ea_a5c1_b068e6d46a5drow4_col1\" class=\"data row4 col1\" >-0.877858</td>\n",
       "                        <td id=\"T_e8abf299_b63d_11ea_a5c1_b068e6d46a5drow4_col2\" class=\"data row4 col2\" >0.042214</td>\n",
       "                        <td id=\"T_e8abf299_b63d_11ea_a5c1_b068e6d46a5drow4_col3\" class=\"data row4 col3\" >0.582815</td>\n",
       "            </tr>\n",
       "    </tbody></table>"
      ],
      "text/plain": [
       "<pandas.io.formats.style.Styler at 0x7fda6cab33c8>"
      ]
     },
     "execution_count": 4,
     "metadata": {},
     "output_type": "execute_result"
    }
   ],
   "source": [
    "def color_negatives_red(val):\n",
    "    \"\"\"\n",
    "    Converts -ve values' color to red. \n",
    "    \"\"\"\n",
    "    color = 'red' if val < 0 else 'black'\n",
    "    return f'color: {color}'\n",
    "\n",
    "\n",
    "df.style.applymap(color_negatives_red)"
   ]
  },
  {
   "cell_type": "markdown",
   "metadata": {},
   "source": [
    "### 1.2 `Styler.apply` - column-wise(axis=0)"
   ]
  },
  {
   "cell_type": "code",
   "execution_count": 5,
   "metadata": {},
   "outputs": [
    {
     "data": {
      "text/html": [
       "<style  type=\"text/css\" >\n",
       "    #T_e8abf29a_b63d_11ea_a5c1_b068e6d46a5drow0_col0 {\n",
       "            background-color:  yellow;\n",
       "        }    #T_e8abf29a_b63d_11ea_a5c1_b068e6d46a5drow1_col2 {\n",
       "            background-color:  yellow;\n",
       "        }    #T_e8abf29a_b63d_11ea_a5c1_b068e6d46a5drow2_col1 {\n",
       "            background-color:  yellow;\n",
       "        }    #T_e8abf29a_b63d_11ea_a5c1_b068e6d46a5drow4_col3 {\n",
       "            background-color:  yellow;\n",
       "        }</style><table id=\"T_e8abf29a_b63d_11ea_a5c1_b068e6d46a5d\" ><thead>    <tr>        <th class=\"blank level0\" ></th>        <th class=\"col_heading level0 col0\" >A</th>        <th class=\"col_heading level0 col1\" >B</th>        <th class=\"col_heading level0 col2\" >C</th>        <th class=\"col_heading level0 col3\" >D</th>    </tr></thead><tbody>\n",
       "                <tr>\n",
       "                        <th id=\"T_e8abf29a_b63d_11ea_a5c1_b068e6d46a5dlevel0_row0\" class=\"row_heading level0 row0\" >0</th>\n",
       "                        <td id=\"T_e8abf29a_b63d_11ea_a5c1_b068e6d46a5drow0_col0\" class=\"data row0 col0\" >1.624345</td>\n",
       "                        <td id=\"T_e8abf29a_b63d_11ea_a5c1_b068e6d46a5drow0_col1\" class=\"data row0 col1\" >-0.611756</td>\n",
       "                        <td id=\"T_e8abf29a_b63d_11ea_a5c1_b068e6d46a5drow0_col2\" class=\"data row0 col2\" >-0.528172</td>\n",
       "                        <td id=\"T_e8abf29a_b63d_11ea_a5c1_b068e6d46a5drow0_col3\" class=\"data row0 col3\" >-1.072969</td>\n",
       "            </tr>\n",
       "            <tr>\n",
       "                        <th id=\"T_e8abf29a_b63d_11ea_a5c1_b068e6d46a5dlevel0_row1\" class=\"row_heading level0 row1\" >1</th>\n",
       "                        <td id=\"T_e8abf29a_b63d_11ea_a5c1_b068e6d46a5drow1_col0\" class=\"data row1 col0\" >0.865408</td>\n",
       "                        <td id=\"T_e8abf29a_b63d_11ea_a5c1_b068e6d46a5drow1_col1\" class=\"data row1 col1\" >-2.301539</td>\n",
       "                        <td id=\"T_e8abf29a_b63d_11ea_a5c1_b068e6d46a5drow1_col2\" class=\"data row1 col2\" >1.744812</td>\n",
       "                        <td id=\"T_e8abf29a_b63d_11ea_a5c1_b068e6d46a5drow1_col3\" class=\"data row1 col3\" >-0.761207</td>\n",
       "            </tr>\n",
       "            <tr>\n",
       "                        <th id=\"T_e8abf29a_b63d_11ea_a5c1_b068e6d46a5dlevel0_row2\" class=\"row_heading level0 row2\" >2</th>\n",
       "                        <td id=\"T_e8abf29a_b63d_11ea_a5c1_b068e6d46a5drow2_col0\" class=\"data row2 col0\" >0.319039</td>\n",
       "                        <td id=\"T_e8abf29a_b63d_11ea_a5c1_b068e6d46a5drow2_col1\" class=\"data row2 col1\" >-0.249370</td>\n",
       "                        <td id=\"T_e8abf29a_b63d_11ea_a5c1_b068e6d46a5drow2_col2\" class=\"data row2 col2\" >1.462108</td>\n",
       "                        <td id=\"T_e8abf29a_b63d_11ea_a5c1_b068e6d46a5drow2_col3\" class=\"data row2 col3\" >-2.060141</td>\n",
       "            </tr>\n",
       "            <tr>\n",
       "                        <th id=\"T_e8abf29a_b63d_11ea_a5c1_b068e6d46a5dlevel0_row3\" class=\"row_heading level0 row3\" >3</th>\n",
       "                        <td id=\"T_e8abf29a_b63d_11ea_a5c1_b068e6d46a5drow3_col0\" class=\"data row3 col0\" >-0.322417</td>\n",
       "                        <td id=\"T_e8abf29a_b63d_11ea_a5c1_b068e6d46a5drow3_col1\" class=\"data row3 col1\" >-0.384054</td>\n",
       "                        <td id=\"T_e8abf29a_b63d_11ea_a5c1_b068e6d46a5drow3_col2\" class=\"data row3 col2\" >1.133769</td>\n",
       "                        <td id=\"T_e8abf29a_b63d_11ea_a5c1_b068e6d46a5drow3_col3\" class=\"data row3 col3\" >-1.099891</td>\n",
       "            </tr>\n",
       "            <tr>\n",
       "                        <th id=\"T_e8abf29a_b63d_11ea_a5c1_b068e6d46a5dlevel0_row4\" class=\"row_heading level0 row4\" >4</th>\n",
       "                        <td id=\"T_e8abf29a_b63d_11ea_a5c1_b068e6d46a5drow4_col0\" class=\"data row4 col0\" >-0.172428</td>\n",
       "                        <td id=\"T_e8abf29a_b63d_11ea_a5c1_b068e6d46a5drow4_col1\" class=\"data row4 col1\" >-0.877858</td>\n",
       "                        <td id=\"T_e8abf29a_b63d_11ea_a5c1_b068e6d46a5drow4_col2\" class=\"data row4 col2\" >0.042214</td>\n",
       "                        <td id=\"T_e8abf29a_b63d_11ea_a5c1_b068e6d46a5drow4_col3\" class=\"data row4 col3\" >0.582815</td>\n",
       "            </tr>\n",
       "    </tbody></table>"
      ],
      "text/plain": [
       "<pandas.io.formats.style.Styler at 0x7fda6cab39b0>"
      ]
     },
     "execution_count": 5,
     "metadata": {},
     "output_type": "execute_result"
    }
   ],
   "source": [
    "def highlight_max(s):\n",
    "    '''\n",
    "    Highlight the maximum in a Series or DataFrame colums/rows yellow\n",
    "    '''\n",
    "    is_max = s == s.max()\n",
    "    return ['background-color: yellow' if v else '' for v in is_max]\n",
    "\n",
    "df.style.apply(highlight_max)  # column-wise (default: axis=0)"
   ]
  },
  {
   "cell_type": "markdown",
   "metadata": {},
   "source": [
    "### 1.3 `Styler.apply` -  row-wise(axis=1)"
   ]
  },
  {
   "cell_type": "code",
   "execution_count": 6,
   "metadata": {},
   "outputs": [
    {
     "data": {
      "text/html": [
       "<style  type=\"text/css\" >\n",
       "    #T_e8abf29b_b63d_11ea_a5c1_b068e6d46a5drow0_col0 {\n",
       "            background-color:  yellow;\n",
       "        }    #T_e8abf29b_b63d_11ea_a5c1_b068e6d46a5drow1_col2 {\n",
       "            background-color:  yellow;\n",
       "        }    #T_e8abf29b_b63d_11ea_a5c1_b068e6d46a5drow2_col2 {\n",
       "            background-color:  yellow;\n",
       "        }    #T_e8abf29b_b63d_11ea_a5c1_b068e6d46a5drow3_col2 {\n",
       "            background-color:  yellow;\n",
       "        }    #T_e8abf29b_b63d_11ea_a5c1_b068e6d46a5drow4_col3 {\n",
       "            background-color:  yellow;\n",
       "        }</style><table id=\"T_e8abf29b_b63d_11ea_a5c1_b068e6d46a5d\" ><thead>    <tr>        <th class=\"blank level0\" ></th>        <th class=\"col_heading level0 col0\" >A</th>        <th class=\"col_heading level0 col1\" >B</th>        <th class=\"col_heading level0 col2\" >C</th>        <th class=\"col_heading level0 col3\" >D</th>    </tr></thead><tbody>\n",
       "                <tr>\n",
       "                        <th id=\"T_e8abf29b_b63d_11ea_a5c1_b068e6d46a5dlevel0_row0\" class=\"row_heading level0 row0\" >0</th>\n",
       "                        <td id=\"T_e8abf29b_b63d_11ea_a5c1_b068e6d46a5drow0_col0\" class=\"data row0 col0\" >1.624345</td>\n",
       "                        <td id=\"T_e8abf29b_b63d_11ea_a5c1_b068e6d46a5drow0_col1\" class=\"data row0 col1\" >-0.611756</td>\n",
       "                        <td id=\"T_e8abf29b_b63d_11ea_a5c1_b068e6d46a5drow0_col2\" class=\"data row0 col2\" >-0.528172</td>\n",
       "                        <td id=\"T_e8abf29b_b63d_11ea_a5c1_b068e6d46a5drow0_col3\" class=\"data row0 col3\" >-1.072969</td>\n",
       "            </tr>\n",
       "            <tr>\n",
       "                        <th id=\"T_e8abf29b_b63d_11ea_a5c1_b068e6d46a5dlevel0_row1\" class=\"row_heading level0 row1\" >1</th>\n",
       "                        <td id=\"T_e8abf29b_b63d_11ea_a5c1_b068e6d46a5drow1_col0\" class=\"data row1 col0\" >0.865408</td>\n",
       "                        <td id=\"T_e8abf29b_b63d_11ea_a5c1_b068e6d46a5drow1_col1\" class=\"data row1 col1\" >-2.301539</td>\n",
       "                        <td id=\"T_e8abf29b_b63d_11ea_a5c1_b068e6d46a5drow1_col2\" class=\"data row1 col2\" >1.744812</td>\n",
       "                        <td id=\"T_e8abf29b_b63d_11ea_a5c1_b068e6d46a5drow1_col3\" class=\"data row1 col3\" >-0.761207</td>\n",
       "            </tr>\n",
       "            <tr>\n",
       "                        <th id=\"T_e8abf29b_b63d_11ea_a5c1_b068e6d46a5dlevel0_row2\" class=\"row_heading level0 row2\" >2</th>\n",
       "                        <td id=\"T_e8abf29b_b63d_11ea_a5c1_b068e6d46a5drow2_col0\" class=\"data row2 col0\" >0.319039</td>\n",
       "                        <td id=\"T_e8abf29b_b63d_11ea_a5c1_b068e6d46a5drow2_col1\" class=\"data row2 col1\" >-0.249370</td>\n",
       "                        <td id=\"T_e8abf29b_b63d_11ea_a5c1_b068e6d46a5drow2_col2\" class=\"data row2 col2\" >1.462108</td>\n",
       "                        <td id=\"T_e8abf29b_b63d_11ea_a5c1_b068e6d46a5drow2_col3\" class=\"data row2 col3\" >-2.060141</td>\n",
       "            </tr>\n",
       "            <tr>\n",
       "                        <th id=\"T_e8abf29b_b63d_11ea_a5c1_b068e6d46a5dlevel0_row3\" class=\"row_heading level0 row3\" >3</th>\n",
       "                        <td id=\"T_e8abf29b_b63d_11ea_a5c1_b068e6d46a5drow3_col0\" class=\"data row3 col0\" >-0.322417</td>\n",
       "                        <td id=\"T_e8abf29b_b63d_11ea_a5c1_b068e6d46a5drow3_col1\" class=\"data row3 col1\" >-0.384054</td>\n",
       "                        <td id=\"T_e8abf29b_b63d_11ea_a5c1_b068e6d46a5drow3_col2\" class=\"data row3 col2\" >1.133769</td>\n",
       "                        <td id=\"T_e8abf29b_b63d_11ea_a5c1_b068e6d46a5drow3_col3\" class=\"data row3 col3\" >-1.099891</td>\n",
       "            </tr>\n",
       "            <tr>\n",
       "                        <th id=\"T_e8abf29b_b63d_11ea_a5c1_b068e6d46a5dlevel0_row4\" class=\"row_heading level0 row4\" >4</th>\n",
       "                        <td id=\"T_e8abf29b_b63d_11ea_a5c1_b068e6d46a5drow4_col0\" class=\"data row4 col0\" >-0.172428</td>\n",
       "                        <td id=\"T_e8abf29b_b63d_11ea_a5c1_b068e6d46a5drow4_col1\" class=\"data row4 col1\" >-0.877858</td>\n",
       "                        <td id=\"T_e8abf29b_b63d_11ea_a5c1_b068e6d46a5drow4_col2\" class=\"data row4 col2\" >0.042214</td>\n",
       "                        <td id=\"T_e8abf29b_b63d_11ea_a5c1_b068e6d46a5drow4_col3\" class=\"data row4 col3\" >0.582815</td>\n",
       "            </tr>\n",
       "    </tbody></table>"
      ],
      "text/plain": [
       "<pandas.io.formats.style.Styler at 0x7fda6c79fef0>"
      ]
     },
     "execution_count": 6,
     "metadata": {},
     "output_type": "execute_result"
    }
   ],
   "source": [
    "df.style.apply(highlight_max, axis=1)  # row-wise"
   ]
  },
  {
   "cell_type": "markdown",
   "metadata": {},
   "source": [
    "### 1.4 `Styler.apply` - table-wise(axis=None)"
   ]
  },
  {
   "cell_type": "code",
   "execution_count": 7,
   "metadata": {},
   "outputs": [
    {
     "data": {
      "text/html": [
       "<style  type=\"text/css\" >\n",
       "    #T_e8abf29c_b63d_11ea_a5c1_b068e6d46a5drow1_col2 {\n",
       "            font-size:  2em;\n",
       "        }</style><table id=\"T_e8abf29c_b63d_11ea_a5c1_b068e6d46a5d\" ><thead>    <tr>        <th class=\"blank level0\" ></th>        <th class=\"col_heading level0 col0\" >A</th>        <th class=\"col_heading level0 col1\" >B</th>        <th class=\"col_heading level0 col2\" >C</th>        <th class=\"col_heading level0 col3\" >D</th>    </tr></thead><tbody>\n",
       "                <tr>\n",
       "                        <th id=\"T_e8abf29c_b63d_11ea_a5c1_b068e6d46a5dlevel0_row0\" class=\"row_heading level0 row0\" >0</th>\n",
       "                        <td id=\"T_e8abf29c_b63d_11ea_a5c1_b068e6d46a5drow0_col0\" class=\"data row0 col0\" >1.624345</td>\n",
       "                        <td id=\"T_e8abf29c_b63d_11ea_a5c1_b068e6d46a5drow0_col1\" class=\"data row0 col1\" >-0.611756</td>\n",
       "                        <td id=\"T_e8abf29c_b63d_11ea_a5c1_b068e6d46a5drow0_col2\" class=\"data row0 col2\" >-0.528172</td>\n",
       "                        <td id=\"T_e8abf29c_b63d_11ea_a5c1_b068e6d46a5drow0_col3\" class=\"data row0 col3\" >-1.072969</td>\n",
       "            </tr>\n",
       "            <tr>\n",
       "                        <th id=\"T_e8abf29c_b63d_11ea_a5c1_b068e6d46a5dlevel0_row1\" class=\"row_heading level0 row1\" >1</th>\n",
       "                        <td id=\"T_e8abf29c_b63d_11ea_a5c1_b068e6d46a5drow1_col0\" class=\"data row1 col0\" >0.865408</td>\n",
       "                        <td id=\"T_e8abf29c_b63d_11ea_a5c1_b068e6d46a5drow1_col1\" class=\"data row1 col1\" >-2.301539</td>\n",
       "                        <td id=\"T_e8abf29c_b63d_11ea_a5c1_b068e6d46a5drow1_col2\" class=\"data row1 col2\" >1.744812</td>\n",
       "                        <td id=\"T_e8abf29c_b63d_11ea_a5c1_b068e6d46a5drow1_col3\" class=\"data row1 col3\" >-0.761207</td>\n",
       "            </tr>\n",
       "            <tr>\n",
       "                        <th id=\"T_e8abf29c_b63d_11ea_a5c1_b068e6d46a5dlevel0_row2\" class=\"row_heading level0 row2\" >2</th>\n",
       "                        <td id=\"T_e8abf29c_b63d_11ea_a5c1_b068e6d46a5drow2_col0\" class=\"data row2 col0\" >0.319039</td>\n",
       "                        <td id=\"T_e8abf29c_b63d_11ea_a5c1_b068e6d46a5drow2_col1\" class=\"data row2 col1\" >-0.249370</td>\n",
       "                        <td id=\"T_e8abf29c_b63d_11ea_a5c1_b068e6d46a5drow2_col2\" class=\"data row2 col2\" >1.462108</td>\n",
       "                        <td id=\"T_e8abf29c_b63d_11ea_a5c1_b068e6d46a5drow2_col3\" class=\"data row2 col3\" >-2.060141</td>\n",
       "            </tr>\n",
       "            <tr>\n",
       "                        <th id=\"T_e8abf29c_b63d_11ea_a5c1_b068e6d46a5dlevel0_row3\" class=\"row_heading level0 row3\" >3</th>\n",
       "                        <td id=\"T_e8abf29c_b63d_11ea_a5c1_b068e6d46a5drow3_col0\" class=\"data row3 col0\" >-0.322417</td>\n",
       "                        <td id=\"T_e8abf29c_b63d_11ea_a5c1_b068e6d46a5drow3_col1\" class=\"data row3 col1\" >-0.384054</td>\n",
       "                        <td id=\"T_e8abf29c_b63d_11ea_a5c1_b068e6d46a5drow3_col2\" class=\"data row3 col2\" >1.133769</td>\n",
       "                        <td id=\"T_e8abf29c_b63d_11ea_a5c1_b068e6d46a5drow3_col3\" class=\"data row3 col3\" >-1.099891</td>\n",
       "            </tr>\n",
       "            <tr>\n",
       "                        <th id=\"T_e8abf29c_b63d_11ea_a5c1_b068e6d46a5dlevel0_row4\" class=\"row_heading level0 row4\" >4</th>\n",
       "                        <td id=\"T_e8abf29c_b63d_11ea_a5c1_b068e6d46a5drow4_col0\" class=\"data row4 col0\" >-0.172428</td>\n",
       "                        <td id=\"T_e8abf29c_b63d_11ea_a5c1_b068e6d46a5drow4_col1\" class=\"data row4 col1\" >-0.877858</td>\n",
       "                        <td id=\"T_e8abf29c_b63d_11ea_a5c1_b068e6d46a5drow4_col2\" class=\"data row4 col2\" >0.042214</td>\n",
       "                        <td id=\"T_e8abf29c_b63d_11ea_a5c1_b068e6d46a5drow4_col3\" class=\"data row4 col3\" >0.582815</td>\n",
       "            </tr>\n",
       "    </tbody></table>"
      ],
      "text/plain": [
       "<pandas.io.formats.style.Styler at 0x7fda6c7bf5f8>"
      ]
     },
     "execution_count": 7,
     "metadata": {},
     "output_type": "execute_result"
    }
   ],
   "source": [
    "def enlarge_max_whole_table(s):\n",
    "    '''\n",
    "    Highlight the maximum in a Series or DataFrame colums/rows yellow\n",
    "    '''\n",
    "    foo = lambda x: ['font-size: 2em' if y == s.max().max() \\\n",
    "                     else '' for y in x]\n",
    "    return s.apply(foo)\n",
    "\n",
    "# applying style function to whole dataframe (axis=None)\n",
    "df.style.apply(enlarge_max_whole_table, axis=None)  "
   ]
  },
  {
   "cell_type": "markdown",
   "metadata": {},
   "source": [
    "# 2. Slicing (Specifying rows/columns)\n",
    "\n",
    "Both `Styler.apply`, and `Styler.applymap` accept a **`subset`** keyword, which allows you to apply styles to specific rows or columns, without having to code that logic into your style function."
   ]
  },
  {
   "cell_type": "code",
   "execution_count": 8,
   "metadata": {},
   "outputs": [
    {
     "data": {
      "text/html": [
       "<style  type=\"text/css\" >\n",
       "    #T_e8abf29d_b63d_11ea_a5c1_b068e6d46a5drow2_col1 {\n",
       "            background-color:  yellow;\n",
       "        }    #T_e8abf29d_b63d_11ea_a5c1_b068e6d46a5drow4_col3 {\n",
       "            background-color:  yellow;\n",
       "        }</style><table id=\"T_e8abf29d_b63d_11ea_a5c1_b068e6d46a5d\" ><thead>    <tr>        <th class=\"blank level0\" ></th>        <th class=\"col_heading level0 col0\" >A</th>        <th class=\"col_heading level0 col1\" >B</th>        <th class=\"col_heading level0 col2\" >C</th>        <th class=\"col_heading level0 col3\" >D</th>    </tr></thead><tbody>\n",
       "                <tr>\n",
       "                        <th id=\"T_e8abf29d_b63d_11ea_a5c1_b068e6d46a5dlevel0_row0\" class=\"row_heading level0 row0\" >0</th>\n",
       "                        <td id=\"T_e8abf29d_b63d_11ea_a5c1_b068e6d46a5drow0_col0\" class=\"data row0 col0\" >1.624345</td>\n",
       "                        <td id=\"T_e8abf29d_b63d_11ea_a5c1_b068e6d46a5drow0_col1\" class=\"data row0 col1\" >-0.611756</td>\n",
       "                        <td id=\"T_e8abf29d_b63d_11ea_a5c1_b068e6d46a5drow0_col2\" class=\"data row0 col2\" >-0.528172</td>\n",
       "                        <td id=\"T_e8abf29d_b63d_11ea_a5c1_b068e6d46a5drow0_col3\" class=\"data row0 col3\" >-1.072969</td>\n",
       "            </tr>\n",
       "            <tr>\n",
       "                        <th id=\"T_e8abf29d_b63d_11ea_a5c1_b068e6d46a5dlevel0_row1\" class=\"row_heading level0 row1\" >1</th>\n",
       "                        <td id=\"T_e8abf29d_b63d_11ea_a5c1_b068e6d46a5drow1_col0\" class=\"data row1 col0\" >0.865408</td>\n",
       "                        <td id=\"T_e8abf29d_b63d_11ea_a5c1_b068e6d46a5drow1_col1\" class=\"data row1 col1\" >-2.301539</td>\n",
       "                        <td id=\"T_e8abf29d_b63d_11ea_a5c1_b068e6d46a5drow1_col2\" class=\"data row1 col2\" >1.744812</td>\n",
       "                        <td id=\"T_e8abf29d_b63d_11ea_a5c1_b068e6d46a5drow1_col3\" class=\"data row1 col3\" >-0.761207</td>\n",
       "            </tr>\n",
       "            <tr>\n",
       "                        <th id=\"T_e8abf29d_b63d_11ea_a5c1_b068e6d46a5dlevel0_row2\" class=\"row_heading level0 row2\" >2</th>\n",
       "                        <td id=\"T_e8abf29d_b63d_11ea_a5c1_b068e6d46a5drow2_col0\" class=\"data row2 col0\" >0.319039</td>\n",
       "                        <td id=\"T_e8abf29d_b63d_11ea_a5c1_b068e6d46a5drow2_col1\" class=\"data row2 col1\" >-0.249370</td>\n",
       "                        <td id=\"T_e8abf29d_b63d_11ea_a5c1_b068e6d46a5drow2_col2\" class=\"data row2 col2\" >1.462108</td>\n",
       "                        <td id=\"T_e8abf29d_b63d_11ea_a5c1_b068e6d46a5drow2_col3\" class=\"data row2 col3\" >-2.060141</td>\n",
       "            </tr>\n",
       "            <tr>\n",
       "                        <th id=\"T_e8abf29d_b63d_11ea_a5c1_b068e6d46a5dlevel0_row3\" class=\"row_heading level0 row3\" >3</th>\n",
       "                        <td id=\"T_e8abf29d_b63d_11ea_a5c1_b068e6d46a5drow3_col0\" class=\"data row3 col0\" >-0.322417</td>\n",
       "                        <td id=\"T_e8abf29d_b63d_11ea_a5c1_b068e6d46a5drow3_col1\" class=\"data row3 col1\" >-0.384054</td>\n",
       "                        <td id=\"T_e8abf29d_b63d_11ea_a5c1_b068e6d46a5drow3_col2\" class=\"data row3 col2\" >1.133769</td>\n",
       "                        <td id=\"T_e8abf29d_b63d_11ea_a5c1_b068e6d46a5drow3_col3\" class=\"data row3 col3\" >-1.099891</td>\n",
       "            </tr>\n",
       "            <tr>\n",
       "                        <th id=\"T_e8abf29d_b63d_11ea_a5c1_b068e6d46a5dlevel0_row4\" class=\"row_heading level0 row4\" >4</th>\n",
       "                        <td id=\"T_e8abf29d_b63d_11ea_a5c1_b068e6d46a5drow4_col0\" class=\"data row4 col0\" >-0.172428</td>\n",
       "                        <td id=\"T_e8abf29d_b63d_11ea_a5c1_b068e6d46a5drow4_col1\" class=\"data row4 col1\" >-0.877858</td>\n",
       "                        <td id=\"T_e8abf29d_b63d_11ea_a5c1_b068e6d46a5drow4_col2\" class=\"data row4 col2\" >0.042214</td>\n",
       "                        <td id=\"T_e8abf29d_b63d_11ea_a5c1_b068e6d46a5drow4_col3\" class=\"data row4 col3\" >0.582815</td>\n",
       "            </tr>\n",
       "    </tbody></table>"
      ],
      "text/plain": [
       "<pandas.io.formats.style.Styler at 0x7fda6c79fbe0>"
      ]
     },
     "execution_count": 8,
     "metadata": {},
     "output_type": "execute_result"
    }
   ],
   "source": [
    "df.style.apply(highlight_max, subset=['B', 'D'])"
   ]
  },
  {
   "cell_type": "markdown",
   "metadata": {},
   "source": [
    "# 3. Display Values\n",
    "\n",
    "The display value can be controlled using `Styler.format`. \n",
    "Cells can be formatted according to a [format spec string][1] or a callable that takes a single value and returns a string.\n",
    "\n",
    "[1]: https://docs.python.org/3/library/string.html#format-specification-mini-language"
   ]
  },
  {
   "cell_type": "code",
   "execution_count": 9,
   "metadata": {},
   "outputs": [
    {
     "data": {
      "text/html": [
       "<style  type=\"text/css\" >\n",
       "</style><table id=\"T_e8abf29e_b63d_11ea_a5c1_b068e6d46a5d\" ><thead>    <tr>        <th class=\"blank level0\" ></th>        <th class=\"col_heading level0 col0\" >A</th>        <th class=\"col_heading level0 col1\" >B</th>        <th class=\"col_heading level0 col2\" >C</th>        <th class=\"col_heading level0 col3\" >D</th>    </tr></thead><tbody>\n",
       "                <tr>\n",
       "                        <th id=\"T_e8abf29e_b63d_11ea_a5c1_b068e6d46a5dlevel0_row0\" class=\"row_heading level0 row0\" >0</th>\n",
       "                        <td id=\"T_e8abf29e_b63d_11ea_a5c1_b068e6d46a5drow0_col0\" class=\"data row0 col0\" >162.43%</td>\n",
       "                        <td id=\"T_e8abf29e_b63d_11ea_a5c1_b068e6d46a5drow0_col1\" class=\"data row0 col1\" >nan%</td>\n",
       "                        <td id=\"T_e8abf29e_b63d_11ea_a5c1_b068e6d46a5drow0_col2\" class=\"data row0 col2\" >-52.82%</td>\n",
       "                        <td id=\"T_e8abf29e_b63d_11ea_a5c1_b068e6d46a5drow0_col3\" class=\"data row0 col3\" >-107.30%</td>\n",
       "            </tr>\n",
       "            <tr>\n",
       "                        <th id=\"T_e8abf29e_b63d_11ea_a5c1_b068e6d46a5dlevel0_row1\" class=\"row_heading level0 row1\" >1</th>\n",
       "                        <td id=\"T_e8abf29e_b63d_11ea_a5c1_b068e6d46a5drow1_col0\" class=\"data row1 col0\" >86.54%</td>\n",
       "                        <td id=\"T_e8abf29e_b63d_11ea_a5c1_b068e6d46a5drow1_col1\" class=\"data row1 col1\" >-230.15%</td>\n",
       "                        <td id=\"T_e8abf29e_b63d_11ea_a5c1_b068e6d46a5drow1_col2\" class=\"data row1 col2\" >174.48%</td>\n",
       "                        <td id=\"T_e8abf29e_b63d_11ea_a5c1_b068e6d46a5drow1_col3\" class=\"data row1 col3\" >-76.12%</td>\n",
       "            </tr>\n",
       "            <tr>\n",
       "                        <th id=\"T_e8abf29e_b63d_11ea_a5c1_b068e6d46a5dlevel0_row2\" class=\"row_heading level0 row2\" >2</th>\n",
       "                        <td id=\"T_e8abf29e_b63d_11ea_a5c1_b068e6d46a5drow2_col0\" class=\"data row2 col0\" >31.90%</td>\n",
       "                        <td id=\"T_e8abf29e_b63d_11ea_a5c1_b068e6d46a5drow2_col1\" class=\"data row2 col1\" >-24.94%</td>\n",
       "                        <td id=\"T_e8abf29e_b63d_11ea_a5c1_b068e6d46a5drow2_col2\" class=\"data row2 col2\" >146.21%</td>\n",
       "                        <td id=\"T_e8abf29e_b63d_11ea_a5c1_b068e6d46a5drow2_col3\" class=\"data row2 col3\" >-206.01%</td>\n",
       "            </tr>\n",
       "            <tr>\n",
       "                        <th id=\"T_e8abf29e_b63d_11ea_a5c1_b068e6d46a5dlevel0_row3\" class=\"row_heading level0 row3\" >3</th>\n",
       "                        <td id=\"T_e8abf29e_b63d_11ea_a5c1_b068e6d46a5drow3_col0\" class=\"data row3 col0\" >-32.24%</td>\n",
       "                        <td id=\"T_e8abf29e_b63d_11ea_a5c1_b068e6d46a5drow3_col1\" class=\"data row3 col1\" >-38.41%</td>\n",
       "                        <td id=\"T_e8abf29e_b63d_11ea_a5c1_b068e6d46a5drow3_col2\" class=\"data row3 col2\" >113.38%</td>\n",
       "                        <td id=\"T_e8abf29e_b63d_11ea_a5c1_b068e6d46a5drow3_col3\" class=\"data row3 col3\" >-109.99%</td>\n",
       "            </tr>\n",
       "            <tr>\n",
       "                        <th id=\"T_e8abf29e_b63d_11ea_a5c1_b068e6d46a5dlevel0_row4\" class=\"row_heading level0 row4\" >4</th>\n",
       "                        <td id=\"T_e8abf29e_b63d_11ea_a5c1_b068e6d46a5drow4_col0\" class=\"data row4 col0\" >-17.24%</td>\n",
       "                        <td id=\"T_e8abf29e_b63d_11ea_a5c1_b068e6d46a5drow4_col1\" class=\"data row4 col1\" >-87.79%</td>\n",
       "                        <td id=\"T_e8abf29e_b63d_11ea_a5c1_b068e6d46a5drow4_col2\" class=\"data row4 col2\" >4.22%</td>\n",
       "                        <td id=\"T_e8abf29e_b63d_11ea_a5c1_b068e6d46a5drow4_col3\" class=\"data row4 col3\" >58.28%</td>\n",
       "            </tr>\n",
       "    </tbody></table>"
      ],
      "text/plain": [
       "<pandas.io.formats.style.Styler at 0x7fda6cab3d30>"
      ]
     },
     "execution_count": 9,
     "metadata": {},
     "output_type": "execute_result"
    }
   ],
   "source": [
    "df.iloc[0, 1] = np.nan\n",
    "df.style.format(\"{:.2%}\")"
   ]
  },
  {
   "cell_type": "code",
   "execution_count": 10,
   "metadata": {},
   "outputs": [
    {
     "data": {
      "text/html": [
       "<style  type=\"text/css\" >\n",
       "</style><table id=\"T_e8abf29f_b63d_11ea_a5c1_b068e6d46a5d\" ><thead>    <tr>        <th class=\"blank level0\" ></th>        <th class=\"col_heading level0 col0\" >A</th>        <th class=\"col_heading level0 col1\" >B</th>        <th class=\"col_heading level0 col2\" >C</th>        <th class=\"col_heading level0 col3\" >D</th>    </tr></thead><tbody>\n",
       "                <tr>\n",
       "                        <th id=\"T_e8abf29f_b63d_11ea_a5c1_b068e6d46a5dlevel0_row0\" class=\"row_heading level0 row0\" >0</th>\n",
       "                        <td id=\"T_e8abf29f_b63d_11ea_a5c1_b068e6d46a5drow0_col0\" class=\"data row0 col0\" >1.624345</td>\n",
       "                        <td id=\"T_e8abf29f_b63d_11ea_a5c1_b068e6d46a5drow0_col1\" class=\"data row0 col1\" >nan0</td>\n",
       "                        <td id=\"T_e8abf29f_b63d_11ea_a5c1_b068e6d46a5drow0_col2\" class=\"data row0 col2\" >-0.528172</td>\n",
       "                        <td id=\"T_e8abf29f_b63d_11ea_a5c1_b068e6d46a5drow0_col3\" class=\"data row0 col3\" >-1.07</td>\n",
       "            </tr>\n",
       "            <tr>\n",
       "                        <th id=\"T_e8abf29f_b63d_11ea_a5c1_b068e6d46a5dlevel0_row1\" class=\"row_heading level0 row1\" >1</th>\n",
       "                        <td id=\"T_e8abf29f_b63d_11ea_a5c1_b068e6d46a5drow1_col0\" class=\"data row1 col0\" >0.865408</td>\n",
       "                        <td id=\"T_e8abf29f_b63d_11ea_a5c1_b068e6d46a5drow1_col1\" class=\"data row1 col1\" >-200</td>\n",
       "                        <td id=\"T_e8abf29f_b63d_11ea_a5c1_b068e6d46a5drow1_col2\" class=\"data row1 col2\" >1.744812</td>\n",
       "                        <td id=\"T_e8abf29f_b63d_11ea_a5c1_b068e6d46a5drow1_col3\" class=\"data row1 col3\" >-0.76</td>\n",
       "            </tr>\n",
       "            <tr>\n",
       "                        <th id=\"T_e8abf29f_b63d_11ea_a5c1_b068e6d46a5dlevel0_row2\" class=\"row_heading level0 row2\" >2</th>\n",
       "                        <td id=\"T_e8abf29f_b63d_11ea_a5c1_b068e6d46a5drow2_col0\" class=\"data row2 col0\" >0.319039</td>\n",
       "                        <td id=\"T_e8abf29f_b63d_11ea_a5c1_b068e6d46a5drow2_col1\" class=\"data row2 col1\" >-000</td>\n",
       "                        <td id=\"T_e8abf29f_b63d_11ea_a5c1_b068e6d46a5drow2_col2\" class=\"data row2 col2\" >1.462108</td>\n",
       "                        <td id=\"T_e8abf29f_b63d_11ea_a5c1_b068e6d46a5drow2_col3\" class=\"data row2 col3\" >-2.06</td>\n",
       "            </tr>\n",
       "            <tr>\n",
       "                        <th id=\"T_e8abf29f_b63d_11ea_a5c1_b068e6d46a5dlevel0_row3\" class=\"row_heading level0 row3\" >3</th>\n",
       "                        <td id=\"T_e8abf29f_b63d_11ea_a5c1_b068e6d46a5drow3_col0\" class=\"data row3 col0\" >-0.322417</td>\n",
       "                        <td id=\"T_e8abf29f_b63d_11ea_a5c1_b068e6d46a5drow3_col1\" class=\"data row3 col1\" >-000</td>\n",
       "                        <td id=\"T_e8abf29f_b63d_11ea_a5c1_b068e6d46a5drow3_col2\" class=\"data row3 col2\" >1.133769</td>\n",
       "                        <td id=\"T_e8abf29f_b63d_11ea_a5c1_b068e6d46a5drow3_col3\" class=\"data row3 col3\" >-1.10</td>\n",
       "            </tr>\n",
       "            <tr>\n",
       "                        <th id=\"T_e8abf29f_b63d_11ea_a5c1_b068e6d46a5dlevel0_row4\" class=\"row_heading level0 row4\" >4</th>\n",
       "                        <td id=\"T_e8abf29f_b63d_11ea_a5c1_b068e6d46a5drow4_col0\" class=\"data row4 col0\" >-0.172428</td>\n",
       "                        <td id=\"T_e8abf29f_b63d_11ea_a5c1_b068e6d46a5drow4_col1\" class=\"data row4 col1\" >-100</td>\n",
       "                        <td id=\"T_e8abf29f_b63d_11ea_a5c1_b068e6d46a5drow4_col2\" class=\"data row4 col2\" >0.042214</td>\n",
       "                        <td id=\"T_e8abf29f_b63d_11ea_a5c1_b068e6d46a5drow4_col3\" class=\"data row4 col3\" >+0.58</td>\n",
       "            </tr>\n",
       "    </tbody></table>"
      ],
      "text/plain": [
       "<pandas.io.formats.style.Styler at 0x7fda6cab3be0>"
      ]
     },
     "execution_count": 10,
     "metadata": {},
     "output_type": "execute_result"
    }
   ],
   "source": [
    "df.style.format({'B': \"{:0<4.0f}\", 'D': '{:+.2f}'})"
   ]
  },
  {
   "cell_type": "code",
   "execution_count": null,
   "metadata": {},
   "outputs": [],
   "source": []
  }
 ],
 "metadata": {
  "kernelspec": {
   "display_name": "Python 3",
   "language": "python",
   "name": "python3"
  },
  "language_info": {
   "codemirror_mode": {
    "name": "ipython",
    "version": 3
   },
   "file_extension": ".py",
   "mimetype": "text/x-python",
   "name": "python",
   "nbconvert_exporter": "python",
   "pygments_lexer": "ipython3",
   "version": "3.6.9"
  }
 },
 "nbformat": 4,
 "nbformat_minor": 2
}
