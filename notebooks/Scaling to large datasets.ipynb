{
 "cells": [
  {
   "cell_type": "markdown",
   "id": "c1e0c642",
   "metadata": {},
   "source": [
    "# Based on: [Scaling to large datasets](https://pandas.pydata.org/docs/user_guide/scale.html)"
   ]
  },
  {
   "cell_type": "code",
   "execution_count": 1,
   "id": "9db9ee91",
   "metadata": {},
   "outputs": [],
   "source": [
    "import pandas as pd\n",
    "import numpy as np"
   ]
  },
  {
   "cell_type": "markdown",
   "id": "3d135275",
   "metadata": {},
   "source": [
    "# 1. Load Less Data\n",
    "\n",
    "Some *pandas* \"readers\" allow you to specify the columns to load:\n",
    "\n",
    "```python\n",
    "pandas.read_csv(\"...\", usecols=[...])\n",
    "pandas.read_excel(\"...\", usecols=[...])\n",
    "pandas.read_feather(\"...\", columns=[...])\n",
    "pandas.read_hdf(\"...\", columns=[...])\n",
    "pandas.read_paraquet(\"...\", columns=[...])\n",
    "pandas.read_sql(\"...\", columns=[...])\n",
    "pandas.read_spss(\"...\", usecols=[...])\n",
    "pandas.read_stata(\"...\", columns=[...])\n",
    "pandas.read_table(\"...\", usecols=[...])\n",
    "```"
   ]
  },
  {
   "cell_type": "code",
   "execution_count": 2,
   "id": "65f2d9ed",
   "metadata": {},
   "outputs": [
    {
     "data": {
      "text/html": [
       "<div>\n",
       "<style scoped>\n",
       "    .dataframe tbody tr th:only-of-type {\n",
       "        vertical-align: middle;\n",
       "    }\n",
       "\n",
       "    .dataframe tbody tr th {\n",
       "        vertical-align: top;\n",
       "    }\n",
       "\n",
       "    .dataframe thead th {\n",
       "        text-align: right;\n",
       "    }\n",
       "</style>\n",
       "<table border=\"1\" class=\"dataframe\">\n",
       "  <thead>\n",
       "    <tr style=\"text-align: right;\">\n",
       "      <th></th>\n",
       "      <th>sepal_length</th>\n",
       "      <th>sepal_width</th>\n",
       "      <th>species</th>\n",
       "    </tr>\n",
       "  </thead>\n",
       "  <tbody>\n",
       "    <tr>\n",
       "      <th>0</th>\n",
       "      <td>5.1</td>\n",
       "      <td>3.5</td>\n",
       "      <td>setosa</td>\n",
       "    </tr>\n",
       "    <tr>\n",
       "      <th>1</th>\n",
       "      <td>4.9</td>\n",
       "      <td>3.0</td>\n",
       "      <td>setosa</td>\n",
       "    </tr>\n",
       "    <tr>\n",
       "      <th>2</th>\n",
       "      <td>4.7</td>\n",
       "      <td>3.2</td>\n",
       "      <td>setosa</td>\n",
       "    </tr>\n",
       "    <tr>\n",
       "      <th>3</th>\n",
       "      <td>4.6</td>\n",
       "      <td>3.1</td>\n",
       "      <td>setosa</td>\n",
       "    </tr>\n",
       "    <tr>\n",
       "      <th>4</th>\n",
       "      <td>5.0</td>\n",
       "      <td>3.6</td>\n",
       "      <td>setosa</td>\n",
       "    </tr>\n",
       "  </tbody>\n",
       "</table>\n",
       "</div>"
      ],
      "text/plain": [
       "   sepal_length  sepal_width species\n",
       "0           5.1          3.5  setosa\n",
       "1           4.9          3.0  setosa\n",
       "2           4.7          3.2  setosa\n",
       "3           4.6          3.1  setosa\n",
       "4           5.0          3.6  setosa"
      ]
     },
     "execution_count": 2,
     "metadata": {},
     "output_type": "execute_result"
    }
   ],
   "source": [
    "# Avoid loading petal_length and petal_width\n",
    "iris_data = pd.read_csv(\"../data/iris.csv\", usecols=[\"sepal_length\", \"sepal_width\", \"species\"])\n",
    "iris_data.head()"
   ]
  },
  {
   "cell_type": "markdown",
   "id": "0273cbb2",
   "metadata": {},
   "source": [
    "# 2. Use Efficient Data Types\n",
    "\n",
    "\n",
    "## 2.1 CategoricalDtype\n",
    "\n",
    "Text data columns with few unique values (low cardinality) can be stored using the [CategoricalDtype][1].\n",
    "\n",
    "This saves unique names only once, and stores them as integers which eat up much less space.\n",
    "\n",
    "[1]: https://pandas.pydata.org/docs/reference/api/pandas.CategoricalDtype.html"
   ]
  },
  {
   "cell_type": "code",
   "execution_count": 3,
   "id": "f6419b13",
   "metadata": {},
   "outputs": [
    {
     "data": {
      "text/plain": [
       "(dtype('O'), 23200128)"
      ]
     },
     "execution_count": 3,
     "metadata": {},
     "output_type": "execute_result"
    }
   ],
   "source": [
    "text = pd.Series(list(\"ABCD\") * 100000)\n",
    "text.dtype, text.memory_usage(deep=True)"
   ]
  },
  {
   "cell_type": "code",
   "execution_count": 4,
   "id": "d2e9fd5a",
   "metadata": {},
   "outputs": [
    {
     "data": {
      "text/plain": [
       "(CategoricalDtype(categories=['A', 'B', 'C', 'D'], ordered=True), 400532)"
      ]
     },
     "execution_count": 4,
     "metadata": {},
     "output_type": "execute_result"
    }
   ],
   "source": [
    "# Use .cat.as_ordered() if order is significant\n",
    "categorical = text.astype(\"category\").cat.as_ordered()\n",
    "categorical.dtype, categorical.memory_usage(deep=True)"
   ]
  },
  {
   "cell_type": "markdown",
   "id": "7727e8c5",
   "metadata": {},
   "source": [
    "## 2.2 Downcast Numeric Dtypes\n",
    "\n",
    "The `downcast` argument of the [pandas.to_numeric][1] method allows you to shrink a numeric column to its smallest type.\n",
    "\n",
    "[1]: https://pandas.pydata.org/docs/reference/api/pandas.to_numeric.html"
   ]
  },
  {
   "cell_type": "code",
   "execution_count": 5,
   "id": "0c7a8476",
   "metadata": {},
   "outputs": [
    {
     "data": {
      "text/plain": [
       "(dtype('int64'), 800128)"
      ]
     },
     "execution_count": 5,
     "metadata": {},
     "output_type": "execute_result"
    }
   ],
   "source": [
    "numeric = pd.Series(range(100000))\n",
    "numeric.dtype, numeric.memory_usage(deep=True)"
   ]
  },
  {
   "cell_type": "code",
   "execution_count": 6,
   "id": "9b49b9bc",
   "metadata": {},
   "outputs": [
    {
     "data": {
      "text/plain": [
       "(dtype('int32'), 400128)"
      ]
     },
     "execution_count": 6,
     "metadata": {},
     "output_type": "execute_result"
    }
   ],
   "source": [
    "numeric = pd.to_numeric(numeric, downcast=\"integer\")\n",
    "numeric.dtype, numeric.memory_usage(deep=True)"
   ]
  },
  {
   "cell_type": "markdown",
   "id": "ebf12f24",
   "metadata": {},
   "source": [
    "# 3. Use Chunking\n",
    "\n",
    "Chunking allows you to break up large datasets into manageable portions that can comfortably fit in memory.\n",
    "\n",
    "> Works best when the operation you're performing doesn't require coordination between chunks.\n",
    "\n",
    "Some \"readers\" offer parameters to control the `chunksize`.\n",
    "\n",
    "```python\n",
    "pandas.read_csv(\"...\", chunksize=...)\n",
    "pandas.read_hdf(\"...\", chunksize=...)\n",
    "pandas.read_json(\"...\", chunksize=...)\n",
    "pandas.read_sas(\"...\", chunksize=...)\n",
    "pandas.read_sql(\"...\", chunksize=...)\n",
    "pandas.read_stata(\"...\", chunksize=...)\n",
    "```"
   ]
  },
  {
   "cell_type": "code",
   "execution_count": 7,
   "id": "71c6e066",
   "metadata": {},
   "outputs": [
    {
     "name": "stdout",
     "output_type": "stream",
     "text": [
      "(200000, 1) 0 199999\n",
      "(200000, 1) 200000 399999\n",
      "(200000, 1) 400000 599999\n",
      "(200000, 1) 600000 799999\n",
      "(200000, 1) 800000 999999\n"
     ]
    }
   ],
   "source": [
    "pd.Series(range(1000000)).to_csv(\"../data/data.csv\", index=False)\n",
    "\n",
    "for chunk in pd.read_csv(\"../data/data.csv\", chunksize=200000):\n",
    "    print(chunk.shape, chunk.iloc[0][0], chunk.iloc[-1][0])"
   ]
  },
  {
   "cell_type": "markdown",
   "id": "08fdd402",
   "metadata": {},
   "source": [
    "# 4. Use Other Libraries\n",
    "\n",
    "Because of its popularity, `pandas`’ API has become something of a standard that other libraries implement.\n",
    "\n",
    "Common packages for working with large datasets:\n",
    "\n",
    "- [Dask](https://docs.dask.org/)\n",
    "- [PySpark](https://spark.apache.org/docs/latest/api/python/)"
   ]
  }
 ],
 "metadata": {
  "kernelspec": {
   "display_name": "Python 3 (ipykernel)",
   "language": "python",
   "name": "python3"
  },
  "language_info": {
   "codemirror_mode": {
    "name": "ipython",
    "version": 3
   },
   "file_extension": ".py",
   "mimetype": "text/x-python",
   "name": "python",
   "nbconvert_exporter": "python",
   "pygments_lexer": "ipython3",
   "version": "3.10.7"
  }
 },
 "nbformat": 4,
 "nbformat_minor": 5
}
