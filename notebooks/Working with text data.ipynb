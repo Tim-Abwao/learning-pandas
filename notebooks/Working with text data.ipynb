{
 "cells": [
  {
   "cell_type": "markdown",
   "metadata": {},
   "source": [
    "# Based on: [Working with text data](https://pandas.pydata.org/docs/user_guide/text.html)"
   ]
  },
  {
   "cell_type": "code",
   "execution_count": 1,
   "metadata": {},
   "outputs": [],
   "source": [
    "import pandas as pd\n",
    "import numpy as np"
   ]
  },
  {
   "cell_type": "markdown",
   "metadata": {},
   "source": [
    "# 1. Text Data Types\n",
    "\n",
    "There are currently two ways to store text data in *pandas*:\n",
    "\n",
    "- `object`: a NumPy array.\n",
    "- `StringDtype`: an extension type. Recommended, but still experimental.\n"
   ]
  },
  {
   "cell_type": "code",
   "execution_count": 2,
   "metadata": {},
   "outputs": [
    {
     "data": {
      "text/plain": [
       "0    a\n",
       "1    b\n",
       "2    c\n",
       "3    d\n",
       "4    e\n",
       "dtype: object"
      ]
     },
     "execution_count": 2,
     "metadata": {},
     "output_type": "execute_result"
    }
   ],
   "source": [
    "pd.Series(list(\"abcde\"))"
   ]
  },
  {
   "cell_type": "code",
   "execution_count": 3,
   "metadata": {},
   "outputs": [
    {
     "data": {
      "text/plain": [
       "0    a\n",
       "1    b\n",
       "2    c\n",
       "3    d\n",
       "4    e\n",
       "dtype: string"
      ]
     },
     "execution_count": 3,
     "metadata": {},
     "output_type": "execute_result"
    }
   ],
   "source": [
    "pd.Series(list(\"abcde\"), dtype=\"string\")"
   ]
  },
  {
   "cell_type": "markdown",
   "metadata": {},
   "source": [
    "# 2. String Methods\n",
    "\n",
    "`Series` and `Index` have string processing methods accessible via the `str` attribute that make it easy to operate on each of their elements. \n",
    "\n",
    "These methods generally have names matching the equivalent (scalar) built-in string methods.\n",
    "\n",
    "Missing/NA values are automatically excluded."
   ]
  },
  {
   "cell_type": "code",
   "execution_count": 4,
   "metadata": {},
   "outputs": [
    {
     "data": {
      "text/plain": [
       "0    aaaa\n",
       "1    bbbb\n",
       "2    cccc\n",
       "3    <NA>\n",
       "4    <NA>\n",
       "dtype: string"
      ]
     },
     "execution_count": 4,
     "metadata": {},
     "output_type": "execute_result"
    }
   ],
   "source": [
    "s = pd.Series([\"AAaa\", \"BbbB\", \"ccCC\", np.nan, None], dtype=\"string\")\n",
    "s.str.lower()"
   ]
  },
  {
   "cell_type": "code",
   "execution_count": 5,
   "metadata": {},
   "outputs": [
    {
     "data": {
      "text/plain": [
       "0    aaAA\n",
       "1    bBBb\n",
       "2    CCcc\n",
       "3    <NA>\n",
       "4    <NA>\n",
       "dtype: string"
      ]
     },
     "execution_count": 5,
     "metadata": {},
     "output_type": "execute_result"
    }
   ],
   "source": [
    "s.str.swapcase()"
   ]
  },
  {
   "cell_type": "code",
   "execution_count": 6,
   "metadata": {},
   "outputs": [
    {
     "data": {
      "text/plain": [
       "0       4\n",
       "1       4\n",
       "2       4\n",
       "3    <NA>\n",
       "4    <NA>\n",
       "dtype: Int64"
      ]
     },
     "execution_count": 6,
     "metadata": {},
     "output_type": "execute_result"
    }
   ],
   "source": [
    "s.str.len()"
   ]
  },
  {
   "cell_type": "code",
   "execution_count": 7,
   "metadata": {},
   "outputs": [
    {
     "data": {
      "text/plain": [
       "Index([' One ', 'Two ', '  Three   '], dtype='object')"
      ]
     },
     "execution_count": 7,
     "metadata": {},
     "output_type": "execute_result"
    }
   ],
   "source": [
    "idx = pd.Index([\" One \", \"Two \", \"  Three   \"])\n",
    "idx"
   ]
  },
  {
   "cell_type": "code",
   "execution_count": 8,
   "metadata": {},
   "outputs": [
    {
     "data": {
      "text/plain": [
       "Index(['One', 'Two', 'Three'], dtype='object')"
      ]
     },
     "execution_count": 8,
     "metadata": {},
     "output_type": "execute_result"
    }
   ],
   "source": [
    "idx.str.strip()"
   ]
  },
  {
   "cell_type": "markdown",
   "metadata": {},
   "source": [
    "> Since `df.columns` is an `Index` object, we can use the `.str` accessor.\n",
    ">\n",
    "> This is very handy for cleaning up column labels as needed."
   ]
  },
  {
   "cell_type": "code",
   "execution_count": 9,
   "metadata": {},
   "outputs": [
    {
     "data": {
      "text/html": [
       "<div>\n",
       "<style scoped>\n",
       "    .dataframe tbody tr th:only-of-type {\n",
       "        vertical-align: middle;\n",
       "    }\n",
       "\n",
       "    .dataframe tbody tr th {\n",
       "        vertical-align: top;\n",
       "    }\n",
       "\n",
       "    .dataframe thead th {\n",
       "        text-align: right;\n",
       "    }\n",
       "</style>\n",
       "<table border=\"1\" class=\"dataframe\">\n",
       "  <thead>\n",
       "    <tr style=\"text-align: right;\">\n",
       "      <th></th>\n",
       "      <th>column_a</th>\n",
       "      <th>column_b</th>\n",
       "      <th>column_c</th>\n",
       "    </tr>\n",
       "  </thead>\n",
       "  <tbody>\n",
       "    <tr>\n",
       "      <th>0</th>\n",
       "      <td>0.423263</td>\n",
       "      <td>-2.583964</td>\n",
       "      <td>-0.790346</td>\n",
       "    </tr>\n",
       "    <tr>\n",
       "      <th>1</th>\n",
       "      <td>-1.360317</td>\n",
       "      <td>-0.427899</td>\n",
       "      <td>-1.195781</td>\n",
       "    </tr>\n",
       "    <tr>\n",
       "      <th>2</th>\n",
       "      <td>0.840359</td>\n",
       "      <td>0.116849</td>\n",
       "      <td>-1.767832</td>\n",
       "    </tr>\n",
       "  </tbody>\n",
       "</table>\n",
       "</div>"
      ],
      "text/plain": [
       "   column_a  column_b  column_c\n",
       "0  0.423263 -2.583964 -0.790346\n",
       "1 -1.360317 -0.427899 -1.195781\n",
       "2  0.840359  0.116849 -1.767832"
      ]
     },
     "execution_count": 9,
     "metadata": {},
     "output_type": "execute_result"
    }
   ],
   "source": [
    "df = pd.DataFrame(\n",
    "    np.random.randn(3, 3), columns=[\" Column A \", \" COLUMN B \", \"column c\"]\n",
    ")\n",
    "df.columns = df.columns.str.lower().str.strip().str.replace(\" \", \"_\")\n",
    "df"
   ]
  },
  {
   "cell_type": "markdown",
   "metadata": {},
   "source": [
    "> **NOTE:** For Series having lots of repeated elements, it may be faster to convert to `category` dtype first, since the string operations are done on the `.categories` and not on each element of the Series.\n",
    ">\n",
    "> However, only a limited number of the `.str` methods will work e.g. you can’t add strings to each other.\n",
    "\n",
    "\n",
    "# 3. Splitting Strings\n",
    "\n",
    "## 3.1 split\n",
    "\n",
    "Returns a `Series` of lists. You can limit the number of splits using the `n` argument.\n",
    "\n",
    "Elements in the split lists can be accessed using `get` or `[]` notation.\n",
    "\n",
    "The list output can be returned as a `DataFrame` using the `expand` argument."
   ]
  },
  {
   "cell_type": "code",
   "execution_count": 10,
   "metadata": {},
   "outputs": [
    {
     "data": {
      "text/plain": [
       "0    [a, b-c]\n",
       "1    [c, d-e]\n",
       "2        <NA>\n",
       "3    [f, g-h]\n",
       "dtype: object"
      ]
     },
     "execution_count": 10,
     "metadata": {},
     "output_type": "execute_result"
    }
   ],
   "source": [
    "s1 = pd.Series([\"a-b-c\", \"c-d-e\", np.nan, \"f-g-h\"], dtype=\"string\")\n",
    "s1.str.split(\"-\", n=1)  # returns a Series of lists"
   ]
  },
  {
   "cell_type": "code",
   "execution_count": 11,
   "metadata": {},
   "outputs": [
    {
     "data": {
      "text/html": [
       "<div>\n",
       "<style scoped>\n",
       "    .dataframe tbody tr th:only-of-type {\n",
       "        vertical-align: middle;\n",
       "    }\n",
       "\n",
       "    .dataframe tbody tr th {\n",
       "        vertical-align: top;\n",
       "    }\n",
       "\n",
       "    .dataframe thead th {\n",
       "        text-align: right;\n",
       "    }\n",
       "</style>\n",
       "<table border=\"1\" class=\"dataframe\">\n",
       "  <thead>\n",
       "    <tr style=\"text-align: right;\">\n",
       "      <th></th>\n",
       "      <th>0</th>\n",
       "      <th>1</th>\n",
       "    </tr>\n",
       "  </thead>\n",
       "  <tbody>\n",
       "    <tr>\n",
       "      <th>0</th>\n",
       "      <td>a</td>\n",
       "      <td>b-c</td>\n",
       "    </tr>\n",
       "    <tr>\n",
       "      <th>1</th>\n",
       "      <td>c</td>\n",
       "      <td>d-e</td>\n",
       "    </tr>\n",
       "    <tr>\n",
       "      <th>2</th>\n",
       "      <td>&lt;NA&gt;</td>\n",
       "      <td>&lt;NA&gt;</td>\n",
       "    </tr>\n",
       "    <tr>\n",
       "      <th>3</th>\n",
       "      <td>f</td>\n",
       "      <td>g-h</td>\n",
       "    </tr>\n",
       "  </tbody>\n",
       "</table>\n",
       "</div>"
      ],
      "text/plain": [
       "      0     1\n",
       "0     a   b-c\n",
       "1     c   d-e\n",
       "2  <NA>  <NA>\n",
       "3     f   g-h"
      ]
     },
     "execution_count": 11,
     "metadata": {},
     "output_type": "execute_result"
    }
   ],
   "source": [
    "s1.str.split(\"-\", n=1, expand=True)  # returns a DataFrame"
   ]
  },
  {
   "cell_type": "code",
   "execution_count": 12,
   "metadata": {},
   "outputs": [
    {
     "data": {
      "text/plain": [
       "0       a\n",
       "1       c\n",
       "2    <NA>\n",
       "3       f\n",
       "dtype: object"
      ]
     },
     "execution_count": 12,
     "metadata": {},
     "output_type": "execute_result"
    }
   ],
   "source": [
    "s2 = pd.Series([\"a b c\", \"c d e\", np.nan, \"f g h\"], dtype=\"string\")\n",
    "s2.str.split().str.get(0)"
   ]
  },
  {
   "cell_type": "code",
   "execution_count": 13,
   "metadata": {},
   "outputs": [
    {
     "data": {
      "text/plain": [
       "0       c\n",
       "1       e\n",
       "2    <NA>\n",
       "3       h\n",
       "dtype: object"
      ]
     },
     "execution_count": 13,
     "metadata": {},
     "output_type": "execute_result"
    }
   ],
   "source": [
    "s2.str.split().str[-1]"
   ]
  },
  {
   "cell_type": "code",
   "execution_count": 14,
   "metadata": {},
   "outputs": [
    {
     "data": {
      "text/html": [
       "<div>\n",
       "<style scoped>\n",
       "    .dataframe tbody tr th:only-of-type {\n",
       "        vertical-align: middle;\n",
       "    }\n",
       "\n",
       "    .dataframe tbody tr th {\n",
       "        vertical-align: top;\n",
       "    }\n",
       "\n",
       "    .dataframe thead th {\n",
       "        text-align: right;\n",
       "    }\n",
       "</style>\n",
       "<table border=\"1\" class=\"dataframe\">\n",
       "  <thead>\n",
       "    <tr style=\"text-align: right;\">\n",
       "      <th></th>\n",
       "      <th>0</th>\n",
       "    </tr>\n",
       "  </thead>\n",
       "  <tbody>\n",
       "    <tr>\n",
       "      <th>0</th>\n",
       "      <td>a-b-c</td>\n",
       "    </tr>\n",
       "    <tr>\n",
       "      <th>1</th>\n",
       "      <td>c-d-e</td>\n",
       "    </tr>\n",
       "    <tr>\n",
       "      <th>2</th>\n",
       "      <td>&lt;NA&gt;</td>\n",
       "    </tr>\n",
       "    <tr>\n",
       "      <th>3</th>\n",
       "      <td>f-g-h</td>\n",
       "    </tr>\n",
       "  </tbody>\n",
       "</table>\n",
       "</div>"
      ],
      "text/plain": [
       "       0\n",
       "0  a-b-c\n",
       "1  c-d-e\n",
       "2   <NA>\n",
       "3  f-g-h"
      ]
     },
     "execution_count": 14,
     "metadata": {},
     "output_type": "execute_result"
    }
   ],
   "source": [
    "s1.str.split(expand=True)"
   ]
  },
  {
   "cell_type": "markdown",
   "metadata": {},
   "source": [
    "## 3.2 rsplit\n",
    "\n",
    "`rsplit` is similar to `split`, but it works in the *reverse direction* (from the end of the string to its beginning)."
   ]
  },
  {
   "cell_type": "code",
   "execution_count": 15,
   "metadata": {},
   "outputs": [
    {
     "data": {
      "text/plain": [
       "0    [a-b, c]\n",
       "1    [c-d, e]\n",
       "2        <NA>\n",
       "3    [f-g, h]\n",
       "dtype: object"
      ]
     },
     "execution_count": 15,
     "metadata": {},
     "output_type": "execute_result"
    }
   ],
   "source": [
    "s1.str.rsplit(\"-\", n=1)"
   ]
  },
  {
   "cell_type": "markdown",
   "metadata": {},
   "source": [
    "# 4. Replacing Strings\n",
    "\n",
    "`replace` can use regular expressions or literal strings, depending on the `regex` argument."
   ]
  },
  {
   "cell_type": "code",
   "execution_count": 16,
   "metadata": {},
   "outputs": [
    {
     "data": {
      "text/plain": [
       "0       *\n",
       "1       B\n",
       "2       C\n",
       "3    *aba\n",
       "4    Baca\n",
       "5    <NA>\n",
       "6    CABA\n",
       "7     dog\n",
       "8       *\n",
       "dtype: string"
      ]
     },
     "execution_count": 16,
     "metadata": {},
     "output_type": "execute_result"
    }
   ],
   "source": [
    "s3 = pd.Series(\n",
    "    [\"A\", \"B\", \"C\", \"Aaba\", \"Baca\", np.nan, \"CABA\", \"dog\", \"cat\"], dtype=\"string\"\n",
    ")\n",
    "s3.str.replace(\"^A|cat\", \"*\", regex=True)"
   ]
  },
  {
   "cell_type": "code",
   "execution_count": 17,
   "metadata": {},
   "outputs": [
    {
     "data": {
      "text/plain": [
       "0        12\n",
       "1       -10\n",
       "2    10,000\n",
       "dtype: string"
      ]
     },
     "execution_count": 17,
     "metadata": {},
     "output_type": "execute_result"
    }
   ],
   "source": [
    "dollars = pd.Series([\"12\", \"-$10\", \"$10,000\"], dtype=\"string\")\n",
    "dollars.str.replace(\"$\", \"\", regex=False)  # $ in regex matches the end"
   ]
  },
  {
   "cell_type": "code",
   "execution_count": 18,
   "metadata": {},
   "outputs": [
    {
     "data": {
      "text/plain": [
       "0        12\n",
       "1       -10\n",
       "2    10,000\n",
       "dtype: string"
      ]
     },
     "execution_count": 18,
     "metadata": {},
     "output_type": "execute_result"
    }
   ],
   "source": [
    "dollars.str.replace(r\"\\$\", \"\", regex=True)  # $ is escaped"
   ]
  },
  {
   "cell_type": "markdown",
   "metadata": {},
   "source": [
    "# 5. Concatenation\n",
    "\n",
    "## 5.1 Concatenating a `Series` into a string\n",
    "\n",
    "You can specify the separator `sep`.\n",
    "\n",
    "Missing values are ignored, but you can assign them representation with `na_rep`."
   ]
  },
  {
   "cell_type": "code",
   "execution_count": 19,
   "metadata": {},
   "outputs": [
    {
     "data": {
      "text/plain": [
       "'abcd'"
      ]
     },
     "execution_count": 19,
     "metadata": {},
     "output_type": "execute_result"
    }
   ],
   "source": [
    "s = pd.Series(list(\"abcd\") + [None], dtype=\"string\")\n",
    "s.str.cat()"
   ]
  },
  {
   "cell_type": "code",
   "execution_count": 20,
   "metadata": {
    "scrolled": true
   },
   "outputs": [
    {
     "data": {
      "text/plain": [
       "'a, b, c, d, ?'"
      ]
     },
     "execution_count": 20,
     "metadata": {},
     "output_type": "execute_result"
    }
   ],
   "source": [
    "s.str.cat(sep=\", \", na_rep=\"?\")"
   ]
  },
  {
   "cell_type": "markdown",
   "metadata": {},
   "source": [
    "## 5.2 Concatenating a `Series` and something list-like \n",
    "\n",
    "The list-like object must match the length of the calling `Series` (or `Index`).\n",
    "\n",
    "Missing values on either side will result in missing values in the result as well, unless `na_rep` is specified."
   ]
  },
  {
   "cell_type": "code",
   "execution_count": 21,
   "metadata": {},
   "outputs": [
    {
     "data": {
      "text/plain": [
       "0      az\n",
       "1      by\n",
       "2      cx\n",
       "3      dw\n",
       "4    <NA>\n",
       "dtype: string"
      ]
     },
     "execution_count": 21,
     "metadata": {},
     "output_type": "execute_result"
    }
   ],
   "source": [
    "s.str.cat(list(\"zyxwv\"))"
   ]
  },
  {
   "cell_type": "code",
   "execution_count": 22,
   "metadata": {},
   "outputs": [
    {
     "data": {
      "text/plain": [
       "0    a?\n",
       "1    bB\n",
       "2    cC\n",
       "3    d?\n",
       "4    ?E\n",
       "dtype: string"
      ]
     },
     "execution_count": 22,
     "metadata": {},
     "output_type": "execute_result"
    }
   ],
   "source": [
    "s.str.cat([None, \"B\", \"C\", None, \"E\"], na_rep=\"?\")"
   ]
  },
  {
   "cell_type": "markdown",
   "metadata": {},
   "source": [
    "## 5.3 Concatenating a `Series` and something array-like\n",
    "\n",
    "The number or rows of the array-like object must match the length of the calling `Series` (or `Index`)."
   ]
  },
  {
   "cell_type": "code",
   "execution_count": 23,
   "metadata": {},
   "outputs": [
    {
     "data": {
      "text/plain": [
       "array([['b', 'c'],\n",
       "       ['c', 'd'],\n",
       "       ['d', 'e'],\n",
       "       ['e', 'f'],\n",
       "       ['f', 'g']], dtype='<U1')"
      ]
     },
     "execution_count": 23,
     "metadata": {},
     "output_type": "execute_result"
    }
   ],
   "source": [
    "arr = np.array([[\"b\", \"c\"], [\"c\", \"d\"], [\"d\", \"e\"], [\"e\", \"f\"], [\"f\", \"g\"]])\n",
    "arr"
   ]
  },
  {
   "cell_type": "code",
   "execution_count": 24,
   "metadata": {
    "scrolled": true
   },
   "outputs": [
    {
     "data": {
      "text/plain": [
       "0    abc\n",
       "1    bcd\n",
       "2    cde\n",
       "3    def\n",
       "4    _fg\n",
       "dtype: string"
      ]
     },
     "execution_count": 24,
     "metadata": {},
     "output_type": "execute_result"
    }
   ],
   "source": [
    "s.str.cat(arr, na_rep=\"_\")"
   ]
  },
  {
   "cell_type": "markdown",
   "metadata": {},
   "source": [
    "## 5.4 Concatenating a `Series` and an indexed object into a Series, with alignment\n",
    "\n",
    "You can align indices before concatenation by setting the `join`-keyword.\n",
    "\n",
    "`join` can be `inner`, `outer`, `left`, or `right`. Setting `join=None` disables alignment."
   ]
  },
  {
   "cell_type": "code",
   "execution_count": 25,
   "metadata": {
    "scrolled": true
   },
   "outputs": [
    {
     "data": {
      "text/plain": [
       "2    2\n",
       "3    3\n",
       "1    1\n",
       "4    4\n",
       "0    0\n",
       "dtype: object"
      ]
     },
     "execution_count": 25,
     "metadata": {},
     "output_type": "execute_result"
    }
   ],
   "source": [
    "t = pd.Series([2, 3, 1, 4, 0], index=[2, 3, 1, 4, 0]).astype(\"str\")\n",
    "t"
   ]
  },
  {
   "cell_type": "code",
   "execution_count": 26,
   "metadata": {
    "scrolled": true
   },
   "outputs": [
    {
     "data": {
      "text/plain": [
       "0    a0\n",
       "1    b1\n",
       "2    c2\n",
       "3    d3\n",
       "4    _4\n",
       "dtype: string"
      ]
     },
     "execution_count": 26,
     "metadata": {},
     "output_type": "execute_result"
    }
   ],
   "source": [
    "s.str.cat(t, na_rep=\"_\")  # join='left' is default"
   ]
  },
  {
   "cell_type": "code",
   "execution_count": 27,
   "metadata": {
    "scrolled": true
   },
   "outputs": [
    {
     "data": {
      "text/plain": [
       "2      c2\n",
       "3      d3\n",
       "1      b1\n",
       "4    <NA>\n",
       "0      a0\n",
       "dtype: string"
      ]
     },
     "execution_count": 27,
     "metadata": {},
     "output_type": "execute_result"
    }
   ],
   "source": [
    "s.str.cat(t, join=\"right\")  # right index is used"
   ]
  },
  {
   "cell_type": "markdown",
   "metadata": {},
   "source": [
    "## 5.5 Concatenating a `Series` and many objects\n",
    "\n",
    "Several array-like items (specifically: `Series`, `Index`, and 1-dimensional variants of `np.ndarray`) can be combined in a list-like container (including `iterator`s, `dict`-views, etc.).\n",
    "\n",
    "All elements without an index (e.g. `np.ndarray`) within the passed list-like must match in length to the calling `Series`."
   ]
  },
  {
   "cell_type": "code",
   "execution_count": 28,
   "metadata": {},
   "outputs": [
    {
     "data": {
      "text/plain": [
       "0    a02\n",
       "1    b13\n",
       "2    c21\n",
       "3    d34\n",
       "4    _40\n",
       "dtype: string"
      ]
     },
     "execution_count": 28,
     "metadata": {},
     "output_type": "execute_result"
    }
   ],
   "source": [
    "s.str.cat([t, t.to_numpy()], na_rep=\"_\")"
   ]
  },
  {
   "cell_type": "markdown",
   "metadata": {},
   "source": [
    "# 6. Indexing\n",
    "\n",
    "You can use `[]` notation to directly index by position.\n",
    "\n",
    "Indices past the end of a string return `<NA>`."
   ]
  },
  {
   "cell_type": "code",
   "execution_count": 29,
   "metadata": {},
   "outputs": [
    {
     "data": {
      "text/plain": [
       "0       A\n",
       "1       B\n",
       "2       C\n",
       "3    <NA>\n",
       "dtype: string"
      ]
     },
     "execution_count": 29,
     "metadata": {},
     "output_type": "execute_result"
    }
   ],
   "source": [
    "s = pd.Series([\"A\", \"Bb\", \"CcC\", np.nan], dtype=\"string\")\n",
    "s.str[0]"
   ]
  },
  {
   "cell_type": "code",
   "execution_count": 30,
   "metadata": {},
   "outputs": [
    {
     "data": {
      "text/plain": [
       "0    <NA>\n",
       "1       b\n",
       "2       c\n",
       "3    <NA>\n",
       "dtype: string"
      ]
     },
     "execution_count": 30,
     "metadata": {},
     "output_type": "execute_result"
    }
   ],
   "source": [
    "s.str[1]"
   ]
  },
  {
   "cell_type": "markdown",
   "metadata": {},
   "source": [
    "# 7. Extracting substrings\n",
    "\n",
    "## 7.1 Extracting the first match in each subject (`extract`)\n",
    "\n",
    "`extract` accepts a regular expression with at least one capture group, and returns the first match.\n",
    "\n",
    "Extracting a regular expression with more than one group returns a DataFrame, with one column per group.\n",
    "\n",
    "Any capture group names in the regular expression will be used for column names; otherwise capture group numbers will be used.\n",
    "\n",
    "Elements that do not match return a row filled with `<NA>`."
   ]
  },
  {
   "cell_type": "code",
   "execution_count": 31,
   "metadata": {},
   "outputs": [
    {
     "data": {
      "text/html": [
       "<div>\n",
       "<style scoped>\n",
       "    .dataframe tbody tr th:only-of-type {\n",
       "        vertical-align: middle;\n",
       "    }\n",
       "\n",
       "    .dataframe tbody tr th {\n",
       "        vertical-align: top;\n",
       "    }\n",
       "\n",
       "    .dataframe thead th {\n",
       "        text-align: right;\n",
       "    }\n",
       "</style>\n",
       "<table border=\"1\" class=\"dataframe\">\n",
       "  <thead>\n",
       "    <tr style=\"text-align: right;\">\n",
       "      <th></th>\n",
       "      <th>0</th>\n",
       "    </tr>\n",
       "  </thead>\n",
       "  <tbody>\n",
       "    <tr>\n",
       "      <th>0</th>\n",
       "      <td>1</td>\n",
       "    </tr>\n",
       "    <tr>\n",
       "      <th>1</th>\n",
       "      <td>2</td>\n",
       "    </tr>\n",
       "    <tr>\n",
       "      <th>2</th>\n",
       "      <td>3</td>\n",
       "    </tr>\n",
       "  </tbody>\n",
       "</table>\n",
       "</div>"
      ],
      "text/plain": [
       "   0\n",
       "0  1\n",
       "1  2\n",
       "2  3"
      ]
     },
     "execution_count": 31,
     "metadata": {},
     "output_type": "execute_result"
    }
   ],
   "source": [
    "s = pd.Series([\"a1\", \"b2\", \"c3\"], dtype=\"string\")\n",
    "s.str.extract(r\"(\\d)\")  # returns a DataFrame"
   ]
  },
  {
   "cell_type": "code",
   "execution_count": 32,
   "metadata": {},
   "outputs": [
    {
     "data": {
      "text/plain": [
       "0    1\n",
       "1    2\n",
       "2    3\n",
       "dtype: string"
      ]
     },
     "execution_count": 32,
     "metadata": {},
     "output_type": "execute_result"
    }
   ],
   "source": [
    "s.str.extract(r\"(\\d)\", expand=False)  # returns a Series"
   ]
  },
  {
   "cell_type": "code",
   "execution_count": 33,
   "metadata": {},
   "outputs": [
    {
     "data": {
      "text/html": [
       "<div>\n",
       "<style scoped>\n",
       "    .dataframe tbody tr th:only-of-type {\n",
       "        vertical-align: middle;\n",
       "    }\n",
       "\n",
       "    .dataframe tbody tr th {\n",
       "        vertical-align: top;\n",
       "    }\n",
       "\n",
       "    .dataframe thead th {\n",
       "        text-align: right;\n",
       "    }\n",
       "</style>\n",
       "<table border=\"1\" class=\"dataframe\">\n",
       "  <thead>\n",
       "    <tr style=\"text-align: right;\">\n",
       "      <th></th>\n",
       "      <th>0</th>\n",
       "      <th>1</th>\n",
       "    </tr>\n",
       "  </thead>\n",
       "  <tbody>\n",
       "    <tr>\n",
       "      <th>0</th>\n",
       "      <td>a</td>\n",
       "      <td>1</td>\n",
       "    </tr>\n",
       "    <tr>\n",
       "      <th>1</th>\n",
       "      <td>b</td>\n",
       "      <td>2</td>\n",
       "    </tr>\n",
       "    <tr>\n",
       "      <th>2</th>\n",
       "      <td>&lt;NA&gt;</td>\n",
       "      <td>&lt;NA&gt;</td>\n",
       "    </tr>\n",
       "  </tbody>\n",
       "</table>\n",
       "</div>"
      ],
      "text/plain": [
       "      0     1\n",
       "0     a     1\n",
       "1     b     2\n",
       "2  <NA>  <NA>"
      ]
     },
     "execution_count": 33,
     "metadata": {},
     "output_type": "execute_result"
    }
   ],
   "source": [
    "s.str.extract(r\"([ab])(\\d)\")  # Uses capture group number for columns"
   ]
  },
  {
   "cell_type": "code",
   "execution_count": 34,
   "metadata": {},
   "outputs": [
    {
     "data": {
      "text/html": [
       "<div>\n",
       "<style scoped>\n",
       "    .dataframe tbody tr th:only-of-type {\n",
       "        vertical-align: middle;\n",
       "    }\n",
       "\n",
       "    .dataframe tbody tr th {\n",
       "        vertical-align: top;\n",
       "    }\n",
       "\n",
       "    .dataframe thead th {\n",
       "        text-align: right;\n",
       "    }\n",
       "</style>\n",
       "<table border=\"1\" class=\"dataframe\">\n",
       "  <thead>\n",
       "    <tr style=\"text-align: right;\">\n",
       "      <th></th>\n",
       "      <th>letter</th>\n",
       "      <th>digit</th>\n",
       "    </tr>\n",
       "  </thead>\n",
       "  <tbody>\n",
       "    <tr>\n",
       "      <th>0</th>\n",
       "      <td>a</td>\n",
       "      <td>1</td>\n",
       "    </tr>\n",
       "    <tr>\n",
       "      <th>1</th>\n",
       "      <td>b</td>\n",
       "      <td>2</td>\n",
       "    </tr>\n",
       "    <tr>\n",
       "      <th>2</th>\n",
       "      <td>c</td>\n",
       "      <td>3</td>\n",
       "    </tr>\n",
       "  </tbody>\n",
       "</table>\n",
       "</div>"
      ],
      "text/plain": [
       "  letter digit\n",
       "0      a     1\n",
       "1      b     2\n",
       "2      c     3"
      ]
     },
     "execution_count": 34,
     "metadata": {},
     "output_type": "execute_result"
    }
   ],
   "source": [
    "s.str.extract(r\"(?P<letter>[a-z])(?P<digit>\\d)\")  # Uses capture group names for columns"
   ]
  },
  {
   "cell_type": "code",
   "execution_count": 35,
   "metadata": {},
   "outputs": [
    {
     "data": {
      "text/html": [
       "<div>\n",
       "<style scoped>\n",
       "    .dataframe tbody tr th:only-of-type {\n",
       "        vertical-align: middle;\n",
       "    }\n",
       "\n",
       "    .dataframe tbody tr th {\n",
       "        vertical-align: top;\n",
       "    }\n",
       "\n",
       "    .dataframe thead th {\n",
       "        text-align: right;\n",
       "    }\n",
       "</style>\n",
       "<table border=\"1\" class=\"dataframe\">\n",
       "  <thead>\n",
       "    <tr style=\"text-align: right;\">\n",
       "      <th></th>\n",
       "      <th>0</th>\n",
       "      <th>1</th>\n",
       "    </tr>\n",
       "  </thead>\n",
       "  <tbody>\n",
       "    <tr>\n",
       "      <th>0</th>\n",
       "      <td>a</td>\n",
       "      <td>1</td>\n",
       "    </tr>\n",
       "    <tr>\n",
       "      <th>1</th>\n",
       "      <td>b</td>\n",
       "      <td>2</td>\n",
       "    </tr>\n",
       "    <tr>\n",
       "      <th>2</th>\n",
       "      <td>&lt;NA&gt;</td>\n",
       "      <td>3</td>\n",
       "    </tr>\n",
       "  </tbody>\n",
       "</table>\n",
       "</div>"
      ],
      "text/plain": [
       "      0  1\n",
       "0     a  1\n",
       "1     b  2\n",
       "2  <NA>  3"
      ]
     },
     "execution_count": 35,
     "metadata": {},
     "output_type": "execute_result"
    }
   ],
   "source": [
    "# With optional groups\n",
    "s.str.extract(r\"([ab])?(\\d)\")"
   ]
  },
  {
   "cell_type": "markdown",
   "metadata": {},
   "source": [
    "## 7.2 Extracting all the matches in each subject (`extractall`)\n",
    "\n",
    "`extractall` returns every match. The result is always a `DataFrame` with a `MultiIndex` on its rows. The last level of the `MultiIndex` is named `match` and indicates the order in the subject."
   ]
  },
  {
   "cell_type": "code",
   "execution_count": 36,
   "metadata": {},
   "outputs": [
    {
     "data": {
      "text/html": [
       "<div>\n",
       "<style scoped>\n",
       "    .dataframe tbody tr th:only-of-type {\n",
       "        vertical-align: middle;\n",
       "    }\n",
       "\n",
       "    .dataframe tbody tr th {\n",
       "        vertical-align: top;\n",
       "    }\n",
       "\n",
       "    .dataframe thead th {\n",
       "        text-align: right;\n",
       "    }\n",
       "</style>\n",
       "<table border=\"1\" class=\"dataframe\">\n",
       "  <thead>\n",
       "    <tr style=\"text-align: right;\">\n",
       "      <th></th>\n",
       "      <th></th>\n",
       "      <th>letter</th>\n",
       "      <th>digit</th>\n",
       "    </tr>\n",
       "    <tr>\n",
       "      <th></th>\n",
       "      <th>match</th>\n",
       "      <th></th>\n",
       "      <th></th>\n",
       "    </tr>\n",
       "  </thead>\n",
       "  <tbody>\n",
       "    <tr>\n",
       "      <th rowspan=\"2\" valign=\"top\">A</th>\n",
       "      <th>0</th>\n",
       "      <td>a</td>\n",
       "      <td>1</td>\n",
       "    </tr>\n",
       "    <tr>\n",
       "      <th>1</th>\n",
       "      <td>a</td>\n",
       "      <td>2</td>\n",
       "    </tr>\n",
       "    <tr>\n",
       "      <th>B</th>\n",
       "      <th>0</th>\n",
       "      <td>b</td>\n",
       "      <td>2</td>\n",
       "    </tr>\n",
       "    <tr>\n",
       "      <th>C</th>\n",
       "      <th>0</th>\n",
       "      <td>c</td>\n",
       "      <td>2</td>\n",
       "    </tr>\n",
       "  </tbody>\n",
       "</table>\n",
       "</div>"
      ],
      "text/plain": [
       "        letter digit\n",
       "  match             \n",
       "A 0          a     1\n",
       "  1          a     2\n",
       "B 0          b     2\n",
       "C 0          c     2"
      ]
     },
     "execution_count": 36,
     "metadata": {},
     "output_type": "execute_result"
    }
   ],
   "source": [
    "s = pd.Series([\"a1a2\", \"bb2\", \"1c2\"], index=[\"A\", \"B\", \"C\"], dtype=\"string\")\n",
    "s.str.extractall(r\"(?P<letter>[a-z])(?P<digit>[0-9])\")"
   ]
  },
  {
   "cell_type": "code",
   "execution_count": 37,
   "metadata": {},
   "outputs": [
    {
     "data": {
      "text/html": [
       "<div>\n",
       "<style scoped>\n",
       "    .dataframe tbody tr th:only-of-type {\n",
       "        vertical-align: middle;\n",
       "    }\n",
       "\n",
       "    .dataframe tbody tr th {\n",
       "        vertical-align: top;\n",
       "    }\n",
       "\n",
       "    .dataframe thead th {\n",
       "        text-align: right;\n",
       "    }\n",
       "</style>\n",
       "<table border=\"1\" class=\"dataframe\">\n",
       "  <thead>\n",
       "    <tr style=\"text-align: right;\">\n",
       "      <th></th>\n",
       "      <th></th>\n",
       "      <th>letter</th>\n",
       "      <th>digit</th>\n",
       "    </tr>\n",
       "    <tr>\n",
       "      <th></th>\n",
       "      <th>match</th>\n",
       "      <th></th>\n",
       "      <th></th>\n",
       "    </tr>\n",
       "  </thead>\n",
       "  <tbody>\n",
       "    <tr>\n",
       "      <th rowspan=\"2\" valign=\"top\">0</th>\n",
       "      <th>0</th>\n",
       "      <td>a</td>\n",
       "      <td>1</td>\n",
       "    </tr>\n",
       "    <tr>\n",
       "      <th>1</th>\n",
       "      <td>a</td>\n",
       "      <td>2</td>\n",
       "    </tr>\n",
       "    <tr>\n",
       "      <th>1</th>\n",
       "      <th>0</th>\n",
       "      <td>b</td>\n",
       "      <td>2</td>\n",
       "    </tr>\n",
       "    <tr>\n",
       "      <th>2</th>\n",
       "      <th>0</th>\n",
       "      <td>c</td>\n",
       "      <td>2</td>\n",
       "    </tr>\n",
       "  </tbody>\n",
       "</table>\n",
       "</div>"
      ],
      "text/plain": [
       "        letter digit\n",
       "  match             \n",
       "0 0          a     1\n",
       "  1          a     2\n",
       "1 0          b     2\n",
       "2 0          c     2"
      ]
     },
     "execution_count": 37,
     "metadata": {},
     "output_type": "execute_result"
    }
   ],
   "source": [
    "pd.Index(s).str.extractall(\"(?P<letter>[a-z])(?P<digit>[0-9])\")"
   ]
  },
  {
   "cell_type": "markdown",
   "metadata": {},
   "source": [
    "# 8. Testing for Strings that match or contain a pattern\n",
    "\n",
    "## 8.1 Checking whether elements contain a pattern:\n",
    "\n",
    "`contains` tests whether there is a match for a regular expression *at any position* within the string."
   ]
  },
  {
   "cell_type": "code",
   "execution_count": 38,
   "metadata": {},
   "outputs": [
    {
     "data": {
      "text/plain": [
       "0    False\n",
       "1    False\n",
       "2     True\n",
       "3     True\n",
       "4     True\n",
       "dtype: boolean"
      ]
     },
     "execution_count": 38,
     "metadata": {},
     "output_type": "execute_result"
    }
   ],
   "source": [
    "s = pd.Series([\"1\", \"2\", \"3a\", \"3bb\", \"03c\"], dtype=\"string\")\n",
    "s.str.contains(r\"[0-9][a-z]\")"
   ]
  },
  {
   "cell_type": "markdown",
   "metadata": {},
   "source": [
    "## 8.2 Checking whether elements match a pattern:\n",
    "\n",
    "`match` tests whether there is a match for a regular expression, but begins *at the first character* of the string.\n",
    "\n",
    "`fullmatch` tests whether the *entire string* matches a regular expression."
   ]
  },
  {
   "cell_type": "code",
   "execution_count": 39,
   "metadata": {},
   "outputs": [
    {
     "data": {
      "text/plain": [
       "0    False\n",
       "1    False\n",
       "2     True\n",
       "3     True\n",
       "4    False\n",
       "dtype: boolean"
      ]
     },
     "execution_count": 39,
     "metadata": {},
     "output_type": "execute_result"
    }
   ],
   "source": [
    "s.str.match(r\"[0-9][a-z]\")"
   ]
  },
  {
   "cell_type": "code",
   "execution_count": 40,
   "metadata": {},
   "outputs": [
    {
     "data": {
      "text/plain": [
       "0    False\n",
       "1    False\n",
       "2     True\n",
       "3    False\n",
       "4    False\n",
       "dtype: boolean"
      ]
     },
     "execution_count": 40,
     "metadata": {},
     "output_type": "execute_result"
    }
   ],
   "source": [
    "s.str.fullmatch(r\"[0-9][a-z]\")"
   ]
  },
  {
   "cell_type": "markdown",
   "metadata": {},
   "source": [
    "> **NOTE:** Methods like `match`, `fullmatch`, `contains`, `startswith`, and `endswith` take an extra `na` argument so missing values can be considered `True` or `False`:"
   ]
  },
  {
   "cell_type": "code",
   "execution_count": 41,
   "metadata": {},
   "outputs": [
    {
     "data": {
      "text/plain": [
       "0     True\n",
       "1    False\n",
       "2     True\n",
       "3     True\n",
       "4    False\n",
       "5    False\n",
       "dtype: boolean"
      ]
     },
     "execution_count": 41,
     "metadata": {},
     "output_type": "execute_result"
    }
   ],
   "source": [
    "s = pd.Series([\"A\", \"B\", \"Aaba\", \"BaA\", np.nan, \"dog\"], dtype=\"string\")\n",
    "s.str.contains(\"A\", na=False)"
   ]
  },
  {
   "cell_type": "markdown",
   "metadata": {},
   "source": [
    "# 8. Creating indicator variables"
   ]
  },
  {
   "cell_type": "code",
   "execution_count": 42,
   "metadata": {},
   "outputs": [
    {
     "data": {
      "text/plain": [
       "0        a\n",
       "1      a|b\n",
       "2     <NA>\n",
       "3    a|c|a\n",
       "dtype: string"
      ]
     },
     "execution_count": 42,
     "metadata": {},
     "output_type": "execute_result"
    }
   ],
   "source": [
    "s = pd.Series([\"a\", \"a|b\", np.nan, \"a|c|a\"], dtype=\"string\")\n",
    "s"
   ]
  },
  {
   "cell_type": "code",
   "execution_count": 43,
   "metadata": {},
   "outputs": [
    {
     "data": {
      "text/html": [
       "<div>\n",
       "<style scoped>\n",
       "    .dataframe tbody tr th:only-of-type {\n",
       "        vertical-align: middle;\n",
       "    }\n",
       "\n",
       "    .dataframe tbody tr th {\n",
       "        vertical-align: top;\n",
       "    }\n",
       "\n",
       "    .dataframe thead th {\n",
       "        text-align: right;\n",
       "    }\n",
       "</style>\n",
       "<table border=\"1\" class=\"dataframe\">\n",
       "  <thead>\n",
       "    <tr style=\"text-align: right;\">\n",
       "      <th></th>\n",
       "      <th>a</th>\n",
       "      <th>b</th>\n",
       "      <th>c</th>\n",
       "    </tr>\n",
       "  </thead>\n",
       "  <tbody>\n",
       "    <tr>\n",
       "      <th>0</th>\n",
       "      <td>1</td>\n",
       "      <td>0</td>\n",
       "      <td>0</td>\n",
       "    </tr>\n",
       "    <tr>\n",
       "      <th>1</th>\n",
       "      <td>1</td>\n",
       "      <td>1</td>\n",
       "      <td>0</td>\n",
       "    </tr>\n",
       "    <tr>\n",
       "      <th>2</th>\n",
       "      <td>0</td>\n",
       "      <td>0</td>\n",
       "      <td>0</td>\n",
       "    </tr>\n",
       "    <tr>\n",
       "      <th>3</th>\n",
       "      <td>1</td>\n",
       "      <td>0</td>\n",
       "      <td>1</td>\n",
       "    </tr>\n",
       "  </tbody>\n",
       "</table>\n",
       "</div>"
      ],
      "text/plain": [
       "   a  b  c\n",
       "0  1  0  0\n",
       "1  1  1  0\n",
       "2  0  0  0\n",
       "3  1  0  1"
      ]
     },
     "execution_count": 43,
     "metadata": {},
     "output_type": "execute_result"
    }
   ],
   "source": [
    "s.str.get_dummies(sep=\"|\")"
   ]
  },
  {
   "cell_type": "code",
   "execution_count": 44,
   "metadata": {},
   "outputs": [
    {
     "data": {
      "text/plain": [
       "Index(['a', 'ab', nan, 'ac'], dtype='object')"
      ]
     },
     "execution_count": 44,
     "metadata": {},
     "output_type": "execute_result"
    }
   ],
   "source": [
    "idx = pd.Index([\"a\", \"ab\", np.nan, \"ac\"])\n",
    "idx"
   ]
  },
  {
   "cell_type": "code",
   "execution_count": 45,
   "metadata": {
    "scrolled": true
   },
   "outputs": [
    {
     "data": {
      "text/plain": [
       "MultiIndex([(1, 0, 0),\n",
       "            (1, 1, 0),\n",
       "            (0, 0, 0),\n",
       "            (1, 0, 1)],\n",
       "           names=['a', 'b', 'c'])"
      ]
     },
     "execution_count": 45,
     "metadata": {},
     "output_type": "execute_result"
    }
   ],
   "source": [
    "idx.str.get_dummies(sep=\"\")"
   ]
  },
  {
   "cell_type": "markdown",
   "metadata": {},
   "source": [
    "# 9. Method Summary\n",
    "\n",
    "\n",
    "|    | Method          | Description                                                                                                                   |\n",
    "|---:|:----------------|:------------------------------------------------------------------------------------------------------------------------------|\n",
    "|  0 | cat()           | Concatenate strings                                                                                                           |\n",
    "|  1 | split()         | Split strings on delimiter                                                                                                    |\n",
    "|  2 | rsplit()        | Split strings on delimiter working from the end of the string                                                                 |\n",
    "|  3 | get()           | Index into each element (retrieve i-th element)                                                                               |\n",
    "|  4 | join()          | Join strings in each element of the Series with passed separator                                                              |\n",
    "|  5 | get_dummies()   | Split strings on the delimiter returning DataFrame of dummy variables                                                         |\n",
    "|  6 | contains()      | Return boolean array if each string contains pattern/regex                                                                    |\n",
    "|  7 | replace()       | Replace occurrences of pattern/regex/string with some other string or the return value of a callable given the occurrence     |\n",
    "|  8 | removeprefix()  | Remove prefix from string, i.e. only remove if string starts with prefix.                                                     |\n",
    "|  9 | removesuffix()  | Remove suffix from string, i.e. only remove if string ends with suffix.                                                       |\n",
    "| 10 | repeat()        | Duplicate values (s.str.repeat(3) equivalent to x * 3)                                                                        |\n",
    "| 11 | pad()           | Add whitespace to left, right, or both sides of strings                                                                       |\n",
    "| 12 | center()        | Equivalent to str.center                                                                                                      |\n",
    "| 13 | ljust()         | Equivalent to str.ljust                                                                                                       |\n",
    "| 14 | rjust()         | Equivalent to str.rjust                                                                                                       |\n",
    "| 15 | zfill()         | Equivalent to str.zfill                                                                                                       |\n",
    "| 16 | wrap()          | Split long strings into lines with length less than a given width                                                             |\n",
    "| 17 | slice()         | Slice each string in the Series                                                                                               |\n",
    "| 18 | slice_replace() | Replace slice in each string with passed value                                                                                |\n",
    "| 19 | count()         | Count occurrences of pattern                                                                                                  |\n",
    "| 20 | startswith()    | Equivalent to str.startswith(pat) for each element                                                                            |\n",
    "| 21 | endswith()      | Equivalent to str.endswith(pat) for each element                                                                              |\n",
    "| 22 | findall()       | Compute list of all occurrences of pattern/regex for each string                                                              |\n",
    "| 23 | match()         | Call re.match on each element, returning matched groups as list                                                               |\n",
    "| 24 | extract()       | Call re.search on each element, returning DataFrame with one row for each element and one column for each regex capture group |\n",
    "| 25 | extractall()    | Call re.findall on each element, returning DataFrame with one row for each match and one column for each regex capture group  |\n",
    "| 26 | len()           | Compute string lengths                                                                                                        |\n",
    "| 27 | strip()         | Equivalent to str.strip                                                                                                       |\n",
    "| 28 | rstrip()        | Equivalent to str.rstrip                                                                                                      |\n",
    "| 29 | lstrip()        | Equivalent to str.lstrip                                                                                                      |\n",
    "| 30 | partition()     | Equivalent to str.partition                                                                                                   |\n",
    "| 31 | rpartition()    | Equivalent to str.rpartition                                                                                                  |\n",
    "| 32 | lower()         | Equivalent to str.lower                                                                                                       |\n",
    "| 33 | casefold()      | Equivalent to str.casefold                                                                                                    |\n",
    "| 34 | upper()         | Equivalent to str.upper                                                                                                       |\n",
    "| 35 | find()          | Equivalent to str.find                                                                                                        |\n",
    "| 36 | rfind()         | Equivalent to str.rfind                                                                                                       |\n",
    "| 37 | index()         | Equivalent to str.index                                                                                                       |\n",
    "| 38 | rindex()        | Equivalent to str.rindex                                                                                                      |\n",
    "| 39 | capitalize()    | Equivalent to str.capitalize                                                                                                  |\n",
    "| 40 | swapcase()      | Equivalent to str.swapcase                                                                                                    |\n",
    "| 41 | normalize()     | Return Unicode normal form. Equivalent to unicodedata.normalize                                                               |\n",
    "| 42 | translate()     | Equivalent to str.translate                                                                                                   |\n",
    "| 43 | isalnum()       | Equivalent to str.isalnum                                                                                                     |\n",
    "| 44 | isalpha()       | Equivalent to str.isalpha                                                                                                     |\n",
    "| 45 | isdigit()       | Equivalent to str.isdigit                                                                                                     |\n",
    "| 46 | isspace()       | Equivalent to str.isspace                                                                                                     |\n",
    "| 47 | islower()       | Equivalent to str.islower                                                                                                     |\n",
    "| 48 | isupper()       | Equivalent to str.isupper                                                                                                     |\n",
    "| 49 | istitle()       | Equivalent to str.istitle                                                                                                     |\n",
    "| 50 | isnumeric()     | Equivalent to str.isnumeric                                                                                                   |\n",
    "| 51 | isdecimal()     | Equivalent to str.isdecimal                                                                                                   |\n"
   ]
  }
 ],
 "metadata": {
  "kernelspec": {
   "display_name": "Python 3 (ipykernel)",
   "language": "python",
   "name": "python3"
  },
  "language_info": {
   "codemirror_mode": {
    "name": "ipython",
    "version": 3
   },
   "file_extension": ".py",
   "mimetype": "text/x-python",
   "name": "python",
   "nbconvert_exporter": "python",
   "pygments_lexer": "ipython3",
   "version": "3.10.7"
  }
 },
 "nbformat": 4,
 "nbformat_minor": 4
}
