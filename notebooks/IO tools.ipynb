{
 "cells": [
  {
   "cell_type": "markdown",
   "metadata": {},
   "source": [
    "# Based on: [\"IO tools\"](https://pandas.pydata.org/docs/user_guide/io.html)"
   ]
  },
  {
   "cell_type": "code",
   "execution_count": 1,
   "metadata": {},
   "outputs": [],
   "source": [
    "import pandas as pd\n",
    "import numpy as np"
   ]
  },
  {
   "cell_type": "code",
   "execution_count": 2,
   "metadata": {},
   "outputs": [],
   "source": [
    "df = pd.DataFrame(np.random.rand(8, 4), columns=list(\"ABCD\"))"
   ]
  },
  {
   "cell_type": "markdown",
   "metadata": {},
   "source": [
    "# 1. CSV & text files\n",
    "\n",
    "## 1.1 Write to CSV"
   ]
  },
  {
   "cell_type": "code",
   "execution_count": 3,
   "metadata": {},
   "outputs": [],
   "source": [
    "df.to_csv('../data/data.csv')"
   ]
  },
  {
   "cell_type": "markdown",
   "metadata": {},
   "source": [
    "## 1.2 Read from CSV\n",
    "\n",
    "The multipurpose [read_csv][1] function can read in data from `csv`, `tsv` and many other text file formats, with dozens of customizable options.\n",
    "\n",
    "[1]: https://pandas.pydata.org/docs/reference/api/pandas.read_csv.html#pandas-read-csv"
   ]
  },
  {
   "cell_type": "code",
   "execution_count": 4,
   "metadata": {},
   "outputs": [
    {
     "data": {
      "text/html": [
       "<div>\n",
       "<style scoped>\n",
       "    .dataframe tbody tr th:only-of-type {\n",
       "        vertical-align: middle;\n",
       "    }\n",
       "\n",
       "    .dataframe tbody tr th {\n",
       "        vertical-align: top;\n",
       "    }\n",
       "\n",
       "    .dataframe thead th {\n",
       "        text-align: right;\n",
       "    }\n",
       "</style>\n",
       "<table border=\"1\" class=\"dataframe\">\n",
       "  <thead>\n",
       "    <tr style=\"text-align: right;\">\n",
       "      <th></th>\n",
       "      <th>A</th>\n",
       "      <th>B</th>\n",
       "      <th>C</th>\n",
       "      <th>D</th>\n",
       "    </tr>\n",
       "  </thead>\n",
       "  <tbody>\n",
       "    <tr>\n",
       "      <th>0</th>\n",
       "      <td>0.131818</td>\n",
       "      <td>0.608048</td>\n",
       "      <td>0.656632</td>\n",
       "      <td>0.899186</td>\n",
       "    </tr>\n",
       "    <tr>\n",
       "      <th>1</th>\n",
       "      <td>0.610128</td>\n",
       "      <td>0.668836</td>\n",
       "      <td>0.803392</td>\n",
       "      <td>0.511006</td>\n",
       "    </tr>\n",
       "    <tr>\n",
       "      <th>2</th>\n",
       "      <td>0.093060</td>\n",
       "      <td>0.632988</td>\n",
       "      <td>0.384397</td>\n",
       "      <td>0.275641</td>\n",
       "    </tr>\n",
       "    <tr>\n",
       "      <th>3</th>\n",
       "      <td>0.398859</td>\n",
       "      <td>0.195242</td>\n",
       "      <td>0.808512</td>\n",
       "      <td>0.980867</td>\n",
       "    </tr>\n",
       "    <tr>\n",
       "      <th>4</th>\n",
       "      <td>0.356589</td>\n",
       "      <td>0.761425</td>\n",
       "      <td>0.864315</td>\n",
       "      <td>0.823620</td>\n",
       "    </tr>\n",
       "  </tbody>\n",
       "</table>\n",
       "</div>"
      ],
      "text/plain": [
       "          A         B         C         D\n",
       "0  0.131818  0.608048  0.656632  0.899186\n",
       "1  0.610128  0.668836  0.803392  0.511006\n",
       "2  0.093060  0.632988  0.384397  0.275641\n",
       "3  0.398859  0.195242  0.808512  0.980867\n",
       "4  0.356589  0.761425  0.864315  0.823620"
      ]
     },
     "execution_count": 4,
     "metadata": {},
     "output_type": "execute_result"
    }
   ],
   "source": [
    "df = pd.read_csv('../data/data.csv', index_col=0)\n",
    "df.head()"
   ]
  },
  {
   "cell_type": "markdown",
   "metadata": {},
   "source": [
    "# 2. JSON\n",
    "\n",
    "## 2.1 Write to JSON"
   ]
  },
  {
   "cell_type": "code",
   "execution_count": 5,
   "metadata": {},
   "outputs": [],
   "source": [
    "df.to_json('../data/data.json')"
   ]
  },
  {
   "cell_type": "markdown",
   "metadata": {},
   "source": [
    "## 2.2 Read from JSON"
   ]
  },
  {
   "cell_type": "code",
   "execution_count": 6,
   "metadata": {
    "scrolled": true
   },
   "outputs": [
    {
     "data": {
      "text/html": [
       "<div>\n",
       "<style scoped>\n",
       "    .dataframe tbody tr th:only-of-type {\n",
       "        vertical-align: middle;\n",
       "    }\n",
       "\n",
       "    .dataframe tbody tr th {\n",
       "        vertical-align: top;\n",
       "    }\n",
       "\n",
       "    .dataframe thead th {\n",
       "        text-align: right;\n",
       "    }\n",
       "</style>\n",
       "<table border=\"1\" class=\"dataframe\">\n",
       "  <thead>\n",
       "    <tr style=\"text-align: right;\">\n",
       "      <th></th>\n",
       "      <th>A</th>\n",
       "      <th>B</th>\n",
       "      <th>C</th>\n",
       "      <th>D</th>\n",
       "    </tr>\n",
       "  </thead>\n",
       "  <tbody>\n",
       "    <tr>\n",
       "      <th>0</th>\n",
       "      <td>0.131818</td>\n",
       "      <td>0.608048</td>\n",
       "      <td>0.656632</td>\n",
       "      <td>0.899186</td>\n",
       "    </tr>\n",
       "    <tr>\n",
       "      <th>1</th>\n",
       "      <td>0.610128</td>\n",
       "      <td>0.668836</td>\n",
       "      <td>0.803392</td>\n",
       "      <td>0.511006</td>\n",
       "    </tr>\n",
       "    <tr>\n",
       "      <th>2</th>\n",
       "      <td>0.093060</td>\n",
       "      <td>0.632988</td>\n",
       "      <td>0.384397</td>\n",
       "      <td>0.275641</td>\n",
       "    </tr>\n",
       "    <tr>\n",
       "      <th>3</th>\n",
       "      <td>0.398859</td>\n",
       "      <td>0.195242</td>\n",
       "      <td>0.808512</td>\n",
       "      <td>0.980867</td>\n",
       "    </tr>\n",
       "    <tr>\n",
       "      <th>4</th>\n",
       "      <td>0.356589</td>\n",
       "      <td>0.761425</td>\n",
       "      <td>0.864315</td>\n",
       "      <td>0.823620</td>\n",
       "    </tr>\n",
       "  </tbody>\n",
       "</table>\n",
       "</div>"
      ],
      "text/plain": [
       "          A         B         C         D\n",
       "0  0.131818  0.608048  0.656632  0.899186\n",
       "1  0.610128  0.668836  0.803392  0.511006\n",
       "2  0.093060  0.632988  0.384397  0.275641\n",
       "3  0.398859  0.195242  0.808512  0.980867\n",
       "4  0.356589  0.761425  0.864315  0.823620"
      ]
     },
     "execution_count": 6,
     "metadata": {},
     "output_type": "execute_result"
    }
   ],
   "source": [
    "df = pd.read_json('../data/data.json')\n",
    "df.head()"
   ]
  },
  {
   "cell_type": "markdown",
   "metadata": {},
   "source": [
    "# 3. HTML\n",
    "\n",
    "## 3.1 Write to HTML"
   ]
  },
  {
   "cell_type": "code",
   "execution_count": 7,
   "metadata": {},
   "outputs": [],
   "source": [
    "df.to_html('../data/data.html')"
   ]
  },
  {
   "cell_type": "markdown",
   "metadata": {},
   "source": [
    "## 3.2 Read from HTML"
   ]
  },
  {
   "cell_type": "code",
   "execution_count": 8,
   "metadata": {
    "scrolled": true
   },
   "outputs": [
    {
     "data": {
      "text/html": [
       "<div>\n",
       "<style scoped>\n",
       "    .dataframe tbody tr th:only-of-type {\n",
       "        vertical-align: middle;\n",
       "    }\n",
       "\n",
       "    .dataframe tbody tr th {\n",
       "        vertical-align: top;\n",
       "    }\n",
       "\n",
       "    .dataframe thead th {\n",
       "        text-align: right;\n",
       "    }\n",
       "</style>\n",
       "<table border=\"1\" class=\"dataframe\">\n",
       "  <thead>\n",
       "    <tr style=\"text-align: right;\">\n",
       "      <th></th>\n",
       "      <th>Country</th>\n",
       "      <th>2020[1]</th>\n",
       "      <th>2019[1]</th>\n",
       "      <th>2018[1]</th>\n",
       "      <th>2017[1]</th>\n",
       "      <th>2016[1]</th>\n",
       "      <th>2015[2]</th>\n",
       "      <th>2014[3]</th>\n",
       "      <th>2013[4]</th>\n",
       "      <th>2012[5]</th>\n",
       "      <th>...</th>\n",
       "      <th>2005 [6]</th>\n",
       "      <th>2004[6]</th>\n",
       "      <th>2003[6]</th>\n",
       "      <th>2002</th>\n",
       "      <th>2001</th>\n",
       "      <th>2000</th>\n",
       "      <th>1999</th>\n",
       "      <th>1998</th>\n",
       "      <th>1997</th>\n",
       "      <th>1996</th>\n",
       "    </tr>\n",
       "  </thead>\n",
       "  <tbody>\n",
       "    <tr>\n",
       "      <th>0</th>\n",
       "      <td>China</td>\n",
       "      <td>134.3</td>\n",
       "      <td>133.6</td>\n",
       "      <td>131.4</td>\n",
       "      <td>134.3</td>\n",
       "      <td>131.7</td>\n",
       "      <td>130.2</td>\n",
       "      <td>126.2</td>\n",
       "      <td>121.7</td>\n",
       "      <td>125.6</td>\n",
       "      <td>...</td>\n",
       "      <td>96.3</td>\n",
       "      <td>91.6</td>\n",
       "      <td>86.5</td>\n",
       "      <td>90.3</td>\n",
       "      <td>93.9</td>\n",
       "      <td>99.7</td>\n",
       "      <td>113.9</td>\n",
       "      <td>109.7</td>\n",
       "      <td>123.3</td>\n",
       "      <td>110.6</td>\n",
       "    </tr>\n",
       "    <tr>\n",
       "      <th>1</th>\n",
       "      <td>India</td>\n",
       "      <td>107.6</td>\n",
       "      <td>103.6</td>\n",
       "      <td>99.7</td>\n",
       "      <td>98.5</td>\n",
       "      <td>93.5</td>\n",
       "      <td>86.5</td>\n",
       "      <td>94.5</td>\n",
       "      <td>93.5</td>\n",
       "      <td>94.9</td>\n",
       "      <td>...</td>\n",
       "      <td>72.0</td>\n",
       "      <td>72.1</td>\n",
       "      <td>65.1</td>\n",
       "      <td>72.8</td>\n",
       "      <td>69.7</td>\n",
       "      <td>76.4</td>\n",
       "      <td>70.8</td>\n",
       "      <td>65.9</td>\n",
       "      <td>69.4</td>\n",
       "      <td>62.6</td>\n",
       "    </tr>\n",
       "    <tr>\n",
       "      <th>2</th>\n",
       "      <td>Russia</td>\n",
       "      <td>85.9</td>\n",
       "      <td>74.5</td>\n",
       "      <td>72.1</td>\n",
       "      <td>85.9</td>\n",
       "      <td>73.3</td>\n",
       "      <td>61.8</td>\n",
       "      <td>59.7</td>\n",
       "      <td>52.1</td>\n",
       "      <td>37.7</td>\n",
       "      <td>...</td>\n",
       "      <td>47.6</td>\n",
       "      <td>45.4</td>\n",
       "      <td>34.1</td>\n",
       "      <td>50.6</td>\n",
       "      <td>47.0</td>\n",
       "      <td>34.5</td>\n",
       "      <td>31.0</td>\n",
       "      <td>27.0</td>\n",
       "      <td>44.3</td>\n",
       "      <td>34.9</td>\n",
       "    </tr>\n",
       "    <tr>\n",
       "      <th>3</th>\n",
       "      <td>United States</td>\n",
       "      <td>49.7</td>\n",
       "      <td>52.3</td>\n",
       "      <td>51.3</td>\n",
       "      <td>47.3</td>\n",
       "      <td>62.9</td>\n",
       "      <td>55.8</td>\n",
       "      <td>55.4</td>\n",
       "      <td>60.0</td>\n",
       "      <td>61.8</td>\n",
       "      <td>...</td>\n",
       "      <td>57.1</td>\n",
       "      <td>58.7</td>\n",
       "      <td>63.8</td>\n",
       "      <td>44.1</td>\n",
       "      <td>53.3</td>\n",
       "      <td>60.8</td>\n",
       "      <td>62.7</td>\n",
       "      <td>69.4</td>\n",
       "      <td>67.5</td>\n",
       "      <td>62.0</td>\n",
       "    </tr>\n",
       "    <tr>\n",
       "      <th>4</th>\n",
       "      <td>Canada</td>\n",
       "      <td>35.2</td>\n",
       "      <td>32.3</td>\n",
       "      <td>31.8</td>\n",
       "      <td>30.0</td>\n",
       "      <td>30.5</td>\n",
       "      <td>27.6</td>\n",
       "      <td>29.3</td>\n",
       "      <td>37.5</td>\n",
       "      <td>27.0</td>\n",
       "      <td>...</td>\n",
       "      <td>25.6</td>\n",
       "      <td>25.9</td>\n",
       "      <td>23.6</td>\n",
       "      <td>16.2</td>\n",
       "      <td>20.6</td>\n",
       "      <td>26.8</td>\n",
       "      <td>26.9</td>\n",
       "      <td>24.1</td>\n",
       "      <td>24.3</td>\n",
       "      <td>29.8</td>\n",
       "    </tr>\n",
       "  </tbody>\n",
       "</table>\n",
       "<p>5 rows × 26 columns</p>\n",
       "</div>"
      ],
      "text/plain": [
       "         Country  2020[1] 2019[1] 2018[1] 2017[1] 2016[1] 2015[2] 2014[3]  \\\n",
       "0          China    134.3   133.6   131.4   134.3   131.7   130.2   126.2   \n",
       "1          India    107.6   103.6    99.7    98.5    93.5    86.5    94.5   \n",
       "2         Russia     85.9    74.5    72.1    85.9    73.3    61.8    59.7   \n",
       "3  United States     49.7    52.3    51.3    47.3    62.9    55.8    55.4   \n",
       "4         Canada     35.2    32.3    31.8    30.0    30.5    27.6    29.3   \n",
       "\n",
       "  2013[4] 2012[5]  ... 2005 [6]  2004[6]  2003[6]  2002  2001  2000   1999  \\\n",
       "0   121.7   125.6  ...     96.3     91.6     86.5  90.3  93.9  99.7  113.9   \n",
       "1    93.5    94.9  ...     72.0     72.1     65.1  72.8  69.7  76.4   70.8   \n",
       "2    52.1    37.7  ...     47.6     45.4     34.1  50.6  47.0  34.5   31.0   \n",
       "3    60.0    61.8  ...     57.1     58.7     63.8  44.1  53.3  60.8   62.7   \n",
       "4    37.5    27.0  ...     25.6     25.9     23.6  16.2  20.6  26.8   26.9   \n",
       "\n",
       "    1998   1997   1996  \n",
       "0  109.7  123.3  110.6  \n",
       "1   65.9   69.4   62.6  \n",
       "2   27.0   44.3   34.9  \n",
       "3   69.4   67.5   62.0  \n",
       "4   24.1   24.3   29.8  \n",
       "\n",
       "[5 rows x 26 columns]"
      ]
     },
     "execution_count": 8,
     "metadata": {},
     "output_type": "execute_result"
    }
   ],
   "source": [
    "df_html = pd.read_html('https://en.wikipedia.org/wiki/International_wheat_production_statistics')[0]\n",
    "df_html.head()"
   ]
  },
  {
   "cell_type": "markdown",
   "metadata": {},
   "source": [
    "# 4. Excel files\n",
    "\n",
    "## 4.1 Write to Excel"
   ]
  },
  {
   "cell_type": "code",
   "execution_count": 9,
   "metadata": {},
   "outputs": [],
   "source": [
    "df.to_excel('../data/data.xlsx', sheet_name='Sheet1')"
   ]
  },
  {
   "cell_type": "code",
   "execution_count": 10,
   "metadata": {},
   "outputs": [],
   "source": [
    "# To write to multiple sheets of the same file\n",
    "with pd.ExcelWriter('../data/data.xlsx') as file:\n",
    "    df.to_excel(file, sheet_name='Sheet I')\n",
    "    df['A'].to_excel(file, sheet_name='Sheet II')\n",
    "    df['C'].to_excel(file, sheet_name='Sheet III')"
   ]
  },
  {
   "cell_type": "markdown",
   "metadata": {},
   "source": [
    "## 4.2 Read from Excel"
   ]
  },
  {
   "cell_type": "code",
   "execution_count": 11,
   "metadata": {
    "scrolled": true
   },
   "outputs": [
    {
     "data": {
      "text/html": [
       "<div>\n",
       "<style scoped>\n",
       "    .dataframe tbody tr th:only-of-type {\n",
       "        vertical-align: middle;\n",
       "    }\n",
       "\n",
       "    .dataframe tbody tr th {\n",
       "        vertical-align: top;\n",
       "    }\n",
       "\n",
       "    .dataframe thead th {\n",
       "        text-align: right;\n",
       "    }\n",
       "</style>\n",
       "<table border=\"1\" class=\"dataframe\">\n",
       "  <thead>\n",
       "    <tr style=\"text-align: right;\">\n",
       "      <th></th>\n",
       "      <th>A</th>\n",
       "      <th>B</th>\n",
       "      <th>C</th>\n",
       "      <th>D</th>\n",
       "    </tr>\n",
       "  </thead>\n",
       "  <tbody>\n",
       "    <tr>\n",
       "      <th>0</th>\n",
       "      <td>0.131818</td>\n",
       "      <td>0.608048</td>\n",
       "      <td>0.656632</td>\n",
       "      <td>0.899186</td>\n",
       "    </tr>\n",
       "    <tr>\n",
       "      <th>1</th>\n",
       "      <td>0.610128</td>\n",
       "      <td>0.668836</td>\n",
       "      <td>0.803392</td>\n",
       "      <td>0.511006</td>\n",
       "    </tr>\n",
       "    <tr>\n",
       "      <th>2</th>\n",
       "      <td>0.093060</td>\n",
       "      <td>0.632988</td>\n",
       "      <td>0.384397</td>\n",
       "      <td>0.275641</td>\n",
       "    </tr>\n",
       "    <tr>\n",
       "      <th>3</th>\n",
       "      <td>0.398859</td>\n",
       "      <td>0.195242</td>\n",
       "      <td>0.808512</td>\n",
       "      <td>0.980867</td>\n",
       "    </tr>\n",
       "    <tr>\n",
       "      <th>4</th>\n",
       "      <td>0.356589</td>\n",
       "      <td>0.761425</td>\n",
       "      <td>0.864315</td>\n",
       "      <td>0.823620</td>\n",
       "    </tr>\n",
       "  </tbody>\n",
       "</table>\n",
       "</div>"
      ],
      "text/plain": [
       "          A         B         C         D\n",
       "0  0.131818  0.608048  0.656632  0.899186\n",
       "1  0.610128  0.668836  0.803392  0.511006\n",
       "2  0.093060  0.632988  0.384397  0.275641\n",
       "3  0.398859  0.195242  0.808512  0.980867\n",
       "4  0.356589  0.761425  0.864315  0.823620"
      ]
     },
     "execution_count": 11,
     "metadata": {},
     "output_type": "execute_result"
    }
   ],
   "source": [
    "df = pd.read_excel('../data/data.xlsx', sheet_name='Sheet I', index_col=0)\n",
    "df.head()"
   ]
  },
  {
   "cell_type": "code",
   "execution_count": 12,
   "metadata": {},
   "outputs": [],
   "source": [
    "# Reading in multiple sheets\n",
    "with pd.ExcelFile('../data/data.xlsx') as xls:\n",
    "    df1 = pd.read_excel(xls, 'Sheet I')\n",
    "    df2 = pd.read_excel(xls, 'Sheet II')"
   ]
  },
  {
   "cell_type": "code",
   "execution_count": 13,
   "metadata": {},
   "outputs": [
    {
     "data": {
      "text/html": [
       "<div>\n",
       "<style scoped>\n",
       "    .dataframe tbody tr th:only-of-type {\n",
       "        vertical-align: middle;\n",
       "    }\n",
       "\n",
       "    .dataframe tbody tr th {\n",
       "        vertical-align: top;\n",
       "    }\n",
       "\n",
       "    .dataframe thead th {\n",
       "        text-align: right;\n",
       "    }\n",
       "</style>\n",
       "<table border=\"1\" class=\"dataframe\">\n",
       "  <thead>\n",
       "    <tr style=\"text-align: right;\">\n",
       "      <th></th>\n",
       "      <th>A</th>\n",
       "      <th>B</th>\n",
       "      <th>C</th>\n",
       "      <th>D</th>\n",
       "    </tr>\n",
       "  </thead>\n",
       "  <tbody>\n",
       "    <tr>\n",
       "      <th>0</th>\n",
       "      <td>0.131818</td>\n",
       "      <td>0.608048</td>\n",
       "      <td>0.656632</td>\n",
       "      <td>0.899186</td>\n",
       "    </tr>\n",
       "    <tr>\n",
       "      <th>1</th>\n",
       "      <td>0.610128</td>\n",
       "      <td>0.668836</td>\n",
       "      <td>0.803392</td>\n",
       "      <td>0.511006</td>\n",
       "    </tr>\n",
       "    <tr>\n",
       "      <th>2</th>\n",
       "      <td>0.093060</td>\n",
       "      <td>0.632988</td>\n",
       "      <td>0.384397</td>\n",
       "      <td>0.275641</td>\n",
       "    </tr>\n",
       "    <tr>\n",
       "      <th>3</th>\n",
       "      <td>0.398859</td>\n",
       "      <td>0.195242</td>\n",
       "      <td>0.808512</td>\n",
       "      <td>0.980867</td>\n",
       "    </tr>\n",
       "    <tr>\n",
       "      <th>4</th>\n",
       "      <td>0.356589</td>\n",
       "      <td>0.761425</td>\n",
       "      <td>0.864315</td>\n",
       "      <td>0.823620</td>\n",
       "    </tr>\n",
       "  </tbody>\n",
       "</table>\n",
       "</div>"
      ],
      "text/plain": [
       "          A         B         C         D\n",
       "0  0.131818  0.608048  0.656632  0.899186\n",
       "1  0.610128  0.668836  0.803392  0.511006\n",
       "2  0.093060  0.632988  0.384397  0.275641\n",
       "3  0.398859  0.195242  0.808512  0.980867\n",
       "4  0.356589  0.761425  0.864315  0.823620"
      ]
     },
     "execution_count": 13,
     "metadata": {},
     "output_type": "execute_result"
    }
   ],
   "source": [
    "## Another way to read multiple sheets\n",
    "dfx = pd.read_excel('../data/data.xlsx', sheet_name =['Sheet I', 'Sheet II'],\n",
    "                   index_col=0)\n",
    "dfx['Sheet I'].head()"
   ]
  },
  {
   "cell_type": "markdown",
   "metadata": {},
   "source": [
    "# 5. OpenDocument Spreadsheets"
   ]
  },
  {
   "cell_type": "code",
   "execution_count": 14,
   "metadata": {
    "scrolled": true
   },
   "outputs": [
    {
     "data": {
      "text/html": [
       "<div>\n",
       "<style scoped>\n",
       "    .dataframe tbody tr th:only-of-type {\n",
       "        vertical-align: middle;\n",
       "    }\n",
       "\n",
       "    .dataframe tbody tr th {\n",
       "        vertical-align: top;\n",
       "    }\n",
       "\n",
       "    .dataframe thead th {\n",
       "        text-align: right;\n",
       "    }\n",
       "</style>\n",
       "<table border=\"1\" class=\"dataframe\">\n",
       "  <thead>\n",
       "    <tr style=\"text-align: right;\">\n",
       "      <th></th>\n",
       "      <th>A</th>\n",
       "      <th>B</th>\n",
       "      <th>C</th>\n",
       "      <th>D</th>\n",
       "    </tr>\n",
       "  </thead>\n",
       "  <tbody>\n",
       "    <tr>\n",
       "      <th>2000-01-01</th>\n",
       "      <td>-1.662334</td>\n",
       "      <td>1.754375</td>\n",
       "      <td>2.277854</td>\n",
       "      <td>-1.222050</td>\n",
       "    </tr>\n",
       "    <tr>\n",
       "      <th>2000-01-02</th>\n",
       "      <td>-3.170328</td>\n",
       "      <td>2.640600</td>\n",
       "      <td>3.252950</td>\n",
       "      <td>0.325672</td>\n",
       "    </tr>\n",
       "    <tr>\n",
       "      <th>2000-01-03</th>\n",
       "      <td>-4.905516</td>\n",
       "      <td>3.187861</td>\n",
       "      <td>1.720954</td>\n",
       "      <td>-1.209723</td>\n",
       "    </tr>\n",
       "    <tr>\n",
       "      <th>2000-01-04</th>\n",
       "      <td>-5.109194</td>\n",
       "      <td>3.717737</td>\n",
       "      <td>2.365512</td>\n",
       "      <td>0.338022</td>\n",
       "    </tr>\n",
       "    <tr>\n",
       "      <th>2000-01-05</th>\n",
       "      <td>-5.705884</td>\n",
       "      <td>2.990343</td>\n",
       "      <td>1.962035</td>\n",
       "      <td>0.355969</td>\n",
       "    </tr>\n",
       "  </tbody>\n",
       "</table>\n",
       "</div>"
      ],
      "text/plain": [
       "                   A         B         C         D\n",
       "2000-01-01 -1.662334  1.754375  2.277854 -1.222050\n",
       "2000-01-02 -3.170328  2.640600  3.252950  0.325672\n",
       "2000-01-03 -4.905516  3.187861  1.720954 -1.209723\n",
       "2000-01-04 -5.109194  3.717737  2.365512  0.338022\n",
       "2000-01-05 -5.705884  2.990343  1.962035  0.355969"
      ]
     },
     "execution_count": 14,
     "metadata": {},
     "output_type": "execute_result"
    }
   ],
   "source": [
    "# Only reading is currently supported\n",
    "df = pd.read_excel('../data/data.ods', engine='odf', index_col=0)\n",
    "df.head()"
   ]
  },
  {
   "cell_type": "markdown",
   "metadata": {},
   "source": [
    "# 6. Binary Excel"
   ]
  },
  {
   "cell_type": "code",
   "execution_count": 15,
   "metadata": {
    "scrolled": true
   },
   "outputs": [
    {
     "data": {
      "text/html": [
       "<div>\n",
       "<style scoped>\n",
       "    .dataframe tbody tr th:only-of-type {\n",
       "        vertical-align: middle;\n",
       "    }\n",
       "\n",
       "    .dataframe tbody tr th {\n",
       "        vertical-align: top;\n",
       "    }\n",
       "\n",
       "    .dataframe thead th {\n",
       "        text-align: right;\n",
       "    }\n",
       "</style>\n",
       "<table border=\"1\" class=\"dataframe\">\n",
       "  <thead>\n",
       "    <tr style=\"text-align: right;\">\n",
       "      <th></th>\n",
       "      <th>A</th>\n",
       "      <th>B</th>\n",
       "      <th>C</th>\n",
       "      <th>D</th>\n",
       "    </tr>\n",
       "  </thead>\n",
       "  <tbody>\n",
       "    <tr>\n",
       "      <th>36526</th>\n",
       "      <td>-1.662334</td>\n",
       "      <td>1.754375</td>\n",
       "      <td>2.277854</td>\n",
       "      <td>-1.222050</td>\n",
       "    </tr>\n",
       "    <tr>\n",
       "      <th>36527</th>\n",
       "      <td>-3.170328</td>\n",
       "      <td>2.640600</td>\n",
       "      <td>3.252950</td>\n",
       "      <td>0.325672</td>\n",
       "    </tr>\n",
       "    <tr>\n",
       "      <th>36528</th>\n",
       "      <td>-4.905516</td>\n",
       "      <td>3.187861</td>\n",
       "      <td>1.720954</td>\n",
       "      <td>-1.209723</td>\n",
       "    </tr>\n",
       "    <tr>\n",
       "      <th>36529</th>\n",
       "      <td>-5.109194</td>\n",
       "      <td>3.717737</td>\n",
       "      <td>2.365512</td>\n",
       "      <td>0.338022</td>\n",
       "    </tr>\n",
       "    <tr>\n",
       "      <th>36530</th>\n",
       "      <td>-5.705884</td>\n",
       "      <td>2.990343</td>\n",
       "      <td>1.962035</td>\n",
       "      <td>0.355969</td>\n",
       "    </tr>\n",
       "  </tbody>\n",
       "</table>\n",
       "</div>"
      ],
      "text/plain": [
       "              A         B         C         D\n",
       "36526 -1.662334  1.754375  2.277854 -1.222050\n",
       "36527 -3.170328  2.640600  3.252950  0.325672\n",
       "36528 -4.905516  3.187861  1.720954 -1.209723\n",
       "36529 -5.109194  3.717737  2.365512  0.338022\n",
       "36530 -5.705884  2.990343  1.962035  0.355969"
      ]
     },
     "execution_count": 15,
     "metadata": {},
     "output_type": "execute_result"
    }
   ],
   "source": [
    "# Only reading is currently supported\n",
    "from pyxlsb import convert_date\n",
    "\n",
    "df = pd.read_excel('../data/data.xlsb', engine='pyxlsb', converters={0: convert_date},\n",
    "                   index_col=0)\n",
    "df.head()"
   ]
  },
  {
   "cell_type": "markdown",
   "metadata": {},
   "source": [
    "# 7. Clipboard\n",
    "\n",
    "## 7.1 Write to clipboard"
   ]
  },
  {
   "cell_type": "code",
   "execution_count": 16,
   "metadata": {},
   "outputs": [],
   "source": [
    "df.to_clipboard()  # Writes df's contents to clipboard. Can be pasted elsewhere."
   ]
  },
  {
   "cell_type": "markdown",
   "metadata": {},
   "source": [
    "## 7.2 Read from clipboard"
   ]
  },
  {
   "cell_type": "code",
   "execution_count": 17,
   "metadata": {
    "scrolled": true
   },
   "outputs": [
    {
     "data": {
      "text/html": [
       "<div>\n",
       "<style scoped>\n",
       "    .dataframe tbody tr th:only-of-type {\n",
       "        vertical-align: middle;\n",
       "    }\n",
       "\n",
       "    .dataframe tbody tr th {\n",
       "        vertical-align: top;\n",
       "    }\n",
       "\n",
       "    .dataframe thead th {\n",
       "        text-align: right;\n",
       "    }\n",
       "</style>\n",
       "<table border=\"1\" class=\"dataframe\">\n",
       "  <thead>\n",
       "    <tr style=\"text-align: right;\">\n",
       "      <th></th>\n",
       "      <th>Y</th>\n",
       "      <th>x1</th>\n",
       "      <th>x2</th>\n",
       "      <th>x3</th>\n",
       "    </tr>\n",
       "  </thead>\n",
       "  <tbody>\n",
       "    <tr>\n",
       "      <th>0</th>\n",
       "      <td>0.5</td>\n",
       "      <td>7.2</td>\n",
       "      <td>5.1</td>\n",
       "      <td>0.9</td>\n",
       "    </tr>\n",
       "    <tr>\n",
       "      <th>1</th>\n",
       "      <td>1.1</td>\n",
       "      <td>8.4</td>\n",
       "      <td>3.7</td>\n",
       "      <td>2.5</td>\n",
       "    </tr>\n",
       "  </tbody>\n",
       "</table>\n",
       "</div>"
      ],
      "text/plain": [
       "     Y   x1   x2   x3\n",
       "0  0.5  7.2  5.1  0.9\n",
       "1  1.1  8.4  3.7  2.5"
      ]
     },
     "execution_count": 17,
     "metadata": {},
     "output_type": "execute_result"
    }
   ],
   "source": [
    "pd.read_clipboard().head()"
   ]
  },
  {
   "cell_type": "markdown",
   "metadata": {},
   "source": [
    "Copy this table, \n",
    "\n",
    "Y | x1 | x2 | x3\n",
    "--- |--- | --- | ---\n",
    " 0.5 | 7.2 | 5.1 | 0.9 \n",
    " 1.1 | 8.4 | 3.7 | 2.5 \n",
    " \n",
    " then run the cell below."
   ]
  },
  {
   "cell_type": "code",
   "execution_count": 18,
   "metadata": {
    "scrolled": true
   },
   "outputs": [
    {
     "data": {
      "text/html": [
       "<div>\n",
       "<style scoped>\n",
       "    .dataframe tbody tr th:only-of-type {\n",
       "        vertical-align: middle;\n",
       "    }\n",
       "\n",
       "    .dataframe tbody tr th {\n",
       "        vertical-align: top;\n",
       "    }\n",
       "\n",
       "    .dataframe thead th {\n",
       "        text-align: right;\n",
       "    }\n",
       "</style>\n",
       "<table border=\"1\" class=\"dataframe\">\n",
       "  <thead>\n",
       "    <tr style=\"text-align: right;\">\n",
       "      <th></th>\n",
       "      <th>Y</th>\n",
       "      <th>x1</th>\n",
       "      <th>x2</th>\n",
       "      <th>x3</th>\n",
       "    </tr>\n",
       "  </thead>\n",
       "  <tbody>\n",
       "    <tr>\n",
       "      <th>0</th>\n",
       "      <td>0.5</td>\n",
       "      <td>7.2</td>\n",
       "      <td>5.1</td>\n",
       "      <td>0.9</td>\n",
       "    </tr>\n",
       "    <tr>\n",
       "      <th>1</th>\n",
       "      <td>1.1</td>\n",
       "      <td>8.4</td>\n",
       "      <td>3.7</td>\n",
       "      <td>2.5</td>\n",
       "    </tr>\n",
       "  </tbody>\n",
       "</table>\n",
       "</div>"
      ],
      "text/plain": [
       "     Y   x1   x2   x3\n",
       "0  0.5  7.2  5.1  0.9\n",
       "1  1.1  8.4  3.7  2.5"
      ]
     },
     "execution_count": 18,
     "metadata": {},
     "output_type": "execute_result"
    }
   ],
   "source": [
    "pd.read_clipboard().head()"
   ]
  },
  {
   "cell_type": "markdown",
   "metadata": {},
   "source": [
    "# 8. Pickling\n",
    "\n",
    "All pandas objects are equipped with `to_pickle` methods which use Python’s `cPickle` module to save data structures to disk using the `pickle` format."
   ]
  },
  {
   "cell_type": "code",
   "execution_count": 19,
   "metadata": {},
   "outputs": [],
   "source": [
    "# Save to disk\n",
    "df.to_pickle('../data/data.pkl')"
   ]
  },
  {
   "cell_type": "markdown",
   "metadata": {},
   "source": [
    "> **Note:** Loading pickled data received from untrusted sources can be unsafe."
   ]
  },
  {
   "cell_type": "code",
   "execution_count": 20,
   "metadata": {
    "scrolled": true
   },
   "outputs": [
    {
     "data": {
      "text/html": [
       "<div>\n",
       "<style scoped>\n",
       "    .dataframe tbody tr th:only-of-type {\n",
       "        vertical-align: middle;\n",
       "    }\n",
       "\n",
       "    .dataframe tbody tr th {\n",
       "        vertical-align: top;\n",
       "    }\n",
       "\n",
       "    .dataframe thead th {\n",
       "        text-align: right;\n",
       "    }\n",
       "</style>\n",
       "<table border=\"1\" class=\"dataframe\">\n",
       "  <thead>\n",
       "    <tr style=\"text-align: right;\">\n",
       "      <th></th>\n",
       "      <th>A</th>\n",
       "      <th>B</th>\n",
       "      <th>C</th>\n",
       "      <th>D</th>\n",
       "    </tr>\n",
       "  </thead>\n",
       "  <tbody>\n",
       "    <tr>\n",
       "      <th>36526</th>\n",
       "      <td>-1.662334</td>\n",
       "      <td>1.754375</td>\n",
       "      <td>2.277854</td>\n",
       "      <td>-1.222050</td>\n",
       "    </tr>\n",
       "    <tr>\n",
       "      <th>36527</th>\n",
       "      <td>-3.170328</td>\n",
       "      <td>2.640600</td>\n",
       "      <td>3.252950</td>\n",
       "      <td>0.325672</td>\n",
       "    </tr>\n",
       "    <tr>\n",
       "      <th>36528</th>\n",
       "      <td>-4.905516</td>\n",
       "      <td>3.187861</td>\n",
       "      <td>1.720954</td>\n",
       "      <td>-1.209723</td>\n",
       "    </tr>\n",
       "    <tr>\n",
       "      <th>36529</th>\n",
       "      <td>-5.109194</td>\n",
       "      <td>3.717737</td>\n",
       "      <td>2.365512</td>\n",
       "      <td>0.338022</td>\n",
       "    </tr>\n",
       "    <tr>\n",
       "      <th>36530</th>\n",
       "      <td>-5.705884</td>\n",
       "      <td>2.990343</td>\n",
       "      <td>1.962035</td>\n",
       "      <td>0.355969</td>\n",
       "    </tr>\n",
       "  </tbody>\n",
       "</table>\n",
       "</div>"
      ],
      "text/plain": [
       "              A         B         C         D\n",
       "36526 -1.662334  1.754375  2.277854 -1.222050\n",
       "36527 -3.170328  2.640600  3.252950  0.325672\n",
       "36528 -4.905516  3.187861  1.720954 -1.209723\n",
       "36529 -5.109194  3.717737  2.365512  0.338022\n",
       "36530 -5.705884  2.990343  1.962035  0.355969"
      ]
     },
     "execution_count": 20,
     "metadata": {},
     "output_type": "execute_result"
    }
   ],
   "source": [
    "# Read from disk\n",
    "pd.read_pickle('../data/data.pkl').head()"
   ]
  },
  {
   "cell_type": "markdown",
   "metadata": {},
   "source": [
    "## 8.1 Compressed pickle files\n",
    "The compression types of `gzip`, `bz2`, `xz` are supported for reading and writing. The `zip` file format only supports reading and must contain only one data file to be read."
   ]
  },
  {
   "cell_type": "code",
   "execution_count": 21,
   "metadata": {},
   "outputs": [],
   "source": [
    "df2 = pd.DataFrame({\n",
    "        'A': np.random.randn(1000),\n",
    "        'B': 'foo',\n",
    "        'C': pd.date_range('20130101', periods=1000, freq='s')})\n",
    "# Infer compression format from extension\n",
    "df2.to_pickle(\"../data/data.pkl.gz\")\n",
    "\n",
    "# 'infer' is default, as above\n",
    "df2.to_pickle(\"../data/data.pkl.xz\", compression=\"infer\")\n",
    "\n",
    "# Explicitly set compression format\n",
    "df2.to_pickle(\"../data/data.pkl.compress\", compression=\"gzip\") "
   ]
  },
  {
   "cell_type": "code",
   "execution_count": 22,
   "metadata": {},
   "outputs": [
    {
     "data": {
      "text/html": [
       "<div>\n",
       "<style scoped>\n",
       "    .dataframe tbody tr th:only-of-type {\n",
       "        vertical-align: middle;\n",
       "    }\n",
       "\n",
       "    .dataframe tbody tr th {\n",
       "        vertical-align: top;\n",
       "    }\n",
       "\n",
       "    .dataframe thead th {\n",
       "        text-align: right;\n",
       "    }\n",
       "</style>\n",
       "<table border=\"1\" class=\"dataframe\">\n",
       "  <thead>\n",
       "    <tr style=\"text-align: right;\">\n",
       "      <th></th>\n",
       "      <th>A</th>\n",
       "      <th>B</th>\n",
       "      <th>C</th>\n",
       "    </tr>\n",
       "  </thead>\n",
       "  <tbody>\n",
       "    <tr>\n",
       "      <th>0</th>\n",
       "      <td>1.632280</td>\n",
       "      <td>foo</td>\n",
       "      <td>2013-01-01 00:00:00</td>\n",
       "    </tr>\n",
       "    <tr>\n",
       "      <th>1</th>\n",
       "      <td>-1.446338</td>\n",
       "      <td>foo</td>\n",
       "      <td>2013-01-01 00:00:01</td>\n",
       "    </tr>\n",
       "    <tr>\n",
       "      <th>2</th>\n",
       "      <td>1.462065</td>\n",
       "      <td>foo</td>\n",
       "      <td>2013-01-01 00:00:02</td>\n",
       "    </tr>\n",
       "    <tr>\n",
       "      <th>3</th>\n",
       "      <td>-0.596584</td>\n",
       "      <td>foo</td>\n",
       "      <td>2013-01-01 00:00:03</td>\n",
       "    </tr>\n",
       "    <tr>\n",
       "      <th>4</th>\n",
       "      <td>0.209203</td>\n",
       "      <td>foo</td>\n",
       "      <td>2013-01-01 00:00:04</td>\n",
       "    </tr>\n",
       "  </tbody>\n",
       "</table>\n",
       "</div>"
      ],
      "text/plain": [
       "          A    B                   C\n",
       "0  1.632280  foo 2013-01-01 00:00:00\n",
       "1 -1.446338  foo 2013-01-01 00:00:01\n",
       "2  1.462065  foo 2013-01-01 00:00:02\n",
       "3 -0.596584  foo 2013-01-01 00:00:03\n",
       "4  0.209203  foo 2013-01-01 00:00:04"
      ]
     },
     "execution_count": 22,
     "metadata": {},
     "output_type": "execute_result"
    }
   ],
   "source": [
    "pd.read_pickle(\"../data/data.pkl.xz\").head()"
   ]
  },
  {
   "cell_type": "markdown",
   "metadata": {},
   "source": [
    "# 9. HDF5\n",
    "\n",
    "`HDFStore` is a dict-like object which reads and writes pandas objects using the high performance `HDF5` format, via the `PyTables` library.\n",
    "\n",
    "Objects can be written to the file just like adding key-value pairs to a `dict`.\n",
    "\n",
    "## 9.1 Write to HDF5"
   ]
  },
  {
   "cell_type": "code",
   "execution_count": 23,
   "metadata": {},
   "outputs": [
    {
     "name": "stdout",
     "output_type": "stream",
     "text": [
      "<class 'pandas.io.pytables.HDFStore'>\n",
      "File path: ../data/store.h5\n",
      "\n"
     ]
    }
   ],
   "source": [
    "store = pd.HDFStore('../data/store.h5')\n",
    "print(store)"
   ]
  },
  {
   "cell_type": "code",
   "execution_count": 24,
   "metadata": {
    "scrolled": true
   },
   "outputs": [],
   "source": [
    "# Various methods to save data\n",
    "store.put('A', df2.A)\n",
    "store['BC'] = df2[['B','C']]\n",
    "\n",
    "store.close()\n",
    "df2.to_hdf(store, 'df2')"
   ]
  },
  {
   "cell_type": "markdown",
   "metadata": {},
   "source": [
    "## 9.2 Read from HDF5"
   ]
  },
  {
   "cell_type": "code",
   "execution_count": 25,
   "metadata": {},
   "outputs": [
    {
     "data": {
      "text/html": [
       "<div>\n",
       "<style scoped>\n",
       "    .dataframe tbody tr th:only-of-type {\n",
       "        vertical-align: middle;\n",
       "    }\n",
       "\n",
       "    .dataframe tbody tr th {\n",
       "        vertical-align: top;\n",
       "    }\n",
       "\n",
       "    .dataframe thead th {\n",
       "        text-align: right;\n",
       "    }\n",
       "</style>\n",
       "<table border=\"1\" class=\"dataframe\">\n",
       "  <thead>\n",
       "    <tr style=\"text-align: right;\">\n",
       "      <th></th>\n",
       "      <th>A</th>\n",
       "      <th>B</th>\n",
       "      <th>C</th>\n",
       "    </tr>\n",
       "  </thead>\n",
       "  <tbody>\n",
       "    <tr>\n",
       "      <th>0</th>\n",
       "      <td>1.632280</td>\n",
       "      <td>foo</td>\n",
       "      <td>2013-01-01 00:00:00</td>\n",
       "    </tr>\n",
       "    <tr>\n",
       "      <th>1</th>\n",
       "      <td>-1.446338</td>\n",
       "      <td>foo</td>\n",
       "      <td>2013-01-01 00:00:01</td>\n",
       "    </tr>\n",
       "    <tr>\n",
       "      <th>2</th>\n",
       "      <td>1.462065</td>\n",
       "      <td>foo</td>\n",
       "      <td>2013-01-01 00:00:02</td>\n",
       "    </tr>\n",
       "    <tr>\n",
       "      <th>3</th>\n",
       "      <td>-0.596584</td>\n",
       "      <td>foo</td>\n",
       "      <td>2013-01-01 00:00:03</td>\n",
       "    </tr>\n",
       "    <tr>\n",
       "      <th>4</th>\n",
       "      <td>0.209203</td>\n",
       "      <td>foo</td>\n",
       "      <td>2013-01-01 00:00:04</td>\n",
       "    </tr>\n",
       "  </tbody>\n",
       "</table>\n",
       "</div>"
      ],
      "text/plain": [
       "          A    B                   C\n",
       "0  1.632280  foo 2013-01-01 00:00:00\n",
       "1 -1.446338  foo 2013-01-01 00:00:01\n",
       "2  1.462065  foo 2013-01-01 00:00:02\n",
       "3 -0.596584  foo 2013-01-01 00:00:03\n",
       "4  0.209203  foo 2013-01-01 00:00:04"
      ]
     },
     "execution_count": 25,
     "metadata": {},
     "output_type": "execute_result"
    }
   ],
   "source": [
    "store = pd.HDFStore('../data/store.h5')\n",
    "\n",
    "store['df2'].head()"
   ]
  },
  {
   "cell_type": "code",
   "execution_count": 26,
   "metadata": {},
   "outputs": [
    {
     "data": {
      "text/html": [
       "<div>\n",
       "<style scoped>\n",
       "    .dataframe tbody tr th:only-of-type {\n",
       "        vertical-align: middle;\n",
       "    }\n",
       "\n",
       "    .dataframe tbody tr th {\n",
       "        vertical-align: top;\n",
       "    }\n",
       "\n",
       "    .dataframe thead th {\n",
       "        text-align: right;\n",
       "    }\n",
       "</style>\n",
       "<table border=\"1\" class=\"dataframe\">\n",
       "  <thead>\n",
       "    <tr style=\"text-align: right;\">\n",
       "      <th></th>\n",
       "      <th>A</th>\n",
       "      <th>B</th>\n",
       "      <th>C</th>\n",
       "    </tr>\n",
       "  </thead>\n",
       "  <tbody>\n",
       "    <tr>\n",
       "      <th>0</th>\n",
       "      <td>1.632280</td>\n",
       "      <td>foo</td>\n",
       "      <td>2013-01-01 00:00:00</td>\n",
       "    </tr>\n",
       "    <tr>\n",
       "      <th>1</th>\n",
       "      <td>-1.446338</td>\n",
       "      <td>foo</td>\n",
       "      <td>2013-01-01 00:00:01</td>\n",
       "    </tr>\n",
       "    <tr>\n",
       "      <th>2</th>\n",
       "      <td>1.462065</td>\n",
       "      <td>foo</td>\n",
       "      <td>2013-01-01 00:00:02</td>\n",
       "    </tr>\n",
       "    <tr>\n",
       "      <th>3</th>\n",
       "      <td>-0.596584</td>\n",
       "      <td>foo</td>\n",
       "      <td>2013-01-01 00:00:03</td>\n",
       "    </tr>\n",
       "    <tr>\n",
       "      <th>4</th>\n",
       "      <td>0.209203</td>\n",
       "      <td>foo</td>\n",
       "      <td>2013-01-01 00:00:04</td>\n",
       "    </tr>\n",
       "  </tbody>\n",
       "</table>\n",
       "</div>"
      ],
      "text/plain": [
       "          A    B                   C\n",
       "0  1.632280  foo 2013-01-01 00:00:00\n",
       "1 -1.446338  foo 2013-01-01 00:00:01\n",
       "2  1.462065  foo 2013-01-01 00:00:02\n",
       "3 -0.596584  foo 2013-01-01 00:00:03\n",
       "4  0.209203  foo 2013-01-01 00:00:04"
      ]
     },
     "execution_count": 26,
     "metadata": {},
     "output_type": "execute_result"
    }
   ],
   "source": [
    "store.df2.head()"
   ]
  },
  {
   "cell_type": "code",
   "execution_count": 27,
   "metadata": {
    "scrolled": true
   },
   "outputs": [
    {
     "data": {
      "text/html": [
       "<div>\n",
       "<style scoped>\n",
       "    .dataframe tbody tr th:only-of-type {\n",
       "        vertical-align: middle;\n",
       "    }\n",
       "\n",
       "    .dataframe tbody tr th {\n",
       "        vertical-align: top;\n",
       "    }\n",
       "\n",
       "    .dataframe thead th {\n",
       "        text-align: right;\n",
       "    }\n",
       "</style>\n",
       "<table border=\"1\" class=\"dataframe\">\n",
       "  <thead>\n",
       "    <tr style=\"text-align: right;\">\n",
       "      <th></th>\n",
       "      <th>A</th>\n",
       "      <th>B</th>\n",
       "      <th>C</th>\n",
       "    </tr>\n",
       "  </thead>\n",
       "  <tbody>\n",
       "    <tr>\n",
       "      <th>0</th>\n",
       "      <td>1.632280</td>\n",
       "      <td>foo</td>\n",
       "      <td>2013-01-01 00:00:00</td>\n",
       "    </tr>\n",
       "    <tr>\n",
       "      <th>1</th>\n",
       "      <td>-1.446338</td>\n",
       "      <td>foo</td>\n",
       "      <td>2013-01-01 00:00:01</td>\n",
       "    </tr>\n",
       "    <tr>\n",
       "      <th>2</th>\n",
       "      <td>1.462065</td>\n",
       "      <td>foo</td>\n",
       "      <td>2013-01-01 00:00:02</td>\n",
       "    </tr>\n",
       "    <tr>\n",
       "      <th>3</th>\n",
       "      <td>-0.596584</td>\n",
       "      <td>foo</td>\n",
       "      <td>2013-01-01 00:00:03</td>\n",
       "    </tr>\n",
       "    <tr>\n",
       "      <th>4</th>\n",
       "      <td>0.209203</td>\n",
       "      <td>foo</td>\n",
       "      <td>2013-01-01 00:00:04</td>\n",
       "    </tr>\n",
       "  </tbody>\n",
       "</table>\n",
       "</div>"
      ],
      "text/plain": [
       "          A    B                   C\n",
       "0  1.632280  foo 2013-01-01 00:00:00\n",
       "1 -1.446338  foo 2013-01-01 00:00:01\n",
       "2  1.462065  foo 2013-01-01 00:00:02\n",
       "3 -0.596584  foo 2013-01-01 00:00:03\n",
       "4  0.209203  foo 2013-01-01 00:00:04"
      ]
     },
     "execution_count": 27,
     "metadata": {},
     "output_type": "execute_result"
    }
   ],
   "source": [
    "store.get('df2').head()"
   ]
  },
  {
   "cell_type": "code",
   "execution_count": 28,
   "metadata": {},
   "outputs": [
    {
     "data": {
      "text/html": [
       "<div>\n",
       "<style scoped>\n",
       "    .dataframe tbody tr th:only-of-type {\n",
       "        vertical-align: middle;\n",
       "    }\n",
       "\n",
       "    .dataframe tbody tr th {\n",
       "        vertical-align: top;\n",
       "    }\n",
       "\n",
       "    .dataframe thead th {\n",
       "        text-align: right;\n",
       "    }\n",
       "</style>\n",
       "<table border=\"1\" class=\"dataframe\">\n",
       "  <thead>\n",
       "    <tr style=\"text-align: right;\">\n",
       "      <th></th>\n",
       "      <th>A</th>\n",
       "      <th>B</th>\n",
       "      <th>C</th>\n",
       "    </tr>\n",
       "  </thead>\n",
       "  <tbody>\n",
       "    <tr>\n",
       "      <th>0</th>\n",
       "      <td>1.632280</td>\n",
       "      <td>foo</td>\n",
       "      <td>2013-01-01 00:00:00</td>\n",
       "    </tr>\n",
       "    <tr>\n",
       "      <th>1</th>\n",
       "      <td>-1.446338</td>\n",
       "      <td>foo</td>\n",
       "      <td>2013-01-01 00:00:01</td>\n",
       "    </tr>\n",
       "    <tr>\n",
       "      <th>2</th>\n",
       "      <td>1.462065</td>\n",
       "      <td>foo</td>\n",
       "      <td>2013-01-01 00:00:02</td>\n",
       "    </tr>\n",
       "    <tr>\n",
       "      <th>3</th>\n",
       "      <td>-0.596584</td>\n",
       "      <td>foo</td>\n",
       "      <td>2013-01-01 00:00:03</td>\n",
       "    </tr>\n",
       "    <tr>\n",
       "      <th>4</th>\n",
       "      <td>0.209203</td>\n",
       "      <td>foo</td>\n",
       "      <td>2013-01-01 00:00:04</td>\n",
       "    </tr>\n",
       "  </tbody>\n",
       "</table>\n",
       "</div>"
      ],
      "text/plain": [
       "          A    B                   C\n",
       "0  1.632280  foo 2013-01-01 00:00:00\n",
       "1 -1.446338  foo 2013-01-01 00:00:01\n",
       "2  1.462065  foo 2013-01-01 00:00:02\n",
       "3 -0.596584  foo 2013-01-01 00:00:03\n",
       "4  0.209203  foo 2013-01-01 00:00:04"
      ]
     },
     "execution_count": 28,
     "metadata": {},
     "output_type": "execute_result"
    }
   ],
   "source": [
    "pd.read_hdf(store, 'df2').head()"
   ]
  },
  {
   "cell_type": "markdown",
   "metadata": {},
   "source": [
    "# 10. Feather\n",
    "\n",
    "Feather is designed to faithfully serialize and de-serialize `DataFrames`, supporting all of the pandas dtypes, including extension dtypes (`categorical`, `datetime` with tz, ...)"
   ]
  },
  {
   "cell_type": "code",
   "execution_count": 29,
   "metadata": {},
   "outputs": [
    {
     "name": "stdout",
     "output_type": "stream",
     "text": [
      "a                        object\n",
      "b                         int64\n",
      "c                         uint8\n",
      "d                       float64\n",
      "e                          bool\n",
      "f                      category\n",
      "g                datetime64[ns]\n",
      "h    datetime64[ns, US/Eastern]\n",
      "i                datetime64[ns]\n",
      "dtype: object\n"
     ]
    },
    {
     "data": {
      "text/html": [
       "<div>\n",
       "<style scoped>\n",
       "    .dataframe tbody tr th:only-of-type {\n",
       "        vertical-align: middle;\n",
       "    }\n",
       "\n",
       "    .dataframe tbody tr th {\n",
       "        vertical-align: top;\n",
       "    }\n",
       "\n",
       "    .dataframe thead th {\n",
       "        text-align: right;\n",
       "    }\n",
       "</style>\n",
       "<table border=\"1\" class=\"dataframe\">\n",
       "  <thead>\n",
       "    <tr style=\"text-align: right;\">\n",
       "      <th></th>\n",
       "      <th>a</th>\n",
       "      <th>b</th>\n",
       "      <th>c</th>\n",
       "      <th>d</th>\n",
       "      <th>e</th>\n",
       "      <th>f</th>\n",
       "      <th>g</th>\n",
       "      <th>h</th>\n",
       "      <th>i</th>\n",
       "    </tr>\n",
       "  </thead>\n",
       "  <tbody>\n",
       "    <tr>\n",
       "      <th>0</th>\n",
       "      <td>a</td>\n",
       "      <td>1</td>\n",
       "      <td>3</td>\n",
       "      <td>4.0</td>\n",
       "      <td>True</td>\n",
       "      <td>a</td>\n",
       "      <td>2013-01-01</td>\n",
       "      <td>2013-01-01 00:00:00-05:00</td>\n",
       "      <td>2013-01-01 00:00:00.000</td>\n",
       "    </tr>\n",
       "    <tr>\n",
       "      <th>1</th>\n",
       "      <td>b</td>\n",
       "      <td>2</td>\n",
       "      <td>4</td>\n",
       "      <td>5.0</td>\n",
       "      <td>False</td>\n",
       "      <td>b</td>\n",
       "      <td>2013-01-02</td>\n",
       "      <td>2013-01-02 00:00:00-05:00</td>\n",
       "      <td>2013-01-01 00:00:00.001</td>\n",
       "    </tr>\n",
       "    <tr>\n",
       "      <th>2</th>\n",
       "      <td>c</td>\n",
       "      <td>3</td>\n",
       "      <td>5</td>\n",
       "      <td>6.0</td>\n",
       "      <td>True</td>\n",
       "      <td>c</td>\n",
       "      <td>2013-01-03</td>\n",
       "      <td>2013-01-03 00:00:00-05:00</td>\n",
       "      <td>2013-01-01 00:00:00.002</td>\n",
       "    </tr>\n",
       "  </tbody>\n",
       "</table>\n",
       "</div>"
      ],
      "text/plain": [
       "   a  b  c    d      e  f          g                         h  \\\n",
       "0  a  1  3  4.0   True  a 2013-01-01 2013-01-01 00:00:00-05:00   \n",
       "1  b  2  4  5.0  False  b 2013-01-02 2013-01-02 00:00:00-05:00   \n",
       "2  c  3  5  6.0   True  c 2013-01-03 2013-01-03 00:00:00-05:00   \n",
       "\n",
       "                        i  \n",
       "0 2013-01-01 00:00:00.000  \n",
       "1 2013-01-01 00:00:00.001  \n",
       "2 2013-01-01 00:00:00.002  "
      ]
     },
     "execution_count": 29,
     "metadata": {},
     "output_type": "execute_result"
    }
   ],
   "source": [
    "df3 = pd.DataFrame({'a': list('abc'),\n",
    "                     'b': list(range(1, 4)),\n",
    "                     'c': np.arange(3, 6).astype('u1'),\n",
    "                     'd': np.arange(4.0, 7.0, dtype='float64'),\n",
    "                     'e': [True, False, True],\n",
    "                     'f': pd.Categorical(list('abc')),\n",
    "                     'g': pd.date_range('20130101', periods=3),\n",
    "                     'h': pd.date_range('20130101', periods=3, tz='US/Eastern'),\n",
    "                     'i': pd.date_range('20130101', periods=3, freq='ms')})\n",
    "print(df3.dtypes)\n",
    "df3.head()"
   ]
  },
  {
   "cell_type": "code",
   "execution_count": 30,
   "metadata": {
    "scrolled": true
   },
   "outputs": [
    {
     "data": {
      "text/plain": [
       "a                        object\n",
       "b                         int64\n",
       "c                         uint8\n",
       "d                       float64\n",
       "e                          bool\n",
       "f                      category\n",
       "g                datetime64[ns]\n",
       "h    datetime64[ns, US/Eastern]\n",
       "i                datetime64[ns]\n",
       "dtype: object"
      ]
     },
     "execution_count": 30,
     "metadata": {},
     "output_type": "execute_result"
    }
   ],
   "source": [
    "# Write to feather\n",
    "df3.to_feather('../data/data.feather') \n",
    "\n",
    "# Read from feather\n",
    "pd.read_feather('../data/data.feather').dtypes  # data types preserved"
   ]
  },
  {
   "cell_type": "markdown",
   "metadata": {},
   "source": [
    "# 11. Parquet\n",
    "\n",
    "Parquet too is designed to faithfully serialize and de-serialize `DataFrame`s, supporting all of the pandas dtypes."
   ]
  },
  {
   "cell_type": "code",
   "execution_count": 31,
   "metadata": {},
   "outputs": [
    {
     "data": {
      "text/plain": [
       "a                        object\n",
       "b                         int64\n",
       "c                         uint8\n",
       "d                       float64\n",
       "e                          bool\n",
       "f                      category\n",
       "g                datetime64[ns]\n",
       "h    datetime64[ns, US/Eastern]\n",
       "i                datetime64[ns]\n",
       "dtype: object"
      ]
     },
     "execution_count": 31,
     "metadata": {},
     "output_type": "execute_result"
    }
   ],
   "source": [
    "# Write to parquet\n",
    "df3.to_parquet('../data/data.parquet')\n",
    "\n",
    "# Read from parquet\n",
    "pd.read_parquet('../data/data.parquet').dtypes"
   ]
  },
  {
   "cell_type": "markdown",
   "metadata": {},
   "source": [
    "# 12. SQL\n",
    "\n",
    "## 12.1 Write to SQL"
   ]
  },
  {
   "cell_type": "code",
   "execution_count": 32,
   "metadata": {
    "scrolled": true
   },
   "outputs": [
    {
     "data": {
      "text/plain": [
       "10"
      ]
     },
     "execution_count": 32,
     "metadata": {},
     "output_type": "execute_result"
    }
   ],
   "source": [
    "import sqlite3\n",
    "\n",
    "# creating an SQLite database in RAM\n",
    "# conn = sqlite3.connect(':memory:')\n",
    "\n",
    "conn = sqlite3.connect('../data/data.db')\n",
    "users = pd.DataFrame({'name' : [f'User {i + i}' for i in range(10)],\n",
    "                      'email': [f'user{i + 1}@email' for i in range(10)]})\n",
    "\n",
    "# Write a DataFrame to an SQL database table\n",
    "users.to_sql('users', con=conn, if_exists='replace')"
   ]
  },
  {
   "cell_type": "markdown",
   "metadata": {},
   "source": [
    "## 12.2 Read from SQL"
   ]
  },
  {
   "cell_type": "code",
   "execution_count": 33,
   "metadata": {},
   "outputs": [
    {
     "data": {
      "text/html": [
       "<div>\n",
       "<style scoped>\n",
       "    .dataframe tbody tr th:only-of-type {\n",
       "        vertical-align: middle;\n",
       "    }\n",
       "\n",
       "    .dataframe tbody tr th {\n",
       "        vertical-align: top;\n",
       "    }\n",
       "\n",
       "    .dataframe thead th {\n",
       "        text-align: right;\n",
       "    }\n",
       "</style>\n",
       "<table border=\"1\" class=\"dataframe\">\n",
       "  <thead>\n",
       "    <tr style=\"text-align: right;\">\n",
       "      <th></th>\n",
       "      <th>name</th>\n",
       "      <th>email</th>\n",
       "    </tr>\n",
       "  </thead>\n",
       "  <tbody>\n",
       "    <tr>\n",
       "      <th>0</th>\n",
       "      <td>User 0</td>\n",
       "      <td>user1@email</td>\n",
       "    </tr>\n",
       "    <tr>\n",
       "      <th>1</th>\n",
       "      <td>User 2</td>\n",
       "      <td>user2@email</td>\n",
       "    </tr>\n",
       "    <tr>\n",
       "      <th>2</th>\n",
       "      <td>User 4</td>\n",
       "      <td>user3@email</td>\n",
       "    </tr>\n",
       "    <tr>\n",
       "      <th>3</th>\n",
       "      <td>User 6</td>\n",
       "      <td>user4@email</td>\n",
       "    </tr>\n",
       "    <tr>\n",
       "      <th>4</th>\n",
       "      <td>User 8</td>\n",
       "      <td>user5@email</td>\n",
       "    </tr>\n",
       "    <tr>\n",
       "      <th>5</th>\n",
       "      <td>User 10</td>\n",
       "      <td>user6@email</td>\n",
       "    </tr>\n",
       "    <tr>\n",
       "      <th>6</th>\n",
       "      <td>User 12</td>\n",
       "      <td>user7@email</td>\n",
       "    </tr>\n",
       "    <tr>\n",
       "      <th>7</th>\n",
       "      <td>User 14</td>\n",
       "      <td>user8@email</td>\n",
       "    </tr>\n",
       "    <tr>\n",
       "      <th>8</th>\n",
       "      <td>User 16</td>\n",
       "      <td>user9@email</td>\n",
       "    </tr>\n",
       "    <tr>\n",
       "      <th>9</th>\n",
       "      <td>User 18</td>\n",
       "      <td>user10@email</td>\n",
       "    </tr>\n",
       "  </tbody>\n",
       "</table>\n",
       "</div>"
      ],
      "text/plain": [
       "      name         email\n",
       "0   User 0   user1@email\n",
       "1   User 2   user2@email\n",
       "2   User 4   user3@email\n",
       "3   User 6   user4@email\n",
       "4   User 8   user5@email\n",
       "5  User 10   user6@email\n",
       "6  User 12   user7@email\n",
       "7  User 14   user8@email\n",
       "8  User 16   user9@email\n",
       "9  User 18  user10@email"
      ]
     },
     "execution_count": 33,
     "metadata": {},
     "output_type": "execute_result"
    }
   ],
   "source": [
    "# Create a DataFrame from an SQL database table\n",
    "pd.read_sql(\"SELECT name, email FROM users\", con=conn)"
   ]
  },
  {
   "cell_type": "markdown",
   "metadata": {},
   "source": [
    "# 13. STATA"
   ]
  },
  {
   "cell_type": "code",
   "execution_count": 34,
   "metadata": {},
   "outputs": [],
   "source": [
    "# Write to STATA\n",
    "df.to_stata('../data/stata.dta')"
   ]
  },
  {
   "cell_type": "code",
   "execution_count": 35,
   "metadata": {
    "scrolled": true
   },
   "outputs": [
    {
     "data": {
      "text/html": [
       "<div>\n",
       "<style scoped>\n",
       "    .dataframe tbody tr th:only-of-type {\n",
       "        vertical-align: middle;\n",
       "    }\n",
       "\n",
       "    .dataframe tbody tr th {\n",
       "        vertical-align: top;\n",
       "    }\n",
       "\n",
       "    .dataframe thead th {\n",
       "        text-align: right;\n",
       "    }\n",
       "</style>\n",
       "<table border=\"1\" class=\"dataframe\">\n",
       "  <thead>\n",
       "    <tr style=\"text-align: right;\">\n",
       "      <th></th>\n",
       "      <th>index</th>\n",
       "      <th>A</th>\n",
       "      <th>B</th>\n",
       "      <th>C</th>\n",
       "      <th>D</th>\n",
       "    </tr>\n",
       "  </thead>\n",
       "  <tbody>\n",
       "    <tr>\n",
       "      <th>0</th>\n",
       "      <td>36526</td>\n",
       "      <td>-1.662334</td>\n",
       "      <td>1.754375</td>\n",
       "      <td>2.277854</td>\n",
       "      <td>-1.222050</td>\n",
       "    </tr>\n",
       "    <tr>\n",
       "      <th>1</th>\n",
       "      <td>36527</td>\n",
       "      <td>-3.170328</td>\n",
       "      <td>2.640600</td>\n",
       "      <td>3.252950</td>\n",
       "      <td>0.325672</td>\n",
       "    </tr>\n",
       "    <tr>\n",
       "      <th>2</th>\n",
       "      <td>36528</td>\n",
       "      <td>-4.905516</td>\n",
       "      <td>3.187861</td>\n",
       "      <td>1.720954</td>\n",
       "      <td>-1.209723</td>\n",
       "    </tr>\n",
       "    <tr>\n",
       "      <th>3</th>\n",
       "      <td>36529</td>\n",
       "      <td>-5.109194</td>\n",
       "      <td>3.717737</td>\n",
       "      <td>2.365512</td>\n",
       "      <td>0.338022</td>\n",
       "    </tr>\n",
       "    <tr>\n",
       "      <th>4</th>\n",
       "      <td>36530</td>\n",
       "      <td>-5.705884</td>\n",
       "      <td>2.990343</td>\n",
       "      <td>1.962035</td>\n",
       "      <td>0.355969</td>\n",
       "    </tr>\n",
       "  </tbody>\n",
       "</table>\n",
       "</div>"
      ],
      "text/plain": [
       "   index         A         B         C         D\n",
       "0  36526 -1.662334  1.754375  2.277854 -1.222050\n",
       "1  36527 -3.170328  2.640600  3.252950  0.325672\n",
       "2  36528 -4.905516  3.187861  1.720954 -1.209723\n",
       "3  36529 -5.109194  3.717737  2.365512  0.338022\n",
       "4  36530 -5.705884  2.990343  1.962035  0.355969"
      ]
     },
     "execution_count": 35,
     "metadata": {},
     "output_type": "execute_result"
    }
   ],
   "source": [
    "# Read from STATA\n",
    "pd.read_stata('../data/stata.dta').head()"
   ]
  },
  {
   "cell_type": "code",
   "execution_count": 36,
   "metadata": {},
   "outputs": [
    {
     "name": "stdout",
     "output_type": "stream",
     "text": [
      "(250, 5)\n",
      "(250, 5)\n",
      "(250, 5)\n",
      "(250, 5)\n"
     ]
    }
   ],
   "source": [
    "# Specifying a chunksize yields a StataReader instance that can be used as an iterator.\n",
    "reader = pd.read_stata('../data/stata.dta', chunksize=250)\n",
    "\n",
    "for df in reader:\n",
    "    print(df.shape)"
   ]
  },
  {
   "cell_type": "markdown",
   "metadata": {},
   "source": [
    "# 14. SAS\n",
    "\n",
    "Only reading from SAS is supported."
   ]
  },
  {
   "cell_type": "code",
   "execution_count": 37,
   "metadata": {},
   "outputs": [],
   "source": [
    "#  df = pd.read_sas('sas_data.sas7bdat')\n",
    "\n",
    "\n",
    "#  def do_something(chunk):\n",
    "#      pass\n",
    "#\n",
    "#  rdr = pd.read_sas('sas_xport.xpt', chunk=100000)\n",
    "#  for chunk in rdr:\n",
    "#      do_something(chunk)"
   ]
  },
  {
   "cell_type": "markdown",
   "metadata": {},
   "source": [
    "# 15. SPSS\n",
    "Only reading from SPSS files is supported."
   ]
  },
  {
   "cell_type": "code",
   "execution_count": 38,
   "metadata": {},
   "outputs": [],
   "source": [
    "#  df = pd.read_spss('spss_data.sav')"
   ]
  }
 ],
 "metadata": {
  "kernelspec": {
   "display_name": "Python 3 (ipykernel)",
   "language": "python",
   "name": "python3"
  },
  "language_info": {
   "codemirror_mode": {
    "name": "ipython",
    "version": 3
   },
   "file_extension": ".py",
   "mimetype": "text/x-python",
   "name": "python",
   "nbconvert_exporter": "python",
   "pygments_lexer": "ipython3",
   "version": "3.10.7"
  }
 },
 "nbformat": 4,
 "nbformat_minor": 4
}
